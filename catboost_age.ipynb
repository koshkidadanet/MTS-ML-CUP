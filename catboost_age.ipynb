{
 "cells": [
  {
   "cell_type": "code",
   "execution_count": 1,
   "metadata": {},
   "outputs": [],
   "source": [
    "import bisect\n",
    "\n",
    "import pandas as pd\n",
    "import numpy as np\n",
    "import dask.dataframe as dd\n",
    "import pycaret.classification as pc\n",
    "\n",
    "from catboost import CatBoostClassifier, Pool, EShapCalcType, EFeaturesSelectionAlgorithm, cv\n",
    "from sklearn.metrics import roc_auc_score, classification_report\n",
    "from sklearn.model_selection import train_test_split, StratifiedKFold"
   ]
  },
  {
   "cell_type": "markdown",
   "source": [
    "# top1500"
   ],
   "metadata": {
    "collapsed": false
   }
  },
  {
   "cell_type": "markdown",
   "source": [
    "## train"
   ],
   "metadata": {
    "collapsed": false
   }
  },
  {
   "cell_type": "code",
   "execution_count": 2,
   "outputs": [
    {
     "data": {
      "text/plain": "   user_id          region_name  region_count city_name  city_count  \\\n0        0               Москва             1    Москва           1   \n1        1               Москва             3    Москва           6   \n2        2      Республика Коми             1    Печора           1   \n3        3  Воронежская область             1   Воронеж           1   \n4        4   Краснодарский край             5     Анапа           9   \n\n           cpe_manufacturer_name    price  holyday_fraction  morning_fraction  \\\n0                        Samsung   2990.0          0.243523             0.119   \n1                         Xiaomi      NaN          0.200573             0.323   \n2                         Huawei   5915.0          0.299270             0.187   \n3  Huawei Device Company Limited  13990.0          0.181818             0.178   \n4                         Huawei  12990.0          0.326898             0.372   \n\n   day_fraction  ...  bask_2part_of_day  bask_3part_of_day  bask_5part_of_day  \\\n0         0.554  ...           0.268501           0.135631           0.013485   \n1         0.347  ...           0.270245           0.138227           0.013728   \n2         0.482  ...           0.269442           0.136896           0.013536   \n3         0.353  ...           0.269107           0.136476           0.013581   \n4         0.349  ...           0.270618           0.138505           0.013725   \n\n   cat_bask_0_urls  cat_bask_1_urls  cat_bask_2_urls  cat_bask_3_urls  \\\n0         0.023031         0.187120         0.444597         0.242201   \n1         0.006237         0.102354         0.395650         0.340144   \n2         0.322408         0.387423         0.191007         0.063730   \n3         0.178116         0.332993         0.306053         0.126063   \n4         0.147992         0.623704         0.194991         0.025293   \n\n   cat_bask_4_urls  cat_bask_5_urls  age  \n0         0.092669         0.010382    1  \n1         0.138546         0.017069    2  \n2         0.027053         0.008379    0  \n3         0.046528         0.010247    3  \n4         0.006143         0.001877    1  \n\n[5 rows x 1502 columns]",
      "text/html": "<div>\n<style scoped>\n    .dataframe tbody tr th:only-of-type {\n        vertical-align: middle;\n    }\n\n    .dataframe tbody tr th {\n        vertical-align: top;\n    }\n\n    .dataframe thead th {\n        text-align: right;\n    }\n</style>\n<table border=\"1\" class=\"dataframe\">\n  <thead>\n    <tr style=\"text-align: right;\">\n      <th></th>\n      <th>user_id</th>\n      <th>region_name</th>\n      <th>region_count</th>\n      <th>city_name</th>\n      <th>city_count</th>\n      <th>cpe_manufacturer_name</th>\n      <th>price</th>\n      <th>holyday_fraction</th>\n      <th>morning_fraction</th>\n      <th>day_fraction</th>\n      <th>...</th>\n      <th>bask_2part_of_day</th>\n      <th>bask_3part_of_day</th>\n      <th>bask_5part_of_day</th>\n      <th>cat_bask_0_urls</th>\n      <th>cat_bask_1_urls</th>\n      <th>cat_bask_2_urls</th>\n      <th>cat_bask_3_urls</th>\n      <th>cat_bask_4_urls</th>\n      <th>cat_bask_5_urls</th>\n      <th>age</th>\n    </tr>\n  </thead>\n  <tbody>\n    <tr>\n      <th>0</th>\n      <td>0</td>\n      <td>Москва</td>\n      <td>1</td>\n      <td>Москва</td>\n      <td>1</td>\n      <td>Samsung</td>\n      <td>2990.0</td>\n      <td>0.243523</td>\n      <td>0.119</td>\n      <td>0.554</td>\n      <td>...</td>\n      <td>0.268501</td>\n      <td>0.135631</td>\n      <td>0.013485</td>\n      <td>0.023031</td>\n      <td>0.187120</td>\n      <td>0.444597</td>\n      <td>0.242201</td>\n      <td>0.092669</td>\n      <td>0.010382</td>\n      <td>1</td>\n    </tr>\n    <tr>\n      <th>1</th>\n      <td>1</td>\n      <td>Москва</td>\n      <td>3</td>\n      <td>Москва</td>\n      <td>6</td>\n      <td>Xiaomi</td>\n      <td>NaN</td>\n      <td>0.200573</td>\n      <td>0.323</td>\n      <td>0.347</td>\n      <td>...</td>\n      <td>0.270245</td>\n      <td>0.138227</td>\n      <td>0.013728</td>\n      <td>0.006237</td>\n      <td>0.102354</td>\n      <td>0.395650</td>\n      <td>0.340144</td>\n      <td>0.138546</td>\n      <td>0.017069</td>\n      <td>2</td>\n    </tr>\n    <tr>\n      <th>2</th>\n      <td>2</td>\n      <td>Республика Коми</td>\n      <td>1</td>\n      <td>Печора</td>\n      <td>1</td>\n      <td>Huawei</td>\n      <td>5915.0</td>\n      <td>0.299270</td>\n      <td>0.187</td>\n      <td>0.482</td>\n      <td>...</td>\n      <td>0.269442</td>\n      <td>0.136896</td>\n      <td>0.013536</td>\n      <td>0.322408</td>\n      <td>0.387423</td>\n      <td>0.191007</td>\n      <td>0.063730</td>\n      <td>0.027053</td>\n      <td>0.008379</td>\n      <td>0</td>\n    </tr>\n    <tr>\n      <th>3</th>\n      <td>3</td>\n      <td>Воронежская область</td>\n      <td>1</td>\n      <td>Воронеж</td>\n      <td>1</td>\n      <td>Huawei Device Company Limited</td>\n      <td>13990.0</td>\n      <td>0.181818</td>\n      <td>0.178</td>\n      <td>0.353</td>\n      <td>...</td>\n      <td>0.269107</td>\n      <td>0.136476</td>\n      <td>0.013581</td>\n      <td>0.178116</td>\n      <td>0.332993</td>\n      <td>0.306053</td>\n      <td>0.126063</td>\n      <td>0.046528</td>\n      <td>0.010247</td>\n      <td>3</td>\n    </tr>\n    <tr>\n      <th>4</th>\n      <td>4</td>\n      <td>Краснодарский край</td>\n      <td>5</td>\n      <td>Анапа</td>\n      <td>9</td>\n      <td>Huawei</td>\n      <td>12990.0</td>\n      <td>0.326898</td>\n      <td>0.372</td>\n      <td>0.349</td>\n      <td>...</td>\n      <td>0.270618</td>\n      <td>0.138505</td>\n      <td>0.013725</td>\n      <td>0.147992</td>\n      <td>0.623704</td>\n      <td>0.194991</td>\n      <td>0.025293</td>\n      <td>0.006143</td>\n      <td>0.001877</td>\n      <td>1</td>\n    </tr>\n  </tbody>\n</table>\n<p>5 rows × 1502 columns</p>\n</div>"
     },
     "metadata": {},
     "output_type": "display_data"
    },
    {
     "name": "stdout",
     "output_type": "stream",
     "text": [
      "<class 'pandas.core.frame.DataFrame'>\n",
      "Int64Index: 269999 entries, 0 to 269998\n",
      "Columns: 1502 entries, user_id to age\n",
      "dtypes: float32(1495), int32(1), int64(1), int8(2), object(3)\n",
      "memory usage: 1.5+ GB\n"
     ]
    },
    {
     "data": {
      "text/plain": "None"
     },
     "metadata": {},
     "output_type": "display_data"
    }
   ],
   "source": [
    "#df = dd.read_parquet('..\\\\full_data\\\\figma_gender\\\\full_gender_data.parquet').compute()\n",
    "df = dd.read_parquet('..\\\\full_data\\\\figma_age\\\\full_age_data.parquet').compute()\n",
    "#берем нужные\n",
    "#df = df.loc[:,['user_id']+df.columns[12:-6].to_list()]\n",
    "top = np.load('.\\\\npy_files\\\\top1500_features_full_age.npy',allow_pickle=True)\n",
    "df = df.loc[:,(df.columns.isin(top))|(df.columns.isin(['user_id']))]\n",
    "\n",
    "# добавляем target, удаляем nan\n",
    "df = df.merge(pd.read_parquet('..\\\\full_data\\\\public_train.pqt',columns=['user_id','age'])[['age','user_id']], on = 'user_id', how = 'inner')\n",
    "df = df.loc[~(df['age'].isna()) & (df['age'] != 'NA')]\n",
    "df['age'] = df['age'].astype('int8')\n",
    "\n",
    "def age_bucket(x):\n",
    "    return bisect.bisect_left([25,35,45,55,65], x)\n",
    "df['age'] = df['age'].map(age_bucket)\n",
    "\n",
    "display(df.head())\n",
    "display(df.info())"
   ],
   "metadata": {
    "collapsed": false
   }
  },
  {
   "cell_type": "code",
   "execution_count": 3,
   "outputs": [
    {
     "data": {
      "text/plain": "6949"
     },
     "metadata": {},
     "output_type": "display_data"
    },
    {
     "data": {
      "text/plain": "221"
     },
     "metadata": {},
     "output_type": "display_data"
    }
   ],
   "source": [
    "display(df.isna().sum().sum())\n",
    "for name in df['cpe_manufacturer_name'].unique():\n",
    "    df.loc[(df['cpe_manufacturer_name']==name)&(df['price'].isna()),'price'] = \\\n",
    "        df.loc[(df['cpe_manufacturer_name']==name)&(~df['price'].isna()),'price'].median()\n",
    "df.loc[df['price']<1000,'price'] = 1000\n",
    "display(df.isna().sum().sum())"
   ],
   "metadata": {
    "collapsed": false
   }
  },
  {
   "cell_type": "code",
   "execution_count": 4,
   "outputs": [
    {
     "name": "stdout",
     "output_type": "stream",
     "text": [
      "Learning rate set to 0.203367\n",
      "0:\tlearn: 1.6088945\ttotal: 313ms\tremaining: 5m 12s\n",
      "100:\tlearn: 1.2117337\ttotal: 9.56s\tremaining: 1m 25s\n",
      "200:\tlearn: 1.1902373\ttotal: 17.9s\tremaining: 1m 11s\n",
      "300:\tlearn: 1.1739048\ttotal: 26.1s\tremaining: 1m\n",
      "400:\tlearn: 1.1608619\ttotal: 34.1s\tremaining: 51s\n",
      "500:\tlearn: 1.1492494\ttotal: 42.1s\tremaining: 41.9s\n",
      "600:\tlearn: 1.1394301\ttotal: 49.7s\tremaining: 33s\n",
      "700:\tlearn: 1.1305854\ttotal: 57.4s\tremaining: 24.5s\n",
      "800:\tlearn: 1.1217309\ttotal: 1m 4s\tremaining: 16.1s\n",
      "900:\tlearn: 1.1143172\ttotal: 1m 12s\tremaining: 7.96s\n",
      "999:\tlearn: 1.1066063\ttotal: 1m 19s\tremaining: 0us\n",
      "              precision    recall  f1-score   support\n",
      "\n",
      "       18-25       0.63      0.49      0.55     33718\n",
      "       25-34       0.58      0.68      0.63     87270\n",
      "       35-44       0.50      0.61      0.55     77486\n",
      "       45-54       0.52      0.37      0.43     42442\n",
      "       55-65       0.53      0.35      0.42     23580\n",
      "         65+       0.74      0.10      0.17      5503\n",
      "\n",
      "    accuracy                           0.55    269999\n",
      "   macro avg       0.58      0.43      0.46    269999\n",
      "weighted avg       0.55      0.55      0.54    269999\n",
      "\n"
     ]
    }
   ],
   "source": [
    "x_train = df.drop(['age','user_id'],axis=1)\n",
    "y_train = df['age']\n",
    "\n",
    "pool_train = Pool(x_train, y_train,\n",
    "                  cat_features = list(x_train.select_dtypes(include=['object']).columns))\n",
    "\n",
    "model = CatBoostClassifier(#iterations=2000,\n",
    "                           #learning_rate = 0.01,\n",
    "                           random_state=42,\n",
    "                           task_type='GPU')\n",
    "model.fit(pool_train, verbose=100)\n",
    "\n",
    "print(classification_report(y_train, model.predict(x_train), \\\n",
    "                            target_names = ['18-25','25-34', '35-44', '45-54', '55-65', '65+']))"
   ],
   "metadata": {
    "collapsed": false
   }
  },
  {
   "cell_type": "markdown",
   "source": [
    "## create pred"
   ],
   "metadata": {
    "collapsed": false
   }
  },
  {
   "cell_type": "code",
   "execution_count": 6,
   "outputs": [
    {
     "data": {
      "text/plain": "           region_name  region_count city_name  city_count  \\\n0               Москва             1    Москва           1   \n1               Москва             3    Москва           6   \n2      Республика Коми             1    Печора           1   \n3  Воронежская область             1   Воронеж           1   \n4   Краснодарский край             5     Анапа           9   \n\n           cpe_manufacturer_name    price  holyday_fraction  morning_fraction  \\\n0                        Samsung   2990.0          0.243523             0.119   \n1                         Xiaomi      NaN          0.200573             0.323   \n2                         Huawei   5915.0          0.299270             0.187   \n3  Huawei Device Company Limited  13990.0          0.181818             0.178   \n4                         Huawei  12990.0          0.326898             0.372   \n\n   day_fraction  evening_fraction  ...  bask_1part_of_day  bask_2part_of_day  \\\n0         0.554             0.321  ...           0.356866           0.268501   \n1         0.347             0.295  ...           0.354712           0.270245   \n2         0.482             0.316  ...           0.355980           0.269442   \n3         0.353             0.455  ...           0.356166           0.269107   \n4         0.349             0.265  ...           0.354653           0.270618   \n\n   bask_3part_of_day  bask_5part_of_day  cat_bask_0_urls  cat_bask_1_urls  \\\n0           0.135631           0.013485         0.023031         0.187120   \n1           0.138227           0.013728         0.006237         0.102354   \n2           0.136896           0.013536         0.322408         0.387423   \n3           0.136476           0.013581         0.178116         0.332993   \n4           0.138505           0.013725         0.147992         0.623704   \n\n   cat_bask_2_urls  cat_bask_3_urls  cat_bask_4_urls  cat_bask_5_urls  \n0         0.444597         0.242201         0.092669         0.010382  \n1         0.395650         0.340144         0.138546         0.017069  \n2         0.191007         0.063730         0.027053         0.008379  \n3         0.306053         0.126063         0.046528         0.010247  \n4         0.194991         0.025293         0.006143         0.001877  \n\n[5 rows x 1500 columns]",
      "text/html": "<div>\n<style scoped>\n    .dataframe tbody tr th:only-of-type {\n        vertical-align: middle;\n    }\n\n    .dataframe tbody tr th {\n        vertical-align: top;\n    }\n\n    .dataframe thead th {\n        text-align: right;\n    }\n</style>\n<table border=\"1\" class=\"dataframe\">\n  <thead>\n    <tr style=\"text-align: right;\">\n      <th></th>\n      <th>region_name</th>\n      <th>region_count</th>\n      <th>city_name</th>\n      <th>city_count</th>\n      <th>cpe_manufacturer_name</th>\n      <th>price</th>\n      <th>holyday_fraction</th>\n      <th>morning_fraction</th>\n      <th>day_fraction</th>\n      <th>evening_fraction</th>\n      <th>...</th>\n      <th>bask_1part_of_day</th>\n      <th>bask_2part_of_day</th>\n      <th>bask_3part_of_day</th>\n      <th>bask_5part_of_day</th>\n      <th>cat_bask_0_urls</th>\n      <th>cat_bask_1_urls</th>\n      <th>cat_bask_2_urls</th>\n      <th>cat_bask_3_urls</th>\n      <th>cat_bask_4_urls</th>\n      <th>cat_bask_5_urls</th>\n    </tr>\n  </thead>\n  <tbody>\n    <tr>\n      <th>0</th>\n      <td>Москва</td>\n      <td>1</td>\n      <td>Москва</td>\n      <td>1</td>\n      <td>Samsung</td>\n      <td>2990.0</td>\n      <td>0.243523</td>\n      <td>0.119</td>\n      <td>0.554</td>\n      <td>0.321</td>\n      <td>...</td>\n      <td>0.356866</td>\n      <td>0.268501</td>\n      <td>0.135631</td>\n      <td>0.013485</td>\n      <td>0.023031</td>\n      <td>0.187120</td>\n      <td>0.444597</td>\n      <td>0.242201</td>\n      <td>0.092669</td>\n      <td>0.010382</td>\n    </tr>\n    <tr>\n      <th>1</th>\n      <td>Москва</td>\n      <td>3</td>\n      <td>Москва</td>\n      <td>6</td>\n      <td>Xiaomi</td>\n      <td>NaN</td>\n      <td>0.200573</td>\n      <td>0.323</td>\n      <td>0.347</td>\n      <td>0.295</td>\n      <td>...</td>\n      <td>0.354712</td>\n      <td>0.270245</td>\n      <td>0.138227</td>\n      <td>0.013728</td>\n      <td>0.006237</td>\n      <td>0.102354</td>\n      <td>0.395650</td>\n      <td>0.340144</td>\n      <td>0.138546</td>\n      <td>0.017069</td>\n    </tr>\n    <tr>\n      <th>2</th>\n      <td>Республика Коми</td>\n      <td>1</td>\n      <td>Печора</td>\n      <td>1</td>\n      <td>Huawei</td>\n      <td>5915.0</td>\n      <td>0.299270</td>\n      <td>0.187</td>\n      <td>0.482</td>\n      <td>0.316</td>\n      <td>...</td>\n      <td>0.355980</td>\n      <td>0.269442</td>\n      <td>0.136896</td>\n      <td>0.013536</td>\n      <td>0.322408</td>\n      <td>0.387423</td>\n      <td>0.191007</td>\n      <td>0.063730</td>\n      <td>0.027053</td>\n      <td>0.008379</td>\n    </tr>\n    <tr>\n      <th>3</th>\n      <td>Воронежская область</td>\n      <td>1</td>\n      <td>Воронеж</td>\n      <td>1</td>\n      <td>Huawei Device Company Limited</td>\n      <td>13990.0</td>\n      <td>0.181818</td>\n      <td>0.178</td>\n      <td>0.353</td>\n      <td>0.455</td>\n      <td>...</td>\n      <td>0.356166</td>\n      <td>0.269107</td>\n      <td>0.136476</td>\n      <td>0.013581</td>\n      <td>0.178116</td>\n      <td>0.332993</td>\n      <td>0.306053</td>\n      <td>0.126063</td>\n      <td>0.046528</td>\n      <td>0.010247</td>\n    </tr>\n    <tr>\n      <th>4</th>\n      <td>Краснодарский край</td>\n      <td>5</td>\n      <td>Анапа</td>\n      <td>9</td>\n      <td>Huawei</td>\n      <td>12990.0</td>\n      <td>0.326898</td>\n      <td>0.372</td>\n      <td>0.349</td>\n      <td>0.265</td>\n      <td>...</td>\n      <td>0.354653</td>\n      <td>0.270618</td>\n      <td>0.138505</td>\n      <td>0.013725</td>\n      <td>0.147992</td>\n      <td>0.623704</td>\n      <td>0.194991</td>\n      <td>0.025293</td>\n      <td>0.006143</td>\n      <td>0.001877</td>\n    </tr>\n  </tbody>\n</table>\n<p>5 rows × 1500 columns</p>\n</div>"
     },
     "metadata": {},
     "output_type": "display_data"
    },
    {
     "name": "stdout",
     "output_type": "stream",
     "text": [
      "<class 'pandas.core.frame.DataFrame'>\n",
      "RangeIndex: 414723 entries, 0 to 414722\n",
      "Columns: 1500 entries, region_name to cat_bask_5_urls\n",
      "dtypes: float32(1495), int8(2), object(3)\n",
      "memory usage: 2.3+ GB\n"
     ]
    },
    {
     "data": {
      "text/plain": "None"
     },
     "metadata": {},
     "output_type": "display_data"
    }
   ],
   "source": [
    "df = dd.read_parquet('..\\\\full_data\\\\figma_age\\\\full_age_data.parquet').compute()\n",
    "\n",
    "#берем нужные\n",
    "#df = df.loc[:,['user_id']+df.columns[12:-6].to_list()]\n",
    "top = np.load('.\\\\npy_files\\\\top1500_features_full_age.npy',allow_pickle=True)\n",
    "df = df.loc[:,df.columns.isin(top)]\n",
    "\n",
    "display(df.head())\n",
    "display(df.info())"
   ],
   "metadata": {
    "collapsed": false
   }
  },
  {
   "cell_type": "code",
   "execution_count": 7,
   "outputs": [
    {
     "data": {
      "text/plain": "   cat_bask_0_urls  cat_bask_1_urls  cat_bask_2_urls  cat_bask_3_urls  \\\n0         0.007288         0.182208         0.399055         0.309578   \n1         0.001327         0.047935         0.471607         0.329720   \n2         0.467010         0.289203         0.139272         0.077972   \n3         0.196409         0.288458         0.288645         0.169502   \n4         0.042321         0.749595         0.191641         0.011733   \n\n   cat_bask_4_urls  cat_bask_5_urls  \n0         0.097486         0.004386  \n1         0.143314         0.006097  \n2         0.021021         0.005522  \n3         0.050190         0.006795  \n4         0.003298         0.001412  ",
      "text/html": "<div>\n<style scoped>\n    .dataframe tbody tr th:only-of-type {\n        vertical-align: middle;\n    }\n\n    .dataframe tbody tr th {\n        vertical-align: top;\n    }\n\n    .dataframe thead th {\n        text-align: right;\n    }\n</style>\n<table border=\"1\" class=\"dataframe\">\n  <thead>\n    <tr style=\"text-align: right;\">\n      <th></th>\n      <th>cat_bask_0_urls</th>\n      <th>cat_bask_1_urls</th>\n      <th>cat_bask_2_urls</th>\n      <th>cat_bask_3_urls</th>\n      <th>cat_bask_4_urls</th>\n      <th>cat_bask_5_urls</th>\n    </tr>\n  </thead>\n  <tbody>\n    <tr>\n      <th>0</th>\n      <td>0.007288</td>\n      <td>0.182208</td>\n      <td>0.399055</td>\n      <td>0.309578</td>\n      <td>0.097486</td>\n      <td>0.004386</td>\n    </tr>\n    <tr>\n      <th>1</th>\n      <td>0.001327</td>\n      <td>0.047935</td>\n      <td>0.471607</td>\n      <td>0.329720</td>\n      <td>0.143314</td>\n      <td>0.006097</td>\n    </tr>\n    <tr>\n      <th>2</th>\n      <td>0.467010</td>\n      <td>0.289203</td>\n      <td>0.139272</td>\n      <td>0.077972</td>\n      <td>0.021021</td>\n      <td>0.005522</td>\n    </tr>\n    <tr>\n      <th>3</th>\n      <td>0.196409</td>\n      <td>0.288458</td>\n      <td>0.288645</td>\n      <td>0.169502</td>\n      <td>0.050190</td>\n      <td>0.006795</td>\n    </tr>\n    <tr>\n      <th>4</th>\n      <td>0.042321</td>\n      <td>0.749595</td>\n      <td>0.191641</td>\n      <td>0.011733</td>\n      <td>0.003298</td>\n      <td>0.001412</td>\n    </tr>\n  </tbody>\n</table>\n</div>"
     },
     "execution_count": 7,
     "metadata": {},
     "output_type": "execute_result"
    }
   ],
   "source": [
    "pred_df = pd.DataFrame(data=model.predict_proba(df), index=df.index, columns=['cat_bask_0_urls',\n",
    "                                                                         'cat_bask_1_urls',\n",
    "                                                                         'cat_bask_2_urls',\n",
    "                                                                         'cat_bask_3_urls',\n",
    "                                                                         'cat_bask_4_urls',\n",
    "                                                                         'cat_bask_5_urls'])\n",
    "pred_df = pred_df.astype('float32')\n",
    "pred_df.head()"
   ],
   "metadata": {
    "collapsed": false
   }
  },
  {
   "cell_type": "code",
   "execution_count": 13,
   "outputs": [],
   "source": [
    "pred_df.to_parquet('..\\\\full_data\\\\figma_age\\\\age_proba_by_1500full.parquet', index=False)"
   ],
   "metadata": {
    "collapsed": false
   }
  },
  {
   "cell_type": "markdown",
   "source": [
    "## test"
   ],
   "metadata": {
    "collapsed": false
   }
  },
  {
   "cell_type": "code",
   "execution_count": 21,
   "outputs": [
    {
     "data": {
      "text/plain": "   user_id          region_name  reg_count_people  region_count city_name  \\\n0        0               Москва          1.000000             1    Москва   \n1        1               Москва          1.000000             3    Москва   \n2        2      Республика Коми          0.060277             1    Печора   \n3        3  Воронежская область          0.178155             1   Воронеж   \n4        4   Краснодарский край          0.448167             5     Анапа   \n\n   city_count          cpe_manufacturer_name cpe_type_cd    price  \\\n0           1                        Samsung  smartphone   2990.0   \n1           6                         Xiaomi  smartphone      NaN   \n2           1                         Huawei  smartphone   5915.0   \n3           1  Huawei Device Company Limited  smartphone  13990.0   \n4           9                         Huawei  smartphone  12990.0   \n\n   holyday_fraction  ...  bask_2part_of_day  bask_3part_of_day  \\\n0          0.243523  ...           0.268501           0.135631   \n1          0.200573  ...           0.270245           0.138227   \n2          0.299270  ...           0.269442           0.136896   \n3          0.181818  ...           0.269107           0.136476   \n4          0.326898  ...           0.270618           0.138505   \n\n   bask_4part_of_day  bask_5part_of_day  cat_bask_0_urls  cat_bask_1_urls  \\\n0           0.068173           0.013485         0.023031         0.187120   \n1           0.069619           0.013728         0.006237         0.102354   \n2           0.068823           0.013536         0.322408         0.387423   \n3           0.068650           0.013581         0.178116         0.332993   \n4           0.069731           0.013725         0.147992         0.623704   \n\n   cat_bask_2_urls  cat_bask_3_urls  cat_bask_4_urls  cat_bask_5_urls  \n0         0.444597         0.242201         0.092669         0.010382  \n1         0.395650         0.340144         0.138546         0.017069  \n2         0.191007         0.063730         0.027053         0.008379  \n3         0.306053         0.126063         0.046528         0.010247  \n4         0.194991         0.025293         0.006143         0.001877  \n\n[5 rows x 3038 columns]",
      "text/html": "<div>\n<style scoped>\n    .dataframe tbody tr th:only-of-type {\n        vertical-align: middle;\n    }\n\n    .dataframe tbody tr th {\n        vertical-align: top;\n    }\n\n    .dataframe thead th {\n        text-align: right;\n    }\n</style>\n<table border=\"1\" class=\"dataframe\">\n  <thead>\n    <tr style=\"text-align: right;\">\n      <th></th>\n      <th>user_id</th>\n      <th>region_name</th>\n      <th>reg_count_people</th>\n      <th>region_count</th>\n      <th>city_name</th>\n      <th>city_count</th>\n      <th>cpe_manufacturer_name</th>\n      <th>cpe_type_cd</th>\n      <th>price</th>\n      <th>holyday_fraction</th>\n      <th>...</th>\n      <th>bask_2part_of_day</th>\n      <th>bask_3part_of_day</th>\n      <th>bask_4part_of_day</th>\n      <th>bask_5part_of_day</th>\n      <th>cat_bask_0_urls</th>\n      <th>cat_bask_1_urls</th>\n      <th>cat_bask_2_urls</th>\n      <th>cat_bask_3_urls</th>\n      <th>cat_bask_4_urls</th>\n      <th>cat_bask_5_urls</th>\n    </tr>\n  </thead>\n  <tbody>\n    <tr>\n      <th>0</th>\n      <td>0</td>\n      <td>Москва</td>\n      <td>1.000000</td>\n      <td>1</td>\n      <td>Москва</td>\n      <td>1</td>\n      <td>Samsung</td>\n      <td>smartphone</td>\n      <td>2990.0</td>\n      <td>0.243523</td>\n      <td>...</td>\n      <td>0.268501</td>\n      <td>0.135631</td>\n      <td>0.068173</td>\n      <td>0.013485</td>\n      <td>0.023031</td>\n      <td>0.187120</td>\n      <td>0.444597</td>\n      <td>0.242201</td>\n      <td>0.092669</td>\n      <td>0.010382</td>\n    </tr>\n    <tr>\n      <th>1</th>\n      <td>1</td>\n      <td>Москва</td>\n      <td>1.000000</td>\n      <td>3</td>\n      <td>Москва</td>\n      <td>6</td>\n      <td>Xiaomi</td>\n      <td>smartphone</td>\n      <td>NaN</td>\n      <td>0.200573</td>\n      <td>...</td>\n      <td>0.270245</td>\n      <td>0.138227</td>\n      <td>0.069619</td>\n      <td>0.013728</td>\n      <td>0.006237</td>\n      <td>0.102354</td>\n      <td>0.395650</td>\n      <td>0.340144</td>\n      <td>0.138546</td>\n      <td>0.017069</td>\n    </tr>\n    <tr>\n      <th>2</th>\n      <td>2</td>\n      <td>Республика Коми</td>\n      <td>0.060277</td>\n      <td>1</td>\n      <td>Печора</td>\n      <td>1</td>\n      <td>Huawei</td>\n      <td>smartphone</td>\n      <td>5915.0</td>\n      <td>0.299270</td>\n      <td>...</td>\n      <td>0.269442</td>\n      <td>0.136896</td>\n      <td>0.068823</td>\n      <td>0.013536</td>\n      <td>0.322408</td>\n      <td>0.387423</td>\n      <td>0.191007</td>\n      <td>0.063730</td>\n      <td>0.027053</td>\n      <td>0.008379</td>\n    </tr>\n    <tr>\n      <th>3</th>\n      <td>3</td>\n      <td>Воронежская область</td>\n      <td>0.178155</td>\n      <td>1</td>\n      <td>Воронеж</td>\n      <td>1</td>\n      <td>Huawei Device Company Limited</td>\n      <td>smartphone</td>\n      <td>13990.0</td>\n      <td>0.181818</td>\n      <td>...</td>\n      <td>0.269107</td>\n      <td>0.136476</td>\n      <td>0.068650</td>\n      <td>0.013581</td>\n      <td>0.178116</td>\n      <td>0.332993</td>\n      <td>0.306053</td>\n      <td>0.126063</td>\n      <td>0.046528</td>\n      <td>0.010247</td>\n    </tr>\n    <tr>\n      <th>4</th>\n      <td>4</td>\n      <td>Краснодарский край</td>\n      <td>0.448167</td>\n      <td>5</td>\n      <td>Анапа</td>\n      <td>9</td>\n      <td>Huawei</td>\n      <td>smartphone</td>\n      <td>12990.0</td>\n      <td>0.326898</td>\n      <td>...</td>\n      <td>0.270618</td>\n      <td>0.138505</td>\n      <td>0.069731</td>\n      <td>0.013725</td>\n      <td>0.147992</td>\n      <td>0.623704</td>\n      <td>0.194991</td>\n      <td>0.025293</td>\n      <td>0.006143</td>\n      <td>0.001877</td>\n    </tr>\n  </tbody>\n</table>\n<p>5 rows × 3038 columns</p>\n</div>"
     },
     "metadata": {},
     "output_type": "display_data"
    },
    {
     "name": "stdout",
     "output_type": "stream",
     "text": [
      "<class 'pandas.core.frame.DataFrame'>\n",
      "RangeIndex: 414723 entries, 0 to 414722\n",
      "Columns: 3038 entries, user_id to cat_bask_5_urls\n",
      "dtypes: float32(3031), int32(1), int8(2), object(4)\n",
      "memory usage: 4.7+ GB\n"
     ]
    },
    {
     "data": {
      "text/plain": "None"
     },
     "metadata": {},
     "output_type": "display_data"
    }
   ],
   "source": [
    "df = dd.read_parquet('..\\\\full_data\\\\figma_age\\\\full_age_data.parquet').compute()\n",
    "\n",
    "#берем нужные\n",
    "#df = df.loc[:,['user_id']+df.columns[12:-6].to_list()]\n",
    "top = np.load('.\\\\npy_files\\\\top1500_features_full_age.npy',allow_pickle=True)\n",
    "# добавляем target, удаляем nan\n",
    "submit = dd.read_parquet('..\\\\full_data\\\\submit_2.pqt').compute()\n",
    "submit = submit.sort_values('user_id', ignore_index=True)\n",
    "test_df = submit.merge(df, on='user_id',how ='left')\n",
    "\n",
    "\n",
    "display(df.head())\n",
    "display(df.info())"
   ],
   "metadata": {
    "collapsed": false
   }
  },
  {
   "cell_type": "code",
   "execution_count": 22,
   "outputs": [
    {
     "data": {
      "text/plain": "3801"
     },
     "metadata": {},
     "output_type": "display_data"
    },
    {
     "data": {
      "text/plain": "105"
     },
     "metadata": {},
     "output_type": "display_data"
    }
   ],
   "source": [
    "display(test_df.isna().sum().sum())\n",
    "for name in df['cpe_manufacturer_name'].unique():\n",
    "    test_df.loc[(test_df['cpe_manufacturer_name']==name)&(test_df['price'].isna()),'price'] = \\\n",
    "        df.loc[(df['cpe_manufacturer_name']==name)&(~df['price'].isna()),'price'].median()\n",
    "test_df.loc[test_df['price']<1000,'price'] = 1000\n",
    "display(test_df.isna().sum().sum())"
   ],
   "metadata": {
    "collapsed": false
   }
  },
  {
   "cell_type": "code",
   "execution_count": 23,
   "outputs": [
    {
     "data": {
      "text/plain": "   user_id            region_name  reg_count_people  region_count  \\\n0        6     Московская область          0.613485             1   \n1        7                 Москва          1.000000             2   \n2        9  Нижегородская область          0.246186             1   \n3       10  Нижегородская область          0.246186             1   \n4       11        Приморский край          0.144427             1   \n\n         city_name  city_count cpe_manufacturer_name cpe_type_cd    price  \\\n0        Егорьевск           1                Huawei  smartphone   8990.0   \n1           Москва           6                Huawei  smartphone   5490.0   \n2           Кстово           2                 Apple  smartphone  45368.0   \n3  Нижний Новгород           2               Samsung  smartphone  56815.0   \n4   Большой Камень           3                Huawei  smartphone  14190.0   \n\n   holyday_fraction  ...  bask_2part_of_day  bask_3part_of_day  \\\n0          0.265931  ...           0.269247           0.136917   \n1          0.259758  ...           0.267011           0.136290   \n2          0.301075  ...           0.270146           0.138018   \n3          0.163300  ...           0.270809           0.138820   \n4          0.130000  ...           0.271976           0.140212   \n\n   bask_4part_of_day  bask_5part_of_day  cat_bask_0_urls  cat_bask_1_urls  \\\n0           0.068976           0.013713         0.109744         0.351965   \n1           0.069008           0.013881         0.140196         0.428928   \n2           0.069489           0.013696         0.409509         0.395715   \n3           0.069891           0.013727         0.025641         0.377277   \n4           0.070558           0.013736         0.000847         0.008255   \n\n   cat_bask_2_urls  cat_bask_3_urls  cat_bask_4_urls  cat_bask_5_urls  \n0         0.326049         0.140286         0.057560         0.014395  \n1         0.288132         0.095871         0.035866         0.011007  \n2         0.128465         0.046141         0.015689         0.004482  \n3         0.466471         0.105612         0.022054         0.002945  \n4         0.051437         0.229927         0.544088         0.165446  \n\n[5 rows x 3038 columns]",
      "text/html": "<div>\n<style scoped>\n    .dataframe tbody tr th:only-of-type {\n        vertical-align: middle;\n    }\n\n    .dataframe tbody tr th {\n        vertical-align: top;\n    }\n\n    .dataframe thead th {\n        text-align: right;\n    }\n</style>\n<table border=\"1\" class=\"dataframe\">\n  <thead>\n    <tr style=\"text-align: right;\">\n      <th></th>\n      <th>user_id</th>\n      <th>region_name</th>\n      <th>reg_count_people</th>\n      <th>region_count</th>\n      <th>city_name</th>\n      <th>city_count</th>\n      <th>cpe_manufacturer_name</th>\n      <th>cpe_type_cd</th>\n      <th>price</th>\n      <th>holyday_fraction</th>\n      <th>...</th>\n      <th>bask_2part_of_day</th>\n      <th>bask_3part_of_day</th>\n      <th>bask_4part_of_day</th>\n      <th>bask_5part_of_day</th>\n      <th>cat_bask_0_urls</th>\n      <th>cat_bask_1_urls</th>\n      <th>cat_bask_2_urls</th>\n      <th>cat_bask_3_urls</th>\n      <th>cat_bask_4_urls</th>\n      <th>cat_bask_5_urls</th>\n    </tr>\n  </thead>\n  <tbody>\n    <tr>\n      <th>0</th>\n      <td>6</td>\n      <td>Московская область</td>\n      <td>0.613485</td>\n      <td>1</td>\n      <td>Егорьевск</td>\n      <td>1</td>\n      <td>Huawei</td>\n      <td>smartphone</td>\n      <td>8990.0</td>\n      <td>0.265931</td>\n      <td>...</td>\n      <td>0.269247</td>\n      <td>0.136917</td>\n      <td>0.068976</td>\n      <td>0.013713</td>\n      <td>0.109744</td>\n      <td>0.351965</td>\n      <td>0.326049</td>\n      <td>0.140286</td>\n      <td>0.057560</td>\n      <td>0.014395</td>\n    </tr>\n    <tr>\n      <th>1</th>\n      <td>7</td>\n      <td>Москва</td>\n      <td>1.000000</td>\n      <td>2</td>\n      <td>Москва</td>\n      <td>6</td>\n      <td>Huawei</td>\n      <td>smartphone</td>\n      <td>5490.0</td>\n      <td>0.259758</td>\n      <td>...</td>\n      <td>0.267011</td>\n      <td>0.136290</td>\n      <td>0.069008</td>\n      <td>0.013881</td>\n      <td>0.140196</td>\n      <td>0.428928</td>\n      <td>0.288132</td>\n      <td>0.095871</td>\n      <td>0.035866</td>\n      <td>0.011007</td>\n    </tr>\n    <tr>\n      <th>2</th>\n      <td>9</td>\n      <td>Нижегородская область</td>\n      <td>0.246186</td>\n      <td>1</td>\n      <td>Кстово</td>\n      <td>2</td>\n      <td>Apple</td>\n      <td>smartphone</td>\n      <td>45368.0</td>\n      <td>0.301075</td>\n      <td>...</td>\n      <td>0.270146</td>\n      <td>0.138018</td>\n      <td>0.069489</td>\n      <td>0.013696</td>\n      <td>0.409509</td>\n      <td>0.395715</td>\n      <td>0.128465</td>\n      <td>0.046141</td>\n      <td>0.015689</td>\n      <td>0.004482</td>\n    </tr>\n    <tr>\n      <th>3</th>\n      <td>10</td>\n      <td>Нижегородская область</td>\n      <td>0.246186</td>\n      <td>1</td>\n      <td>Нижний Новгород</td>\n      <td>2</td>\n      <td>Samsung</td>\n      <td>smartphone</td>\n      <td>56815.0</td>\n      <td>0.163300</td>\n      <td>...</td>\n      <td>0.270809</td>\n      <td>0.138820</td>\n      <td>0.069891</td>\n      <td>0.013727</td>\n      <td>0.025641</td>\n      <td>0.377277</td>\n      <td>0.466471</td>\n      <td>0.105612</td>\n      <td>0.022054</td>\n      <td>0.002945</td>\n    </tr>\n    <tr>\n      <th>4</th>\n      <td>11</td>\n      <td>Приморский край</td>\n      <td>0.144427</td>\n      <td>1</td>\n      <td>Большой Камень</td>\n      <td>3</td>\n      <td>Huawei</td>\n      <td>smartphone</td>\n      <td>14190.0</td>\n      <td>0.130000</td>\n      <td>...</td>\n      <td>0.271976</td>\n      <td>0.140212</td>\n      <td>0.070558</td>\n      <td>0.013736</td>\n      <td>0.000847</td>\n      <td>0.008255</td>\n      <td>0.051437</td>\n      <td>0.229927</td>\n      <td>0.544088</td>\n      <td>0.165446</td>\n    </tr>\n  </tbody>\n</table>\n<p>5 rows × 3038 columns</p>\n</div>"
     },
     "execution_count": 23,
     "metadata": {},
     "output_type": "execute_result"
    }
   ],
   "source": [
    "test_df.head()"
   ],
   "metadata": {
    "collapsed": false
   }
  },
  {
   "cell_type": "code",
   "execution_count": 24,
   "outputs": [
    {
     "data": {
      "text/plain": "        user_id  age  is_male\n0             6    2     -1.0\n1             7    2     -1.0\n2             9    2     -1.0\n3            10    3     -1.0\n4            11    5     -1.0\n...         ...  ...      ...\n144719   415306    2     -1.0\n144720   415310    3     -1.0\n144721   415314    2     -1.0\n144722   415315    3     -1.0\n144723   415316    3     -1.0\n\n[144724 rows x 3 columns]",
      "text/html": "<div>\n<style scoped>\n    .dataframe tbody tr th:only-of-type {\n        vertical-align: middle;\n    }\n\n    .dataframe tbody tr th {\n        vertical-align: top;\n    }\n\n    .dataframe thead th {\n        text-align: right;\n    }\n</style>\n<table border=\"1\" class=\"dataframe\">\n  <thead>\n    <tr style=\"text-align: right;\">\n      <th></th>\n      <th>user_id</th>\n      <th>age</th>\n      <th>is_male</th>\n    </tr>\n  </thead>\n  <tbody>\n    <tr>\n      <th>0</th>\n      <td>6</td>\n      <td>2</td>\n      <td>-1.0</td>\n    </tr>\n    <tr>\n      <th>1</th>\n      <td>7</td>\n      <td>2</td>\n      <td>-1.0</td>\n    </tr>\n    <tr>\n      <th>2</th>\n      <td>9</td>\n      <td>2</td>\n      <td>-1.0</td>\n    </tr>\n    <tr>\n      <th>3</th>\n      <td>10</td>\n      <td>3</td>\n      <td>-1.0</td>\n    </tr>\n    <tr>\n      <th>4</th>\n      <td>11</td>\n      <td>5</td>\n      <td>-1.0</td>\n    </tr>\n    <tr>\n      <th>...</th>\n      <td>...</td>\n      <td>...</td>\n      <td>...</td>\n    </tr>\n    <tr>\n      <th>144719</th>\n      <td>415306</td>\n      <td>2</td>\n      <td>-1.0</td>\n    </tr>\n    <tr>\n      <th>144720</th>\n      <td>415310</td>\n      <td>3</td>\n      <td>-1.0</td>\n    </tr>\n    <tr>\n      <th>144721</th>\n      <td>415314</td>\n      <td>2</td>\n      <td>-1.0</td>\n    </tr>\n    <tr>\n      <th>144722</th>\n      <td>415315</td>\n      <td>3</td>\n      <td>-1.0</td>\n    </tr>\n    <tr>\n      <th>144723</th>\n      <td>415316</td>\n      <td>3</td>\n      <td>-1.0</td>\n    </tr>\n  </tbody>\n</table>\n<p>144724 rows × 3 columns</p>\n</div>"
     },
     "metadata": {},
     "output_type": "display_data"
    }
   ],
   "source": [
    "test_df = test_df.drop('user_id',axis=1)\n",
    "test_df = Pool(test_df,\n",
    "               cat_features = list(test_df.select_dtypes(include=['object']).columns))\n",
    "\n",
    "submit['age'] = model.predict(test_df)\n",
    "submit['age'] += 1\n",
    "submit['is_male'] = pd.Series(data=-1.0,index=submit.index)\n",
    "display(submit)"
   ],
   "metadata": {
    "collapsed": false
   }
  },
  {
   "cell_type": "code",
   "execution_count": 25,
   "outputs": [],
   "source": [
    "submit.to_csv('age_top_1500_full.csv', index=False)"
   ],
   "metadata": {
    "collapsed": false
   }
  },
  {
   "cell_type": "markdown",
   "source": [
    "# full"
   ],
   "metadata": {
    "collapsed": false
   }
  },
  {
   "cell_type": "code",
   "execution_count": null,
   "outputs": [],
   "source": [],
   "metadata": {
    "collapsed": false
   }
  }
 ],
 "metadata": {
  "kernelspec": {
   "display_name": "Python 3 (ipykernel)",
   "language": "python",
   "name": "python3"
  },
  "language_info": {
   "codemirror_mode": {
    "name": "ipython",
    "version": 3
   },
   "file_extension": ".py",
   "mimetype": "text/x-python",
   "name": "python",
   "nbconvert_exporter": "python",
   "pygments_lexer": "ipython3",
   "version": "3.8.10"
  }
 },
 "nbformat": 4,
 "nbformat_minor": 1
}
