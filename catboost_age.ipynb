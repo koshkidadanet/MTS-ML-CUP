{
 "cells": [
  {
   "cell_type": "code",
   "execution_count": 1,
   "metadata": {},
   "outputs": [],
   "source": [
    "import bisect\n",
    "\n",
    "import pandas as pd\n",
    "import numpy as np\n",
    "import dask.dataframe as dd\n",
    "import pycaret.classification as pc\n",
    "\n",
    "from catboost import CatBoostClassifier, Pool, EShapCalcType, EFeaturesSelectionAlgorithm, cv\n",
    "from sklearn.metrics import roc_auc_score, classification_report\n",
    "from sklearn.model_selection import train_test_split, StratifiedKFold"
   ]
  },
  {
   "cell_type": "markdown",
   "source": [
    "# top1500"
   ],
   "metadata": {
    "collapsed": false
   }
  },
  {
   "cell_type": "markdown",
   "source": [
    "## train"
   ],
   "metadata": {
    "collapsed": false
   }
  },
  {
   "cell_type": "code",
   "execution_count": 2,
   "outputs": [
    {
     "data": {
      "text/plain": "   user_id  googleads.g.doubleclick.net  yandex.ru  i.ytimg.com    vk.com  \\\n0        0                     0.196891   0.031088     0.025907  0.041451   \n1        1                     0.072588   0.112703     0.040115  0.023878   \n2        2                     0.092457   0.046229     0.126521  0.141119   \n3        3                     0.021818   0.061818     0.007273  0.178182   \n4        4                     0.061776   0.030888     0.048906  0.083655   \n\n   avatars.mds.yandex.net  ad.mail.ru  yastatic.net  apple.com  instagram.com  \\\n0                0.046632    0.031088      0.051813        0.0       0.000000   \n1                0.104107    0.034384      0.081184        0.0       0.000000   \n2                0.072993    0.038929      0.046229        0.0       0.000000   \n3                0.094545    0.080000      0.069091        0.0       0.000000   \n4                0.046332    0.061776      0.045045        0.0       0.003861   \n\n   ...  other_url  bask_4cpe_type_cd  bask_5cpe_type_cd  bask_0url_host  \\\n0  ...   0.031088           0.069146           0.013774        0.134186   \n1  ...   0.013372           0.069146           0.013774        0.130193   \n2  ...   0.002433           0.069146           0.013774        0.144648   \n3  ...   0.010909           0.069146           0.013774        0.148331   \n4  ...   0.011583           0.069146           0.013774        0.145739   \n\n   bask_1url_host  bask_2url_host  bask_3url_host  bask_4url_host  \\\n0        0.342372        0.281677        0.149741        0.076944   \n1        0.341496        0.284690        0.151575        0.077067   \n2        0.349024        0.276713        0.143092        0.072281   \n3        0.353465        0.277041        0.139772        0.068262   \n4        0.350527        0.276666        0.142050        0.070993   \n\n   bask_5url_host  age  \n0        0.015080    1  \n1        0.014979    2  \n2        0.014242    0  \n3        0.013129    3  \n4        0.014025    1  \n\n[5 rows x 1502 columns]",
      "text/html": "<div>\n<style scoped>\n    .dataframe tbody tr th:only-of-type {\n        vertical-align: middle;\n    }\n\n    .dataframe tbody tr th {\n        vertical-align: top;\n    }\n\n    .dataframe thead th {\n        text-align: right;\n    }\n</style>\n<table border=\"1\" class=\"dataframe\">\n  <thead>\n    <tr style=\"text-align: right;\">\n      <th></th>\n      <th>user_id</th>\n      <th>googleads.g.doubleclick.net</th>\n      <th>yandex.ru</th>\n      <th>i.ytimg.com</th>\n      <th>vk.com</th>\n      <th>avatars.mds.yandex.net</th>\n      <th>ad.mail.ru</th>\n      <th>yastatic.net</th>\n      <th>apple.com</th>\n      <th>instagram.com</th>\n      <th>...</th>\n      <th>other_url</th>\n      <th>bask_4cpe_type_cd</th>\n      <th>bask_5cpe_type_cd</th>\n      <th>bask_0url_host</th>\n      <th>bask_1url_host</th>\n      <th>bask_2url_host</th>\n      <th>bask_3url_host</th>\n      <th>bask_4url_host</th>\n      <th>bask_5url_host</th>\n      <th>age</th>\n    </tr>\n  </thead>\n  <tbody>\n    <tr>\n      <th>0</th>\n      <td>0</td>\n      <td>0.196891</td>\n      <td>0.031088</td>\n      <td>0.025907</td>\n      <td>0.041451</td>\n      <td>0.046632</td>\n      <td>0.031088</td>\n      <td>0.051813</td>\n      <td>0.0</td>\n      <td>0.000000</td>\n      <td>...</td>\n      <td>0.031088</td>\n      <td>0.069146</td>\n      <td>0.013774</td>\n      <td>0.134186</td>\n      <td>0.342372</td>\n      <td>0.281677</td>\n      <td>0.149741</td>\n      <td>0.076944</td>\n      <td>0.015080</td>\n      <td>1</td>\n    </tr>\n    <tr>\n      <th>1</th>\n      <td>1</td>\n      <td>0.072588</td>\n      <td>0.112703</td>\n      <td>0.040115</td>\n      <td>0.023878</td>\n      <td>0.104107</td>\n      <td>0.034384</td>\n      <td>0.081184</td>\n      <td>0.0</td>\n      <td>0.000000</td>\n      <td>...</td>\n      <td>0.013372</td>\n      <td>0.069146</td>\n      <td>0.013774</td>\n      <td>0.130193</td>\n      <td>0.341496</td>\n      <td>0.284690</td>\n      <td>0.151575</td>\n      <td>0.077067</td>\n      <td>0.014979</td>\n      <td>2</td>\n    </tr>\n    <tr>\n      <th>2</th>\n      <td>2</td>\n      <td>0.092457</td>\n      <td>0.046229</td>\n      <td>0.126521</td>\n      <td>0.141119</td>\n      <td>0.072993</td>\n      <td>0.038929</td>\n      <td>0.046229</td>\n      <td>0.0</td>\n      <td>0.000000</td>\n      <td>...</td>\n      <td>0.002433</td>\n      <td>0.069146</td>\n      <td>0.013774</td>\n      <td>0.144648</td>\n      <td>0.349024</td>\n      <td>0.276713</td>\n      <td>0.143092</td>\n      <td>0.072281</td>\n      <td>0.014242</td>\n      <td>0</td>\n    </tr>\n    <tr>\n      <th>3</th>\n      <td>3</td>\n      <td>0.021818</td>\n      <td>0.061818</td>\n      <td>0.007273</td>\n      <td>0.178182</td>\n      <td>0.094545</td>\n      <td>0.080000</td>\n      <td>0.069091</td>\n      <td>0.0</td>\n      <td>0.000000</td>\n      <td>...</td>\n      <td>0.010909</td>\n      <td>0.069146</td>\n      <td>0.013774</td>\n      <td>0.148331</td>\n      <td>0.353465</td>\n      <td>0.277041</td>\n      <td>0.139772</td>\n      <td>0.068262</td>\n      <td>0.013129</td>\n      <td>3</td>\n    </tr>\n    <tr>\n      <th>4</th>\n      <td>4</td>\n      <td>0.061776</td>\n      <td>0.030888</td>\n      <td>0.048906</td>\n      <td>0.083655</td>\n      <td>0.046332</td>\n      <td>0.061776</td>\n      <td>0.045045</td>\n      <td>0.0</td>\n      <td>0.003861</td>\n      <td>...</td>\n      <td>0.011583</td>\n      <td>0.069146</td>\n      <td>0.013774</td>\n      <td>0.145739</td>\n      <td>0.350527</td>\n      <td>0.276666</td>\n      <td>0.142050</td>\n      <td>0.070993</td>\n      <td>0.014025</td>\n      <td>1</td>\n    </tr>\n  </tbody>\n</table>\n<p>5 rows × 1502 columns</p>\n</div>"
     },
     "metadata": {},
     "output_type": "display_data"
    },
    {
     "name": "stdout",
     "output_type": "stream",
     "text": [
      "<class 'pandas.core.frame.DataFrame'>\n",
      "Int64Index: 269999 entries, 0 to 269998\n",
      "Columns: 1502 entries, user_id to age\n",
      "dtypes: float32(1492), float64(8), int32(1), int64(1)\n",
      "memory usage: 1.5 GB\n"
     ]
    },
    {
     "data": {
      "text/plain": "None"
     },
     "metadata": {},
     "output_type": "display_data"
    }
   ],
   "source": [
    "#df = dd.read_parquet('..\\\\full_data\\\\figma_gender\\\\full_gender_data.parquet').compute()\n",
    "df = dd.read_parquet('..\\\\full_data\\\\figma_age\\\\full_age_data.parquet').compute()\n",
    "#берем нужные\n",
    "df = df.loc[:,['user_id']+df.columns[12:-6].to_list()]\n",
    "top = np.load('.\\\\npy_files\\\\top1500_features_age_urls.npy',allow_pickle=True)\n",
    "df = df.loc[:,(df.columns.isin(top))|(df.columns.isin(['user_id']))]\n",
    "\n",
    "# добавляем target, удаляем nan\n",
    "df = df.merge(pd.read_parquet('..\\\\full_data\\\\public_train.pqt',columns=['user_id','age'])[['age','user_id']], on = 'user_id', how = 'inner')\n",
    "df = df.loc[~(df['age'].isna()) & (df['age'] != 'NA')]\n",
    "df['age'] = df['age'].astype('int8')\n",
    "\n",
    "def age_bucket(x):\n",
    "    return bisect.bisect_left([25,35,45,55,65], x)\n",
    "df['age'] = df['age'].map(age_bucket)\n",
    "\n",
    "display(df.head())\n",
    "display(df.info())"
   ],
   "metadata": {
    "collapsed": false
   }
  },
  {
   "cell_type": "code",
   "execution_count": null,
   "outputs": [],
   "source": [
    "display(df.isna().sum().sum())\n",
    "for name in df['cpe_manufacturer_name'].unique():\n",
    "    df.loc[(df['cpe_manufacturer_name']==name)&(df['price'].isna()),'price'] = \\\n",
    "        df.loc[(df['cpe_manufacturer_name']==name)&(~df['price'].isna()),'price'].median()\n",
    "df.loc[df['price']<1000,'price'] = 1000\n",
    "display(df.isna().sum().sum())"
   ],
   "metadata": {
    "collapsed": false
   }
  },
  {
   "cell_type": "code",
   "execution_count": 3,
   "outputs": [
    {
     "name": "stdout",
     "output_type": "stream",
     "text": [
      "0:\tlearn: 1.7848758\ttotal: 123ms\tremaining: 4m 6s\n",
      "100:\tlearn: 1.4710747\ttotal: 10.4s\tremaining: 3m 15s\n",
      "200:\tlearn: 1.3882294\ttotal: 20.3s\tremaining: 3m 1s\n",
      "300:\tlearn: 1.3558812\ttotal: 29.4s\tremaining: 2m 45s\n",
      "400:\tlearn: 1.3388889\ttotal: 37.9s\tremaining: 2m 31s\n",
      "500:\tlearn: 1.3272154\ttotal: 46.4s\tremaining: 2m 18s\n",
      "600:\tlearn: 1.3183713\ttotal: 54.9s\tremaining: 2m 7s\n",
      "700:\tlearn: 1.3113354\ttotal: 1m 4s\tremaining: 2m\n",
      "800:\tlearn: 1.3053262\ttotal: 1m 17s\tremaining: 1m 56s\n",
      "900:\tlearn: 1.3000167\ttotal: 1m 26s\tremaining: 1m 45s\n",
      "1000:\tlearn: 1.2953946\ttotal: 1m 37s\tremaining: 1m 37s\n",
      "1100:\tlearn: 1.2910439\ttotal: 1m 45s\tremaining: 1m 25s\n",
      "1200:\tlearn: 1.2871009\ttotal: 1m 52s\tremaining: 1m 15s\n",
      "1300:\tlearn: 1.2835815\ttotal: 2m 1s\tremaining: 1m 5s\n",
      "1400:\tlearn: 1.2803290\ttotal: 2m 11s\tremaining: 56.4s\n",
      "1500:\tlearn: 1.2772614\ttotal: 2m 19s\tremaining: 46.5s\n",
      "1600:\tlearn: 1.2743665\ttotal: 2m 27s\tremaining: 36.8s\n",
      "1700:\tlearn: 1.2716068\ttotal: 2m 35s\tremaining: 27.3s\n",
      "1800:\tlearn: 1.2690040\ttotal: 2m 42s\tremaining: 18s\n",
      "1900:\tlearn: 1.2666922\ttotal: 2m 50s\tremaining: 8.87s\n",
      "1999:\tlearn: 1.2644771\ttotal: 2m 57s\tremaining: 0us\n",
      "              precision    recall  f1-score   support\n",
      "\n",
      "       18-25       0.59      0.35      0.44     33718\n",
      "       25-34       0.50      0.66      0.57     87270\n",
      "       35-44       0.41      0.55      0.47     77486\n",
      "       45-54       0.41      0.21      0.28     42442\n",
      "       55-65       0.48      0.18      0.26     23580\n",
      "         65+       0.60      0.01      0.03      5503\n",
      "\n",
      "    accuracy                           0.46    269999\n",
      "   macro avg       0.50      0.33      0.34    269999\n",
      "weighted avg       0.47      0.46      0.44    269999\n",
      "\n"
     ]
    }
   ],
   "source": [
    "x_train = df.drop(['age','user_id'],axis=1)\n",
    "y_train = df['age']\n",
    "\n",
    "pool_train = Pool(x_train, y_train,\n",
    "                  cat_features = list(x_train.select_dtypes(include=['object']).columns))\n",
    "\n",
    "model = CatBoostClassifier(iterations=2000,\n",
    "                           learning_rate = 0.01,\n",
    "                           random_state=42,\n",
    "                           task_type='GPU')\n",
    "model.fit(pool_train, verbose=100)\n",
    "\n",
    "print(classification_report(y_train, model.predict(x_train), \\\n",
    "                            target_names = ['18-25','25-34', '35-44', '45-54', '55-65', '65+']))"
   ],
   "metadata": {
    "collapsed": false
   }
  },
  {
   "cell_type": "markdown",
   "source": [
    "## create pred"
   ],
   "metadata": {
    "collapsed": false
   }
  },
  {
   "cell_type": "code",
   "execution_count": 6,
   "outputs": [
    {
     "data": {
      "text/plain": "   googleads.g.doubleclick.net  yandex.ru  i.ytimg.com    vk.com  \\\n0                     0.196891   0.031088     0.025907  0.041451   \n1                     0.072588   0.112703     0.040115  0.023878   \n2                     0.092457   0.046229     0.126521  0.141119   \n3                     0.021818   0.061818     0.007273  0.178182   \n4                     0.061776   0.030888     0.048906  0.083655   \n\n   avatars.mds.yandex.net  ad.mail.ru  yastatic.net  apple.com  instagram.com  \\\n0                0.046632    0.031088      0.051813        0.0       0.000000   \n1                0.104107    0.034384      0.081184        0.0       0.000000   \n2                0.072993    0.038929      0.046229        0.0       0.000000   \n3                0.094545    0.080000      0.069091        0.0       0.000000   \n4                0.046332    0.061776      0.045045        0.0       0.003861   \n\n   ads.adfox.ru  ...  7info.ru  other_url  bask_4cpe_type_cd  \\\n0      0.025907  ...       0.0   0.031088           0.069146   \n1      0.019102  ...       0.0   0.013372           0.069146   \n2      0.026764  ...       0.0   0.002433           0.069146   \n3      0.000000  ...       0.0   0.010909           0.069146   \n4      0.028314  ...       0.0   0.011583           0.069146   \n\n   bask_5cpe_type_cd  bask_0url_host  bask_1url_host  bask_2url_host  \\\n0           0.013774        0.134186        0.342372        0.281677   \n1           0.013774        0.130193        0.341496        0.284690   \n2           0.013774        0.144648        0.349024        0.276713   \n3           0.013774        0.148331        0.353465        0.277041   \n4           0.013774        0.145739        0.350527        0.276666   \n\n   bask_3url_host  bask_4url_host  bask_5url_host  \n0        0.149741        0.076944        0.015080  \n1        0.151575        0.077067        0.014979  \n2        0.143092        0.072281        0.014242  \n3        0.139772        0.068262        0.013129  \n4        0.142050        0.070993        0.014025  \n\n[5 rows x 1500 columns]",
      "text/html": "<div>\n<style scoped>\n    .dataframe tbody tr th:only-of-type {\n        vertical-align: middle;\n    }\n\n    .dataframe tbody tr th {\n        vertical-align: top;\n    }\n\n    .dataframe thead th {\n        text-align: right;\n    }\n</style>\n<table border=\"1\" class=\"dataframe\">\n  <thead>\n    <tr style=\"text-align: right;\">\n      <th></th>\n      <th>googleads.g.doubleclick.net</th>\n      <th>yandex.ru</th>\n      <th>i.ytimg.com</th>\n      <th>vk.com</th>\n      <th>avatars.mds.yandex.net</th>\n      <th>ad.mail.ru</th>\n      <th>yastatic.net</th>\n      <th>apple.com</th>\n      <th>instagram.com</th>\n      <th>ads.adfox.ru</th>\n      <th>...</th>\n      <th>7info.ru</th>\n      <th>other_url</th>\n      <th>bask_4cpe_type_cd</th>\n      <th>bask_5cpe_type_cd</th>\n      <th>bask_0url_host</th>\n      <th>bask_1url_host</th>\n      <th>bask_2url_host</th>\n      <th>bask_3url_host</th>\n      <th>bask_4url_host</th>\n      <th>bask_5url_host</th>\n    </tr>\n  </thead>\n  <tbody>\n    <tr>\n      <th>0</th>\n      <td>0.196891</td>\n      <td>0.031088</td>\n      <td>0.025907</td>\n      <td>0.041451</td>\n      <td>0.046632</td>\n      <td>0.031088</td>\n      <td>0.051813</td>\n      <td>0.0</td>\n      <td>0.000000</td>\n      <td>0.025907</td>\n      <td>...</td>\n      <td>0.0</td>\n      <td>0.031088</td>\n      <td>0.069146</td>\n      <td>0.013774</td>\n      <td>0.134186</td>\n      <td>0.342372</td>\n      <td>0.281677</td>\n      <td>0.149741</td>\n      <td>0.076944</td>\n      <td>0.015080</td>\n    </tr>\n    <tr>\n      <th>1</th>\n      <td>0.072588</td>\n      <td>0.112703</td>\n      <td>0.040115</td>\n      <td>0.023878</td>\n      <td>0.104107</td>\n      <td>0.034384</td>\n      <td>0.081184</td>\n      <td>0.0</td>\n      <td>0.000000</td>\n      <td>0.019102</td>\n      <td>...</td>\n      <td>0.0</td>\n      <td>0.013372</td>\n      <td>0.069146</td>\n      <td>0.013774</td>\n      <td>0.130193</td>\n      <td>0.341496</td>\n      <td>0.284690</td>\n      <td>0.151575</td>\n      <td>0.077067</td>\n      <td>0.014979</td>\n    </tr>\n    <tr>\n      <th>2</th>\n      <td>0.092457</td>\n      <td>0.046229</td>\n      <td>0.126521</td>\n      <td>0.141119</td>\n      <td>0.072993</td>\n      <td>0.038929</td>\n      <td>0.046229</td>\n      <td>0.0</td>\n      <td>0.000000</td>\n      <td>0.026764</td>\n      <td>...</td>\n      <td>0.0</td>\n      <td>0.002433</td>\n      <td>0.069146</td>\n      <td>0.013774</td>\n      <td>0.144648</td>\n      <td>0.349024</td>\n      <td>0.276713</td>\n      <td>0.143092</td>\n      <td>0.072281</td>\n      <td>0.014242</td>\n    </tr>\n    <tr>\n      <th>3</th>\n      <td>0.021818</td>\n      <td>0.061818</td>\n      <td>0.007273</td>\n      <td>0.178182</td>\n      <td>0.094545</td>\n      <td>0.080000</td>\n      <td>0.069091</td>\n      <td>0.0</td>\n      <td>0.000000</td>\n      <td>0.000000</td>\n      <td>...</td>\n      <td>0.0</td>\n      <td>0.010909</td>\n      <td>0.069146</td>\n      <td>0.013774</td>\n      <td>0.148331</td>\n      <td>0.353465</td>\n      <td>0.277041</td>\n      <td>0.139772</td>\n      <td>0.068262</td>\n      <td>0.013129</td>\n    </tr>\n    <tr>\n      <th>4</th>\n      <td>0.061776</td>\n      <td>0.030888</td>\n      <td>0.048906</td>\n      <td>0.083655</td>\n      <td>0.046332</td>\n      <td>0.061776</td>\n      <td>0.045045</td>\n      <td>0.0</td>\n      <td>0.003861</td>\n      <td>0.028314</td>\n      <td>...</td>\n      <td>0.0</td>\n      <td>0.011583</td>\n      <td>0.069146</td>\n      <td>0.013774</td>\n      <td>0.145739</td>\n      <td>0.350527</td>\n      <td>0.276666</td>\n      <td>0.142050</td>\n      <td>0.070993</td>\n      <td>0.014025</td>\n    </tr>\n  </tbody>\n</table>\n<p>5 rows × 1500 columns</p>\n</div>"
     },
     "metadata": {},
     "output_type": "display_data"
    },
    {
     "name": "stdout",
     "output_type": "stream",
     "text": [
      "<class 'pandas.core.frame.DataFrame'>\n",
      "RangeIndex: 414723 entries, 0 to 414722\n",
      "Columns: 1500 entries, googleads.g.doubleclick.net to bask_5url_host\n",
      "dtypes: float32(1492), float64(8)\n",
      "memory usage: 2.3 GB\n"
     ]
    },
    {
     "data": {
      "text/plain": "None"
     },
     "metadata": {},
     "output_type": "display_data"
    }
   ],
   "source": [
    "df = dd.read_parquet('..\\\\full_data\\\\figma_age\\\\full_age_data.parquet').compute()\n",
    "\n",
    "#берем нужные\n",
    "df = df.loc[:,['user_id']+df.columns[12:-6].to_list()]\n",
    "top = np.load('.\\\\npy_files\\\\top1500_features_age_urls.npy',allow_pickle=True)\n",
    "df = df.loc[:,df.columns.isin(top)]\n",
    "\n",
    "display(df.head())\n",
    "display(df.info())"
   ],
   "metadata": {
    "collapsed": false
   }
  },
  {
   "cell_type": "code",
   "execution_count": 12,
   "outputs": [
    {
     "data": {
      "text/plain": "   cat_bask_0_urls  cat_bask_1_urls  cat_bask_2_urls  cat_bask_3_urls  \\\n0         0.023031         0.187120         0.444597         0.242201   \n1         0.006237         0.102354         0.395650         0.340144   \n2         0.322408         0.387423         0.191007         0.063730   \n3         0.178116         0.332993         0.306053         0.126063   \n4         0.147992         0.623704         0.194991         0.025293   \n\n   cat_bask_4_urls  cat_bask_5_urls  \n0         0.092669         0.010382  \n1         0.138546         0.017069  \n2         0.027053         0.008379  \n3         0.046528         0.010247  \n4         0.006143         0.001877  ",
      "text/html": "<div>\n<style scoped>\n    .dataframe tbody tr th:only-of-type {\n        vertical-align: middle;\n    }\n\n    .dataframe tbody tr th {\n        vertical-align: top;\n    }\n\n    .dataframe thead th {\n        text-align: right;\n    }\n</style>\n<table border=\"1\" class=\"dataframe\">\n  <thead>\n    <tr style=\"text-align: right;\">\n      <th></th>\n      <th>cat_bask_0_urls</th>\n      <th>cat_bask_1_urls</th>\n      <th>cat_bask_2_urls</th>\n      <th>cat_bask_3_urls</th>\n      <th>cat_bask_4_urls</th>\n      <th>cat_bask_5_urls</th>\n    </tr>\n  </thead>\n  <tbody>\n    <tr>\n      <th>0</th>\n      <td>0.023031</td>\n      <td>0.187120</td>\n      <td>0.444597</td>\n      <td>0.242201</td>\n      <td>0.092669</td>\n      <td>0.010382</td>\n    </tr>\n    <tr>\n      <th>1</th>\n      <td>0.006237</td>\n      <td>0.102354</td>\n      <td>0.395650</td>\n      <td>0.340144</td>\n      <td>0.138546</td>\n      <td>0.017069</td>\n    </tr>\n    <tr>\n      <th>2</th>\n      <td>0.322408</td>\n      <td>0.387423</td>\n      <td>0.191007</td>\n      <td>0.063730</td>\n      <td>0.027053</td>\n      <td>0.008379</td>\n    </tr>\n    <tr>\n      <th>3</th>\n      <td>0.178116</td>\n      <td>0.332993</td>\n      <td>0.306053</td>\n      <td>0.126063</td>\n      <td>0.046528</td>\n      <td>0.010247</td>\n    </tr>\n    <tr>\n      <th>4</th>\n      <td>0.147992</td>\n      <td>0.623704</td>\n      <td>0.194991</td>\n      <td>0.025293</td>\n      <td>0.006143</td>\n      <td>0.001877</td>\n    </tr>\n  </tbody>\n</table>\n</div>"
     },
     "execution_count": 12,
     "metadata": {},
     "output_type": "execute_result"
    }
   ],
   "source": [
    "pred_df = pd.DataFrame(data=model.predict_proba(df), index=df.index, columns=['cat_bask_0_urls',\n",
    "                                                                         'cat_bask_1_urls',\n",
    "                                                                         'cat_bask_2_urls',\n",
    "                                                                         'cat_bask_3_urls',\n",
    "                                                                         'cat_bask_4_urls',\n",
    "                                                                         'cat_bask_5_urls'])\n",
    "pred_df = pred_df.astype('float32')\n",
    "pred_df.head()"
   ],
   "metadata": {
    "collapsed": false
   }
  },
  {
   "cell_type": "code",
   "execution_count": 13,
   "outputs": [],
   "source": [
    "pred_df.to_parquet('..\\\\full_data\\\\figma_age\\\\age_proba_by_1500urls.parquet', index=False)"
   ],
   "metadata": {
    "collapsed": false
   }
  },
  {
   "cell_type": "markdown",
   "source": [
    "## test"
   ],
   "metadata": {
    "collapsed": false
   }
  },
  {
   "cell_type": "code",
   "execution_count": null,
   "outputs": [],
   "source": [
    "df = dd.read_parquet('..\\\\full_data\\\\figma_age\\\\full_age_data.parquet').compute()\n",
    "\n",
    "#берем нужные\n",
    "df = df.loc[:,['user_id']+df.columns[12:-6].to_list()]\n",
    "\n",
    "# добавляем target, удаляем nan\n",
    "submit = dd.read_parquet('..\\\\full_data\\\\submit_2.pqt').compute()\n",
    "submit = submit.sort_values('user_id', ignore_index=True)\n",
    "test_df = submit.merge(df, on='user_id',how ='left')\n",
    "\n",
    "display(df.head())\n",
    "display(df.info())"
   ],
   "metadata": {
    "collapsed": false
   }
  },
  {
   "cell_type": "code",
   "execution_count": null,
   "outputs": [],
   "source": [
    "display(test_df.isna().sum().sum())\n",
    "for name in df['cpe_manufacturer_name'].unique():\n",
    "    test_df.loc[(test_df['cpe_manufacturer_name']==name)&(test_df['price'].isna()),'price'] = \\\n",
    "        df.loc[(df['cpe_manufacturer_name']==name)&(~df['price'].isna()),'price'].median()\n",
    "test_df.loc[test_df['price']<1000,'price'] = 1000\n",
    "display(test_df.isna().sum().sum())"
   ],
   "metadata": {
    "collapsed": false
   }
  },
  {
   "cell_type": "code",
   "execution_count": null,
   "outputs": [],
   "source": [
    "submit['age'] = model.predict(test_df.drop('user_id',axis=1))\n",
    "submit['age'] += 1\n",
    "submit['is_male'] = pd.Series(data=-1.0,index=submit.index)\n",
    "display(submit)"
   ],
   "metadata": {
    "collapsed": false
   }
  },
  {
   "cell_type": "code",
   "execution_count": null,
   "outputs": [],
   "source": [
    "submit.to_csv('age_urls_top_1500_only.csv', index=False)"
   ],
   "metadata": {
    "collapsed": false
   }
  },
  {
   "cell_type": "markdown",
   "source": [
    "# full"
   ],
   "metadata": {
    "collapsed": false
   }
  },
  {
   "cell_type": "code",
   "execution_count": null,
   "outputs": [],
   "source": [],
   "metadata": {
    "collapsed": false
   }
  }
 ],
 "metadata": {
  "kernelspec": {
   "display_name": "Python 3 (ipykernel)",
   "language": "python",
   "name": "python3"
  },
  "language_info": {
   "codemirror_mode": {
    "name": "ipython",
    "version": 3
   },
   "file_extension": ".py",
   "mimetype": "text/x-python",
   "name": "python",
   "nbconvert_exporter": "python",
   "pygments_lexer": "ipython3",
   "version": "3.8.10"
  }
 },
 "nbformat": 4,
 "nbformat_minor": 1
}
