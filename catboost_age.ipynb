{
 "cells": [
  {
   "cell_type": "code",
   "execution_count": 1,
   "metadata": {},
   "outputs": [],
   "source": [
    "import bisect\n",
    "\n",
    "import pandas as pd\n",
    "import numpy as np\n",
    "import dask.dataframe as dd\n",
    "import pycaret.classification as pc\n",
    "\n",
    "from catboost import CatBoostClassifier, Pool, EShapCalcType, EFeaturesSelectionAlgorithm, cv\n",
    "from sklearn.metrics import roc_auc_score, classification_report\n",
    "from sklearn.model_selection import train_test_split, StratifiedKFold"
   ]
  },
  {
   "cell_type": "markdown",
   "source": [
    "# full"
   ],
   "metadata": {
    "collapsed": false
   }
  },
  {
   "cell_type": "code",
   "execution_count": 3,
   "outputs": [
    {
     "data": {
      "text/plain": "   user_id          region_name  region_count city_name  city_count  \\\n0        0               Москва             1    Москва           1   \n1        1               Москва             3    Москва           6   \n2        2      Республика Коми             1    Печора           1   \n3        3  Воронежская область             1   Воронеж           1   \n4        4   Краснодарский край             5     Анапа           9   \n\n           cpe_manufacturer_name cpe_type_cd    price  holyday_fraction  \\\n0                        Samsung  smartphone   2990.0          0.243523   \n1                         Xiaomi  smartphone      NaN          0.200573   \n2                         Huawei  smartphone   5915.0          0.299270   \n3  Huawei Device Company Limited  smartphone  13990.0          0.181818   \n4                         Huawei  smartphone  12990.0          0.326898   \n\n   morning_fraction  ...  megapteka-ru.turbopages.org  127.0.0.1  \\\n0             0.119  ...                          0.0        0.0   \n1             0.323  ...                          0.0        0.0   \n2             0.187  ...                          0.0        0.0   \n3             0.178  ...                          0.0        0.0   \n4             0.372  ...                          0.0        0.0   \n\n   bukvaprava.ru  belnovosti-by.turbopages.org  ngs24-ru.turbopages.org  \\\n0            0.0                           0.0                      0.0   \n1            0.0                           0.0                      0.0   \n2            0.0                           0.0                      0.0   \n3            0.0                           0.0                      0.0   \n4            0.0                           0.0                      0.0   \n\n   forum.mfd.ru  yomed.ru  7info.ru  other_url  age  \n0           0.0       0.0       0.0   0.031088    1  \n1           0.0       0.0       0.0   0.013372    2  \n2           0.0       0.0       0.0   0.002433    0  \n3           0.0       0.0       0.0   0.010909    3  \n4           0.0       0.0       0.0   0.011583    1  \n\n[5 rows x 3014 columns]",
      "text/html": "<div>\n<style scoped>\n    .dataframe tbody tr th:only-of-type {\n        vertical-align: middle;\n    }\n\n    .dataframe tbody tr th {\n        vertical-align: top;\n    }\n\n    .dataframe thead th {\n        text-align: right;\n    }\n</style>\n<table border=\"1\" class=\"dataframe\">\n  <thead>\n    <tr style=\"text-align: right;\">\n      <th></th>\n      <th>user_id</th>\n      <th>region_name</th>\n      <th>region_count</th>\n      <th>city_name</th>\n      <th>city_count</th>\n      <th>cpe_manufacturer_name</th>\n      <th>cpe_type_cd</th>\n      <th>price</th>\n      <th>holyday_fraction</th>\n      <th>morning_fraction</th>\n      <th>...</th>\n      <th>megapteka-ru.turbopages.org</th>\n      <th>127.0.0.1</th>\n      <th>bukvaprava.ru</th>\n      <th>belnovosti-by.turbopages.org</th>\n      <th>ngs24-ru.turbopages.org</th>\n      <th>forum.mfd.ru</th>\n      <th>yomed.ru</th>\n      <th>7info.ru</th>\n      <th>other_url</th>\n      <th>age</th>\n    </tr>\n  </thead>\n  <tbody>\n    <tr>\n      <th>0</th>\n      <td>0</td>\n      <td>Москва</td>\n      <td>1</td>\n      <td>Москва</td>\n      <td>1</td>\n      <td>Samsung</td>\n      <td>smartphone</td>\n      <td>2990.0</td>\n      <td>0.243523</td>\n      <td>0.119</td>\n      <td>...</td>\n      <td>0.0</td>\n      <td>0.0</td>\n      <td>0.0</td>\n      <td>0.0</td>\n      <td>0.0</td>\n      <td>0.0</td>\n      <td>0.0</td>\n      <td>0.0</td>\n      <td>0.031088</td>\n      <td>1</td>\n    </tr>\n    <tr>\n      <th>1</th>\n      <td>1</td>\n      <td>Москва</td>\n      <td>3</td>\n      <td>Москва</td>\n      <td>6</td>\n      <td>Xiaomi</td>\n      <td>smartphone</td>\n      <td>NaN</td>\n      <td>0.200573</td>\n      <td>0.323</td>\n      <td>...</td>\n      <td>0.0</td>\n      <td>0.0</td>\n      <td>0.0</td>\n      <td>0.0</td>\n      <td>0.0</td>\n      <td>0.0</td>\n      <td>0.0</td>\n      <td>0.0</td>\n      <td>0.013372</td>\n      <td>2</td>\n    </tr>\n    <tr>\n      <th>2</th>\n      <td>2</td>\n      <td>Республика Коми</td>\n      <td>1</td>\n      <td>Печора</td>\n      <td>1</td>\n      <td>Huawei</td>\n      <td>smartphone</td>\n      <td>5915.0</td>\n      <td>0.299270</td>\n      <td>0.187</td>\n      <td>...</td>\n      <td>0.0</td>\n      <td>0.0</td>\n      <td>0.0</td>\n      <td>0.0</td>\n      <td>0.0</td>\n      <td>0.0</td>\n      <td>0.0</td>\n      <td>0.0</td>\n      <td>0.002433</td>\n      <td>0</td>\n    </tr>\n    <tr>\n      <th>3</th>\n      <td>3</td>\n      <td>Воронежская область</td>\n      <td>1</td>\n      <td>Воронеж</td>\n      <td>1</td>\n      <td>Huawei Device Company Limited</td>\n      <td>smartphone</td>\n      <td>13990.0</td>\n      <td>0.181818</td>\n      <td>0.178</td>\n      <td>...</td>\n      <td>0.0</td>\n      <td>0.0</td>\n      <td>0.0</td>\n      <td>0.0</td>\n      <td>0.0</td>\n      <td>0.0</td>\n      <td>0.0</td>\n      <td>0.0</td>\n      <td>0.010909</td>\n      <td>3</td>\n    </tr>\n    <tr>\n      <th>4</th>\n      <td>4</td>\n      <td>Краснодарский край</td>\n      <td>5</td>\n      <td>Анапа</td>\n      <td>9</td>\n      <td>Huawei</td>\n      <td>smartphone</td>\n      <td>12990.0</td>\n      <td>0.326898</td>\n      <td>0.372</td>\n      <td>...</td>\n      <td>0.0</td>\n      <td>0.0</td>\n      <td>0.0</td>\n      <td>0.0</td>\n      <td>0.0</td>\n      <td>0.0</td>\n      <td>0.0</td>\n      <td>0.0</td>\n      <td>0.011583</td>\n      <td>1</td>\n    </tr>\n  </tbody>\n</table>\n<p>5 rows × 3014 columns</p>\n</div>"
     },
     "metadata": {},
     "output_type": "display_data"
    },
    {
     "name": "stdout",
     "output_type": "stream",
     "text": [
      "<class 'pandas.core.frame.DataFrame'>\n",
      "Int64Index: 269999 entries, 0 to 269999\n",
      "Columns: 3014 entries, user_id to age\n",
      "dtypes: float32(3006), int32(1), int64(1), int8(2), object(4)\n",
      "memory usage: 3.0+ GB\n"
     ]
    },
    {
     "data": {
      "text/plain": "None"
     },
     "metadata": {},
     "output_type": "display_data"
    }
   ],
   "source": [
    "df = dd.read_parquet('..\\\\full_data\\\\figma_plan\\\\full_gender_data_txt.parquet').compute()\n",
    "\n",
    "#берем нужные\n",
    "df = df.loc[:,df.columns[:-3].to_list()]\n",
    "\n",
    "# добавляем target, удаляем nan\n",
    "df = df.merge(pd.read_parquet('..\\\\full_data\\\\public_train.pqt',columns=['user_id','age'])[['age','user_id']], on = 'user_id', how = 'inner')\n",
    "df = df.loc[~(df['age'].isna()) & (df['age'] != 'NA')]\n",
    "df['age'] = df['age'].astype('int8')\n",
    "\n",
    "def age_bucket(x):\n",
    "    return bisect.bisect_left([25,35,45,55,65], x)\n",
    "df['age'] = df['age'].map(age_bucket)\n",
    "\n",
    "display(df.head())\n",
    "display(df.info())"
   ],
   "metadata": {
    "collapsed": false
   }
  },
  {
   "cell_type": "code",
   "execution_count": 4,
   "outputs": [
    {
     "data": {
      "text/plain": "6949"
     },
     "metadata": {},
     "output_type": "display_data"
    },
    {
     "data": {
      "text/plain": "221"
     },
     "metadata": {},
     "output_type": "display_data"
    }
   ],
   "source": [
    "display(df.isna().sum().sum())\n",
    "for name in df['cpe_manufacturer_name'].unique():\n",
    "    df.loc[(df['cpe_manufacturer_name']==name)&(df['price'].isna()),'price'] = \\\n",
    "        df.loc[(df['cpe_manufacturer_name']==name)&(~df['price'].isna()),'price'].median()\n",
    "df.loc[df['price']<1000,'price'] = 1000\n",
    "display(df.isna().sum().sum())"
   ],
   "metadata": {
    "collapsed": false
   }
  },
  {
   "cell_type": "code",
   "execution_count": 5,
   "outputs": [
    {
     "name": "stdout",
     "output_type": "stream",
     "text": [
      "Learning rate set to 0.203367\n",
      "0:\tlearn: 1.6626736\ttotal: 380ms\tremaining: 6m 20s\n",
      "100:\tlearn: 1.2560147\ttotal: 17.1s\tremaining: 2m 31s\n",
      "200:\tlearn: 1.2239644\ttotal: 32.1s\tremaining: 2m 7s\n",
      "300:\tlearn: 1.2041472\ttotal: 47.7s\tremaining: 1m 50s\n",
      "400:\tlearn: 1.1879346\ttotal: 1m 2s\tremaining: 1m 32s\n",
      "500:\tlearn: 1.1750685\ttotal: 1m 16s\tremaining: 1m 15s\n",
      "600:\tlearn: 1.1644510\ttotal: 1m 30s\tremaining: 59.8s\n",
      "700:\tlearn: 1.1540671\ttotal: 1m 44s\tremaining: 44.4s\n",
      "800:\tlearn: 1.1448172\ttotal: 1m 58s\tremaining: 29.3s\n",
      "900:\tlearn: 1.1361966\ttotal: 2m 12s\tremaining: 14.5s\n",
      "999:\tlearn: 1.1278655\ttotal: 2m 25s\tremaining: 0us\n",
      "              precision    recall  f1-score   support\n",
      "\n",
      "       18-25       0.65      0.46      0.54     33718\n",
      "       25-34       0.57      0.70      0.63     87270\n",
      "       35-44       0.49      0.61      0.54     77486\n",
      "       45-54       0.51      0.35      0.41     42442\n",
      "       55-65       0.54      0.32      0.40     23580\n",
      "         65+       0.77      0.08      0.14      5503\n",
      "\n",
      "    accuracy                           0.54    269999\n",
      "   macro avg       0.59      0.42      0.44    269999\n",
      "weighted avg       0.55      0.54      0.53    269999\n",
      "\n"
     ]
    }
   ],
   "source": [
    "x_train = df.drop(['age','user_id'],axis=1)\n",
    "y_train = df['age']\n",
    "\n",
    "pool_train = Pool(x_train, y_train,\n",
    "                  cat_features = list(x_train.select_dtypes(include=['object']).columns))\n",
    "\n",
    "model = CatBoostClassifier(random_state=42,\n",
    "                           task_type='GPU')\n",
    "model.fit(pool_train, verbose=100)\n",
    "\n",
    "print(classification_report(y_train, model.predict(x_train), \\\n",
    "                            target_names = ['18-25','25-34', '35-44', '45-54', '55-65', '65+']))"
   ],
   "metadata": {
    "collapsed": false
   }
  },
  {
   "cell_type": "markdown",
   "source": [
    "## test"
   ],
   "metadata": {
    "collapsed": false
   }
  },
  {
   "cell_type": "code",
   "execution_count": 6,
   "outputs": [
    {
     "data": {
      "text/plain": "   user_id          region_name  region_count city_name  city_count  \\\n0        0               Москва             1    Москва           1   \n1        1               Москва             3    Москва           6   \n2        2      Республика Коми             1    Печора           1   \n3        3  Воронежская область             1   Воронеж           1   \n4        4   Краснодарский край             5     Анапа           9   \n\n           cpe_manufacturer_name cpe_type_cd    price  holyday_fraction  \\\n0                        Samsung  smartphone   2990.0          0.243523   \n1                         Xiaomi  smartphone      NaN          0.200573   \n2                         Huawei  smartphone   5915.0          0.299270   \n3  Huawei Device Company Limited  smartphone  13990.0          0.181818   \n4                         Huawei  smartphone  12990.0          0.326898   \n\n   morning_fraction  ...  psy-magic.org  megapteka-ru.turbopages.org  \\\n0             0.119  ...            0.0                          0.0   \n1             0.323  ...            0.0                          0.0   \n2             0.187  ...            0.0                          0.0   \n3             0.178  ...            0.0                          0.0   \n4             0.372  ...            0.0                          0.0   \n\n   127.0.0.1  bukvaprava.ru  belnovosti-by.turbopages.org  \\\n0        0.0            0.0                           0.0   \n1        0.0            0.0                           0.0   \n2        0.0            0.0                           0.0   \n3        0.0            0.0                           0.0   \n4        0.0            0.0                           0.0   \n\n   ngs24-ru.turbopages.org  forum.mfd.ru  yomed.ru  7info.ru  other_url  \n0                      0.0           0.0       0.0       0.0   0.031088  \n1                      0.0           0.0       0.0       0.0   0.013372  \n2                      0.0           0.0       0.0       0.0   0.002433  \n3                      0.0           0.0       0.0       0.0   0.010909  \n4                      0.0           0.0       0.0       0.0   0.011583  \n\n[5 rows x 3013 columns]",
      "text/html": "<div>\n<style scoped>\n    .dataframe tbody tr th:only-of-type {\n        vertical-align: middle;\n    }\n\n    .dataframe tbody tr th {\n        vertical-align: top;\n    }\n\n    .dataframe thead th {\n        text-align: right;\n    }\n</style>\n<table border=\"1\" class=\"dataframe\">\n  <thead>\n    <tr style=\"text-align: right;\">\n      <th></th>\n      <th>user_id</th>\n      <th>region_name</th>\n      <th>region_count</th>\n      <th>city_name</th>\n      <th>city_count</th>\n      <th>cpe_manufacturer_name</th>\n      <th>cpe_type_cd</th>\n      <th>price</th>\n      <th>holyday_fraction</th>\n      <th>morning_fraction</th>\n      <th>...</th>\n      <th>psy-magic.org</th>\n      <th>megapteka-ru.turbopages.org</th>\n      <th>127.0.0.1</th>\n      <th>bukvaprava.ru</th>\n      <th>belnovosti-by.turbopages.org</th>\n      <th>ngs24-ru.turbopages.org</th>\n      <th>forum.mfd.ru</th>\n      <th>yomed.ru</th>\n      <th>7info.ru</th>\n      <th>other_url</th>\n    </tr>\n  </thead>\n  <tbody>\n    <tr>\n      <th>0</th>\n      <td>0</td>\n      <td>Москва</td>\n      <td>1</td>\n      <td>Москва</td>\n      <td>1</td>\n      <td>Samsung</td>\n      <td>smartphone</td>\n      <td>2990.0</td>\n      <td>0.243523</td>\n      <td>0.119</td>\n      <td>...</td>\n      <td>0.0</td>\n      <td>0.0</td>\n      <td>0.0</td>\n      <td>0.0</td>\n      <td>0.0</td>\n      <td>0.0</td>\n      <td>0.0</td>\n      <td>0.0</td>\n      <td>0.0</td>\n      <td>0.031088</td>\n    </tr>\n    <tr>\n      <th>1</th>\n      <td>1</td>\n      <td>Москва</td>\n      <td>3</td>\n      <td>Москва</td>\n      <td>6</td>\n      <td>Xiaomi</td>\n      <td>smartphone</td>\n      <td>NaN</td>\n      <td>0.200573</td>\n      <td>0.323</td>\n      <td>...</td>\n      <td>0.0</td>\n      <td>0.0</td>\n      <td>0.0</td>\n      <td>0.0</td>\n      <td>0.0</td>\n      <td>0.0</td>\n      <td>0.0</td>\n      <td>0.0</td>\n      <td>0.0</td>\n      <td>0.013372</td>\n    </tr>\n    <tr>\n      <th>2</th>\n      <td>2</td>\n      <td>Республика Коми</td>\n      <td>1</td>\n      <td>Печора</td>\n      <td>1</td>\n      <td>Huawei</td>\n      <td>smartphone</td>\n      <td>5915.0</td>\n      <td>0.299270</td>\n      <td>0.187</td>\n      <td>...</td>\n      <td>0.0</td>\n      <td>0.0</td>\n      <td>0.0</td>\n      <td>0.0</td>\n      <td>0.0</td>\n      <td>0.0</td>\n      <td>0.0</td>\n      <td>0.0</td>\n      <td>0.0</td>\n      <td>0.002433</td>\n    </tr>\n    <tr>\n      <th>3</th>\n      <td>3</td>\n      <td>Воронежская область</td>\n      <td>1</td>\n      <td>Воронеж</td>\n      <td>1</td>\n      <td>Huawei Device Company Limited</td>\n      <td>smartphone</td>\n      <td>13990.0</td>\n      <td>0.181818</td>\n      <td>0.178</td>\n      <td>...</td>\n      <td>0.0</td>\n      <td>0.0</td>\n      <td>0.0</td>\n      <td>0.0</td>\n      <td>0.0</td>\n      <td>0.0</td>\n      <td>0.0</td>\n      <td>0.0</td>\n      <td>0.0</td>\n      <td>0.010909</td>\n    </tr>\n    <tr>\n      <th>4</th>\n      <td>4</td>\n      <td>Краснодарский край</td>\n      <td>5</td>\n      <td>Анапа</td>\n      <td>9</td>\n      <td>Huawei</td>\n      <td>smartphone</td>\n      <td>12990.0</td>\n      <td>0.326898</td>\n      <td>0.372</td>\n      <td>...</td>\n      <td>0.0</td>\n      <td>0.0</td>\n      <td>0.0</td>\n      <td>0.0</td>\n      <td>0.0</td>\n      <td>0.0</td>\n      <td>0.0</td>\n      <td>0.0</td>\n      <td>0.0</td>\n      <td>0.011583</td>\n    </tr>\n  </tbody>\n</table>\n<p>5 rows × 3013 columns</p>\n</div>"
     },
     "metadata": {},
     "output_type": "display_data"
    },
    {
     "name": "stdout",
     "output_type": "stream",
     "text": [
      "<class 'pandas.core.frame.DataFrame'>\n",
      "RangeIndex: 415317 entries, 0 to 415316\n",
      "Columns: 3013 entries, user_id to other_url\n",
      "dtypes: float32(3006), int32(1), int8(2), object(4)\n",
      "memory usage: 4.7+ GB\n"
     ]
    },
    {
     "data": {
      "text/plain": "None"
     },
     "metadata": {},
     "output_type": "display_data"
    }
   ],
   "source": [
    "df = dd.read_parquet('..\\\\full_data\\\\figma_plan\\\\full_gender_data_txt.parquet').compute()\n",
    "\n",
    "#берем нужные\n",
    "df = df.loc[:,df.columns[:-3].to_list()]\n",
    "\n",
    "# добавляем target, удаляем nan\n",
    "submit = dd.read_parquet('..\\\\full_data\\\\submit_2.pqt').compute()\n",
    "submit = submit.sort_values('user_id', ignore_index=True)\n",
    "test_df = submit.merge(df, on='user_id',how ='left')\n",
    "\n",
    "display(df.head())\n",
    "display(df.info())"
   ],
   "metadata": {
    "collapsed": false
   }
  },
  {
   "cell_type": "code",
   "execution_count": 7,
   "outputs": [
    {
     "data": {
      "text/plain": "3801"
     },
     "metadata": {},
     "output_type": "display_data"
    },
    {
     "data": {
      "text/plain": "105"
     },
     "metadata": {},
     "output_type": "display_data"
    }
   ],
   "source": [
    "display(test_df.isna().sum().sum())\n",
    "for name in df['cpe_manufacturer_name'].unique():\n",
    "    test_df.loc[(test_df['cpe_manufacturer_name']==name)&(test_df['price'].isna()),'price'] = \\\n",
    "        df.loc[(df['cpe_manufacturer_name']==name)&(~df['price'].isna()),'price'].median()\n",
    "test_df.loc[test_df['price']<1000,'price'] = 1000\n",
    "display(test_df.isna().sum().sum())"
   ],
   "metadata": {
    "collapsed": false
   }
  },
  {
   "cell_type": "code",
   "execution_count": 10,
   "outputs": [],
   "source": [
    "submit['age'] = model.predict(test_df.drop('user_id',axis=1))\n",
    "submit['is_male'] = pd.Series(data=-1,index=submit.index)"
   ],
   "metadata": {
    "collapsed": false
   }
  },
  {
   "cell_type": "code",
   "execution_count": 12,
   "outputs": [],
   "source": [
    "submit.to_csv('prediction.csv', index=False)"
   ],
   "metadata": {
    "collapsed": false
   }
  }
 ],
 "metadata": {
  "kernelspec": {
   "display_name": "Python 3 (ipykernel)",
   "language": "python",
   "name": "python3"
  },
  "language_info": {
   "codemirror_mode": {
    "name": "ipython",
    "version": 3
   },
   "file_extension": ".py",
   "mimetype": "text/x-python",
   "name": "python",
   "nbconvert_exporter": "python",
   "pygments_lexer": "ipython3",
   "version": "3.8.10"
  }
 },
 "nbformat": 4,
 "nbformat_minor": 1
}
