{
 "cells": [
  {
   "cell_type": "code",
   "execution_count": 1,
   "metadata": {},
   "outputs": [],
   "source": [
    "import bisect\n",
    "\n",
    "import pandas as pd\n",
    "import numpy as np\n",
    "import dask.dataframe as dd\n",
    "import pycaret.classification as pc\n",
    "\n",
    "from catboost import CatBoostClassifier, Pool, EShapCalcType, EFeaturesSelectionAlgorithm, cv\n",
    "from sklearn.metrics import roc_auc_score, classification_report\n",
    "from sklearn.model_selection import train_test_split, StratifiedKFold"
   ]
  },
  {
   "cell_type": "markdown",
   "source": [
    "# full"
   ],
   "metadata": {
    "collapsed": false
   }
  },
  {
   "cell_type": "code",
   "execution_count": 15,
   "outputs": [
    {
     "data": {
      "text/plain": "   user_id  googleads.g.doubleclick.net  yandex.ru  i.ytimg.com    vk.com  \\\n0        0                     0.196891   0.031088     0.025907  0.041451   \n1        1                     0.072588   0.112703     0.040115  0.023878   \n2        2                     0.092457   0.046229     0.126521  0.141119   \n3        3                     0.021818   0.061818     0.007273  0.178182   \n4        4                     0.061776   0.030888     0.048906  0.083655   \n\n   avatars.mds.yandex.net  ad.mail.ru  yastatic.net  apple.com  instagram.com  \\\n0                0.046632    0.031088      0.051813        0.0       0.000000   \n1                0.104107    0.034384      0.081184        0.0       0.000000   \n2                0.072993    0.038929      0.046229        0.0       0.000000   \n3                0.094545    0.080000      0.069091        0.0       0.000000   \n4                0.046332    0.061776      0.045045        0.0       0.003861   \n\n   ...  bask_3cpe_type_cd  bask_4cpe_type_cd  bask_5cpe_type_cd  \\\n0  ...           0.136947           0.069146           0.013774   \n1  ...           0.136947           0.069146           0.013774   \n2  ...           0.136947           0.069146           0.013774   \n3  ...           0.136947           0.069146           0.013774   \n4  ...           0.136947           0.069146           0.013774   \n\n   bask_0url_host  bask_1url_host  bask_2url_host  bask_3url_host  \\\n0        0.134186        0.342372        0.281677        0.149741   \n1        0.130193        0.341496        0.284690        0.151575   \n2        0.144648        0.349024        0.276713        0.143092   \n3        0.148331        0.353465        0.277041        0.139772   \n4        0.145739        0.350527        0.276666        0.142050   \n\n   bask_4url_host  bask_5url_host  age  \n0        0.076944        0.015080    1  \n1        0.077067        0.014979    2  \n2        0.072281        0.014242    0  \n3        0.068262        0.013129    3  \n4        0.070993        0.014025    1  \n\n[5 rows x 3015 columns]",
      "text/html": "<div>\n<style scoped>\n    .dataframe tbody tr th:only-of-type {\n        vertical-align: middle;\n    }\n\n    .dataframe tbody tr th {\n        vertical-align: top;\n    }\n\n    .dataframe thead th {\n        text-align: right;\n    }\n</style>\n<table border=\"1\" class=\"dataframe\">\n  <thead>\n    <tr style=\"text-align: right;\">\n      <th></th>\n      <th>user_id</th>\n      <th>googleads.g.doubleclick.net</th>\n      <th>yandex.ru</th>\n      <th>i.ytimg.com</th>\n      <th>vk.com</th>\n      <th>avatars.mds.yandex.net</th>\n      <th>ad.mail.ru</th>\n      <th>yastatic.net</th>\n      <th>apple.com</th>\n      <th>instagram.com</th>\n      <th>...</th>\n      <th>bask_3cpe_type_cd</th>\n      <th>bask_4cpe_type_cd</th>\n      <th>bask_5cpe_type_cd</th>\n      <th>bask_0url_host</th>\n      <th>bask_1url_host</th>\n      <th>bask_2url_host</th>\n      <th>bask_3url_host</th>\n      <th>bask_4url_host</th>\n      <th>bask_5url_host</th>\n      <th>age</th>\n    </tr>\n  </thead>\n  <tbody>\n    <tr>\n      <th>0</th>\n      <td>0</td>\n      <td>0.196891</td>\n      <td>0.031088</td>\n      <td>0.025907</td>\n      <td>0.041451</td>\n      <td>0.046632</td>\n      <td>0.031088</td>\n      <td>0.051813</td>\n      <td>0.0</td>\n      <td>0.000000</td>\n      <td>...</td>\n      <td>0.136947</td>\n      <td>0.069146</td>\n      <td>0.013774</td>\n      <td>0.134186</td>\n      <td>0.342372</td>\n      <td>0.281677</td>\n      <td>0.149741</td>\n      <td>0.076944</td>\n      <td>0.015080</td>\n      <td>1</td>\n    </tr>\n    <tr>\n      <th>1</th>\n      <td>1</td>\n      <td>0.072588</td>\n      <td>0.112703</td>\n      <td>0.040115</td>\n      <td>0.023878</td>\n      <td>0.104107</td>\n      <td>0.034384</td>\n      <td>0.081184</td>\n      <td>0.0</td>\n      <td>0.000000</td>\n      <td>...</td>\n      <td>0.136947</td>\n      <td>0.069146</td>\n      <td>0.013774</td>\n      <td>0.130193</td>\n      <td>0.341496</td>\n      <td>0.284690</td>\n      <td>0.151575</td>\n      <td>0.077067</td>\n      <td>0.014979</td>\n      <td>2</td>\n    </tr>\n    <tr>\n      <th>2</th>\n      <td>2</td>\n      <td>0.092457</td>\n      <td>0.046229</td>\n      <td>0.126521</td>\n      <td>0.141119</td>\n      <td>0.072993</td>\n      <td>0.038929</td>\n      <td>0.046229</td>\n      <td>0.0</td>\n      <td>0.000000</td>\n      <td>...</td>\n      <td>0.136947</td>\n      <td>0.069146</td>\n      <td>0.013774</td>\n      <td>0.144648</td>\n      <td>0.349024</td>\n      <td>0.276713</td>\n      <td>0.143092</td>\n      <td>0.072281</td>\n      <td>0.014242</td>\n      <td>0</td>\n    </tr>\n    <tr>\n      <th>3</th>\n      <td>3</td>\n      <td>0.021818</td>\n      <td>0.061818</td>\n      <td>0.007273</td>\n      <td>0.178182</td>\n      <td>0.094545</td>\n      <td>0.080000</td>\n      <td>0.069091</td>\n      <td>0.0</td>\n      <td>0.000000</td>\n      <td>...</td>\n      <td>0.136947</td>\n      <td>0.069146</td>\n      <td>0.013774</td>\n      <td>0.148331</td>\n      <td>0.353465</td>\n      <td>0.277041</td>\n      <td>0.139772</td>\n      <td>0.068262</td>\n      <td>0.013129</td>\n      <td>3</td>\n    </tr>\n    <tr>\n      <th>4</th>\n      <td>4</td>\n      <td>0.061776</td>\n      <td>0.030888</td>\n      <td>0.048906</td>\n      <td>0.083655</td>\n      <td>0.046332</td>\n      <td>0.061776</td>\n      <td>0.045045</td>\n      <td>0.0</td>\n      <td>0.003861</td>\n      <td>...</td>\n      <td>0.136947</td>\n      <td>0.069146</td>\n      <td>0.013774</td>\n      <td>0.145739</td>\n      <td>0.350527</td>\n      <td>0.276666</td>\n      <td>0.142050</td>\n      <td>0.070993</td>\n      <td>0.014025</td>\n      <td>1</td>\n    </tr>\n  </tbody>\n</table>\n<p>5 rows × 3015 columns</p>\n</div>"
     },
     "metadata": {},
     "output_type": "display_data"
    },
    {
     "name": "stdout",
     "output_type": "stream",
     "text": [
      "<class 'pandas.core.frame.DataFrame'>\n",
      "Int64Index: 269999 entries, 0 to 269998\n",
      "Columns: 3015 entries, user_id to age\n",
      "dtypes: float32(3001), float64(12), int32(1), int64(1)\n",
      "memory usage: 3.0 GB\n"
     ]
    },
    {
     "data": {
      "text/plain": "None"
     },
     "metadata": {},
     "output_type": "display_data"
    }
   ],
   "source": [
    "#df = dd.read_parquet('..\\\\full_data\\\\figma_gender\\\\full_gender_data.parquet').compute()\n",
    "df = dd.read_parquet('..\\\\full_data\\\\figma_age\\\\full_age_data.parquet').compute()\n",
    "#берем нужные\n",
    "df = df.loc[:,['user_id']+df.columns[12:-6].to_list()]\n",
    "\n",
    "# добавляем target, удаляем nan\n",
    "df = df.merge(pd.read_parquet('..\\\\full_data\\\\public_train.pqt',columns=['user_id','age'])[['age','user_id']], on = 'user_id', how = 'inner')\n",
    "df = df.loc[~(df['age'].isna()) & (df['age'] != 'NA')]\n",
    "df['age'] = df['age'].astype('int8')\n",
    "\n",
    "def age_bucket(x):\n",
    "    return bisect.bisect_left([25,35,45,55,65], x)\n",
    "df['age'] = df['age'].map(age_bucket)\n",
    "\n",
    "display(df.head())\n",
    "display(df.info())"
   ],
   "metadata": {
    "collapsed": false
   }
  },
  {
   "cell_type": "code",
   "execution_count": 16,
   "outputs": [
    {
     "data": {
      "text/plain": "        user_id  googleads.g.doubleclick.net  yandex.ru  i.ytimg.com  \\\n0             0                     0.196891   0.031088     0.025907   \n1             1                     0.072588   0.112703     0.040115   \n2             2                     0.092457   0.046229     0.126521   \n3             3                     0.021818   0.061818     0.007273   \n4             4                     0.061776   0.030888     0.048906   \n...         ...                          ...        ...          ...   \n269994   415308                     0.000000   1.000000     0.000000   \n269995   415309                     0.000000   1.000000     0.000000   \n269996   415311                     0.000000   0.000000     0.000000   \n269997   415312                     1.000000   0.000000     0.000000   \n269998   415313                     0.000000   0.000000     0.000000   \n\n          vk.com  avatars.mds.yandex.net  ad.mail.ru  yastatic.net  apple.com  \\\n0       0.041451                0.046632    0.031088      0.051813        0.0   \n1       0.023878                0.104107    0.034384      0.081184        0.0   \n2       0.141119                0.072993    0.038929      0.046229        0.0   \n3       0.178182                0.094545    0.080000      0.069091        0.0   \n4       0.083655                0.046332    0.061776      0.045045        0.0   \n...          ...                     ...         ...           ...        ...   \n269994  0.000000                0.000000    0.000000      0.000000        0.0   \n269995  0.000000                0.000000    0.000000      0.000000        0.0   \n269996  0.000000                0.000000    0.000000      0.000000        0.0   \n269997  0.000000                0.000000    0.000000      0.000000        0.0   \n269998  0.000000                1.000000    0.000000      0.000000        0.0   \n\n        instagram.com  ...  bask_3cpe_type_cd  bask_4cpe_type_cd  \\\n0            0.000000  ...           0.136947           0.069146   \n1            0.000000  ...           0.136947           0.069146   \n2            0.000000  ...           0.136947           0.069146   \n3            0.000000  ...           0.136947           0.069146   \n4            0.003861  ...           0.136947           0.069146   \n...               ...  ...                ...                ...   \n269994       0.000000  ...           0.136947           0.069146   \n269995       0.000000  ...           0.136947           0.069146   \n269996       0.000000  ...           0.136947           0.069146   \n269997       0.000000  ...           0.136947           0.069146   \n269998       0.000000  ...           0.136947           0.069146   \n\n        bask_5cpe_type_cd  bask_0url_host  bask_1url_host  bask_2url_host  \\\n0                0.013774        0.134186        0.342372        0.281677   \n1                0.013774        0.130193        0.341496        0.284690   \n2                0.013774        0.144648        0.349024        0.276713   \n3                0.013774        0.148331        0.353465        0.277041   \n4                0.013774        0.145739        0.350527        0.276666   \n...                   ...             ...             ...             ...   \n269994           0.013774        0.107228        0.325776        0.297336   \n269995           0.013774        0.107228        0.325776        0.297336   \n269996           0.013774        0.157811        0.343646        0.280284   \n269997           0.013774        0.129522        0.336409        0.281654   \n269998           0.013774        0.132833        0.349099        0.282711   \n\n        bask_3url_host  bask_4url_host  bask_5url_host  age  \n0             0.149741        0.076944        0.015080    1  \n1             0.151575        0.077067        0.014979    2  \n2             0.143092        0.072281        0.014242    0  \n3             0.139772        0.068262        0.013129    3  \n4             0.142050        0.070993        0.014025    1  \n...                ...             ...             ...  ...  \n269994        0.165610        0.087173        0.016877    3  \n269995        0.165610        0.087173        0.016877    1  \n269996        0.128500        0.069439        0.020320    2  \n269997        0.154609        0.081594        0.016212    2  \n269998        0.147706        0.073605        0.014045    4  \n\n[269999 rows x 3015 columns]",
      "text/html": "<div>\n<style scoped>\n    .dataframe tbody tr th:only-of-type {\n        vertical-align: middle;\n    }\n\n    .dataframe tbody tr th {\n        vertical-align: top;\n    }\n\n    .dataframe thead th {\n        text-align: right;\n    }\n</style>\n<table border=\"1\" class=\"dataframe\">\n  <thead>\n    <tr style=\"text-align: right;\">\n      <th></th>\n      <th>user_id</th>\n      <th>googleads.g.doubleclick.net</th>\n      <th>yandex.ru</th>\n      <th>i.ytimg.com</th>\n      <th>vk.com</th>\n      <th>avatars.mds.yandex.net</th>\n      <th>ad.mail.ru</th>\n      <th>yastatic.net</th>\n      <th>apple.com</th>\n      <th>instagram.com</th>\n      <th>...</th>\n      <th>bask_3cpe_type_cd</th>\n      <th>bask_4cpe_type_cd</th>\n      <th>bask_5cpe_type_cd</th>\n      <th>bask_0url_host</th>\n      <th>bask_1url_host</th>\n      <th>bask_2url_host</th>\n      <th>bask_3url_host</th>\n      <th>bask_4url_host</th>\n      <th>bask_5url_host</th>\n      <th>age</th>\n    </tr>\n  </thead>\n  <tbody>\n    <tr>\n      <th>0</th>\n      <td>0</td>\n      <td>0.196891</td>\n      <td>0.031088</td>\n      <td>0.025907</td>\n      <td>0.041451</td>\n      <td>0.046632</td>\n      <td>0.031088</td>\n      <td>0.051813</td>\n      <td>0.0</td>\n      <td>0.000000</td>\n      <td>...</td>\n      <td>0.136947</td>\n      <td>0.069146</td>\n      <td>0.013774</td>\n      <td>0.134186</td>\n      <td>0.342372</td>\n      <td>0.281677</td>\n      <td>0.149741</td>\n      <td>0.076944</td>\n      <td>0.015080</td>\n      <td>1</td>\n    </tr>\n    <tr>\n      <th>1</th>\n      <td>1</td>\n      <td>0.072588</td>\n      <td>0.112703</td>\n      <td>0.040115</td>\n      <td>0.023878</td>\n      <td>0.104107</td>\n      <td>0.034384</td>\n      <td>0.081184</td>\n      <td>0.0</td>\n      <td>0.000000</td>\n      <td>...</td>\n      <td>0.136947</td>\n      <td>0.069146</td>\n      <td>0.013774</td>\n      <td>0.130193</td>\n      <td>0.341496</td>\n      <td>0.284690</td>\n      <td>0.151575</td>\n      <td>0.077067</td>\n      <td>0.014979</td>\n      <td>2</td>\n    </tr>\n    <tr>\n      <th>2</th>\n      <td>2</td>\n      <td>0.092457</td>\n      <td>0.046229</td>\n      <td>0.126521</td>\n      <td>0.141119</td>\n      <td>0.072993</td>\n      <td>0.038929</td>\n      <td>0.046229</td>\n      <td>0.0</td>\n      <td>0.000000</td>\n      <td>...</td>\n      <td>0.136947</td>\n      <td>0.069146</td>\n      <td>0.013774</td>\n      <td>0.144648</td>\n      <td>0.349024</td>\n      <td>0.276713</td>\n      <td>0.143092</td>\n      <td>0.072281</td>\n      <td>0.014242</td>\n      <td>0</td>\n    </tr>\n    <tr>\n      <th>3</th>\n      <td>3</td>\n      <td>0.021818</td>\n      <td>0.061818</td>\n      <td>0.007273</td>\n      <td>0.178182</td>\n      <td>0.094545</td>\n      <td>0.080000</td>\n      <td>0.069091</td>\n      <td>0.0</td>\n      <td>0.000000</td>\n      <td>...</td>\n      <td>0.136947</td>\n      <td>0.069146</td>\n      <td>0.013774</td>\n      <td>0.148331</td>\n      <td>0.353465</td>\n      <td>0.277041</td>\n      <td>0.139772</td>\n      <td>0.068262</td>\n      <td>0.013129</td>\n      <td>3</td>\n    </tr>\n    <tr>\n      <th>4</th>\n      <td>4</td>\n      <td>0.061776</td>\n      <td>0.030888</td>\n      <td>0.048906</td>\n      <td>0.083655</td>\n      <td>0.046332</td>\n      <td>0.061776</td>\n      <td>0.045045</td>\n      <td>0.0</td>\n      <td>0.003861</td>\n      <td>...</td>\n      <td>0.136947</td>\n      <td>0.069146</td>\n      <td>0.013774</td>\n      <td>0.145739</td>\n      <td>0.350527</td>\n      <td>0.276666</td>\n      <td>0.142050</td>\n      <td>0.070993</td>\n      <td>0.014025</td>\n      <td>1</td>\n    </tr>\n    <tr>\n      <th>...</th>\n      <td>...</td>\n      <td>...</td>\n      <td>...</td>\n      <td>...</td>\n      <td>...</td>\n      <td>...</td>\n      <td>...</td>\n      <td>...</td>\n      <td>...</td>\n      <td>...</td>\n      <td>...</td>\n      <td>...</td>\n      <td>...</td>\n      <td>...</td>\n      <td>...</td>\n      <td>...</td>\n      <td>...</td>\n      <td>...</td>\n      <td>...</td>\n      <td>...</td>\n      <td>...</td>\n    </tr>\n    <tr>\n      <th>269994</th>\n      <td>415308</td>\n      <td>0.000000</td>\n      <td>1.000000</td>\n      <td>0.000000</td>\n      <td>0.000000</td>\n      <td>0.000000</td>\n      <td>0.000000</td>\n      <td>0.000000</td>\n      <td>0.0</td>\n      <td>0.000000</td>\n      <td>...</td>\n      <td>0.136947</td>\n      <td>0.069146</td>\n      <td>0.013774</td>\n      <td>0.107228</td>\n      <td>0.325776</td>\n      <td>0.297336</td>\n      <td>0.165610</td>\n      <td>0.087173</td>\n      <td>0.016877</td>\n      <td>3</td>\n    </tr>\n    <tr>\n      <th>269995</th>\n      <td>415309</td>\n      <td>0.000000</td>\n      <td>1.000000</td>\n      <td>0.000000</td>\n      <td>0.000000</td>\n      <td>0.000000</td>\n      <td>0.000000</td>\n      <td>0.000000</td>\n      <td>0.0</td>\n      <td>0.000000</td>\n      <td>...</td>\n      <td>0.136947</td>\n      <td>0.069146</td>\n      <td>0.013774</td>\n      <td>0.107228</td>\n      <td>0.325776</td>\n      <td>0.297336</td>\n      <td>0.165610</td>\n      <td>0.087173</td>\n      <td>0.016877</td>\n      <td>1</td>\n    </tr>\n    <tr>\n      <th>269996</th>\n      <td>415311</td>\n      <td>0.000000</td>\n      <td>0.000000</td>\n      <td>0.000000</td>\n      <td>0.000000</td>\n      <td>0.000000</td>\n      <td>0.000000</td>\n      <td>0.000000</td>\n      <td>0.0</td>\n      <td>0.000000</td>\n      <td>...</td>\n      <td>0.136947</td>\n      <td>0.069146</td>\n      <td>0.013774</td>\n      <td>0.157811</td>\n      <td>0.343646</td>\n      <td>0.280284</td>\n      <td>0.128500</td>\n      <td>0.069439</td>\n      <td>0.020320</td>\n      <td>2</td>\n    </tr>\n    <tr>\n      <th>269997</th>\n      <td>415312</td>\n      <td>1.000000</td>\n      <td>0.000000</td>\n      <td>0.000000</td>\n      <td>0.000000</td>\n      <td>0.000000</td>\n      <td>0.000000</td>\n      <td>0.000000</td>\n      <td>0.0</td>\n      <td>0.000000</td>\n      <td>...</td>\n      <td>0.136947</td>\n      <td>0.069146</td>\n      <td>0.013774</td>\n      <td>0.129522</td>\n      <td>0.336409</td>\n      <td>0.281654</td>\n      <td>0.154609</td>\n      <td>0.081594</td>\n      <td>0.016212</td>\n      <td>2</td>\n    </tr>\n    <tr>\n      <th>269998</th>\n      <td>415313</td>\n      <td>0.000000</td>\n      <td>0.000000</td>\n      <td>0.000000</td>\n      <td>0.000000</td>\n      <td>1.000000</td>\n      <td>0.000000</td>\n      <td>0.000000</td>\n      <td>0.0</td>\n      <td>0.000000</td>\n      <td>...</td>\n      <td>0.136947</td>\n      <td>0.069146</td>\n      <td>0.013774</td>\n      <td>0.132833</td>\n      <td>0.349099</td>\n      <td>0.282711</td>\n      <td>0.147706</td>\n      <td>0.073605</td>\n      <td>0.014045</td>\n      <td>4</td>\n    </tr>\n  </tbody>\n</table>\n<p>269999 rows × 3015 columns</p>\n</div>"
     },
     "execution_count": 16,
     "metadata": {},
     "output_type": "execute_result"
    }
   ],
   "source": [
    "df"
   ],
   "metadata": {
    "collapsed": false
   }
  },
  {
   "cell_type": "code",
   "execution_count": 4,
   "outputs": [
    {
     "data": {
      "text/plain": "6949"
     },
     "metadata": {},
     "output_type": "display_data"
    },
    {
     "data": {
      "text/plain": "221"
     },
     "metadata": {},
     "output_type": "display_data"
    }
   ],
   "source": [
    "display(df.isna().sum().sum())\n",
    "for name in df['cpe_manufacturer_name'].unique():\n",
    "    df.loc[(df['cpe_manufacturer_name']==name)&(df['price'].isna()),'price'] = \\\n",
    "        df.loc[(df['cpe_manufacturer_name']==name)&(~df['price'].isna()),'price'].median()\n",
    "df.loc[df['price']<1000,'price'] = 1000\n",
    "display(df.isna().sum().sum())"
   ],
   "metadata": {
    "collapsed": false
   }
  },
  {
   "cell_type": "code",
   "execution_count": 17,
   "outputs": [
    {
     "name": "stdout",
     "output_type": "stream",
     "text": [
      "Learning rate set to 0.203367\n",
      "0:\tlearn: 1.6656930\ttotal: 241ms\tremaining: 4m 1s\n",
      "100:\tlearn: 1.2629314\ttotal: 16.2s\tremaining: 2m 24s\n",
      "200:\tlearn: 1.2322306\ttotal: 30.4s\tremaining: 2m\n",
      "300:\tlearn: 1.2129979\ttotal: 44.4s\tremaining: 1m 43s\n",
      "400:\tlearn: 1.1976423\ttotal: 58.3s\tremaining: 1m 27s\n",
      "500:\tlearn: 1.1845253\ttotal: 1m 12s\tremaining: 1m 11s\n",
      "600:\tlearn: 1.1742968\ttotal: 1m 27s\tremaining: 57.9s\n",
      "700:\tlearn: 1.1645888\ttotal: 1m 40s\tremaining: 42.8s\n",
      "800:\tlearn: 1.1552675\ttotal: 1m 53s\tremaining: 28.3s\n",
      "900:\tlearn: 1.1471470\ttotal: 2m 7s\tremaining: 14s\n",
      "999:\tlearn: 1.1398305\ttotal: 2m 20s\tremaining: 0us\n",
      "              precision    recall  f1-score   support\n",
      "\n",
      "       18-25       0.64      0.46      0.53     33718\n",
      "       25-34       0.56      0.69      0.62     87270\n",
      "       35-44       0.48      0.60      0.54     77486\n",
      "       45-54       0.51      0.34      0.41     42442\n",
      "       55-65       0.54      0.31      0.40     23580\n",
      "         65+       0.76      0.07      0.13      5503\n",
      "\n",
      "    accuracy                           0.54    269999\n",
      "   macro avg       0.58      0.41      0.44    269999\n",
      "weighted avg       0.54      0.54      0.52    269999\n",
      "\n"
     ]
    }
   ],
   "source": [
    "x_train = df.drop(['age','user_id'],axis=1)\n",
    "y_train = df['age']\n",
    "\n",
    "pool_train = Pool(x_train, y_train,\n",
    "                  cat_features = list(x_train.select_dtypes(include=['object']).columns))\n",
    "\n",
    "model = CatBoostClassifier(random_state=42,\n",
    "                           task_type='GPU')\n",
    "model.fit(pool_train, verbose=100)\n",
    "\n",
    "print(classification_report(y_train, model.predict(x_train), \\\n",
    "                            target_names = ['18-25','25-34', '35-44', '45-54', '55-65', '65+']))"
   ],
   "metadata": {
    "collapsed": false
   }
  },
  {
   "cell_type": "markdown",
   "source": [
    "## test"
   ],
   "metadata": {
    "collapsed": false
   }
  },
  {
   "cell_type": "code",
   "execution_count": 19,
   "outputs": [
    {
     "data": {
      "text/plain": "   user_id  googleads.g.doubleclick.net  yandex.ru  i.ytimg.com    vk.com  \\\n0        0                     0.196891   0.031088     0.025907  0.041451   \n1        1                     0.072588   0.112703     0.040115  0.023878   \n2        2                     0.092457   0.046229     0.126521  0.141119   \n3        3                     0.021818   0.061818     0.007273  0.178182   \n4        4                     0.061776   0.030888     0.048906  0.083655   \n\n   avatars.mds.yandex.net  ad.mail.ru  yastatic.net  apple.com  instagram.com  \\\n0                0.046632    0.031088      0.051813        0.0       0.000000   \n1                0.104107    0.034384      0.081184        0.0       0.000000   \n2                0.072993    0.038929      0.046229        0.0       0.000000   \n3                0.094545    0.080000      0.069091        0.0       0.000000   \n4                0.046332    0.061776      0.045045        0.0       0.003861   \n\n   ...  bask_2cpe_type_cd  bask_3cpe_type_cd  bask_4cpe_type_cd  \\\n0  ...           0.268126           0.136947           0.069146   \n1  ...           0.268126           0.136947           0.069146   \n2  ...           0.268126           0.136947           0.069146   \n3  ...           0.268126           0.136947           0.069146   \n4  ...           0.268126           0.136947           0.069146   \n\n   bask_5cpe_type_cd  bask_0url_host  bask_1url_host  bask_2url_host  \\\n0           0.013774        0.134186        0.342372        0.281677   \n1           0.013774        0.130193        0.341496        0.284690   \n2           0.013774        0.144648        0.349024        0.276713   \n3           0.013774        0.148331        0.353465        0.277041   \n4           0.013774        0.145739        0.350527        0.276666   \n\n   bask_3url_host  bask_4url_host  bask_5url_host  \n0        0.149741        0.076944        0.015080  \n1        0.151575        0.077067        0.014979  \n2        0.143092        0.072281        0.014242  \n3        0.139772        0.068262        0.013129  \n4        0.142050        0.070993        0.014025  \n\n[5 rows x 3014 columns]",
      "text/html": "<div>\n<style scoped>\n    .dataframe tbody tr th:only-of-type {\n        vertical-align: middle;\n    }\n\n    .dataframe tbody tr th {\n        vertical-align: top;\n    }\n\n    .dataframe thead th {\n        text-align: right;\n    }\n</style>\n<table border=\"1\" class=\"dataframe\">\n  <thead>\n    <tr style=\"text-align: right;\">\n      <th></th>\n      <th>user_id</th>\n      <th>googleads.g.doubleclick.net</th>\n      <th>yandex.ru</th>\n      <th>i.ytimg.com</th>\n      <th>vk.com</th>\n      <th>avatars.mds.yandex.net</th>\n      <th>ad.mail.ru</th>\n      <th>yastatic.net</th>\n      <th>apple.com</th>\n      <th>instagram.com</th>\n      <th>...</th>\n      <th>bask_2cpe_type_cd</th>\n      <th>bask_3cpe_type_cd</th>\n      <th>bask_4cpe_type_cd</th>\n      <th>bask_5cpe_type_cd</th>\n      <th>bask_0url_host</th>\n      <th>bask_1url_host</th>\n      <th>bask_2url_host</th>\n      <th>bask_3url_host</th>\n      <th>bask_4url_host</th>\n      <th>bask_5url_host</th>\n    </tr>\n  </thead>\n  <tbody>\n    <tr>\n      <th>0</th>\n      <td>0</td>\n      <td>0.196891</td>\n      <td>0.031088</td>\n      <td>0.025907</td>\n      <td>0.041451</td>\n      <td>0.046632</td>\n      <td>0.031088</td>\n      <td>0.051813</td>\n      <td>0.0</td>\n      <td>0.000000</td>\n      <td>...</td>\n      <td>0.268126</td>\n      <td>0.136947</td>\n      <td>0.069146</td>\n      <td>0.013774</td>\n      <td>0.134186</td>\n      <td>0.342372</td>\n      <td>0.281677</td>\n      <td>0.149741</td>\n      <td>0.076944</td>\n      <td>0.015080</td>\n    </tr>\n    <tr>\n      <th>1</th>\n      <td>1</td>\n      <td>0.072588</td>\n      <td>0.112703</td>\n      <td>0.040115</td>\n      <td>0.023878</td>\n      <td>0.104107</td>\n      <td>0.034384</td>\n      <td>0.081184</td>\n      <td>0.0</td>\n      <td>0.000000</td>\n      <td>...</td>\n      <td>0.268126</td>\n      <td>0.136947</td>\n      <td>0.069146</td>\n      <td>0.013774</td>\n      <td>0.130193</td>\n      <td>0.341496</td>\n      <td>0.284690</td>\n      <td>0.151575</td>\n      <td>0.077067</td>\n      <td>0.014979</td>\n    </tr>\n    <tr>\n      <th>2</th>\n      <td>2</td>\n      <td>0.092457</td>\n      <td>0.046229</td>\n      <td>0.126521</td>\n      <td>0.141119</td>\n      <td>0.072993</td>\n      <td>0.038929</td>\n      <td>0.046229</td>\n      <td>0.0</td>\n      <td>0.000000</td>\n      <td>...</td>\n      <td>0.268126</td>\n      <td>0.136947</td>\n      <td>0.069146</td>\n      <td>0.013774</td>\n      <td>0.144648</td>\n      <td>0.349024</td>\n      <td>0.276713</td>\n      <td>0.143092</td>\n      <td>0.072281</td>\n      <td>0.014242</td>\n    </tr>\n    <tr>\n      <th>3</th>\n      <td>3</td>\n      <td>0.021818</td>\n      <td>0.061818</td>\n      <td>0.007273</td>\n      <td>0.178182</td>\n      <td>0.094545</td>\n      <td>0.080000</td>\n      <td>0.069091</td>\n      <td>0.0</td>\n      <td>0.000000</td>\n      <td>...</td>\n      <td>0.268126</td>\n      <td>0.136947</td>\n      <td>0.069146</td>\n      <td>0.013774</td>\n      <td>0.148331</td>\n      <td>0.353465</td>\n      <td>0.277041</td>\n      <td>0.139772</td>\n      <td>0.068262</td>\n      <td>0.013129</td>\n    </tr>\n    <tr>\n      <th>4</th>\n      <td>4</td>\n      <td>0.061776</td>\n      <td>0.030888</td>\n      <td>0.048906</td>\n      <td>0.083655</td>\n      <td>0.046332</td>\n      <td>0.061776</td>\n      <td>0.045045</td>\n      <td>0.0</td>\n      <td>0.003861</td>\n      <td>...</td>\n      <td>0.268126</td>\n      <td>0.136947</td>\n      <td>0.069146</td>\n      <td>0.013774</td>\n      <td>0.145739</td>\n      <td>0.350527</td>\n      <td>0.276666</td>\n      <td>0.142050</td>\n      <td>0.070993</td>\n      <td>0.014025</td>\n    </tr>\n  </tbody>\n</table>\n<p>5 rows × 3014 columns</p>\n</div>"
     },
     "metadata": {},
     "output_type": "display_data"
    },
    {
     "name": "stdout",
     "output_type": "stream",
     "text": [
      "<class 'pandas.core.frame.DataFrame'>\n",
      "RangeIndex: 414723 entries, 0 to 414722\n",
      "Columns: 3014 entries, user_id to bask_5url_host\n",
      "dtypes: float32(3001), float64(12), int32(1)\n",
      "memory usage: 4.7 GB\n"
     ]
    },
    {
     "data": {
      "text/plain": "None"
     },
     "metadata": {},
     "output_type": "display_data"
    }
   ],
   "source": [
    "df = dd.read_parquet('..\\\\full_data\\\\figma_age\\\\full_age_data.parquet').compute()\n",
    "\n",
    "#берем нужные\n",
    "df = df.loc[:,['user_id']+df.columns[12:-6].to_list()]\n",
    "\n",
    "# добавляем target, удаляем nan\n",
    "submit = dd.read_parquet('..\\\\full_data\\\\submit_2.pqt').compute()\n",
    "submit = submit.sort_values('user_id', ignore_index=True)\n",
    "test_df = submit.merge(df, on='user_id',how ='left')\n",
    "\n",
    "display(df.head())\n",
    "display(df.info())"
   ],
   "metadata": {
    "collapsed": false
   }
  },
  {
   "cell_type": "code",
   "execution_count": 7,
   "outputs": [
    {
     "data": {
      "text/plain": "3801"
     },
     "metadata": {},
     "output_type": "display_data"
    },
    {
     "data": {
      "text/plain": "105"
     },
     "metadata": {},
     "output_type": "display_data"
    }
   ],
   "source": [
    "display(test_df.isna().sum().sum())\n",
    "for name in df['cpe_manufacturer_name'].unique():\n",
    "    test_df.loc[(test_df['cpe_manufacturer_name']==name)&(test_df['price'].isna()),'price'] = \\\n",
    "        df.loc[(df['cpe_manufacturer_name']==name)&(~df['price'].isna()),'price'].median()\n",
    "test_df.loc[test_df['price']<1000,'price'] = 1000\n",
    "display(test_df.isna().sum().sum())"
   ],
   "metadata": {
    "collapsed": false
   }
  },
  {
   "cell_type": "code",
   "execution_count": 26,
   "outputs": [],
   "source": [
    "submit['age'] = model.predict(test_df.drop('user_id',axis=1))\n",
    "submit['age'] += 1\n",
    "submit['is_male'] = pd.Series(data=-1.0,index=submit.index)"
   ],
   "metadata": {
    "collapsed": false
   }
  },
  {
   "cell_type": "code",
   "execution_count": 27,
   "outputs": [],
   "source": [
    "submit.to_csv('age_urls_only.csv', index=False)"
   ],
   "metadata": {
    "collapsed": false
   }
  }
 ],
 "metadata": {
  "kernelspec": {
   "display_name": "Python 3 (ipykernel)",
   "language": "python",
   "name": "python3"
  },
  "language_info": {
   "codemirror_mode": {
    "name": "ipython",
    "version": 3
   },
   "file_extension": ".py",
   "mimetype": "text/x-python",
   "name": "python",
   "nbconvert_exporter": "python",
   "pygments_lexer": "ipython3",
   "version": "3.8.10"
  }
 },
 "nbformat": 4,
 "nbformat_minor": 1
}
