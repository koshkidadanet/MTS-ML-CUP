{
 "cells": [
  {
   "cell_type": "code",
   "execution_count": 1,
   "metadata": {
    "collapsed": true
   },
   "outputs": [],
   "source": [
    "from dask.distributed import Client\n",
    "import pandas as pd\n",
    "import pyarrow.parquet as pq"
   ]
  },
  {
   "cell_type": "markdown",
   "source": [
    "## Словарь юрл, доля мужчин. Пропуски заполним 0.5"
   ],
   "metadata": {
    "collapsed": false
   }
  },
  {
   "cell_type": "code",
   "execution_count": 2,
   "outputs": [
    {
     "data": {
      "text/plain": "                             request_cnt  male_request_cnt  male_fraction\nurl_host                                                                 \navatars.mds.yandex.net          19104346          10637927       0.556833\nvk.com                          22264707          11310971       0.508022\ni.ytimg.com                     22636425          12727769       0.562269\nyandex.ru                       30558229          16038656       0.524856\ngoogleads.g.doubleclick.net     31510446          16492100       0.523385",
      "text/html": "<div>\n<style scoped>\n    .dataframe tbody tr th:only-of-type {\n        vertical-align: middle;\n    }\n\n    .dataframe tbody tr th {\n        vertical-align: top;\n    }\n\n    .dataframe thead th {\n        text-align: right;\n    }\n</style>\n<table border=\"1\" class=\"dataframe\">\n  <thead>\n    <tr style=\"text-align: right;\">\n      <th></th>\n      <th>request_cnt</th>\n      <th>male_request_cnt</th>\n      <th>male_fraction</th>\n    </tr>\n    <tr>\n      <th>url_host</th>\n      <th></th>\n      <th></th>\n      <th></th>\n    </tr>\n  </thead>\n  <tbody>\n    <tr>\n      <th>avatars.mds.yandex.net</th>\n      <td>19104346</td>\n      <td>10637927</td>\n      <td>0.556833</td>\n    </tr>\n    <tr>\n      <th>vk.com</th>\n      <td>22264707</td>\n      <td>11310971</td>\n      <td>0.508022</td>\n    </tr>\n    <tr>\n      <th>i.ytimg.com</th>\n      <td>22636425</td>\n      <td>12727769</td>\n      <td>0.562269</td>\n    </tr>\n    <tr>\n      <th>yandex.ru</th>\n      <td>30558229</td>\n      <td>16038656</td>\n      <td>0.524856</td>\n    </tr>\n    <tr>\n      <th>googleads.g.doubleclick.net</th>\n      <td>31510446</td>\n      <td>16492100</td>\n      <td>0.523385</td>\n    </tr>\n  </tbody>\n</table>\n</div>"
     },
     "metadata": {},
     "output_type": "display_data"
    },
    {
     "name": "stdout",
     "output_type": "stream",
     "text": [
      "<class 'pandas.core.frame.DataFrame'>\n",
      "Index: 170833 entries, -1 to яркнига24.рф\n",
      "Data columns (total 3 columns):\n",
      " #   Column            Non-Null Count   Dtype  \n",
      "---  ------            --------------   -----  \n",
      " 0   request_cnt       170833 non-null  int64  \n",
      " 1   male_request_cnt  170833 non-null  int64  \n",
      " 2   male_fraction     170833 non-null  float64\n",
      "dtypes: float64(1), int64(2)\n",
      "memory usage: 5.2+ MB\n"
     ]
    },
    {
     "data": {
      "text/plain": "None"
     },
     "metadata": {},
     "output_type": "display_data"
    }
   ],
   "source": [
    "df = pq.read_table('data/train_data_pqt.parquet',columns=['user_id','request_cnt','url_host'])\n",
    "target = pd.read_parquet('data/public_train.pqt')\n",
    "\n",
    "data_id_url = df.select(['user_id', 'url_host', 'request_cnt']).to_pandas()\n",
    "\n",
    "data_id_url_sum_male = data_id_url.merge(target[['is_male','user_id']], on = 'user_id', how = 'inner')\n",
    "data_id_url_sum_male = data_id_url_sum_male.loc[~(data_id_url_sum_male['is_male'].isna()) & (data_id_url_sum_male['is_male'] != 'NA')]\n",
    "data_id_url_sum_male['is_male'] = data_id_url_sum_male['is_male'].astype('int8')\n",
    "\n",
    "data_id_url_sum_male['male_request_cnt'] = data_id_url_sum_male['is_male'] * data_id_url_sum_male['request_cnt']\n",
    "data_id_url_sum_male = data_id_url_sum_male.groupby('url_host').agg({'request_cnt':'sum','male_request_cnt':'sum'})\n",
    "data_id_url_sum_male['male_fraction'] = data_id_url_sum_male['male_request_cnt']/data_id_url_sum_male['request_cnt']\n",
    "display(data_id_url_sum_male.sort_values('request_cnt').tail())\n",
    "display(data_id_url_sum_male.info())"
   ],
   "metadata": {
    "collapsed": false
   }
  },
  {
   "cell_type": "markdown",
   "source": [
    "## Словарь регион, доля мужчин. Пропуски заполним 0.5"
   ],
   "metadata": {
    "collapsed": false
   }
  },
  {
   "cell_type": "code",
   "execution_count": 7,
   "outputs": [
    {
     "data": {
      "text/plain": "                        is_male\nregion_name                    \nАлтайский край         0.507297\nАрхангельская область  0.484938\nВладимирская область   0.519503\nВологодская область    0.528699\nВоронежская область    0.581428\n...                         ...\nРеспублика Тыва        0.395121\nКамчатский край        0.536116\nРеспублика Калмыкия    0.381443\nЧукотский АО           0.531497\nИркутская область      0.333333\n\n[81 rows x 1 columns]",
      "text/html": "<div>\n<style scoped>\n    .dataframe tbody tr th:only-of-type {\n        vertical-align: middle;\n    }\n\n    .dataframe tbody tr th {\n        vertical-align: top;\n    }\n\n    .dataframe thead th {\n        text-align: right;\n    }\n</style>\n<table border=\"1\" class=\"dataframe\">\n  <thead>\n    <tr style=\"text-align: right;\">\n      <th></th>\n      <th>is_male</th>\n    </tr>\n    <tr>\n      <th>region_name</th>\n      <th></th>\n    </tr>\n  </thead>\n  <tbody>\n    <tr>\n      <th>Алтайский край</th>\n      <td>0.507297</td>\n    </tr>\n    <tr>\n      <th>Архангельская область</th>\n      <td>0.484938</td>\n    </tr>\n    <tr>\n      <th>Владимирская область</th>\n      <td>0.519503</td>\n    </tr>\n    <tr>\n      <th>Вологодская область</th>\n      <td>0.528699</td>\n    </tr>\n    <tr>\n      <th>Воронежская область</th>\n      <td>0.581428</td>\n    </tr>\n    <tr>\n      <th>...</th>\n      <td>...</td>\n    </tr>\n    <tr>\n      <th>Республика Тыва</th>\n      <td>0.395121</td>\n    </tr>\n    <tr>\n      <th>Камчатский край</th>\n      <td>0.536116</td>\n    </tr>\n    <tr>\n      <th>Республика Калмыкия</th>\n      <td>0.381443</td>\n    </tr>\n    <tr>\n      <th>Чукотский АО</th>\n      <td>0.531497</td>\n    </tr>\n    <tr>\n      <th>Иркутская область</th>\n      <td>0.333333</td>\n    </tr>\n  </tbody>\n</table>\n<p>81 rows × 1 columns</p>\n</div>"
     },
     "execution_count": 7,
     "metadata": {},
     "output_type": "execute_result"
    }
   ],
   "source": [
    "df = pq.read_table('data/train_data_pqt.parquet',columns=['user_id','region_name'])\n",
    "target = pd.read_parquet('data/public_train.pqt')\n",
    "\n",
    "data_id_reg = df.select(['user_id','region_name']).to_pandas()\n",
    "\n",
    "data_id_reg_male = data_id_reg.merge(target[['is_male','user_id']], on = 'user_id', how = 'inner')\n",
    "data_id_reg_male = data_id_reg_male.loc[~(data_id_reg_male['is_male'].isna()) & (data_id_reg_male['is_male'] != 'NA')]\n",
    "data_id_reg_male['is_male'] = data_id_reg_male['is_male'].astype('int8')\n",
    "\n",
    "data_id_reg_male = data_id_reg_male.groupby('region_name').agg({'is_male': 'mean'})\n",
    "data_id_reg_male"
   ],
   "metadata": {
    "collapsed": false
   }
  },
  {
   "cell_type": "markdown",
   "source": [
    "## Суммируем заходы в инет утром днем ночью и вечером"
   ],
   "metadata": {
    "collapsed": false
   }
  },
  {
   "cell_type": "code",
   "execution_count": 14,
   "outputs": [
    {
     "data": {
      "text/plain": "user_id  part_of_day\n0        day            107\n         evening         62\n         morning         23\n         night            1\n1        day            363\n                       ... \n415312   night            0\n415313   day              1\n         evening          0\n         morning          0\n         night            0\nName: request_cnt, Length: 1079996, dtype: int64"
     },
     "execution_count": 14,
     "metadata": {},
     "output_type": "execute_result"
    }
   ],
   "source": [
    "df = pq.read_table('data/train_data_pqt.parquet',columns=['user_id','request_cnt', 'part_of_day'])\n",
    "target = pd.read_parquet('data/public_train.pqt')\n",
    "\n",
    "data_day_req = df.select(['user_id','request_cnt', 'part_of_day']).to_pandas()\n",
    "\n",
    "data_day_req.groupby(['user_id','part_of_day'],group_keys=False)['request_cnt'].sum()"
   ],
   "metadata": {
    "collapsed": false
   }
  },
  {
   "cell_type": "markdown",
   "source": [
    "## Примеры объединения df"
   ],
   "metadata": {
    "collapsed": false
   }
  },
  {
   "cell_type": "code",
   "execution_count": 2,
   "outputs": [
    {
     "data": {
      "text/plain": "  letter  number\n0      a       1\n1      b       2",
      "text/html": "<div>\n<style scoped>\n    .dataframe tbody tr th:only-of-type {\n        vertical-align: middle;\n    }\n\n    .dataframe tbody tr th {\n        vertical-align: top;\n    }\n\n    .dataframe thead th {\n        text-align: right;\n    }\n</style>\n<table border=\"1\" class=\"dataframe\">\n  <thead>\n    <tr style=\"text-align: right;\">\n      <th></th>\n      <th>letter</th>\n      <th>number</th>\n    </tr>\n  </thead>\n  <tbody>\n    <tr>\n      <th>0</th>\n      <td>a</td>\n      <td>1</td>\n    </tr>\n    <tr>\n      <th>1</th>\n      <td>b</td>\n      <td>2</td>\n    </tr>\n  </tbody>\n</table>\n</div>"
     },
     "metadata": {},
     "output_type": "display_data"
    },
    {
     "data": {
      "text/plain": "  letter1  number1\n0       a        1\n1       b        2",
      "text/html": "<div>\n<style scoped>\n    .dataframe tbody tr th:only-of-type {\n        vertical-align: middle;\n    }\n\n    .dataframe tbody tr th {\n        vertical-align: top;\n    }\n\n    .dataframe thead th {\n        text-align: right;\n    }\n</style>\n<table border=\"1\" class=\"dataframe\">\n  <thead>\n    <tr style=\"text-align: right;\">\n      <th></th>\n      <th>letter1</th>\n      <th>number1</th>\n    </tr>\n  </thead>\n  <tbody>\n    <tr>\n      <th>0</th>\n      <td>a</td>\n      <td>1</td>\n    </tr>\n    <tr>\n      <th>1</th>\n      <td>b</td>\n      <td>2</td>\n    </tr>\n  </tbody>\n</table>\n</div>"
     },
     "metadata": {},
     "output_type": "display_data"
    },
    {
     "data": {
      "text/plain": "  letter  number letter1  number1\n0      a       1       a        1\n1      b       2       b        2",
      "text/html": "<div>\n<style scoped>\n    .dataframe tbody tr th:only-of-type {\n        vertical-align: middle;\n    }\n\n    .dataframe tbody tr th {\n        vertical-align: top;\n    }\n\n    .dataframe thead th {\n        text-align: right;\n    }\n</style>\n<table border=\"1\" class=\"dataframe\">\n  <thead>\n    <tr style=\"text-align: right;\">\n      <th></th>\n      <th>letter</th>\n      <th>number</th>\n      <th>letter1</th>\n      <th>number1</th>\n    </tr>\n  </thead>\n  <tbody>\n    <tr>\n      <th>0</th>\n      <td>a</td>\n      <td>1</td>\n      <td>a</td>\n      <td>1</td>\n    </tr>\n    <tr>\n      <th>1</th>\n      <td>b</td>\n      <td>2</td>\n      <td>b</td>\n      <td>2</td>\n    </tr>\n  </tbody>\n</table>\n</div>"
     },
     "metadata": {},
     "output_type": "display_data"
    }
   ],
   "source": [
    "df1 = pd.DataFrame([['a', 1], ['b', 2]],\n",
    "                   columns=['letter', 'number'])\n",
    "df2 = pd.DataFrame([['a', 1], ['b', 2]],\n",
    "                   columns=['letter1', 'number1'])\n",
    "display(df1)\n",
    "display(df2)\n",
    "display(pd.concat([df1,df2],axis=1))"
   ],
   "metadata": {
    "collapsed": false
   }
  },
  {
   "cell_type": "code",
   "execution_count": 7,
   "outputs": [
    {
     "data": {
      "text/plain": "  letter  number\n0      a       1\n1      b       2\n2      b       2\n3      b       3",
      "text/html": "<div>\n<style scoped>\n    .dataframe tbody tr th:only-of-type {\n        vertical-align: middle;\n    }\n\n    .dataframe tbody tr th {\n        vertical-align: top;\n    }\n\n    .dataframe thead th {\n        text-align: right;\n    }\n</style>\n<table border=\"1\" class=\"dataframe\">\n  <thead>\n    <tr style=\"text-align: right;\">\n      <th></th>\n      <th>letter</th>\n      <th>number</th>\n    </tr>\n  </thead>\n  <tbody>\n    <tr>\n      <th>0</th>\n      <td>a</td>\n      <td>1</td>\n    </tr>\n    <tr>\n      <th>1</th>\n      <td>b</td>\n      <td>2</td>\n    </tr>\n    <tr>\n      <th>2</th>\n      <td>b</td>\n      <td>2</td>\n    </tr>\n    <tr>\n      <th>3</th>\n      <td>b</td>\n      <td>3</td>\n    </tr>\n  </tbody>\n</table>\n</div>"
     },
     "metadata": {},
     "output_type": "display_data"
    },
    {
     "data": {
      "text/plain": "  letter class\n0      a     x\n1      b     y",
      "text/html": "<div>\n<style scoped>\n    .dataframe tbody tr th:only-of-type {\n        vertical-align: middle;\n    }\n\n    .dataframe tbody tr th {\n        vertical-align: top;\n    }\n\n    .dataframe thead th {\n        text-align: right;\n    }\n</style>\n<table border=\"1\" class=\"dataframe\">\n  <thead>\n    <tr style=\"text-align: right;\">\n      <th></th>\n      <th>letter</th>\n      <th>class</th>\n    </tr>\n  </thead>\n  <tbody>\n    <tr>\n      <th>0</th>\n      <td>a</td>\n      <td>x</td>\n    </tr>\n    <tr>\n      <th>1</th>\n      <td>b</td>\n      <td>y</td>\n    </tr>\n  </tbody>\n</table>\n</div>"
     },
     "metadata": {},
     "output_type": "display_data"
    },
    {
     "data": {
      "text/plain": "  letter  number class\n0      a       1     x\n1      b       2     y\n2      b       2     y\n3      b       3     y",
      "text/html": "<div>\n<style scoped>\n    .dataframe tbody tr th:only-of-type {\n        vertical-align: middle;\n    }\n\n    .dataframe tbody tr th {\n        vertical-align: top;\n    }\n\n    .dataframe thead th {\n        text-align: right;\n    }\n</style>\n<table border=\"1\" class=\"dataframe\">\n  <thead>\n    <tr style=\"text-align: right;\">\n      <th></th>\n      <th>letter</th>\n      <th>number</th>\n      <th>class</th>\n    </tr>\n  </thead>\n  <tbody>\n    <tr>\n      <th>0</th>\n      <td>a</td>\n      <td>1</td>\n      <td>x</td>\n    </tr>\n    <tr>\n      <th>1</th>\n      <td>b</td>\n      <td>2</td>\n      <td>y</td>\n    </tr>\n    <tr>\n      <th>2</th>\n      <td>b</td>\n      <td>2</td>\n      <td>y</td>\n    </tr>\n    <tr>\n      <th>3</th>\n      <td>b</td>\n      <td>3</td>\n      <td>y</td>\n    </tr>\n  </tbody>\n</table>\n</div>"
     },
     "metadata": {},
     "output_type": "display_data"
    }
   ],
   "source": [
    "df1 = pd.DataFrame([['a', 1], ['b', 2],['b', 2],['b', 3]],\n",
    "                   columns=['letter', 'number'])\n",
    "df2 = pd.DataFrame([['a', 'x'], ['b', 'y']],\n",
    "                   columns=['letter', 'class'])\n",
    "\n",
    "display(df1)\n",
    "display(df2)\n",
    "\n",
    "display(df1.merge(df2[['class','letter']], on = 'letter', how = 'inner'))"
   ],
   "metadata": {
    "collapsed": false
   }
  },
  {
   "cell_type": "code",
   "execution_count": null,
   "outputs": [],
   "source": [],
   "metadata": {
    "collapsed": false
   }
  }
 ],
 "metadata": {
  "kernelspec": {
   "display_name": "Python 3",
   "language": "python",
   "name": "python3"
  },
  "language_info": {
   "codemirror_mode": {
    "name": "ipython",
    "version": 2
   },
   "file_extension": ".py",
   "mimetype": "text/x-python",
   "name": "python",
   "nbconvert_exporter": "python",
   "pygments_lexer": "ipython2",
   "version": "2.7.6"
  }
 },
 "nbformat": 4,
 "nbformat_minor": 0
}
