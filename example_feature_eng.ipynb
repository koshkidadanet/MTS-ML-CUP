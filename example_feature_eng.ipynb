{
 "cells": [
  {
   "cell_type": "code",
   "execution_count": 3,
   "metadata": {
    "collapsed": true
   },
   "outputs": [],
   "source": [
    "from dask.distributed import Client\n",
    "import pandas as pd\n",
    "import pyarrow.parquet as pq"
   ]
  },
  {
   "cell_type": "markdown",
   "source": [
    "## Словарь юрл, доля мужчин. Пропуски заполним 0.5"
   ],
   "metadata": {
    "collapsed": false
   }
  },
  {
   "cell_type": "code",
   "execution_count": null,
   "outputs": [],
   "source": [
    "df = pq.read_table('data/train_data_pqt.parquet',columns=['user_id','request_cnt','url_host'])\n",
    "target = pd.read_parquet('data/public_train.pqt')\n",
    "\n",
    "data_id_url = df.select(['user_id', 'url_host', 'request_cnt']).to_pandas()\n",
    "\n",
    "data_id_url_sum_male = data_id_url.merge(target[['is_male','user_id']], on = 'user_id', how = 'inner')\n",
    "data_id_url_sum_male = data_id_url_sum_male.loc[~(data_id_url_sum_male['is_male'].isna()) & (data_id_url_sum_male['is_male'] != 'NA')]\n",
    "data_id_url_sum_male['is_male'] = data_id_url_sum_male['is_male'].astype('int8')\n",
    "\n",
    "data_id_url_sum_male['male_request_cnt'] = data_id_url_sum_male['is_male'] * data_id_url_sum_male['request_cnt']\n",
    "data_id_url_sum_male = data_id_url_sum_male.groupby('url_host').agg({'request_cnt':'sum','male_request_cnt':'sum'})\n",
    "data_id_url_sum_male['male_fraction'] = data_id_url_sum_male['male_request_cnt']/data_id_url_sum_male['request_cnt']\n",
    "display(data_id_url_sum_male.sort_values('request_cnt').tail())\n",
    "display(data_id_url_sum_male.info())"
   ],
   "metadata": {
    "collapsed": false
   }
  },
  {
   "cell_type": "markdown",
   "source": [
    "## Словарь регион, доля мужчин. Пропуски заполним 0.5"
   ],
   "metadata": {
    "collapsed": false
   }
  },
  {
   "cell_type": "code",
   "execution_count": 7,
   "outputs": [
    {
     "data": {
      "text/plain": "                        is_male\nregion_name                    \nАлтайский край         0.507297\nАрхангельская область  0.484938\nВладимирская область   0.519503\nВологодская область    0.528699\nВоронежская область    0.581428\n...                         ...\nРеспублика Тыва        0.395121\nКамчатский край        0.536116\nРеспублика Калмыкия    0.381443\nЧукотский АО           0.531497\nИркутская область      0.333333\n\n[81 rows x 1 columns]",
      "text/html": "<div>\n<style scoped>\n    .dataframe tbody tr th:only-of-type {\n        vertical-align: middle;\n    }\n\n    .dataframe tbody tr th {\n        vertical-align: top;\n    }\n\n    .dataframe thead th {\n        text-align: right;\n    }\n</style>\n<table border=\"1\" class=\"dataframe\">\n  <thead>\n    <tr style=\"text-align: right;\">\n      <th></th>\n      <th>is_male</th>\n    </tr>\n    <tr>\n      <th>region_name</th>\n      <th></th>\n    </tr>\n  </thead>\n  <tbody>\n    <tr>\n      <th>Алтайский край</th>\n      <td>0.507297</td>\n    </tr>\n    <tr>\n      <th>Архангельская область</th>\n      <td>0.484938</td>\n    </tr>\n    <tr>\n      <th>Владимирская область</th>\n      <td>0.519503</td>\n    </tr>\n    <tr>\n      <th>Вологодская область</th>\n      <td>0.528699</td>\n    </tr>\n    <tr>\n      <th>Воронежская область</th>\n      <td>0.581428</td>\n    </tr>\n    <tr>\n      <th>...</th>\n      <td>...</td>\n    </tr>\n    <tr>\n      <th>Республика Тыва</th>\n      <td>0.395121</td>\n    </tr>\n    <tr>\n      <th>Камчатский край</th>\n      <td>0.536116</td>\n    </tr>\n    <tr>\n      <th>Республика Калмыкия</th>\n      <td>0.381443</td>\n    </tr>\n    <tr>\n      <th>Чукотский АО</th>\n      <td>0.531497</td>\n    </tr>\n    <tr>\n      <th>Иркутская область</th>\n      <td>0.333333</td>\n    </tr>\n  </tbody>\n</table>\n<p>81 rows × 1 columns</p>\n</div>"
     },
     "execution_count": 7,
     "metadata": {},
     "output_type": "execute_result"
    }
   ],
   "source": [
    "df = pq.read_table('data/train_data_pqt.parquet',columns=['user_id','region_name'])\n",
    "target = pd.read_parquet('data/public_train.pqt')\n",
    "\n",
    "data_id_reg = df.select(['user_id','region_name']).to_pandas()\n",
    "\n",
    "data_id_reg_male = data_id_reg.merge(target[['is_male','user_id']], on = 'user_id', how = 'inner')\n",
    "data_id_reg_male = data_id_reg_male.loc[~(data_id_reg_male['is_male'].isna()) & (data_id_reg_male['is_male'] != 'NA')]\n",
    "data_id_reg_male['is_male'] = data_id_reg_male['is_male'].astype('int8')\n",
    "\n",
    "data_id_reg_male = data_id_reg_male.groupby('region_name').agg({'is_male': 'mean'})\n",
    "data_id_reg_male"
   ],
   "metadata": {
    "collapsed": false
   }
  },
  {
   "cell_type": "markdown",
   "source": [
    "## Суммируем заходы в инет утром днем ночью и вечером"
   ],
   "metadata": {
    "collapsed": false
   }
  },
  {
   "cell_type": "code",
   "execution_count": 14,
   "outputs": [
    {
     "data": {
      "text/plain": "user_id  part_of_day\n0        day            107\n         evening         62\n         morning         23\n         night            1\n1        day            363\n                       ... \n415312   night            0\n415313   day              1\n         evening          0\n         morning          0\n         night            0\nName: request_cnt, Length: 1079996, dtype: int64"
     },
     "execution_count": 14,
     "metadata": {},
     "output_type": "execute_result"
    }
   ],
   "source": [
    "df = pq.read_table('data/train_data_pqt.parquet',columns=['user_id','request_cnt', 'part_of_day'])\n",
    "target = pd.read_parquet('data/public_train.pqt')\n",
    "\n",
    "data_day_req = df.select(['user_id','request_cnt', 'part_of_day']).to_pandas()\n",
    "\n",
    "data_day_req.groupby(['user_id','part_of_day'],group_keys=False)['request_cnt'].sum()"
   ],
   "metadata": {
    "collapsed": false
   }
  },
  {
   "cell_type": "code",
   "execution_count": null,
   "outputs": [],
   "source": [],
   "metadata": {
    "collapsed": false
   }
  }
 ],
 "metadata": {
  "kernelspec": {
   "display_name": "Python 3",
   "language": "python",
   "name": "python3"
  },
  "language_info": {
   "codemirror_mode": {
    "name": "ipython",
    "version": 2
   },
   "file_extension": ".py",
   "mimetype": "text/x-python",
   "name": "python",
   "nbconvert_exporter": "python",
   "pygments_lexer": "ipython2",
   "version": "2.7.6"
  }
 },
 "nbformat": 4,
 "nbformat_minor": 0
}
