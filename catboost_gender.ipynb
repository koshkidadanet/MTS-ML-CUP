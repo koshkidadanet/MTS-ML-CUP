{
 "cells": [
  {
   "cell_type": "code",
   "execution_count": 2,
   "metadata": {},
   "outputs": [],
   "source": [
    "import pandas as pd\n",
    "import numpy as np\n",
    "import dask.dataframe as dd\n",
    "import pycaret.classification as pc\n",
    "\n",
    "from catboost import CatBoostClassifier, Pool, EShapCalcType, EFeaturesSelectionAlgorithm, cv\n",
    "from sklearn.metrics import roc_auc_score, classification_report\n",
    "from sklearn.model_selection import train_test_split, StratifiedKFold"
   ]
  },
  {
   "cell_type": "markdown",
   "source": [
    "# urls 400"
   ],
   "metadata": {
    "collapsed": false
   }
  },
  {
   "cell_type": "code",
   "execution_count": 2,
   "metadata": {},
   "outputs": [
    {
     "data": {
      "text/plain": "   googleads.g.doubleclick.net  yandex.ru  i.ytimg.com    vk.com  \\\n0                     0.196891   0.031088     0.025907  0.041451   \n1                     0.072588   0.112703     0.040115  0.023878   \n2                     0.092457   0.046229     0.126521  0.141119   \n3                     0.021818   0.061818     0.007273  0.178182   \n4                     0.061776   0.030888     0.048906  0.083655   \n\n   avatars.mds.yandex.net  ad.mail.ru  yastatic.net  apple.com  instagram.com  \\\n0                0.046632    0.031088      0.051813        0.0       0.000000   \n1                0.104107    0.034384      0.081184        0.0       0.000000   \n2                0.072993    0.038929      0.046229        0.0       0.000000   \n3                0.094545    0.080000      0.069091        0.0       0.000000   \n4                0.046332    0.061776      0.045045        0.0       0.003861   \n\n   ads.adfox.ru  ...  manrule.ru  programma-peredach.com  mcpehub.org  \\\n0      0.025907  ...         0.0                     0.0          0.0   \n1      0.019102  ...         0.0                     0.0          0.0   \n2      0.026764  ...         0.0                     0.0          0.0   \n3      0.000000  ...         0.0                     0.0          0.0   \n4      0.028314  ...         0.0                     0.0          0.0   \n\n   go64.ru  nail-styles.ru  other_url  other_female_urls_frac  \\\n0      0.0             0.0   0.031088                0.005181   \n1      0.0             0.0   0.013372                0.001910   \n2      0.0             0.0   0.002433                0.000000   \n3      0.0             0.0   0.010909                0.003636   \n4      0.0             0.0   0.011583                0.003861   \n\n   other_male_urls_frac  user_id  is_male  \n0              0.000000        0        0  \n1              0.000955        1        0  \n2              0.000000        2        0  \n3              0.003636        3        1  \n4              0.000000        4        0  \n\n[5 rows x 402 columns]",
      "text/html": "<div>\n<style scoped>\n    .dataframe tbody tr th:only-of-type {\n        vertical-align: middle;\n    }\n\n    .dataframe tbody tr th {\n        vertical-align: top;\n    }\n\n    .dataframe thead th {\n        text-align: right;\n    }\n</style>\n<table border=\"1\" class=\"dataframe\">\n  <thead>\n    <tr style=\"text-align: right;\">\n      <th></th>\n      <th>googleads.g.doubleclick.net</th>\n      <th>yandex.ru</th>\n      <th>i.ytimg.com</th>\n      <th>vk.com</th>\n      <th>avatars.mds.yandex.net</th>\n      <th>ad.mail.ru</th>\n      <th>yastatic.net</th>\n      <th>apple.com</th>\n      <th>instagram.com</th>\n      <th>ads.adfox.ru</th>\n      <th>...</th>\n      <th>manrule.ru</th>\n      <th>programma-peredach.com</th>\n      <th>mcpehub.org</th>\n      <th>go64.ru</th>\n      <th>nail-styles.ru</th>\n      <th>other_url</th>\n      <th>other_female_urls_frac</th>\n      <th>other_male_urls_frac</th>\n      <th>user_id</th>\n      <th>is_male</th>\n    </tr>\n  </thead>\n  <tbody>\n    <tr>\n      <th>0</th>\n      <td>0.196891</td>\n      <td>0.031088</td>\n      <td>0.025907</td>\n      <td>0.041451</td>\n      <td>0.046632</td>\n      <td>0.031088</td>\n      <td>0.051813</td>\n      <td>0.0</td>\n      <td>0.000000</td>\n      <td>0.025907</td>\n      <td>...</td>\n      <td>0.0</td>\n      <td>0.0</td>\n      <td>0.0</td>\n      <td>0.0</td>\n      <td>0.0</td>\n      <td>0.031088</td>\n      <td>0.005181</td>\n      <td>0.000000</td>\n      <td>0</td>\n      <td>0</td>\n    </tr>\n    <tr>\n      <th>1</th>\n      <td>0.072588</td>\n      <td>0.112703</td>\n      <td>0.040115</td>\n      <td>0.023878</td>\n      <td>0.104107</td>\n      <td>0.034384</td>\n      <td>0.081184</td>\n      <td>0.0</td>\n      <td>0.000000</td>\n      <td>0.019102</td>\n      <td>...</td>\n      <td>0.0</td>\n      <td>0.0</td>\n      <td>0.0</td>\n      <td>0.0</td>\n      <td>0.0</td>\n      <td>0.013372</td>\n      <td>0.001910</td>\n      <td>0.000955</td>\n      <td>1</td>\n      <td>0</td>\n    </tr>\n    <tr>\n      <th>2</th>\n      <td>0.092457</td>\n      <td>0.046229</td>\n      <td>0.126521</td>\n      <td>0.141119</td>\n      <td>0.072993</td>\n      <td>0.038929</td>\n      <td>0.046229</td>\n      <td>0.0</td>\n      <td>0.000000</td>\n      <td>0.026764</td>\n      <td>...</td>\n      <td>0.0</td>\n      <td>0.0</td>\n      <td>0.0</td>\n      <td>0.0</td>\n      <td>0.0</td>\n      <td>0.002433</td>\n      <td>0.000000</td>\n      <td>0.000000</td>\n      <td>2</td>\n      <td>0</td>\n    </tr>\n    <tr>\n      <th>3</th>\n      <td>0.021818</td>\n      <td>0.061818</td>\n      <td>0.007273</td>\n      <td>0.178182</td>\n      <td>0.094545</td>\n      <td>0.080000</td>\n      <td>0.069091</td>\n      <td>0.0</td>\n      <td>0.000000</td>\n      <td>0.000000</td>\n      <td>...</td>\n      <td>0.0</td>\n      <td>0.0</td>\n      <td>0.0</td>\n      <td>0.0</td>\n      <td>0.0</td>\n      <td>0.010909</td>\n      <td>0.003636</td>\n      <td>0.003636</td>\n      <td>3</td>\n      <td>1</td>\n    </tr>\n    <tr>\n      <th>4</th>\n      <td>0.061776</td>\n      <td>0.030888</td>\n      <td>0.048906</td>\n      <td>0.083655</td>\n      <td>0.046332</td>\n      <td>0.061776</td>\n      <td>0.045045</td>\n      <td>0.0</td>\n      <td>0.003861</td>\n      <td>0.028314</td>\n      <td>...</td>\n      <td>0.0</td>\n      <td>0.0</td>\n      <td>0.0</td>\n      <td>0.0</td>\n      <td>0.0</td>\n      <td>0.011583</td>\n      <td>0.003861</td>\n      <td>0.000000</td>\n      <td>4</td>\n      <td>0</td>\n    </tr>\n  </tbody>\n</table>\n<p>5 rows × 402 columns</p>\n</div>"
     },
     "metadata": {},
     "output_type": "display_data"
    },
    {
     "name": "stdout",
     "output_type": "stream",
     "text": [
      "<class 'pandas.core.frame.DataFrame'>\n",
      "Int64Index: 264326 entries, 0 to 269999\n",
      "Columns: 402 entries, googleads.g.doubleclick.net to is_male\n",
      "dtypes: float32(400), int32(1), int8(1)\n",
      "memory usage: 406.6 MB\n"
     ]
    },
    {
     "data": {
      "text/plain": "None"
     },
     "metadata": {},
     "output_type": "display_data"
    }
   ],
   "source": [
    "df = dd.read_parquet('..\\\\full_data\\\\figma_plan\\\\full_gender_data_txt.parquet').compute()\n",
    "\n",
    "# берем нужные колонки url\n",
    "df = df.loc[:,df.columns[12:-1].to_list()+['user_id']]\n",
    "top400 = np.load('top400_features.npy',allow_pickle=True)\n",
    "df = df.loc[:,(df.columns.isin(top400))|(df.columns.isin(['user_id']))]\n",
    "# добавляем target, удаляем nan\n",
    "df = df.loc[:,(df.columns.isin(top400))|(df.columns.isin(['user_id']))]\n",
    "df = df.merge(pd.read_parquet('..\\\\full_data\\\\public_train.pqt',columns=['user_id','is_male'])[['is_male','user_id']], on = 'user_id', how = 'inner')\n",
    "df = df.loc[~(df['is_male'].isna()) & (df['is_male'] != 'NA')]\n",
    "df['is_male'] = df['is_male'].astype('int8')\n",
    "\n",
    "display(df.head())\n",
    "display(df.info())"
   ]
  },
  {
   "cell_type": "markdown",
   "source": [
    "## train"
   ],
   "metadata": {
    "collapsed": false
   }
  },
  {
   "cell_type": "code",
   "execution_count": 3,
   "metadata": {},
   "outputs": [
    {
     "data": {
      "text/plain": "MetricVisualizer(layout=Layout(align_self='stretch', height='500px'))",
      "application/vnd.jupyter.widget-view+json": {
       "version_major": 2,
       "version_minor": 0,
       "model_id": "537849ea65c34847ac70f9de5c16907a"
      }
     },
     "metadata": {},
     "output_type": "display_data"
    },
    {
     "name": "stdout",
     "output_type": "stream",
     "text": [
      "0.7289354188693253\n"
     ]
    }
   ],
   "source": [
    "x_train = df.drop(['is_male','user_id'],axis=1)\n",
    "y_train = df['is_male']\n",
    "\n",
    "pool_train = Pool(x_train, y_train,\n",
    "                  cat_features = list(x_train.select_dtypes(include=['object']).columns))\n",
    "\n",
    "model = CatBoostClassifier(iterations=2000,\n",
    "                           learning_rate = 0.01,\n",
    "                           random_strength = 1,\n",
    "                           l2_leaf_reg = 8,\n",
    "                           random_state=42,\n",
    "                           task_type='GPU')\n",
    "\n",
    "model.fit(pool_train, verbose=False,plot=True)\n",
    "print(2 * roc_auc_score(y_train, model.predict_proba(x_train)[:,1]) - 1)"
   ]
  },
  {
   "cell_type": "code",
   "execution_count": null,
   "metadata": {},
   "outputs": [],
   "source": [
    "model.save_model('catboost_gender_urls')"
   ]
  },
  {
   "cell_type": "code",
   "execution_count": 4,
   "outputs": [
    {
     "name": "stdout",
     "output_type": "stream",
     "text": [
      "0.7289353568885151\n"
     ]
    }
   ],
   "source": [
    "model = CatBoostClassifier()\n",
    "model.load_model('catboost_gender_urls')\n",
    "print(2 * roc_auc_score(y_train, model.predict_proba(x_train)[:,1]) - 1)"
   ],
   "metadata": {
    "collapsed": false
   }
  },
  {
   "cell_type": "markdown",
   "source": [
    "## test"
   ],
   "metadata": {
    "collapsed": false
   }
  },
  {
   "cell_type": "code",
   "execution_count": 2,
   "outputs": [],
   "source": [
    "df = dd.read_parquet('..\\\\full_data\\\\figma_plan\\\\full_gender_data_txt.parquet').compute()\n",
    "\n",
    "#берем нужные колонки url\n",
    "df = df.loc[:,df.columns[12:-1].to_list()+['user_id']]\n",
    "top400 = np.load('top400_features.npy',allow_pickle=True)\n",
    "df = df.loc[:,(df.columns.isin(top400))|(df.columns.isin(['user_id']))]\n",
    "\n",
    "#оставляем id для теста\n",
    "submit = dd.read_parquet('..\\\\full_data\\\\submit_2.pqt').compute()\n",
    "submit = submit.sort_values('user_id', ignore_index=True)\n",
    "test_df = submit.merge(df, on='user_id',how ='left')"
   ],
   "metadata": {
    "collapsed": false
   }
  },
  {
   "cell_type": "code",
   "execution_count": 4,
   "outputs": [
    {
     "data": {
      "text/plain": "array([0.20734899, 0.71953531, 0.17580539, ..., 0.46747215, 0.48323137,\n       0.48212971])"
     },
     "metadata": {},
     "output_type": "display_data"
    }
   ],
   "source": [
    "model = CatBoostClassifier()\n",
    "model.load_model('catboost_gender_urls')\n",
    "display(model.predict_proba(test_df)[:,1])"
   ],
   "metadata": {
    "collapsed": false
   }
  },
  {
   "cell_type": "code",
   "execution_count": 6,
   "outputs": [],
   "source": [
    "submit['is_male'] = model.predict_proba(test_df)[:,1]\n",
    "submit['age'] = pd.Series(data=-1,index=submit.index)"
   ],
   "metadata": {
    "collapsed": false
   }
  },
  {
   "cell_type": "code",
   "execution_count": 7,
   "outputs": [],
   "source": [
    "submit.to_csv('top400_male.csv', index=False)"
   ],
   "metadata": {
    "collapsed": false
   }
  },
  {
   "cell_type": "markdown",
   "source": [
    "# full"
   ],
   "metadata": {
    "collapsed": false
   }
  },
  {
   "cell_type": "code",
   "execution_count": 14,
   "outputs": [
    {
     "data": {
      "text/plain": "   user_id          region_name  male_fraction_region city_name  city_count  \\\n0        0               Москва              0.461904    Москва           1   \n1        1               Москва              0.461904    Москва           6   \n2        2      Республика Коми              0.472075    Печора           1   \n3        3  Воронежская область              0.458936   Воронеж           1   \n4        4   Краснодарский край              0.463641     Анапа           9   \n\n           cpe_manufacturer_name    price  holyday_fraction  morning_fraction  \\\n0                        Samsung   2990.0          0.243523             0.119   \n1                         Xiaomi      NaN          0.200573             0.323   \n2                         Huawei   5915.0          0.299270             0.187   \n3  Huawei Device Company Limited  13990.0          0.181818             0.178   \n4                         Huawei  12990.0          0.326898             0.372   \n\n   day_fraction  ...  127.0.0.1  bukvaprava.ru  ngs24-ru.turbopages.org  \\\n0         0.554  ...        0.0            0.0                      0.0   \n1         0.347  ...        0.0            0.0                      0.0   \n2         0.482  ...        0.0            0.0                      0.0   \n3         0.353  ...        0.0            0.0                      0.0   \n4         0.349  ...        0.0            0.0                      0.0   \n\n   forum.mfd.ru  other_url  other_female_urls_frac  other_male_urls_frac  \\\n0           0.0   0.031088                0.005181              0.000000   \n1           0.0   0.013372                0.001910              0.000955   \n2           0.0   0.002433                0.000000              0.000000   \n3           0.0   0.010909                0.003636              0.003636   \n4           0.0   0.011583                0.003861              0.000000   \n\n   male_probability_by_urls  catboost_top400urls  is_male  \n0                  0.500491             0.076492        0  \n1                  0.523982             0.105959        0  \n2                  0.525968             0.458972        0  \n3                  0.519823             0.359567        1  \n4                  0.510070             0.054218        0  \n\n[5 rows x 1102 columns]",
      "text/html": "<div>\n<style scoped>\n    .dataframe tbody tr th:only-of-type {\n        vertical-align: middle;\n    }\n\n    .dataframe tbody tr th {\n        vertical-align: top;\n    }\n\n    .dataframe thead th {\n        text-align: right;\n    }\n</style>\n<table border=\"1\" class=\"dataframe\">\n  <thead>\n    <tr style=\"text-align: right;\">\n      <th></th>\n      <th>user_id</th>\n      <th>region_name</th>\n      <th>male_fraction_region</th>\n      <th>city_name</th>\n      <th>city_count</th>\n      <th>cpe_manufacturer_name</th>\n      <th>price</th>\n      <th>holyday_fraction</th>\n      <th>morning_fraction</th>\n      <th>day_fraction</th>\n      <th>...</th>\n      <th>127.0.0.1</th>\n      <th>bukvaprava.ru</th>\n      <th>ngs24-ru.turbopages.org</th>\n      <th>forum.mfd.ru</th>\n      <th>other_url</th>\n      <th>other_female_urls_frac</th>\n      <th>other_male_urls_frac</th>\n      <th>male_probability_by_urls</th>\n      <th>catboost_top400urls</th>\n      <th>is_male</th>\n    </tr>\n  </thead>\n  <tbody>\n    <tr>\n      <th>0</th>\n      <td>0</td>\n      <td>Москва</td>\n      <td>0.461904</td>\n      <td>Москва</td>\n      <td>1</td>\n      <td>Samsung</td>\n      <td>2990.0</td>\n      <td>0.243523</td>\n      <td>0.119</td>\n      <td>0.554</td>\n      <td>...</td>\n      <td>0.0</td>\n      <td>0.0</td>\n      <td>0.0</td>\n      <td>0.0</td>\n      <td>0.031088</td>\n      <td>0.005181</td>\n      <td>0.000000</td>\n      <td>0.500491</td>\n      <td>0.076492</td>\n      <td>0</td>\n    </tr>\n    <tr>\n      <th>1</th>\n      <td>1</td>\n      <td>Москва</td>\n      <td>0.461904</td>\n      <td>Москва</td>\n      <td>6</td>\n      <td>Xiaomi</td>\n      <td>NaN</td>\n      <td>0.200573</td>\n      <td>0.323</td>\n      <td>0.347</td>\n      <td>...</td>\n      <td>0.0</td>\n      <td>0.0</td>\n      <td>0.0</td>\n      <td>0.0</td>\n      <td>0.013372</td>\n      <td>0.001910</td>\n      <td>0.000955</td>\n      <td>0.523982</td>\n      <td>0.105959</td>\n      <td>0</td>\n    </tr>\n    <tr>\n      <th>2</th>\n      <td>2</td>\n      <td>Республика Коми</td>\n      <td>0.472075</td>\n      <td>Печора</td>\n      <td>1</td>\n      <td>Huawei</td>\n      <td>5915.0</td>\n      <td>0.299270</td>\n      <td>0.187</td>\n      <td>0.482</td>\n      <td>...</td>\n      <td>0.0</td>\n      <td>0.0</td>\n      <td>0.0</td>\n      <td>0.0</td>\n      <td>0.002433</td>\n      <td>0.000000</td>\n      <td>0.000000</td>\n      <td>0.525968</td>\n      <td>0.458972</td>\n      <td>0</td>\n    </tr>\n    <tr>\n      <th>3</th>\n      <td>3</td>\n      <td>Воронежская область</td>\n      <td>0.458936</td>\n      <td>Воронеж</td>\n      <td>1</td>\n      <td>Huawei Device Company Limited</td>\n      <td>13990.0</td>\n      <td>0.181818</td>\n      <td>0.178</td>\n      <td>0.353</td>\n      <td>...</td>\n      <td>0.0</td>\n      <td>0.0</td>\n      <td>0.0</td>\n      <td>0.0</td>\n      <td>0.010909</td>\n      <td>0.003636</td>\n      <td>0.003636</td>\n      <td>0.519823</td>\n      <td>0.359567</td>\n      <td>1</td>\n    </tr>\n    <tr>\n      <th>4</th>\n      <td>4</td>\n      <td>Краснодарский край</td>\n      <td>0.463641</td>\n      <td>Анапа</td>\n      <td>9</td>\n      <td>Huawei</td>\n      <td>12990.0</td>\n      <td>0.326898</td>\n      <td>0.372</td>\n      <td>0.349</td>\n      <td>...</td>\n      <td>0.0</td>\n      <td>0.0</td>\n      <td>0.0</td>\n      <td>0.0</td>\n      <td>0.011583</td>\n      <td>0.003861</td>\n      <td>0.000000</td>\n      <td>0.510070</td>\n      <td>0.054218</td>\n      <td>0</td>\n    </tr>\n  </tbody>\n</table>\n<p>5 rows × 1102 columns</p>\n</div>"
     },
     "metadata": {},
     "output_type": "display_data"
    },
    {
     "name": "stdout",
     "output_type": "stream",
     "text": [
      "<class 'pandas.core.frame.DataFrame'>\n",
      "Int64Index: 264326 entries, 0 to 269999\n",
      "Columns: 1102 entries, user_id to is_male\n",
      "dtypes: float32(1096), int32(1), int8(2), object(3)\n",
      "memory usage: 1.1+ GB\n"
     ]
    },
    {
     "data": {
      "text/plain": "None"
     },
     "metadata": {},
     "output_type": "display_data"
    }
   ],
   "source": [
    "df = dd.read_parquet('..\\\\full_data\\\\ready_gender_data.parquet').compute()\n",
    "\n",
    "# добавляем target, удаляем nan\n",
    "df = df.merge(pd.read_parquet('..\\\\full_data\\\\public_train.pqt',columns=['user_id','is_male'])[['is_male','user_id']], on = 'user_id', how = 'inner')\n",
    "df = df.loc[~(df['is_male'].isna()) & (df['is_male'] != 'NA')]\n",
    "df['is_male'] = df['is_male'].astype('int8')\n",
    "\n",
    "display(df.head())\n",
    "display(df.info())"
   ],
   "metadata": {
    "collapsed": false
   }
  },
  {
   "cell_type": "code",
   "execution_count": 15,
   "outputs": [
    {
     "name": "stdout",
     "output_type": "stream",
     "text": [
      "0:\tlearn: 0.6876687\ttotal: 781ms\tremaining: 5h 25m 12s\n",
      "100:\tlearn: 0.4806422\ttotal: 5.55s\tremaining: 22m 49s\n",
      "200:\tlearn: 0.4546239\ttotal: 10.1s\tremaining: 20m 43s\n",
      "300:\tlearn: 0.4479074\ttotal: 14.6s\tremaining: 19m 55s\n",
      "400:\tlearn: 0.4444166\ttotal: 19s\tremaining: 19m 23s\n",
      "500:\tlearn: 0.4422319\ttotal: 23.3s\tremaining: 18m 57s\n",
      "600:\tlearn: 0.4403895\ttotal: 27.4s\tremaining: 18m 33s\n",
      "700:\tlearn: 0.4387856\ttotal: 31.6s\tremaining: 18m 13s\n",
      "800:\tlearn: 0.4373641\ttotal: 35.7s\tremaining: 17m 58s\n",
      "900:\tlearn: 0.4360148\ttotal: 39.9s\tremaining: 17m 47s\n",
      "1000:\tlearn: 0.4348266\ttotal: 44s\tremaining: 17m 35s\n",
      "1100:\tlearn: 0.4337396\ttotal: 48s\tremaining: 17m 21s\n",
      "1200:\tlearn: 0.4327140\ttotal: 52s\tremaining: 17m 9s\n",
      "1300:\tlearn: 0.4316908\ttotal: 56s\tremaining: 16m 59s\n",
      "1400:\tlearn: 0.4307214\ttotal: 59.9s\tremaining: 16m 49s\n",
      "1500:\tlearn: 0.4298137\ttotal: 1m 3s\tremaining: 16m 40s\n",
      "1600:\tlearn: 0.4289335\ttotal: 1m 7s\tremaining: 16m 31s\n",
      "1700:\tlearn: 0.4281002\ttotal: 1m 11s\tremaining: 16m 22s\n",
      "1800:\tlearn: 0.4273078\ttotal: 1m 15s\tremaining: 16m 13s\n",
      "1900:\tlearn: 0.4265094\ttotal: 1m 19s\tremaining: 16m 6s\n",
      "2000:\tlearn: 0.4257486\ttotal: 1m 23s\tremaining: 15m 58s\n",
      "2100:\tlearn: 0.4250225\ttotal: 1m 27s\tremaining: 15m 51s\n",
      "2200:\tlearn: 0.4243339\ttotal: 1m 31s\tremaining: 15m 43s\n",
      "2300:\tlearn: 0.4236581\ttotal: 1m 34s\tremaining: 15m 36s\n",
      "2400:\tlearn: 0.4230080\ttotal: 1m 38s\tremaining: 15m 28s\n",
      "2500:\tlearn: 0.4223730\ttotal: 1m 42s\tremaining: 15m 21s\n",
      "2600:\tlearn: 0.4217367\ttotal: 1m 46s\tremaining: 15m 15s\n",
      "2700:\tlearn: 0.4211302\ttotal: 1m 50s\tremaining: 15m 8s\n",
      "2800:\tlearn: 0.4205299\ttotal: 1m 53s\tremaining: 15m 2s\n",
      "2900:\tlearn: 0.4199593\ttotal: 1m 57s\tremaining: 14m 56s\n",
      "3000:\tlearn: 0.4193882\ttotal: 2m 1s\tremaining: 14m 50s\n",
      "3100:\tlearn: 0.4188402\ttotal: 2m 5s\tremaining: 14m 44s\n",
      "3200:\tlearn: 0.4182772\ttotal: 2m 8s\tremaining: 14m 38s\n",
      "3300:\tlearn: 0.4177565\ttotal: 2m 12s\tremaining: 14m 32s\n",
      "3400:\tlearn: 0.4172267\ttotal: 2m 16s\tremaining: 14m 26s\n",
      "3500:\tlearn: 0.4167134\ttotal: 2m 20s\tremaining: 14m 20s\n",
      "3600:\tlearn: 0.4162194\ttotal: 2m 23s\tremaining: 14m 14s\n",
      "3700:\tlearn: 0.4157059\ttotal: 2m 27s\tremaining: 14m 9s\n",
      "3800:\tlearn: 0.4152254\ttotal: 2m 31s\tremaining: 14m 3s\n",
      "3900:\tlearn: 0.4147444\ttotal: 2m 34s\tremaining: 13m 58s\n",
      "4000:\tlearn: 0.4142618\ttotal: 2m 38s\tremaining: 13m 52s\n",
      "4100:\tlearn: 0.4137884\ttotal: 2m 42s\tremaining: 13m 47s\n",
      "4200:\tlearn: 0.4133378\ttotal: 2m 46s\tremaining: 13m 42s\n",
      "4300:\tlearn: 0.4128789\ttotal: 2m 49s\tremaining: 13m 37s\n",
      "4400:\tlearn: 0.4124214\ttotal: 2m 53s\tremaining: 13m 32s\n",
      "4500:\tlearn: 0.4119754\ttotal: 2m 57s\tremaining: 13m 27s\n",
      "4600:\tlearn: 0.4115268\ttotal: 3m\tremaining: 13m 22s\n",
      "4700:\tlearn: 0.4110971\ttotal: 3m 4s\tremaining: 13m 17s\n",
      "4800:\tlearn: 0.4106803\ttotal: 3m 8s\tremaining: 13m 12s\n",
      "4900:\tlearn: 0.4102483\ttotal: 3m 12s\tremaining: 13m 7s\n",
      "5000:\tlearn: 0.4098458\ttotal: 3m 15s\tremaining: 13m 3s\n",
      "5100:\tlearn: 0.4094412\ttotal: 3m 19s\tremaining: 12m 58s\n",
      "5200:\tlearn: 0.4090203\ttotal: 3m 23s\tremaining: 12m 53s\n",
      "5300:\tlearn: 0.4086094\ttotal: 3m 26s\tremaining: 12m 48s\n",
      "5400:\tlearn: 0.4082129\ttotal: 3m 30s\tremaining: 12m 44s\n",
      "5500:\tlearn: 0.4078277\ttotal: 3m 34s\tremaining: 12m 39s\n",
      "5600:\tlearn: 0.4074337\ttotal: 3m 37s\tremaining: 12m 34s\n",
      "5700:\tlearn: 0.4070432\ttotal: 3m 41s\tremaining: 12m 30s\n",
      "5800:\tlearn: 0.4066746\ttotal: 3m 45s\tremaining: 12m 25s\n",
      "5900:\tlearn: 0.4062826\ttotal: 3m 48s\tremaining: 12m 21s\n",
      "6000:\tlearn: 0.4059256\ttotal: 3m 52s\tremaining: 12m 16s\n",
      "6100:\tlearn: 0.4055377\ttotal: 3m 56s\tremaining: 12m 12s\n",
      "6200:\tlearn: 0.4051650\ttotal: 4m\tremaining: 12m 7s\n",
      "6300:\tlearn: 0.4048003\ttotal: 4m 3s\tremaining: 12m 3s\n",
      "6400:\tlearn: 0.4044454\ttotal: 4m 7s\tremaining: 11m 58s\n",
      "6500:\tlearn: 0.4040873\ttotal: 4m 11s\tremaining: 11m 54s\n",
      "6600:\tlearn: 0.4037458\ttotal: 4m 14s\tremaining: 11m 49s\n",
      "6700:\tlearn: 0.4033992\ttotal: 4m 18s\tremaining: 11m 45s\n",
      "6800:\tlearn: 0.4030429\ttotal: 4m 22s\tremaining: 11m 41s\n",
      "6900:\tlearn: 0.4027014\ttotal: 4m 25s\tremaining: 11m 36s\n",
      "7000:\tlearn: 0.4023567\ttotal: 4m 29s\tremaining: 11m 32s\n",
      "7100:\tlearn: 0.4020115\ttotal: 4m 33s\tremaining: 11m 28s\n",
      "7200:\tlearn: 0.4016644\ttotal: 4m 36s\tremaining: 11m 24s\n",
      "7300:\tlearn: 0.4013304\ttotal: 4m 40s\tremaining: 11m 19s\n",
      "7400:\tlearn: 0.4010037\ttotal: 4m 44s\tremaining: 11m 15s\n",
      "7500:\tlearn: 0.4006777\ttotal: 4m 47s\tremaining: 11m 11s\n",
      "7600:\tlearn: 0.4003643\ttotal: 4m 51s\tremaining: 11m 7s\n",
      "7700:\tlearn: 0.4000559\ttotal: 4m 55s\tremaining: 11m 2s\n",
      "7800:\tlearn: 0.3997275\ttotal: 4m 58s\tremaining: 10m 58s\n",
      "7900:\tlearn: 0.3994066\ttotal: 5m 2s\tremaining: 10m 54s\n",
      "8000:\tlearn: 0.3990858\ttotal: 5m 6s\tremaining: 10m 50s\n",
      "8100:\tlearn: 0.3987788\ttotal: 5m 9s\tremaining: 10m 46s\n",
      "8200:\tlearn: 0.3984594\ttotal: 5m 13s\tremaining: 10m 42s\n",
      "8300:\tlearn: 0.3981503\ttotal: 5m 17s\tremaining: 10m 38s\n",
      "8400:\tlearn: 0.3978414\ttotal: 5m 20s\tremaining: 10m 34s\n",
      "8500:\tlearn: 0.3975286\ttotal: 5m 24s\tremaining: 10m 30s\n",
      "8600:\tlearn: 0.3972265\ttotal: 5m 28s\tremaining: 10m 25s\n",
      "8700:\tlearn: 0.3969495\ttotal: 5m 31s\tremaining: 10m 21s\n",
      "8800:\tlearn: 0.3966340\ttotal: 5m 35s\tremaining: 10m 17s\n",
      "8900:\tlearn: 0.3963361\ttotal: 5m 39s\tremaining: 10m 13s\n",
      "9000:\tlearn: 0.3960350\ttotal: 5m 42s\tremaining: 10m 9s\n",
      "9100:\tlearn: 0.3957452\ttotal: 5m 46s\tremaining: 10m 5s\n",
      "9200:\tlearn: 0.3954562\ttotal: 5m 50s\tremaining: 10m 1s\n",
      "9300:\tlearn: 0.3951635\ttotal: 5m 53s\tremaining: 9m 57s\n",
      "9400:\tlearn: 0.3948840\ttotal: 5m 57s\tremaining: 9m 53s\n",
      "9500:\tlearn: 0.3945916\ttotal: 6m 1s\tremaining: 9m 49s\n",
      "9600:\tlearn: 0.3942968\ttotal: 6m 4s\tremaining: 9m 45s\n",
      "9700:\tlearn: 0.3940268\ttotal: 6m 8s\tremaining: 9m 41s\n",
      "9800:\tlearn: 0.3937476\ttotal: 6m 12s\tremaining: 9m 37s\n",
      "9900:\tlearn: 0.3934635\ttotal: 6m 15s\tremaining: 9m 33s\n",
      "10000:\tlearn: 0.3931891\ttotal: 6m 19s\tremaining: 9m 29s\n",
      "10100:\tlearn: 0.3929028\ttotal: 6m 23s\tremaining: 9m 25s\n",
      "10200:\tlearn: 0.3926295\ttotal: 6m 26s\tremaining: 9m 21s\n",
      "10300:\tlearn: 0.3923611\ttotal: 6m 30s\tremaining: 9m 17s\n",
      "10400:\tlearn: 0.3920814\ttotal: 6m 34s\tremaining: 9m 13s\n",
      "10500:\tlearn: 0.3917951\ttotal: 6m 37s\tremaining: 9m 9s\n",
      "10600:\tlearn: 0.3915300\ttotal: 6m 41s\tremaining: 9m 5s\n",
      "10700:\tlearn: 0.3912489\ttotal: 6m 45s\tremaining: 9m 1s\n",
      "10800:\tlearn: 0.3909830\ttotal: 6m 48s\tremaining: 8m 57s\n",
      "10900:\tlearn: 0.3907207\ttotal: 6m 52s\tremaining: 8m 53s\n",
      "11000:\tlearn: 0.3904675\ttotal: 6m 56s\tremaining: 8m 49s\n",
      "11100:\tlearn: 0.3902065\ttotal: 6m 59s\tremaining: 8m 45s\n",
      "11200:\tlearn: 0.3899554\ttotal: 7m 3s\tremaining: 8m 41s\n",
      "11300:\tlearn: 0.3896738\ttotal: 7m 7s\tremaining: 8m 37s\n",
      "11400:\tlearn: 0.3894141\ttotal: 7m 10s\tremaining: 8m 33s\n",
      "11500:\tlearn: 0.3891578\ttotal: 7m 14s\tremaining: 8m 29s\n",
      "11600:\tlearn: 0.3888905\ttotal: 7m 18s\tremaining: 8m 25s\n",
      "11700:\tlearn: 0.3886421\ttotal: 7m 21s\tremaining: 8m 22s\n",
      "11800:\tlearn: 0.3883866\ttotal: 7m 25s\tremaining: 8m 18s\n",
      "11900:\tlearn: 0.3881376\ttotal: 7m 28s\tremaining: 8m 14s\n",
      "12000:\tlearn: 0.3878890\ttotal: 7m 32s\tremaining: 8m 10s\n",
      "12100:\tlearn: 0.3876357\ttotal: 7m 36s\tremaining: 8m 6s\n",
      "12200:\tlearn: 0.3873742\ttotal: 7m 39s\tremaining: 8m 2s\n",
      "12300:\tlearn: 0.3871178\ttotal: 7m 43s\tremaining: 7m 58s\n",
      "12400:\tlearn: 0.3868823\ttotal: 7m 47s\tremaining: 7m 54s\n",
      "12500:\tlearn: 0.3866149\ttotal: 7m 51s\tremaining: 7m 50s\n",
      "12600:\tlearn: 0.3863622\ttotal: 7m 54s\tremaining: 7m 47s\n",
      "12700:\tlearn: 0.3861141\ttotal: 7m 58s\tremaining: 7m 43s\n",
      "12800:\tlearn: 0.3858670\ttotal: 8m 1s\tremaining: 7m 39s\n",
      "12900:\tlearn: 0.3856225\ttotal: 8m 5s\tremaining: 7m 35s\n",
      "13000:\tlearn: 0.3853769\ttotal: 8m 9s\tremaining: 7m 31s\n",
      "13100:\tlearn: 0.3851392\ttotal: 8m 12s\tremaining: 7m 27s\n",
      "13200:\tlearn: 0.3848902\ttotal: 8m 16s\tremaining: 7m 23s\n",
      "13300:\tlearn: 0.3846455\ttotal: 8m 20s\tremaining: 7m 19s\n",
      "13400:\tlearn: 0.3844038\ttotal: 8m 23s\tremaining: 7m 16s\n",
      "13500:\tlearn: 0.3841776\ttotal: 8m 27s\tremaining: 7m 12s\n",
      "13600:\tlearn: 0.3839423\ttotal: 8m 30s\tremaining: 7m 8s\n",
      "13700:\tlearn: 0.3837046\ttotal: 8m 34s\tremaining: 7m 4s\n",
      "13800:\tlearn: 0.3834462\ttotal: 8m 38s\tremaining: 7m\n",
      "13900:\tlearn: 0.3832182\ttotal: 8m 41s\tremaining: 6m 56s\n",
      "14000:\tlearn: 0.3829816\ttotal: 8m 45s\tremaining: 6m 52s\n",
      "14100:\tlearn: 0.3827438\ttotal: 8m 49s\tremaining: 6m 49s\n",
      "14200:\tlearn: 0.3825166\ttotal: 8m 52s\tremaining: 6m 45s\n",
      "14300:\tlearn: 0.3822818\ttotal: 8m 56s\tremaining: 6m 41s\n",
      "14400:\tlearn: 0.3820477\ttotal: 9m\tremaining: 6m 37s\n",
      "14500:\tlearn: 0.3818087\ttotal: 9m 3s\tremaining: 6m 33s\n",
      "14600:\tlearn: 0.3815696\ttotal: 9m 7s\tremaining: 6m 29s\n",
      "14700:\tlearn: 0.3813342\ttotal: 9m 11s\tremaining: 6m 26s\n",
      "14800:\tlearn: 0.3810927\ttotal: 9m 14s\tremaining: 6m 22s\n",
      "14900:\tlearn: 0.3808591\ttotal: 9m 18s\tremaining: 6m 18s\n",
      "15000:\tlearn: 0.3806161\ttotal: 9m 22s\tremaining: 6m 14s\n",
      "15100:\tlearn: 0.3803865\ttotal: 9m 25s\tremaining: 6m 10s\n",
      "15200:\tlearn: 0.3801556\ttotal: 9m 29s\tremaining: 6m 7s\n",
      "15300:\tlearn: 0.3799143\ttotal: 9m 33s\tremaining: 6m 3s\n",
      "15400:\tlearn: 0.3796921\ttotal: 9m 36s\tremaining: 5m 59s\n",
      "15500:\tlearn: 0.3794684\ttotal: 9m 40s\tremaining: 5m 55s\n",
      "15600:\tlearn: 0.3792396\ttotal: 9m 43s\tremaining: 5m 51s\n",
      "15700:\tlearn: 0.3790143\ttotal: 9m 47s\tremaining: 5m 48s\n",
      "15800:\tlearn: 0.3787968\ttotal: 9m 53s\tremaining: 5m 45s\n",
      "15900:\tlearn: 0.3785612\ttotal: 9m 59s\tremaining: 5m 42s\n",
      "16000:\tlearn: 0.3783350\ttotal: 10m 2s\tremaining: 5m 38s\n",
      "16100:\tlearn: 0.3781200\ttotal: 10m 6s\tremaining: 5m 35s\n",
      "16200:\tlearn: 0.3778961\ttotal: 10m 10s\tremaining: 5m 31s\n",
      "16300:\tlearn: 0.3776721\ttotal: 10m 14s\tremaining: 5m 27s\n",
      "16400:\tlearn: 0.3774557\ttotal: 10m 17s\tremaining: 5m 23s\n",
      "16500:\tlearn: 0.3772388\ttotal: 10m 21s\tremaining: 5m 19s\n",
      "16600:\tlearn: 0.3770225\ttotal: 10m 24s\tremaining: 5m 16s\n",
      "16700:\tlearn: 0.3768078\ttotal: 10m 28s\tremaining: 5m 12s\n",
      "16800:\tlearn: 0.3765940\ttotal: 10m 32s\tremaining: 5m 8s\n",
      "16900:\tlearn: 0.3763680\ttotal: 10m 36s\tremaining: 5m 4s\n",
      "17000:\tlearn: 0.3761549\ttotal: 10m 39s\tremaining: 5m 1s\n",
      "17100:\tlearn: 0.3759353\ttotal: 10m 43s\tremaining: 4m 57s\n",
      "17200:\tlearn: 0.3757162\ttotal: 10m 47s\tremaining: 4m 53s\n",
      "17300:\tlearn: 0.3754975\ttotal: 10m 50s\tremaining: 4m 49s\n",
      "17400:\tlearn: 0.3752830\ttotal: 10m 54s\tremaining: 4m 45s\n",
      "17500:\tlearn: 0.3750744\ttotal: 10m 58s\tremaining: 4m 42s\n",
      "17600:\tlearn: 0.3748564\ttotal: 11m 2s\tremaining: 4m 38s\n",
      "17700:\tlearn: 0.3746300\ttotal: 11m 5s\tremaining: 4m 34s\n",
      "17800:\tlearn: 0.3744121\ttotal: 11m 9s\tremaining: 4m 30s\n",
      "17900:\tlearn: 0.3741981\ttotal: 11m 13s\tremaining: 4m 27s\n",
      "18000:\tlearn: 0.3739971\ttotal: 11m 17s\tremaining: 4m 23s\n",
      "18100:\tlearn: 0.3737738\ttotal: 11m 21s\tremaining: 4m 19s\n",
      "18200:\tlearn: 0.3735660\ttotal: 11m 25s\tremaining: 4m 16s\n",
      "18300:\tlearn: 0.3733564\ttotal: 11m 29s\tremaining: 4m 12s\n",
      "18400:\tlearn: 0.3731412\ttotal: 11m 33s\tremaining: 4m 8s\n",
      "18500:\tlearn: 0.3729356\ttotal: 11m 37s\tremaining: 4m 4s\n",
      "18600:\tlearn: 0.3727193\ttotal: 11m 41s\tremaining: 4m 1s\n",
      "18700:\tlearn: 0.3725164\ttotal: 11m 44s\tremaining: 3m 57s\n",
      "18800:\tlearn: 0.3723050\ttotal: 11m 48s\tremaining: 3m 53s\n",
      "18900:\tlearn: 0.3720898\ttotal: 11m 52s\tremaining: 3m 49s\n",
      "19000:\tlearn: 0.3718772\ttotal: 11m 55s\tremaining: 3m 45s\n",
      "19100:\tlearn: 0.3716781\ttotal: 11m 59s\tremaining: 3m 42s\n",
      "19200:\tlearn: 0.3714782\ttotal: 12m 3s\tremaining: 3m 38s\n",
      "19300:\tlearn: 0.3712770\ttotal: 12m 6s\tremaining: 3m 34s\n",
      "19400:\tlearn: 0.3710620\ttotal: 12m 10s\tremaining: 3m 30s\n",
      "19500:\tlearn: 0.3708628\ttotal: 12m 14s\tremaining: 3m 27s\n",
      "19600:\tlearn: 0.3706490\ttotal: 12m 18s\tremaining: 3m 23s\n",
      "19700:\tlearn: 0.3704452\ttotal: 12m 21s\tremaining: 3m 19s\n",
      "19800:\tlearn: 0.3702380\ttotal: 12m 26s\tremaining: 3m 16s\n",
      "19900:\tlearn: 0.3700342\ttotal: 12m 32s\tremaining: 3m 12s\n",
      "20000:\tlearn: 0.3698470\ttotal: 12m 41s\tremaining: 3m 10s\n",
      "20100:\tlearn: 0.3696481\ttotal: 12m 49s\tremaining: 3m 7s\n",
      "20200:\tlearn: 0.3694458\ttotal: 12m 56s\tremaining: 3m 4s\n",
      "20300:\tlearn: 0.3692379\ttotal: 13m\tremaining: 3m\n",
      "20400:\tlearn: 0.3690382\ttotal: 13m 4s\tremaining: 2m 56s\n",
      "20500:\tlearn: 0.3688298\ttotal: 13m 7s\tremaining: 2m 52s\n",
      "20600:\tlearn: 0.3686377\ttotal: 13m 11s\tremaining: 2m 49s\n",
      "20700:\tlearn: 0.3684311\ttotal: 13m 15s\tremaining: 2m 45s\n",
      "20800:\tlearn: 0.3682349\ttotal: 13m 19s\tremaining: 2m 41s\n",
      "20900:\tlearn: 0.3680380\ttotal: 13m 22s\tremaining: 2m 37s\n",
      "21000:\tlearn: 0.3678345\ttotal: 13m 26s\tremaining: 2m 33s\n",
      "21100:\tlearn: 0.3676244\ttotal: 13m 30s\tremaining: 2m 29s\n",
      "21200:\tlearn: 0.3674219\ttotal: 13m 34s\tremaining: 2m 25s\n",
      "21300:\tlearn: 0.3672293\ttotal: 13m 37s\tremaining: 2m 22s\n",
      "21400:\tlearn: 0.3670293\ttotal: 13m 41s\tremaining: 2m 18s\n",
      "21500:\tlearn: 0.3668275\ttotal: 13m 45s\tremaining: 2m 14s\n",
      "21600:\tlearn: 0.3666383\ttotal: 13m 48s\tremaining: 2m 10s\n",
      "21700:\tlearn: 0.3664396\ttotal: 13m 52s\tremaining: 2m 6s\n",
      "21800:\tlearn: 0.3662430\ttotal: 13m 56s\tremaining: 2m 2s\n",
      "21900:\tlearn: 0.3660437\ttotal: 14m 4s\tremaining: 1m 59s\n",
      "22000:\tlearn: 0.3658460\ttotal: 14m 10s\tremaining: 1m 55s\n",
      "22100:\tlearn: 0.3656495\ttotal: 14m 14s\tremaining: 1m 52s\n",
      "22200:\tlearn: 0.3654431\ttotal: 14m 18s\tremaining: 1m 48s\n",
      "22300:\tlearn: 0.3652377\ttotal: 14m 22s\tremaining: 1m 44s\n",
      "22400:\tlearn: 0.3650395\ttotal: 14m 25s\tremaining: 1m 40s\n",
      "22500:\tlearn: 0.3648520\ttotal: 14m 29s\tremaining: 1m 36s\n",
      "22600:\tlearn: 0.3646531\ttotal: 14m 33s\tremaining: 1m 32s\n",
      "22700:\tlearn: 0.3644511\ttotal: 14m 37s\tremaining: 1m 28s\n",
      "22800:\tlearn: 0.3642580\ttotal: 14m 41s\tremaining: 1m 24s\n",
      "22900:\tlearn: 0.3640599\ttotal: 14m 44s\tremaining: 1m 21s\n",
      "23000:\tlearn: 0.3638682\ttotal: 14m 48s\tremaining: 1m 17s\n",
      "23100:\tlearn: 0.3636609\ttotal: 14m 52s\tremaining: 1m 13s\n",
      "23200:\tlearn: 0.3634683\ttotal: 14m 55s\tremaining: 1m 9s\n",
      "23300:\tlearn: 0.3632832\ttotal: 14m 59s\tremaining: 1m 5s\n",
      "23400:\tlearn: 0.3630974\ttotal: 15m 3s\tremaining: 1m 1s\n",
      "23500:\tlearn: 0.3629174\ttotal: 15m 6s\tremaining: 57.8s\n",
      "23600:\tlearn: 0.3627251\ttotal: 15m 10s\tremaining: 54s\n",
      "23700:\tlearn: 0.3625438\ttotal: 15m 14s\tremaining: 50.1s\n",
      "23800:\tlearn: 0.3623403\ttotal: 15m 17s\tremaining: 46.2s\n",
      "23900:\tlearn: 0.3621418\ttotal: 15m 21s\tremaining: 42.4s\n",
      "24000:\tlearn: 0.3619572\ttotal: 15m 25s\tremaining: 38.5s\n",
      "24100:\tlearn: 0.3617640\ttotal: 15m 29s\tremaining: 34.7s\n",
      "24200:\tlearn: 0.3615733\ttotal: 15m 32s\tremaining: 30.8s\n",
      "24300:\tlearn: 0.3613951\ttotal: 15m 36s\tremaining: 26.9s\n",
      "24400:\tlearn: 0.3612121\ttotal: 15m 40s\tremaining: 23.1s\n",
      "24500:\tlearn: 0.3610293\ttotal: 15m 43s\tremaining: 19.2s\n",
      "24600:\tlearn: 0.3608507\ttotal: 15m 47s\tremaining: 15.4s\n",
      "24700:\tlearn: 0.3606679\ttotal: 15m 51s\tremaining: 11.5s\n",
      "24800:\tlearn: 0.3604821\ttotal: 15m 55s\tremaining: 7.66s\n",
      "24900:\tlearn: 0.3602997\ttotal: 16m 7s\tremaining: 3.85s\n",
      "24999:\tlearn: 0.3601137\ttotal: 16m 11s\tremaining: 0us\n",
      "0.8458196614606668\n"
     ]
    }
   ],
   "source": [
    "x_train = df.drop(['is_male','user_id'],axis=1)\n",
    "y_train = df['is_male']\n",
    "\n",
    "pool_train = Pool(x_train, y_train,\n",
    "                  cat_features = list(x_train.select_dtypes(include=['object']).columns))\n",
    "\n",
    "model = CatBoostClassifier(iterations=25000,\n",
    "                           learning_rate = 0.01,\n",
    "                           random_state=42,\n",
    "                           task_type='GPU')\n",
    "\n",
    "model.fit(pool_train, verbose=100)\n",
    "print(2 * roc_auc_score(y_train, model.predict_proba(x_train)[:,1]) - 1)"
   ],
   "metadata": {
    "collapsed": false
   }
  },
  {
   "cell_type": "markdown",
   "source": [
    "## test"
   ],
   "metadata": {
    "collapsed": false
   }
  },
  {
   "cell_type": "code",
   "execution_count": 16,
   "outputs": [
    {
     "data": {
      "text/plain": "   user_id          region_name  male_fraction_region city_name  city_count  \\\n0        0               Москва              0.461904    Москва           1   \n1        1               Москва              0.461904    Москва           6   \n2        2      Республика Коми              0.472075    Печора           1   \n3        3  Воронежская область              0.458936   Воронеж           1   \n4        4   Краснодарский край              0.463641     Анапа           9   \n\n           cpe_manufacturer_name    price  holyday_fraction  morning_fraction  \\\n0                        Samsung   2990.0          0.243523             0.119   \n1                         Xiaomi      NaN          0.200573             0.323   \n2                         Huawei   5915.0          0.299270             0.187   \n3  Huawei Device Company Limited  13990.0          0.181818             0.178   \n4                         Huawei  12990.0          0.326898             0.372   \n\n   day_fraction  ...  megapteka-ru.turbopages.org  127.0.0.1  bukvaprava.ru  \\\n0         0.554  ...                          0.0        0.0            0.0   \n1         0.347  ...                          0.0        0.0            0.0   \n2         0.482  ...                          0.0        0.0            0.0   \n3         0.353  ...                          0.0        0.0            0.0   \n4         0.349  ...                          0.0        0.0            0.0   \n\n   ngs24-ru.turbopages.org  forum.mfd.ru  other_url  other_female_urls_frac  \\\n0                      0.0           0.0   0.031088                0.005181   \n1                      0.0           0.0   0.013372                0.001910   \n2                      0.0           0.0   0.002433                0.000000   \n3                      0.0           0.0   0.010909                0.003636   \n4                      0.0           0.0   0.011583                0.003861   \n\n   other_male_urls_frac  male_probability_by_urls  catboost_top400urls  \n0              0.000000                  0.500491             0.076492  \n1              0.000955                  0.523982             0.105959  \n2              0.000000                  0.525968             0.458972  \n3              0.003636                  0.519823             0.359567  \n4              0.000000                  0.510070             0.054218  \n\n[5 rows x 1101 columns]",
      "text/html": "<div>\n<style scoped>\n    .dataframe tbody tr th:only-of-type {\n        vertical-align: middle;\n    }\n\n    .dataframe tbody tr th {\n        vertical-align: top;\n    }\n\n    .dataframe thead th {\n        text-align: right;\n    }\n</style>\n<table border=\"1\" class=\"dataframe\">\n  <thead>\n    <tr style=\"text-align: right;\">\n      <th></th>\n      <th>user_id</th>\n      <th>region_name</th>\n      <th>male_fraction_region</th>\n      <th>city_name</th>\n      <th>city_count</th>\n      <th>cpe_manufacturer_name</th>\n      <th>price</th>\n      <th>holyday_fraction</th>\n      <th>morning_fraction</th>\n      <th>day_fraction</th>\n      <th>...</th>\n      <th>megapteka-ru.turbopages.org</th>\n      <th>127.0.0.1</th>\n      <th>bukvaprava.ru</th>\n      <th>ngs24-ru.turbopages.org</th>\n      <th>forum.mfd.ru</th>\n      <th>other_url</th>\n      <th>other_female_urls_frac</th>\n      <th>other_male_urls_frac</th>\n      <th>male_probability_by_urls</th>\n      <th>catboost_top400urls</th>\n    </tr>\n  </thead>\n  <tbody>\n    <tr>\n      <th>0</th>\n      <td>0</td>\n      <td>Москва</td>\n      <td>0.461904</td>\n      <td>Москва</td>\n      <td>1</td>\n      <td>Samsung</td>\n      <td>2990.0</td>\n      <td>0.243523</td>\n      <td>0.119</td>\n      <td>0.554</td>\n      <td>...</td>\n      <td>0.0</td>\n      <td>0.0</td>\n      <td>0.0</td>\n      <td>0.0</td>\n      <td>0.0</td>\n      <td>0.031088</td>\n      <td>0.005181</td>\n      <td>0.000000</td>\n      <td>0.500491</td>\n      <td>0.076492</td>\n    </tr>\n    <tr>\n      <th>1</th>\n      <td>1</td>\n      <td>Москва</td>\n      <td>0.461904</td>\n      <td>Москва</td>\n      <td>6</td>\n      <td>Xiaomi</td>\n      <td>NaN</td>\n      <td>0.200573</td>\n      <td>0.323</td>\n      <td>0.347</td>\n      <td>...</td>\n      <td>0.0</td>\n      <td>0.0</td>\n      <td>0.0</td>\n      <td>0.0</td>\n      <td>0.0</td>\n      <td>0.013372</td>\n      <td>0.001910</td>\n      <td>0.000955</td>\n      <td>0.523982</td>\n      <td>0.105959</td>\n    </tr>\n    <tr>\n      <th>2</th>\n      <td>2</td>\n      <td>Республика Коми</td>\n      <td>0.472075</td>\n      <td>Печора</td>\n      <td>1</td>\n      <td>Huawei</td>\n      <td>5915.0</td>\n      <td>0.299270</td>\n      <td>0.187</td>\n      <td>0.482</td>\n      <td>...</td>\n      <td>0.0</td>\n      <td>0.0</td>\n      <td>0.0</td>\n      <td>0.0</td>\n      <td>0.0</td>\n      <td>0.002433</td>\n      <td>0.000000</td>\n      <td>0.000000</td>\n      <td>0.525968</td>\n      <td>0.458972</td>\n    </tr>\n    <tr>\n      <th>3</th>\n      <td>3</td>\n      <td>Воронежская область</td>\n      <td>0.458936</td>\n      <td>Воронеж</td>\n      <td>1</td>\n      <td>Huawei Device Company Limited</td>\n      <td>13990.0</td>\n      <td>0.181818</td>\n      <td>0.178</td>\n      <td>0.353</td>\n      <td>...</td>\n      <td>0.0</td>\n      <td>0.0</td>\n      <td>0.0</td>\n      <td>0.0</td>\n      <td>0.0</td>\n      <td>0.010909</td>\n      <td>0.003636</td>\n      <td>0.003636</td>\n      <td>0.519823</td>\n      <td>0.359567</td>\n    </tr>\n    <tr>\n      <th>4</th>\n      <td>4</td>\n      <td>Краснодарский край</td>\n      <td>0.463641</td>\n      <td>Анапа</td>\n      <td>9</td>\n      <td>Huawei</td>\n      <td>12990.0</td>\n      <td>0.326898</td>\n      <td>0.372</td>\n      <td>0.349</td>\n      <td>...</td>\n      <td>0.0</td>\n      <td>0.0</td>\n      <td>0.0</td>\n      <td>0.0</td>\n      <td>0.0</td>\n      <td>0.011583</td>\n      <td>0.003861</td>\n      <td>0.000000</td>\n      <td>0.510070</td>\n      <td>0.054218</td>\n    </tr>\n  </tbody>\n</table>\n<p>5 rows × 1101 columns</p>\n</div>"
     },
     "metadata": {},
     "output_type": "display_data"
    },
    {
     "name": "stdout",
     "output_type": "stream",
     "text": [
      "<class 'pandas.core.frame.DataFrame'>\n",
      "RangeIndex: 415317 entries, 0 to 415316\n",
      "Columns: 1101 entries, user_id to catboost_top400urls\n",
      "dtypes: float32(1096), int32(1), int8(1), object(3)\n",
      "memory usage: 1.7+ GB\n"
     ]
    },
    {
     "data": {
      "text/plain": "None"
     },
     "metadata": {},
     "output_type": "display_data"
    }
   ],
   "source": [
    "df = dd.read_parquet('..\\\\full_data\\\\ready_gender_data.parquet').compute()\n",
    "\n",
    "#оставляем id для теста\n",
    "submit = dd.read_parquet('..\\\\full_data\\\\submit_2.pqt').compute()\n",
    "submit = submit.sort_values('user_id', ignore_index=True)\n",
    "test_df = submit.merge(df, on='user_id',how ='left')\n",
    "\n",
    "display(df.head())\n",
    "display(df.info())"
   ],
   "metadata": {
    "collapsed": false
   }
  },
  {
   "cell_type": "code",
   "execution_count": 17,
   "outputs": [
    {
     "data": {
      "text/plain": "array([0.21077311, 0.90167581, 0.07017782, ..., 0.49237029, 0.41178107,\n       0.6048454 ])"
     },
     "execution_count": 17,
     "metadata": {},
     "output_type": "execute_result"
    }
   ],
   "source": [
    "model.predict_proba(test_df.drop('user_id',axis=1))[:,1]"
   ],
   "metadata": {
    "collapsed": false
   }
  },
  {
   "cell_type": "code",
   "execution_count": 18,
   "outputs": [],
   "source": [
    "submit['is_male'] = model.predict_proba(test_df.drop('user_id',axis=1))[:,1]\n",
    "submit['age'] = pd.Series(data=-1,index=submit.index)"
   ],
   "metadata": {
    "collapsed": false
   }
  },
  {
   "cell_type": "code",
   "execution_count": 19,
   "outputs": [],
   "source": [
    "submit.to_csv('gender_predict25000.csv', index=False)"
   ],
   "metadata": {
    "collapsed": false
   }
  }
 ],
 "metadata": {
  "kernelspec": {
   "display_name": "Python 3 (ipykernel)",
   "language": "python",
   "name": "python3"
  },
  "language_info": {
   "codemirror_mode": {
    "name": "ipython",
    "version": 3
   },
   "file_extension": ".py",
   "mimetype": "text/x-python",
   "name": "python",
   "nbconvert_exporter": "python",
   "pygments_lexer": "ipython3",
   "version": "3.8.10"
  }
 },
 "nbformat": 4,
 "nbformat_minor": 1
}
