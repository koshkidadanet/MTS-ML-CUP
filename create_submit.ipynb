{
 "cells": [
  {
   "cell_type": "code",
   "execution_count": 2,
   "metadata": {},
   "outputs": [],
   "source": [
    "import pandas as pd"
   ]
  },
  {
   "cell_type": "code",
   "execution_count": 14,
   "outputs": [
    {
     "data": {
      "text/plain": "        user_id  age   is_male\n0             6    3  0.210773\n1             7    2  0.901676\n2             9    2  0.070178\n3            10    3  0.015263\n4            11    5  0.940708\n...         ...  ...       ...\n144719   415306    2  0.690560\n144720   415310    3  0.617529\n144721   415314    2  0.492370\n144722   415315    3  0.411781\n144723   415316    3  0.604845\n\n[144724 rows x 3 columns]",
      "text/html": "<div>\n<style scoped>\n    .dataframe tbody tr th:only-of-type {\n        vertical-align: middle;\n    }\n\n    .dataframe tbody tr th {\n        vertical-align: top;\n    }\n\n    .dataframe thead th {\n        text-align: right;\n    }\n</style>\n<table border=\"1\" class=\"dataframe\">\n  <thead>\n    <tr style=\"text-align: right;\">\n      <th></th>\n      <th>user_id</th>\n      <th>age</th>\n      <th>is_male</th>\n    </tr>\n  </thead>\n  <tbody>\n    <tr>\n      <th>0</th>\n      <td>6</td>\n      <td>3</td>\n      <td>0.210773</td>\n    </tr>\n    <tr>\n      <th>1</th>\n      <td>7</td>\n      <td>2</td>\n      <td>0.901676</td>\n    </tr>\n    <tr>\n      <th>2</th>\n      <td>9</td>\n      <td>2</td>\n      <td>0.070178</td>\n    </tr>\n    <tr>\n      <th>3</th>\n      <td>10</td>\n      <td>3</td>\n      <td>0.015263</td>\n    </tr>\n    <tr>\n      <th>4</th>\n      <td>11</td>\n      <td>5</td>\n      <td>0.940708</td>\n    </tr>\n    <tr>\n      <th>...</th>\n      <td>...</td>\n      <td>...</td>\n      <td>...</td>\n    </tr>\n    <tr>\n      <th>144719</th>\n      <td>415306</td>\n      <td>2</td>\n      <td>0.690560</td>\n    </tr>\n    <tr>\n      <th>144720</th>\n      <td>415310</td>\n      <td>3</td>\n      <td>0.617529</td>\n    </tr>\n    <tr>\n      <th>144721</th>\n      <td>415314</td>\n      <td>2</td>\n      <td>0.492370</td>\n    </tr>\n    <tr>\n      <th>144722</th>\n      <td>415315</td>\n      <td>3</td>\n      <td>0.411781</td>\n    </tr>\n    <tr>\n      <th>144723</th>\n      <td>415316</td>\n      <td>3</td>\n      <td>0.604845</td>\n    </tr>\n  </tbody>\n</table>\n<p>144724 rows × 3 columns</p>\n</div>"
     },
     "metadata": {},
     "output_type": "display_data"
    }
   ],
   "source": [
    "age = pd.read_csv('prediction.csv')\n",
    "gender = pd.read_csv('gender_predict25000.csv')\n",
    "\n",
    "age['is_male'] = gender['is_male']\n",
    "age['age'] += 1\n",
    "\n",
    "display(age)"
   ],
   "metadata": {
    "collapsed": false
   }
  },
  {
   "cell_type": "code",
   "execution_count": 15,
   "outputs": [],
   "source": [
    "age.to_csv('age_male.csv', index=False)"
   ],
   "metadata": {
    "collapsed": false
   }
  },
  {
   "cell_type": "code",
   "execution_count": null,
   "outputs": [],
   "source": [],
   "metadata": {
    "collapsed": false
   }
  }
 ],
 "metadata": {
  "kernelspec": {
   "display_name": "Python 3 (ipykernel)",
   "language": "python",
   "name": "python3"
  },
  "language_info": {
   "codemirror_mode": {
    "name": "ipython",
    "version": 3
   },
   "file_extension": ".py",
   "mimetype": "text/x-python",
   "name": "python",
   "nbconvert_exporter": "python",
   "pygments_lexer": "ipython3",
   "version": "3.8.10"
  }
 },
 "nbformat": 4,
 "nbformat_minor": 1
}
