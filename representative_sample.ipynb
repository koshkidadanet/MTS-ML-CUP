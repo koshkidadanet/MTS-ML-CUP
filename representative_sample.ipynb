{
 "cells": [
  {
   "cell_type": "code",
   "execution_count": 1,
   "outputs": [],
   "source": [
    "import dask.dataframe as dd\n",
    "from dask.distributed import Client\n",
    "import pandas as pd\n",
    "import pyarrow.parquet as pq"
   ],
   "metadata": {
    "collapsed": false
   }
  },
  {
   "cell_type": "code",
   "execution_count": 2,
   "outputs": [
    {
     "data": {
      "text/plain": "Index(['region_name', 'city_name', 'cpe_manufacturer_name', 'cpe_model_name',\n       'url_host', 'cpe_type_cd', 'cpe_model_os_type', 'price', 'date',\n       'part_of_day', 'request_cnt', 'user_id', 'is_male', 'group'],\n      dtype='object')"
     },
     "execution_count": 2,
     "metadata": {},
     "output_type": "execute_result"
    }
   ],
   "source": [
    "df = dd.read_parquet('data/train_data_pqt.parquet')\n",
    "df = df.drop('age',axis=1)\n",
    "df.columns"
   ],
   "metadata": {
    "collapsed": false
   }
  },
  {
   "cell_type": "code",
   "execution_count": 3,
   "outputs": [],
   "source": [
    "type_col = {'region_name': 'category', 'city_name': 'category', 'cpe_manufacturer_name': 'category', 'cpe_model_name': 'category',\n",
    "            'url_host': 'object', 'cpe_type_cd':'category', 'cpe_model_os_type': 'category', 'price': 'float64', 'date': 'object',\n",
    "            'part_of_day': 'category', 'request_cnt': 'int8', 'user_id': 'int32', 'is_male': 'float64', 'group':'float64', 'stratify_column':'object'}\n",
    "\n",
    "df['stratify_column'] = df['region_name'].astype(str) + \"_\"\\\n",
    "                        + df['city_name'].astype(str) + \"_\"\\\n",
    "                        + df['cpe_manufacturer_name'].astype(str) + \"_\"\\\n",
    "                        + df['cpe_model_name'].astype(str) + \"_\"\\\n",
    "                        + df['cpe_type_cd'].astype(str) + \"_\"\\\n",
    "                        + df['cpe_model_os_type'].astype(str) + \"_\"\\\n",
    "                        + df['part_of_day'].astype(str) + \"_\" \\\n",
    "                        + df['is_male'].astype(str) + \"_\" \\\n",
    "                        + df['group'].astype(str)\n",
    "\n",
    "stratified_sample = df.groupby('stratify_column',group_keys= False).apply(lambda row: row.sample(frac=0.4), meta = type_col)\n",
    "stratified_sample = stratified_sample.drop('stratify_column',axis=1)\n"
   ],
   "metadata": {
    "collapsed": false
   }
  },
  {
   "cell_type": "code",
   "execution_count": null,
   "outputs": [],
   "source": [
    "stratified_sample['region_name'].to_frame().to_parquet('strat_region_name.parquet', index=False)"
   ],
   "metadata": {
    "collapsed": false,
    "pycharm": {
     "is_executing": true
    }
   }
  }
 ],
 "metadata": {
  "kernelspec": {
   "display_name": "Python 3",
   "language": "python",
   "name": "python3"
  },
  "language_info": {
   "codemirror_mode": {
    "name": "ipython",
    "version": 2
   },
   "file_extension": ".py",
   "mimetype": "text/x-python",
   "name": "python",
   "nbconvert_exporter": "python",
   "pygments_lexer": "ipython2",
   "version": "2.7.6"
  }
 },
 "nbformat": 4,
 "nbformat_minor": 0
}
