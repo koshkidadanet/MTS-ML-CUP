{
 "cells": [
  {
   "cell_type": "code",
   "execution_count": 2,
   "outputs": [],
   "source": [
    "import dask.dataframe as dd\n",
    "#from dask.distributed import Client\n",
    "import pandas as pd\n",
    "import pyarrow.parquet as pq"
   ],
   "metadata": {
    "collapsed": false
   }
  },
  {
   "cell_type": "code",
   "execution_count": 5,
   "outputs": [
    {
     "ename": "NameError",
     "evalue": "name 'Client' is not defined",
     "output_type": "error",
     "traceback": [
      "\u001B[1;31m---------------------------------------------------------------------------\u001B[0m",
      "\u001B[1;31mNameError\u001B[0m                                 Traceback (most recent call last)",
      "Cell \u001B[1;32mIn[5], line 1\u001B[0m\n\u001B[1;32m----> 1\u001B[0m client \u001B[38;5;241m=\u001B[39m \u001B[43mClient\u001B[49m(n_workers\u001B[38;5;241m=\u001B[39m\u001B[38;5;241m1\u001B[39m)\n\u001B[0;32m      2\u001B[0m client\n",
      "\u001B[1;31mNameError\u001B[0m: name 'Client' is not defined"
     ]
    }
   ],
   "source": [
    "client = Client(n_workers=1)\n",
    "client"
   ],
   "metadata": {
    "collapsed": false
   }
  },
  {
   "cell_type": "code",
   "execution_count": 15,
   "outputs": [
    {
     "data": {
      "text/plain": "array([221301,  31271, 211594, ..., 415286, 415306, 415315], dtype=int64)"
     },
     "execution_count": 15,
     "metadata": {},
     "output_type": "execute_result"
    }
   ],
   "source": [
    "df = pq.read_table('data/submit_2.pqt',columns=['user_id'])\n",
    "df.to_pandas()['user_id'].unique()"
   ],
   "metadata": {
    "collapsed": false
   }
  },
  {
   "cell_type": "code",
   "execution_count": 10,
   "metadata": {
    "collapsed": true
   },
   "outputs": [],
   "source": [
    "#df = dd.read_parquet('data/train_data_pqt.parquet', columns=['user_id','request_cnt','url_host'])\n",
    "df = pq.read_table('data/train_data_pqt.parquet',columns=['user_id','request_cnt','url_host'])"
   ]
  },
  {
   "cell_type": "code",
   "execution_count": 5,
   "outputs": [
    {
     "name": "stdout",
     "output_type": "stream",
     "text": [
      "<class 'pandas.core.frame.DataFrame'>\n",
      "RangeIndex: 210730009 entries, 0 to 210730008\n",
      "Data columns (total 3 columns):\n",
      " #   Column       Dtype \n",
      "---  ------       ----- \n",
      " 0   user_id      int32 \n",
      " 1   request_cnt  int8  \n",
      " 2   url_host     object\n",
      "dtypes: int32(1), int8(1), object(1)\n",
      "memory usage: 2.6+ GB\n"
     ]
    }
   ],
   "source": [
    "df.compute().info()"
   ],
   "metadata": {
    "collapsed": false
   }
  },
  {
   "cell_type": "code",
   "execution_count": 12,
   "outputs": [
    {
     "data": {
      "text/plain": "                             request_cnt  male_request_cnt  male_fraction\nurl_host                                                                 \navatars.mds.yandex.net          19104346          10637927       0.556833\nvk.com                          22264707          11310971       0.508022\ni.ytimg.com                     22636425          12727769       0.562269\nyandex.ru                       30558229          16038656       0.524856\ngoogleads.g.doubleclick.net     31510446          16492100       0.523385",
      "text/html": "<div>\n<style scoped>\n    .dataframe tbody tr th:only-of-type {\n        vertical-align: middle;\n    }\n\n    .dataframe tbody tr th {\n        vertical-align: top;\n    }\n\n    .dataframe thead th {\n        text-align: right;\n    }\n</style>\n<table border=\"1\" class=\"dataframe\">\n  <thead>\n    <tr style=\"text-align: right;\">\n      <th></th>\n      <th>request_cnt</th>\n      <th>male_request_cnt</th>\n      <th>male_fraction</th>\n    </tr>\n    <tr>\n      <th>url_host</th>\n      <th></th>\n      <th></th>\n      <th></th>\n    </tr>\n  </thead>\n  <tbody>\n    <tr>\n      <th>avatars.mds.yandex.net</th>\n      <td>19104346</td>\n      <td>10637927</td>\n      <td>0.556833</td>\n    </tr>\n    <tr>\n      <th>vk.com</th>\n      <td>22264707</td>\n      <td>11310971</td>\n      <td>0.508022</td>\n    </tr>\n    <tr>\n      <th>i.ytimg.com</th>\n      <td>22636425</td>\n      <td>12727769</td>\n      <td>0.562269</td>\n    </tr>\n    <tr>\n      <th>yandex.ru</th>\n      <td>30558229</td>\n      <td>16038656</td>\n      <td>0.524856</td>\n    </tr>\n    <tr>\n      <th>googleads.g.doubleclick.net</th>\n      <td>31510446</td>\n      <td>16492100</td>\n      <td>0.523385</td>\n    </tr>\n  </tbody>\n</table>\n</div>"
     },
     "metadata": {},
     "output_type": "display_data"
    },
    {
     "name": "stdout",
     "output_type": "stream",
     "text": [
      "<class 'pandas.core.frame.DataFrame'>\n",
      "Index: 170833 entries, -1 to яркнига24.рф\n",
      "Data columns (total 3 columns):\n",
      " #   Column            Non-Null Count   Dtype  \n",
      "---  ------            --------------   -----  \n",
      " 0   request_cnt       170833 non-null  int64  \n",
      " 1   male_request_cnt  170833 non-null  int64  \n",
      " 2   male_fraction     170833 non-null  float64\n",
      "dtypes: float64(1), int64(2)\n",
      "memory usage: 5.2+ MB\n"
     ]
    },
    {
     "data": {
      "text/plain": "None"
     },
     "metadata": {},
     "output_type": "display_data"
    }
   ],
   "source": [
    "data_target_file = pd.read_parquet('data/public_train.pqt')\n",
    "\n",
    "data_agg = df.select(['user_id', 'url_host', 'request_cnt'])\n",
    "data_id_url = data_agg.to_pandas()\n",
    "\n",
    "data_id_url_sum_male = data_id_url.merge(data_target_file[['is_male','user_id']], on = 'user_id', how = 'inner')\n",
    "data_id_url_sum_male = data_id_url_sum_male.loc[~(data_id_url_sum_male['is_male'].isna()) & (data_id_url_sum_male['is_male'] != 'NA')]\n",
    "data_id_url_sum_male['is_male'] = data_id_url_sum_male['is_male'].astype('int8')\n",
    "\n",
    "data_id_url_sum_male['male_request_cnt'] = data_id_url_sum_male['is_male'] * data_id_url_sum_male['request_cnt']\n",
    "data_id_url_sum_male = data_id_url_sum_male.groupby('url_host').agg({'request_cnt':'sum','male_request_cnt':'sum'})\n",
    "data_id_url_sum_male['male_fraction'] = data_id_url_sum_male['male_request_cnt']/data_id_url_sum_male['request_cnt']\n",
    "display(data_id_url_sum_male.sort_values('request_cnt').tail())\n",
    "display(data_id_url_sum_male.info())"
   ],
   "metadata": {
    "collapsed": false
   }
  }
 ],
 "metadata": {
  "kernelspec": {
   "display_name": "Python 3",
   "language": "python",
   "name": "python3"
  },
  "language_info": {
   "codemirror_mode": {
    "name": "ipython",
    "version": 2
   },
   "file_extension": ".py",
   "mimetype": "text/x-python",
   "name": "python",
   "nbconvert_exporter": "python",
   "pygments_lexer": "ipython2",
   "version": "2.7.6"
  }
 },
 "nbformat": 4,
 "nbformat_minor": 0
}
