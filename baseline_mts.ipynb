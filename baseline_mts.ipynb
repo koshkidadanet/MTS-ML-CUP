{
 "cells": [
  {
   "cell_type": "code",
   "execution_count": 2,
   "outputs": [],
   "source": [
    "import pandas as pd\n",
    "import numpy as np\n",
    "import time\n",
    "import pyarrow.parquet as pq\n",
    "import scipy\n",
    "#import implicit\n",
    "import bisect\n",
    "import sklearn.metrics as m\n",
    "#from catboost import CatBoostClassifier, CatBoostRegressor, Pool\n",
    "from sklearn.model_selection import train_test_split\n",
    "from sklearn.calibration import calibration_curve, CalibratedClassifierCV"
   ],
   "metadata": {
    "collapsed": false
   }
  },
  {
   "cell_type": "code",
   "execution_count": 3,
   "outputs": [
    {
     "data": {
      "text/plain": "                  field    type\n0                    ID   int64\n1                gender  string\n2                   age   int64\n3            height(cm)   int64\n4            weight(kg)   int64\n5             waist(cm)  double\n6        eyesight(left)  double\n7       eyesight(right)  double\n8         hearing(left)  double\n9        hearing(right)  double\n10             systolic  double\n11           relaxation  double\n12  fasting blood sugar  double\n13          Cholesterol  double\n14         triglyceride  double\n15                  HDL  double\n16                  LDL  double\n17           hemoglobin  double\n18        Urine protein  double\n19     serum creatinine  double\n20                  AST  double\n21                  ALT  double\n22                  Gtp  double\n23                 oral  string\n24        dental caries   int64\n25               tartar  string\n26              smoking   int64",
      "text/html": "<div>\n<style scoped>\n    .dataframe tbody tr th:only-of-type {\n        vertical-align: middle;\n    }\n\n    .dataframe tbody tr th {\n        vertical-align: top;\n    }\n\n    .dataframe thead tr th {\n        text-align: left;\n    }\n</style>\n<table border=\"1\" class=\"dataframe\">\n  <thead>\n    <tr>\n      <th></th>\n      <th>field</th>\n      <th>type</th>\n    </tr>\n  </thead>\n  <tbody>\n    <tr>\n      <th>0</th>\n      <td>ID</td>\n      <td>int64</td>\n    </tr>\n    <tr>\n      <th>1</th>\n      <td>gender</td>\n      <td>string</td>\n    </tr>\n    <tr>\n      <th>2</th>\n      <td>age</td>\n      <td>int64</td>\n    </tr>\n    <tr>\n      <th>3</th>\n      <td>height(cm)</td>\n      <td>int64</td>\n    </tr>\n    <tr>\n      <th>4</th>\n      <td>weight(kg)</td>\n      <td>int64</td>\n    </tr>\n    <tr>\n      <th>5</th>\n      <td>waist(cm)</td>\n      <td>double</td>\n    </tr>\n    <tr>\n      <th>6</th>\n      <td>eyesight(left)</td>\n      <td>double</td>\n    </tr>\n    <tr>\n      <th>7</th>\n      <td>eyesight(right)</td>\n      <td>double</td>\n    </tr>\n    <tr>\n      <th>8</th>\n      <td>hearing(left)</td>\n      <td>double</td>\n    </tr>\n    <tr>\n      <th>9</th>\n      <td>hearing(right)</td>\n      <td>double</td>\n    </tr>\n    <tr>\n      <th>10</th>\n      <td>systolic</td>\n      <td>double</td>\n    </tr>\n    <tr>\n      <th>11</th>\n      <td>relaxation</td>\n      <td>double</td>\n    </tr>\n    <tr>\n      <th>12</th>\n      <td>fasting blood sugar</td>\n      <td>double</td>\n    </tr>\n    <tr>\n      <th>13</th>\n      <td>Cholesterol</td>\n      <td>double</td>\n    </tr>\n    <tr>\n      <th>14</th>\n      <td>triglyceride</td>\n      <td>double</td>\n    </tr>\n    <tr>\n      <th>15</th>\n      <td>HDL</td>\n      <td>double</td>\n    </tr>\n    <tr>\n      <th>16</th>\n      <td>LDL</td>\n      <td>double</td>\n    </tr>\n    <tr>\n      <th>17</th>\n      <td>hemoglobin</td>\n      <td>double</td>\n    </tr>\n    <tr>\n      <th>18</th>\n      <td>Urine protein</td>\n      <td>double</td>\n    </tr>\n    <tr>\n      <th>19</th>\n      <td>serum creatinine</td>\n      <td>double</td>\n    </tr>\n    <tr>\n      <th>20</th>\n      <td>AST</td>\n      <td>double</td>\n    </tr>\n    <tr>\n      <th>21</th>\n      <td>ALT</td>\n      <td>double</td>\n    </tr>\n    <tr>\n      <th>22</th>\n      <td>Gtp</td>\n      <td>double</td>\n    </tr>\n    <tr>\n      <th>23</th>\n      <td>oral</td>\n      <td>string</td>\n    </tr>\n    <tr>\n      <th>24</th>\n      <td>dental caries</td>\n      <td>int64</td>\n    </tr>\n    <tr>\n      <th>25</th>\n      <td>tartar</td>\n      <td>string</td>\n    </tr>\n    <tr>\n      <th>26</th>\n      <td>smoking</td>\n      <td>int64</td>\n    </tr>\n  </tbody>\n</table>\n</div>"
     },
     "execution_count": 3,
     "metadata": {},
     "output_type": "execute_result"
    }
   ],
   "source": [
    "#чтение, вывод инфы\n",
    "data = pq.read_table('data/smoking.parquet')\n",
    "display(pd.DataFrame([(z.name, z.type) for z in data.schema], columns = [['field', 'type']]))\n",
    "\n",
    "targets = pq.read_table('data/target.parquet')\n",
    "display(pd.DataFrame([(z.name, z.type) for z in data.schema], columns = [['field', 'type']]))"
   ],
   "metadata": {
    "collapsed": false
   }
  },
  {
   "cell_type": "code",
   "execution_count": 4,
   "outputs": [
    {
     "data": {
      "text/plain": "M    35401\nF    20291\nName: gender, dtype: int64"
     },
     "execution_count": 4,
     "metadata": {},
     "output_type": "execute_result"
    }
   ],
   "source": [
    "data.select(['gender']).to_pandas()['gender'].value_counts()"
   ],
   "metadata": {
    "collapsed": false
   }
  },
  {
   "cell_type": "code",
   "execution_count": null,
   "outputs": [],
   "source": [
    "%%time\n",
    "data_agg = data.select(['user_id', 'url_host', 'request_cnt']).group_by(['user_id', 'url_host']).aggregate([('request_cnt', \"sum\")])"
   ],
   "metadata": {
    "collapsed": false,
    "pycharm": {
     "is_executing": true
    }
   }
  },
  {
   "cell_type": "code",
   "execution_count": null,
   "outputs": [],
   "source": [
    "url_set = set(data_agg.select(['url_host']).to_pandas()['url_host'])\n",
    "print(f'{len(url_set)} urls')\n",
    "url_dict = {url: idurl for url, idurl in zip(url_set, range(len(url_set)))}\n",
    "usr_set = set(data_agg.select(['user_id']).to_pandas()['user_id'])\n",
    "print(f'{len(usr_set)} users')\n",
    "usr_dict = {usr: user_id for usr, user_id in zip(usr_set, range(len(usr_set)))}"
   ],
   "metadata": {
    "collapsed": false
   }
  },
  {
   "cell_type": "markdown",
   "source": [
    "Делаем странные вещи"
   ],
   "metadata": {
    "collapsed": false
   }
  },
  {
   "cell_type": "code",
   "execution_count": null,
   "outputs": [],
   "source": [
    "%%time\n",
    "values = np.array(data_agg.select(['request_cnt_sum']).to_pandas()['request_cnt_sum'])\n",
    "rows = np.array(data_agg.select(['user_id']).to_pandas()['user_id'].map(usr_dict))\n",
    "cols = np.array(data_agg.select(['url_host']).to_pandas()['url_host'].map(url_dict))\n",
    "mat = scipy.sparse.coo_matrix((values, (rows, cols)), shape=(rows.max() + 1, cols.max() + 1))\n",
    "als = implicit.approximate_als.FaissAlternatingLeastSquares(factors = 50, iterations = 30, use_gpu = False, calculate_training_loss = False, regularization = 0.1)"
   ],
   "metadata": {
    "collapsed": false
   }
  },
  {
   "cell_type": "code",
   "execution_count": null,
   "outputs": [],
   "source": [
    "%%time\n",
    "als.fit(mat)\n",
    "u_factors = als.model.user_factors\n",
    "d_factors = als.model.item_factors"
   ],
   "metadata": {
    "collapsed": false
   }
  },
  {
   "cell_type": "markdown",
   "source": [
    "типа подготовка данных"
   ],
   "metadata": {
    "collapsed": false
   }
  },
  {
   "cell_type": "code",
   "execution_count": null,
   "outputs": [],
   "source": [
    "%%time\n",
    "inv_usr_map = {v: k for k, v in usr_dict.items()}\n",
    "usr_emb = pd.DataFrame(u_factors)\n",
    "usr_emb['user_id'] = usr_emb.index.map(inv_usr_map)\n",
    "usr_targets = targets.to_pandas()\n",
    "df = usr_targets.merge(usr_emb, how = 'inner', on = ['user_id'])\n",
    "df = df[df['is_male'] != 'NA']\n",
    "df = df.dropna()\n",
    "df['is_male'] = df['is_male'].map(int)\n",
    "df['is_male'].value_counts()"
   ],
   "metadata": {
    "collapsed": false
   }
  },
  {
   "cell_type": "markdown",
   "source": [
    "каким-то боком еще и кетбуст"
   ],
   "metadata": {
    "collapsed": false
   }
  },
  {
   "cell_type": "code",
   "execution_count": null,
   "outputs": [],
   "source": [
    "%%time\n",
    "x_train, x_test, y_train, y_test = train_test_split( \\\n",
    "    df.drop(['user_id', 'age', 'is_male'], axis = 1), df['is_male'], test_size = 0.33, random_state = SPLIT_SEED)\n",
    "clf = CatBoostClassifier()\n",
    "clf.fit(x_train, y_train, verbose = False)\n",
    "print(f'GINI по полу {2 * m.roc_auc_score(y_test, clf.predict_proba(x_test)[:,1]) - 1:2.3f}')"
   ],
   "metadata": {
    "collapsed": false
   }
  },
  {
   "cell_type": "markdown",
   "source": [
    "С возрастом у них более менее адекватно, есть крутая штука classification_report"
   ],
   "metadata": {
    "collapsed": false
   }
  },
  {
   "cell_type": "markdown",
   "source": [],
   "metadata": {
    "collapsed": false
   }
  }
 ],
 "metadata": {
  "kernelspec": {
   "display_name": "Python 3",
   "language": "python",
   "name": "python3"
  },
  "language_info": {
   "codemirror_mode": {
    "name": "ipython",
    "version": 2
   },
   "file_extension": ".py",
   "mimetype": "text/x-python",
   "name": "python",
   "nbconvert_exporter": "python",
   "pygments_lexer": "ipython2",
   "version": "2.7.6"
  }
 },
 "nbformat": 4,
 "nbformat_minor": 0
}
