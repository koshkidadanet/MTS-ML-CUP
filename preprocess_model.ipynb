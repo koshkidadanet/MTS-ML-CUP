{
 "cells": [
  {
   "cell_type": "code",
   "execution_count": 1,
   "metadata": {
    "collapsed": true
   },
   "outputs": [],
   "source": [
    "import pandas as pd\n",
    "import numpy as np\n",
    "import dask.dataframe as dd\n",
    "#import pycaret.classification as pc\n",
    "from sklearn.linear_model import LogisticRegression\n",
    "from sklearn.model_selection import GridSearchCV\n",
    "from sklearn.ensemble import GradientBoostingClassifier\n",
    "from sklearn.metrics import roc_auc_score\n",
    "from sklearn.metrics import classification_report\n",
    "from sklearn.model_selection import train_test_split"
   ]
  },
  {
   "cell_type": "code",
   "execution_count": 2,
   "outputs": [
    {
     "data": {
      "text/plain": "   user_id region_name_0 region_name_1 region_name_2 region_name_3  \\\n0        0             0             0             0             0   \n1        1             0             0             0             0   \n2        2             0             0             0             0   \n3        3             0             0             0             0   \n4        4             0             0             0             0   \n\n  region_name_4 region_name_5 region_name_6  region_count city_name_0  ...  \\\n0             0             0             1             1           0  ...   \n1             0             0             1             3           0  ...   \n2             0             1             0             1           0  ...   \n3             0             1             1             1           0  ...   \n4             1             0             0             5           0  ...   \n\n  bukvaprava.ru belnovosti-by.turbopages.org ngs24-ru.turbopages.org  \\\n0           0.0                          0.0                     0.0   \n1           0.0                          0.0                     0.0   \n2           0.0                          0.0                     0.0   \n3           0.0                          0.0                     0.0   \n4           0.0                          0.0                     0.0   \n\n  forum.mfd.ru yomed.ru 7info.ru other_url other_female_urls_frac  \\\n0          0.0      0.0      0.0  0.031088               0.005181   \n1          0.0      0.0      0.0  0.013372               0.001910   \n2          0.0      0.0      0.0  0.002433               0.000000   \n3          0.0      0.0      0.0  0.010909               0.003636   \n4          0.0      0.0      0.0  0.011583               0.003861   \n\n  other_male_urls_frac  is_male  \n0             0.000000        0  \n1             0.000955        0  \n2             0.000000        0  \n3             0.003636        1  \n4             0.000000        0  \n\n[5 rows x 3038 columns]",
      "text/html": "<div>\n<style scoped>\n    .dataframe tbody tr th:only-of-type {\n        vertical-align: middle;\n    }\n\n    .dataframe tbody tr th {\n        vertical-align: top;\n    }\n\n    .dataframe thead th {\n        text-align: right;\n    }\n</style>\n<table border=\"1\" class=\"dataframe\">\n  <thead>\n    <tr style=\"text-align: right;\">\n      <th></th>\n      <th>user_id</th>\n      <th>region_name_0</th>\n      <th>region_name_1</th>\n      <th>region_name_2</th>\n      <th>region_name_3</th>\n      <th>region_name_4</th>\n      <th>region_name_5</th>\n      <th>region_name_6</th>\n      <th>region_count</th>\n      <th>city_name_0</th>\n      <th>...</th>\n      <th>bukvaprava.ru</th>\n      <th>belnovosti-by.turbopages.org</th>\n      <th>ngs24-ru.turbopages.org</th>\n      <th>forum.mfd.ru</th>\n      <th>yomed.ru</th>\n      <th>7info.ru</th>\n      <th>other_url</th>\n      <th>other_female_urls_frac</th>\n      <th>other_male_urls_frac</th>\n      <th>is_male</th>\n    </tr>\n  </thead>\n  <tbody>\n    <tr>\n      <th>0</th>\n      <td>0</td>\n      <td>0</td>\n      <td>0</td>\n      <td>0</td>\n      <td>0</td>\n      <td>0</td>\n      <td>0</td>\n      <td>1</td>\n      <td>1</td>\n      <td>0</td>\n      <td>...</td>\n      <td>0.0</td>\n      <td>0.0</td>\n      <td>0.0</td>\n      <td>0.0</td>\n      <td>0.0</td>\n      <td>0.0</td>\n      <td>0.031088</td>\n      <td>0.005181</td>\n      <td>0.000000</td>\n      <td>0</td>\n    </tr>\n    <tr>\n      <th>1</th>\n      <td>1</td>\n      <td>0</td>\n      <td>0</td>\n      <td>0</td>\n      <td>0</td>\n      <td>0</td>\n      <td>0</td>\n      <td>1</td>\n      <td>3</td>\n      <td>0</td>\n      <td>...</td>\n      <td>0.0</td>\n      <td>0.0</td>\n      <td>0.0</td>\n      <td>0.0</td>\n      <td>0.0</td>\n      <td>0.0</td>\n      <td>0.013372</td>\n      <td>0.001910</td>\n      <td>0.000955</td>\n      <td>0</td>\n    </tr>\n    <tr>\n      <th>2</th>\n      <td>2</td>\n      <td>0</td>\n      <td>0</td>\n      <td>0</td>\n      <td>0</td>\n      <td>0</td>\n      <td>1</td>\n      <td>0</td>\n      <td>1</td>\n      <td>0</td>\n      <td>...</td>\n      <td>0.0</td>\n      <td>0.0</td>\n      <td>0.0</td>\n      <td>0.0</td>\n      <td>0.0</td>\n      <td>0.0</td>\n      <td>0.002433</td>\n      <td>0.000000</td>\n      <td>0.000000</td>\n      <td>0</td>\n    </tr>\n    <tr>\n      <th>3</th>\n      <td>3</td>\n      <td>0</td>\n      <td>0</td>\n      <td>0</td>\n      <td>0</td>\n      <td>0</td>\n      <td>1</td>\n      <td>1</td>\n      <td>1</td>\n      <td>0</td>\n      <td>...</td>\n      <td>0.0</td>\n      <td>0.0</td>\n      <td>0.0</td>\n      <td>0.0</td>\n      <td>0.0</td>\n      <td>0.0</td>\n      <td>0.010909</td>\n      <td>0.003636</td>\n      <td>0.003636</td>\n      <td>1</td>\n    </tr>\n    <tr>\n      <th>4</th>\n      <td>4</td>\n      <td>0</td>\n      <td>0</td>\n      <td>0</td>\n      <td>0</td>\n      <td>1</td>\n      <td>0</td>\n      <td>0</td>\n      <td>5</td>\n      <td>0</td>\n      <td>...</td>\n      <td>0.0</td>\n      <td>0.0</td>\n      <td>0.0</td>\n      <td>0.0</td>\n      <td>0.0</td>\n      <td>0.0</td>\n      <td>0.011583</td>\n      <td>0.003861</td>\n      <td>0.000000</td>\n      <td>0</td>\n    </tr>\n  </tbody>\n</table>\n<p>5 rows × 3038 columns</p>\n</div>"
     },
     "metadata": {},
     "output_type": "display_data"
    },
    {
     "name": "stdout",
     "output_type": "stream",
     "text": [
      "<class 'pandas.core.frame.DataFrame'>\n",
      "Int64Index: 264326 entries, 0 to 269999\n",
      "Columns: 3038 entries, user_id to is_male\n",
      "dtypes: category(26), float32(3008), int32(1), int8(3)\n",
      "memory usage: 3.0 GB\n"
     ]
    },
    {
     "data": {
      "text/plain": "None"
     },
     "metadata": {},
     "output_type": "display_data"
    }
   ],
   "source": [
    "df = dd.read_parquet('..\\\\full_data\\\\figma_plan\\\\full_gender_data.parquet').compute()\n",
    "\n",
    "# добавляем target, удаляем nan\n",
    "df = df.merge(pd.read_parquet('..\\\\full_data\\\\public_train.pqt',columns=['user_id','is_male'])[['is_male','user_id']], on = 'user_id', how = 'inner')\n",
    "df = df.loc[~(df['is_male'].isna()) & (df['is_male'] != 'NA')]\n",
    "df['is_male'] = df['is_male'].astype('int8')\n",
    "\n",
    "display(df.head())\n",
    "display(df.info())"
   ],
   "metadata": {
    "collapsed": false
   }
  },
  {
   "cell_type": "code",
   "execution_count": null,
   "outputs": [],
   "source": [
    "df = df.drop('price',axis=1)\n",
    "'''nan_urls_frac = df.isna().sum()[df.isna().sum() > 0]\n",
    "display(nan_urls_frac.head())\n",
    "\n",
    "display(df.loc[df.price.isna(),['cpe_manufacturer_name_0',\n",
    "                                'cpe_manufacturer_name_1',\n",
    "                                'cpe_manufacturer_name_2',\n",
    "                                'cpe_manufacturer_name_3',\n",
    "                                'cpe_manufacturer_name_4',\n",
    "                                'cpe_manufacturer_name_5']])\n",
    "\n",
    "df.loc[(df['cpe_manufacturer_name_0'] == 0) &\n",
    "       (df['cpe_manufacturer_name_1'] == 0) &\n",
    "       (df['cpe_manufacturer_name_2'] == 0) &\n",
    "       (df['cpe_manufacturer_name_3'] == 0) &\n",
    "       (df['cpe_manufacturer_name_4'] == 1) &\n",
    "       (df['cpe_manufacturer_name_5'] == 0), 'price'].dropna().median()'''"
   ],
   "metadata": {
    "collapsed": false,
    "pycharm": {
     "is_executing": true
    }
   }
  },
  {
   "cell_type": "code",
   "execution_count": null,
   "outputs": [],
   "source": [
    "x_train, x_test, y_train, y_test = train_test_split(df.drop(['is_male','user_id'], axis = 1),df['is_male'], test_size = 0.33, random_state = 42)"
   ],
   "metadata": {
    "collapsed": false
   }
  },
  {
   "cell_type": "markdown",
   "source": [
    "Pycaret"
   ],
   "metadata": {
    "collapsed": false
   }
  },
  {
   "cell_type": "code",
   "execution_count": null,
   "outputs": [],
   "source": [
    "#df = df.drop('user_id',axis=1)\n",
    "s = pc.setup(df, target = 'is_male', session_id = 123,fold=2)"
   ],
   "metadata": {
    "collapsed": false,
    "pycharm": {
     "is_executing": true
    }
   }
  },
  {
   "cell_type": "code",
   "execution_count": null,
   "outputs": [],
   "source": [
    "best = pc.compare_models(include = ['lightgbm', 'catboost'],fold=2)"
   ],
   "metadata": {
    "collapsed": false,
    "pycharm": {
     "is_executing": true
    }
   }
  },
  {
   "cell_type": "markdown",
   "source": [
    "Дефолт градиент"
   ],
   "metadata": {
    "collapsed": false
   }
  },
  {
   "cell_type": "code",
   "execution_count": null,
   "outputs": [],
   "source": [
    "model = GradientBoostingClassifier(random_state=42).fit(x_train,y_train)"
   ],
   "metadata": {
    "collapsed": false
   }
  },
  {
   "cell_type": "code",
   "execution_count": 15,
   "outputs": [
    {
     "name": "stdout",
     "output_type": "stream",
     "text": [
      "GINI по полу 0.682\n"
     ]
    }
   ],
   "source": [
    "print(f'GINI по полу {2 * roc_auc_score(y_test, model.predict_proba(x_test)[:,1]) - 1:2.3f}')"
   ],
   "metadata": {
    "collapsed": false
   }
  },
  {
   "cell_type": "code",
   "execution_count": 13,
   "outputs": [
    {
     "name": "stdout",
     "output_type": "stream",
     "text": [
      "              precision    recall  f1-score   support\n",
      "\n",
      "           0       0.75      0.75      0.75     42609\n",
      "           1       0.76      0.76      0.76     44619\n",
      "\n",
      "    accuracy                           0.76     87228\n",
      "   macro avg       0.76      0.76      0.76     87228\n",
      "weighted avg       0.76      0.76      0.76     87228\n",
      "\n"
     ]
    }
   ],
   "source": [
    "print(classification_report(y_test, model.predict(x_test)))"
   ],
   "metadata": {
    "collapsed": false
   }
  },
  {
   "cell_type": "markdown",
   "source": [
    "GridSearchCV"
   ],
   "metadata": {
    "collapsed": false
   }
  },
  {
   "cell_type": "code",
   "execution_count": null,
   "outputs": [],
   "source": [
    "parameters = {'C': np.linspace(0.5, 1.5, 11)}\n",
    "clf = GridSearchCV(GradientBoostingClassifier(random_state=42), parameters, cv=5, verbose=5)# n_jobs=-1\n",
    "clf.fit(df.drop('is_male',axis=1), df['is_male'])"
   ],
   "metadata": {
    "collapsed": false
   }
  }
 ],
 "metadata": {
  "kernelspec": {
   "display_name": "Python 3",
   "language": "python",
   "name": "python3"
  },
  "language_info": {
   "codemirror_mode": {
    "name": "ipython",
    "version": 2
   },
   "file_extension": ".py",
   "mimetype": "text/x-python",
   "name": "python",
   "nbconvert_exporter": "python",
   "pygments_lexer": "ipython2",
   "version": "2.7.6"
  }
 },
 "nbformat": 4,
 "nbformat_minor": 0
}
