{
 "cells": [
  {
   "cell_type": "code",
   "execution_count": 1,
   "metadata": {
    "collapsed": true
   },
   "outputs": [],
   "source": [
    "import pandas as pd\n",
    "import dask.dataframe as dd"
   ]
  },
  {
   "cell_type": "code",
   "execution_count": 2,
   "outputs": [
    {
     "data": {
      "text/plain": "   user_id region_name_0 region_name_1 region_name_2 region_name_3  \\\n0        0             0             0             0             0   \n1        1             0             0             0             0   \n2        2             0             0             0             0   \n3        3             0             0             0             0   \n4        4             0             0             0             0   \n\n  region_name_4 region_name_5 region_name_6  region_count city_name_0  ...  \\\n0             0             0             1             1           0  ...   \n1             0             0             1             3           0  ...   \n2             0             1             0             1           0  ...   \n3             0             1             1             1           0  ...   \n4             1             0             0             5           0  ...   \n\n  127.0.0.1 bukvaprava.ru belnovosti-by.turbopages.org  \\\n0       0.0           0.0                          0.0   \n1       0.0           0.0                          0.0   \n2       0.0           0.0                          0.0   \n3       0.0           0.0                          0.0   \n4       0.0           0.0                          0.0   \n\n  ngs24-ru.turbopages.org forum.mfd.ru yomed.ru 7info.ru other_url  \\\n0                     0.0          0.0      0.0      0.0  0.031088   \n1                     0.0          0.0      0.0      0.0  0.013372   \n2                     0.0          0.0      0.0      0.0  0.002433   \n3                     0.0          0.0      0.0      0.0  0.010909   \n4                     0.0          0.0      0.0      0.0  0.011583   \n\n  other_female_urls_frac  other_male_urls_frac  \n0               0.005181              0.000000  \n1               0.001910              0.000955  \n2               0.000000              0.000000  \n3               0.003636              0.003636  \n4               0.003861              0.000000  \n\n[5 rows x 3037 columns]",
      "text/html": "<div>\n<style scoped>\n    .dataframe tbody tr th:only-of-type {\n        vertical-align: middle;\n    }\n\n    .dataframe tbody tr th {\n        vertical-align: top;\n    }\n\n    .dataframe thead th {\n        text-align: right;\n    }\n</style>\n<table border=\"1\" class=\"dataframe\">\n  <thead>\n    <tr style=\"text-align: right;\">\n      <th></th>\n      <th>user_id</th>\n      <th>region_name_0</th>\n      <th>region_name_1</th>\n      <th>region_name_2</th>\n      <th>region_name_3</th>\n      <th>region_name_4</th>\n      <th>region_name_5</th>\n      <th>region_name_6</th>\n      <th>region_count</th>\n      <th>city_name_0</th>\n      <th>...</th>\n      <th>127.0.0.1</th>\n      <th>bukvaprava.ru</th>\n      <th>belnovosti-by.turbopages.org</th>\n      <th>ngs24-ru.turbopages.org</th>\n      <th>forum.mfd.ru</th>\n      <th>yomed.ru</th>\n      <th>7info.ru</th>\n      <th>other_url</th>\n      <th>other_female_urls_frac</th>\n      <th>other_male_urls_frac</th>\n    </tr>\n  </thead>\n  <tbody>\n    <tr>\n      <th>0</th>\n      <td>0</td>\n      <td>0</td>\n      <td>0</td>\n      <td>0</td>\n      <td>0</td>\n      <td>0</td>\n      <td>0</td>\n      <td>1</td>\n      <td>1</td>\n      <td>0</td>\n      <td>...</td>\n      <td>0.0</td>\n      <td>0.0</td>\n      <td>0.0</td>\n      <td>0.0</td>\n      <td>0.0</td>\n      <td>0.0</td>\n      <td>0.0</td>\n      <td>0.031088</td>\n      <td>0.005181</td>\n      <td>0.000000</td>\n    </tr>\n    <tr>\n      <th>1</th>\n      <td>1</td>\n      <td>0</td>\n      <td>0</td>\n      <td>0</td>\n      <td>0</td>\n      <td>0</td>\n      <td>0</td>\n      <td>1</td>\n      <td>3</td>\n      <td>0</td>\n      <td>...</td>\n      <td>0.0</td>\n      <td>0.0</td>\n      <td>0.0</td>\n      <td>0.0</td>\n      <td>0.0</td>\n      <td>0.0</td>\n      <td>0.0</td>\n      <td>0.013372</td>\n      <td>0.001910</td>\n      <td>0.000955</td>\n    </tr>\n    <tr>\n      <th>2</th>\n      <td>2</td>\n      <td>0</td>\n      <td>0</td>\n      <td>0</td>\n      <td>0</td>\n      <td>0</td>\n      <td>1</td>\n      <td>0</td>\n      <td>1</td>\n      <td>0</td>\n      <td>...</td>\n      <td>0.0</td>\n      <td>0.0</td>\n      <td>0.0</td>\n      <td>0.0</td>\n      <td>0.0</td>\n      <td>0.0</td>\n      <td>0.0</td>\n      <td>0.002433</td>\n      <td>0.000000</td>\n      <td>0.000000</td>\n    </tr>\n    <tr>\n      <th>3</th>\n      <td>3</td>\n      <td>0</td>\n      <td>0</td>\n      <td>0</td>\n      <td>0</td>\n      <td>0</td>\n      <td>1</td>\n      <td>1</td>\n      <td>1</td>\n      <td>0</td>\n      <td>...</td>\n      <td>0.0</td>\n      <td>0.0</td>\n      <td>0.0</td>\n      <td>0.0</td>\n      <td>0.0</td>\n      <td>0.0</td>\n      <td>0.0</td>\n      <td>0.010909</td>\n      <td>0.003636</td>\n      <td>0.003636</td>\n    </tr>\n    <tr>\n      <th>4</th>\n      <td>4</td>\n      <td>0</td>\n      <td>0</td>\n      <td>0</td>\n      <td>0</td>\n      <td>1</td>\n      <td>0</td>\n      <td>0</td>\n      <td>5</td>\n      <td>0</td>\n      <td>...</td>\n      <td>0.0</td>\n      <td>0.0</td>\n      <td>0.0</td>\n      <td>0.0</td>\n      <td>0.0</td>\n      <td>0.0</td>\n      <td>0.0</td>\n      <td>0.011583</td>\n      <td>0.003861</td>\n      <td>0.000000</td>\n    </tr>\n  </tbody>\n</table>\n<p>5 rows × 3037 columns</p>\n</div>"
     },
     "metadata": {},
     "output_type": "display_data"
    },
    {
     "name": "stdout",
     "output_type": "stream",
     "text": [
      "<class 'pandas.core.frame.DataFrame'>\n",
      "RangeIndex: 415317 entries, 0 to 415316\n",
      "Columns: 3037 entries, user_id to other_male_urls_frac\n",
      "dtypes: category(26), float32(3008), int32(1), int8(2)\n",
      "memory usage: 4.7 GB\n"
     ]
    },
    {
     "data": {
      "text/plain": "None"
     },
     "metadata": {},
     "output_type": "display_data"
    }
   ],
   "source": [
    "df = dd.read_parquet('..\\\\full_data\\\\figma_plan\\\\full_gender_data.parquet').compute()\n",
    "\n",
    "display(df.head())\n",
    "display(df.info())"
   ],
   "metadata": {
    "collapsed": false
   }
  },
  {
   "cell_type": "code",
   "execution_count": 4,
   "outputs": [
    {
     "data": {
      "text/plain": "price    10754\ndtype: int64"
     },
     "metadata": {},
     "output_type": "display_data"
    }
   ],
   "source": [
    "nan_urls_frac = df.isna().sum()[df.isna().sum() > 0]\n",
    "display(nan_urls_frac.head())"
   ],
   "metadata": {
    "collapsed": false
   }
  },
  {
   "cell_type": "code",
   "execution_count": 17,
   "outputs": [
    {
     "data": {
      "text/plain": "       cpe_manufacturer_name_0 cpe_manufacturer_name_1  \\\n1                            0                       0   \n13                           0                       0   \n93                           0                       0   \n98                           0                       0   \n160                          0                       0   \n...                        ...                     ...   \n415109                       0                       1   \n415112                       0                       0   \n415211                       0                       0   \n415214                       0                       0   \n415233                       0                       0   \n\n       cpe_manufacturer_name_2 cpe_manufacturer_name_3  \\\n1                            0                       0   \n13                           0                       1   \n93                           0                       0   \n98                           0                       1   \n160                          0                       0   \n...                        ...                     ...   \n415109                       0                       1   \n415112                       0                       0   \n415211                       1                       1   \n415214                       0                       0   \n415233                       1                       0   \n\n       cpe_manufacturer_name_4 cpe_manufacturer_name_5  \n1                            1                       0  \n13                           1                       0  \n93                           0                       1  \n98                           1                       1  \n160                          1                       0  \n...                        ...                     ...  \n415109                       0                       0  \n415112                       1                       0  \n415211                       0                       1  \n415214                       1                       0  \n415233                       0                       1  \n\n[10754 rows x 6 columns]",
      "text/html": "<div>\n<style scoped>\n    .dataframe tbody tr th:only-of-type {\n        vertical-align: middle;\n    }\n\n    .dataframe tbody tr th {\n        vertical-align: top;\n    }\n\n    .dataframe thead th {\n        text-align: right;\n    }\n</style>\n<table border=\"1\" class=\"dataframe\">\n  <thead>\n    <tr style=\"text-align: right;\">\n      <th></th>\n      <th>cpe_manufacturer_name_0</th>\n      <th>cpe_manufacturer_name_1</th>\n      <th>cpe_manufacturer_name_2</th>\n      <th>cpe_manufacturer_name_3</th>\n      <th>cpe_manufacturer_name_4</th>\n      <th>cpe_manufacturer_name_5</th>\n    </tr>\n  </thead>\n  <tbody>\n    <tr>\n      <th>1</th>\n      <td>0</td>\n      <td>0</td>\n      <td>0</td>\n      <td>0</td>\n      <td>1</td>\n      <td>0</td>\n    </tr>\n    <tr>\n      <th>13</th>\n      <td>0</td>\n      <td>0</td>\n      <td>0</td>\n      <td>1</td>\n      <td>1</td>\n      <td>0</td>\n    </tr>\n    <tr>\n      <th>93</th>\n      <td>0</td>\n      <td>0</td>\n      <td>0</td>\n      <td>0</td>\n      <td>0</td>\n      <td>1</td>\n    </tr>\n    <tr>\n      <th>98</th>\n      <td>0</td>\n      <td>0</td>\n      <td>0</td>\n      <td>1</td>\n      <td>1</td>\n      <td>1</td>\n    </tr>\n    <tr>\n      <th>160</th>\n      <td>0</td>\n      <td>0</td>\n      <td>0</td>\n      <td>0</td>\n      <td>1</td>\n      <td>0</td>\n    </tr>\n    <tr>\n      <th>...</th>\n      <td>...</td>\n      <td>...</td>\n      <td>...</td>\n      <td>...</td>\n      <td>...</td>\n      <td>...</td>\n    </tr>\n    <tr>\n      <th>415109</th>\n      <td>0</td>\n      <td>1</td>\n      <td>0</td>\n      <td>1</td>\n      <td>0</td>\n      <td>0</td>\n    </tr>\n    <tr>\n      <th>415112</th>\n      <td>0</td>\n      <td>0</td>\n      <td>0</td>\n      <td>0</td>\n      <td>1</td>\n      <td>0</td>\n    </tr>\n    <tr>\n      <th>415211</th>\n      <td>0</td>\n      <td>0</td>\n      <td>1</td>\n      <td>1</td>\n      <td>0</td>\n      <td>1</td>\n    </tr>\n    <tr>\n      <th>415214</th>\n      <td>0</td>\n      <td>0</td>\n      <td>0</td>\n      <td>0</td>\n      <td>1</td>\n      <td>0</td>\n    </tr>\n    <tr>\n      <th>415233</th>\n      <td>0</td>\n      <td>0</td>\n      <td>1</td>\n      <td>0</td>\n      <td>0</td>\n      <td>1</td>\n    </tr>\n  </tbody>\n</table>\n<p>10754 rows × 6 columns</p>\n</div>"
     },
     "execution_count": 17,
     "metadata": {},
     "output_type": "execute_result"
    }
   ],
   "source": [
    "df.loc[df.price.isna(),['cpe_manufacturer_name_0',\n",
    "                        'cpe_manufacturer_name_1',\n",
    "                        'cpe_manufacturer_name_2',\n",
    "                        'cpe_manufacturer_name_3',\n",
    "                        'cpe_manufacturer_name_4',\n",
    "                        'cpe_manufacturer_name_5']]\n",
    "\n",
    "df.loc[(df['cpe_manufacturer_name_0'] == 0) &\n",
    "       (df['cpe_manufacturer_name_1'] == 0) &\n",
    "       (df['cpe_manufacturer_name_2'] == 0) &\n",
    "       (df['cpe_manufacturer_name_3'] == 0) &\n",
    "       (df['cpe_manufacturer_name_4'] == 1) &\n",
    "       (df['cpe_manufacturer_name_5'] == 0), 'price'].dropna().median()"
   ],
   "metadata": {
    "collapsed": false
   }
  }
 ],
 "metadata": {
  "kernelspec": {
   "display_name": "Python 3",
   "language": "python",
   "name": "python3"
  },
  "language_info": {
   "codemirror_mode": {
    "name": "ipython",
    "version": 2
   },
   "file_extension": ".py",
   "mimetype": "text/x-python",
   "name": "python",
   "nbconvert_exporter": "python",
   "pygments_lexer": "ipython2",
   "version": "2.7.6"
  }
 },
 "nbformat": 4,
 "nbformat_minor": 0
}
