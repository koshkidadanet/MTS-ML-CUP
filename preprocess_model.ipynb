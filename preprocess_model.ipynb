{
 "cells": [
  {
   "cell_type": "code",
   "execution_count": 1,
   "metadata": {
    "collapsed": true
   },
   "outputs": [],
   "source": [
    "import glob\n",
    "\n",
    "import pandas as pd\n",
    "import dask.dataframe as dd"
   ]
  },
  {
   "cell_type": "code",
   "execution_count": 2,
   "outputs": [
    {
     "name": "stdout",
     "output_type": "stream",
     "text": [
      "<class 'pandas.core.frame.DataFrame'>\n",
      "RangeIndex: 415317 entries, 0 to 415316\n",
      "Columns: 3036 entries, user_id to other_male_urls_frac\n",
      "dtypes: category(26), float32(3007), int32(1), int8(2)\n",
      "memory usage: 4.7 GB\n"
     ]
    }
   ],
   "source": [
    "list_parquet = glob.glob(\"..\\\\full_data\\\\figma_plan\\\\*.parquet\")\n",
    "\n",
    "df = pd.DataFrame()\n",
    "for path in list_parquet:\n",
    "    part_df = dd.read_parquet(path).compute()\n",
    "    df = pd.concat([df,part_df],axis=1)\n",
    "\n",
    "df.info()"
   ],
   "metadata": {
    "collapsed": false
   }
  }
 ],
 "metadata": {
  "kernelspec": {
   "display_name": "Python 3",
   "language": "python",
   "name": "python3"
  },
  "language_info": {
   "codemirror_mode": {
    "name": "ipython",
    "version": 2
   },
   "file_extension": ".py",
   "mimetype": "text/x-python",
   "name": "python",
   "nbconvert_exporter": "python",
   "pygments_lexer": "ipython2",
   "version": "2.7.6"
  }
 },
 "nbformat": 4,
 "nbformat_minor": 0
}
