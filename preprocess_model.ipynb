{
 "cells": [
  {
   "cell_type": "code",
   "execution_count": 1,
   "metadata": {
    "collapsed": true
   },
   "outputs": [],
   "source": [
    "import pandas as pd\n",
    "import dask.dataframe as dd"
   ]
  },
  {
   "cell_type": "code",
   "execution_count": 10,
   "outputs": [
    {
     "data": {
      "text/plain": "   user_id region_name_0 region_name_1 region_name_2 region_name_3  \\\n0        0             0             0             0             0   \n1        1             0             0             0             0   \n2        2             0             0             0             0   \n3        3             0             0             0             0   \n4        4             0             0             0             0   \n\n  region_name_4 region_name_5 region_name_6  region_count city_name_0  ...  \\\n0             0             0             1             1           0  ...   \n1             0             0             1             3           0  ...   \n2             0             1             0             1           0  ...   \n3             0             1             1             1           0  ...   \n4             1             0             0             5           0  ...   \n\n  megapteka-ru.turbopages.org_frac 127.0.0.1_frac bukvaprava.ru_frac  \\\n0                         0.000105       0.000177           0.000573   \n1                         0.000187       0.000077           0.000112   \n2                         0.000143       0.000114           0.000674   \n3                         0.000780       0.054767           0.000249   \n4                         0.000172       0.000138           0.001732   \n\n  belnovosti-by.turbopages.org_frac ngs24-ru.turbopages.org_frac  \\\n0                          0.000077                     0.000077   \n1                          0.009816                     0.000740   \n2                          0.000465                     0.001210   \n3                          0.000058                     0.001447   \n4                          0.001241                     0.000484   \n\n  forum.mfd.ru_frac yomed.ru_frac 7info.ru_frac other_female_urls_frac  \\\n0          0.016760      0.001179      0.000386               0.005181   \n1          0.000375      0.000225      0.001665               0.001910   \n2          0.000553      0.000247      0.003367               0.000000   \n3          0.000130      0.000198      0.000069               0.003636   \n4          0.027652      0.000965      0.000112               0.003861   \n\n   other_male_urls_frac  \n0              0.000000  \n1              0.000955  \n2              0.000000  \n3              0.003636  \n4              0.000000  \n\n[5 rows x 3036 columns]",
      "text/html": "<div>\n<style scoped>\n    .dataframe tbody tr th:only-of-type {\n        vertical-align: middle;\n    }\n\n    .dataframe tbody tr th {\n        vertical-align: top;\n    }\n\n    .dataframe thead th {\n        text-align: right;\n    }\n</style>\n<table border=\"1\" class=\"dataframe\">\n  <thead>\n    <tr style=\"text-align: right;\">\n      <th></th>\n      <th>user_id</th>\n      <th>region_name_0</th>\n      <th>region_name_1</th>\n      <th>region_name_2</th>\n      <th>region_name_3</th>\n      <th>region_name_4</th>\n      <th>region_name_5</th>\n      <th>region_name_6</th>\n      <th>region_count</th>\n      <th>city_name_0</th>\n      <th>...</th>\n      <th>megapteka-ru.turbopages.org_frac</th>\n      <th>127.0.0.1_frac</th>\n      <th>bukvaprava.ru_frac</th>\n      <th>belnovosti-by.turbopages.org_frac</th>\n      <th>ngs24-ru.turbopages.org_frac</th>\n      <th>forum.mfd.ru_frac</th>\n      <th>yomed.ru_frac</th>\n      <th>7info.ru_frac</th>\n      <th>other_female_urls_frac</th>\n      <th>other_male_urls_frac</th>\n    </tr>\n  </thead>\n  <tbody>\n    <tr>\n      <th>0</th>\n      <td>0</td>\n      <td>0</td>\n      <td>0</td>\n      <td>0</td>\n      <td>0</td>\n      <td>0</td>\n      <td>0</td>\n      <td>1</td>\n      <td>1</td>\n      <td>0</td>\n      <td>...</td>\n      <td>0.000105</td>\n      <td>0.000177</td>\n      <td>0.000573</td>\n      <td>0.000077</td>\n      <td>0.000077</td>\n      <td>0.016760</td>\n      <td>0.001179</td>\n      <td>0.000386</td>\n      <td>0.005181</td>\n      <td>0.000000</td>\n    </tr>\n    <tr>\n      <th>1</th>\n      <td>1</td>\n      <td>0</td>\n      <td>0</td>\n      <td>0</td>\n      <td>0</td>\n      <td>0</td>\n      <td>0</td>\n      <td>1</td>\n      <td>3</td>\n      <td>0</td>\n      <td>...</td>\n      <td>0.000187</td>\n      <td>0.000077</td>\n      <td>0.000112</td>\n      <td>0.009816</td>\n      <td>0.000740</td>\n      <td>0.000375</td>\n      <td>0.000225</td>\n      <td>0.001665</td>\n      <td>0.001910</td>\n      <td>0.000955</td>\n    </tr>\n    <tr>\n      <th>2</th>\n      <td>2</td>\n      <td>0</td>\n      <td>0</td>\n      <td>0</td>\n      <td>0</td>\n      <td>0</td>\n      <td>1</td>\n      <td>0</td>\n      <td>1</td>\n      <td>0</td>\n      <td>...</td>\n      <td>0.000143</td>\n      <td>0.000114</td>\n      <td>0.000674</td>\n      <td>0.000465</td>\n      <td>0.001210</td>\n      <td>0.000553</td>\n      <td>0.000247</td>\n      <td>0.003367</td>\n      <td>0.000000</td>\n      <td>0.000000</td>\n    </tr>\n    <tr>\n      <th>3</th>\n      <td>3</td>\n      <td>0</td>\n      <td>0</td>\n      <td>0</td>\n      <td>0</td>\n      <td>0</td>\n      <td>1</td>\n      <td>1</td>\n      <td>1</td>\n      <td>0</td>\n      <td>...</td>\n      <td>0.000780</td>\n      <td>0.054767</td>\n      <td>0.000249</td>\n      <td>0.000058</td>\n      <td>0.001447</td>\n      <td>0.000130</td>\n      <td>0.000198</td>\n      <td>0.000069</td>\n      <td>0.003636</td>\n      <td>0.003636</td>\n    </tr>\n    <tr>\n      <th>4</th>\n      <td>4</td>\n      <td>0</td>\n      <td>0</td>\n      <td>0</td>\n      <td>0</td>\n      <td>1</td>\n      <td>0</td>\n      <td>0</td>\n      <td>5</td>\n      <td>0</td>\n      <td>...</td>\n      <td>0.000172</td>\n      <td>0.000138</td>\n      <td>0.001732</td>\n      <td>0.001241</td>\n      <td>0.000484</td>\n      <td>0.027652</td>\n      <td>0.000965</td>\n      <td>0.000112</td>\n      <td>0.003861</td>\n      <td>0.000000</td>\n    </tr>\n  </tbody>\n</table>\n<p>5 rows × 3036 columns</p>\n</div>"
     },
     "metadata": {},
     "output_type": "display_data"
    },
    {
     "name": "stdout",
     "output_type": "stream",
     "text": [
      "<class 'pandas.core.frame.DataFrame'>\n",
      "RangeIndex: 415317 entries, 0 to 415316\n",
      "Columns: 3036 entries, user_id to other_male_urls_frac\n",
      "dtypes: category(26), float32(3007), int32(1), int8(2)\n",
      "memory usage: 4.7 GB\n"
     ]
    },
    {
     "data": {
      "text/plain": "None"
     },
     "metadata": {},
     "output_type": "display_data"
    }
   ],
   "source": [
    "df = dd.read_parquet('..\\\\full_data\\\\figma_plan\\\\full_gender_data.parquet').compute()\n",
    "\n",
    "display(df.head())\n",
    "display(df.info())"
   ],
   "metadata": {
    "collapsed": false
   }
  },
  {
   "cell_type": "code",
   "execution_count": 3,
   "outputs": [
    {
     "data": {
      "text/plain": "googleads.g.doubleclick.net_frac    20755\nyandex.ru_frac                      28912\ni.ytimg.com_frac                    34049\nvk.com_frac                         41219\navatars.mds.yandex.net_frac         32625\ndtype: int64"
     },
     "metadata": {},
     "output_type": "display_data"
    }
   ],
   "source": [
    "nan_urls_frac = df.isna().sum()[df.isna().sum() > 0].drop('price')\n",
    "display(nan_urls_frac.head())"
   ],
   "metadata": {
    "collapsed": false
   }
  },
  {
   "cell_type": "code",
   "execution_count": 4,
   "outputs": [
    {
     "data": {
      "text/plain": "        googleads.g.doubleclick.net_frac  yandex.ru_frac  i.ytimg.com_frac  \\\n0                               0.196891        0.031088          0.025907   \n1                               0.072588        0.112703          0.040115   \n2                               0.092457        0.046229          0.126521   \n3                               0.021818        0.061818          0.007273   \n4                               0.061776        0.030888          0.048906   \n...                                  ...             ...               ...   \n415312                               NaN             NaN               NaN   \n415313                               NaN             NaN               NaN   \n415314                               NaN             NaN               NaN   \n415315                               NaN             NaN               NaN   \n415316                               NaN             NaN               NaN   \n\n        vk.com_frac  avatars.mds.yandex.net_frac  ad.mail.ru_frac  \\\n0          0.041451                     0.046632         0.031088   \n1          0.023878                     0.104107         0.034384   \n2          0.141119                     0.072993         0.038929   \n3          0.178182                     0.094545         0.080000   \n4          0.083655                     0.046332         0.061776   \n...             ...                          ...              ...   \n415312          NaN                          NaN              NaN   \n415313          NaN                          NaN              NaN   \n415314          NaN                          NaN              NaN   \n415315          NaN                          NaN              NaN   \n415316          NaN                          NaN              NaN   \n\n        yastatic.net_frac  apple.com_frac  instagram.com_frac  \\\n0                0.051813        0.117714            0.003861   \n1                0.081184        0.096916            0.100249   \n2                0.046229        0.093190            0.001225   \n3                0.069091        0.160606            0.008811   \n4                0.045045        0.175000            0.112903   \n...                   ...             ...                 ...   \n415312                NaN             NaN                 NaN   \n415313                NaN             NaN                 NaN   \n415314                NaN             NaN                 NaN   \n415315                NaN             NaN                 NaN   \n415316                NaN             NaN                 NaN   \n\n        ads.adfox.ru_frac  ...  realblog-24.ru_frac  psy-magic.org_frac  \\\n0                0.025907  ...             0.000847            0.001109   \n1                0.019102  ...             0.001476            0.000525   \n2                0.026764  ...             0.001630            0.000566   \n3                0.028314  ...             0.001280            0.001508   \n4                0.009753  ...             0.001018            0.000447   \n...                   ...  ...                  ...                 ...   \n415312                NaN  ...                  NaN                 NaN   \n415313                NaN  ...                  NaN                 NaN   \n415314                NaN  ...                  NaN                 NaN   \n415315                NaN  ...                  NaN                 NaN   \n415316                NaN  ...                  NaN                 NaN   \n\n        megapteka-ru.turbopages.org_frac  127.0.0.1_frac  bukvaprava.ru_frac  \\\n0                               0.000105        0.000177            0.000573   \n1                               0.000187        0.000077            0.000112   \n2                               0.000143        0.000114            0.000674   \n3                               0.000780        0.054767            0.000249   \n4                               0.000172        0.000138            0.001732   \n...                                  ...             ...                 ...   \n415312                               NaN             NaN                 NaN   \n415313                               NaN             NaN                 NaN   \n415314                               NaN             NaN                 NaN   \n415315                               NaN             NaN                 NaN   \n415316                               NaN             NaN                 NaN   \n\n        belnovosti-by.turbopages.org_frac  ngs24-ru.turbopages.org_frac  \\\n0                                0.000077                      0.000077   \n1                                0.009816                      0.000740   \n2                                0.000465                      0.001210   \n3                                0.000058                      0.001447   \n4                                0.001241                      0.000484   \n...                                   ...                           ...   \n415312                                NaN                           NaN   \n415313                                NaN                           NaN   \n415314                                NaN                           NaN   \n415315                                NaN                           NaN   \n415316                                NaN                           NaN   \n\n        forum.mfd.ru_frac  yomed.ru_frac  7info.ru_frac  \n0                0.016760       0.001179       0.000386  \n1                0.000375       0.000225       0.001665  \n2                0.000553       0.000247       0.003367  \n3                0.000130       0.000198       0.000069  \n4                0.027652       0.000965       0.000112  \n...                   ...            ...            ...  \n415312                NaN            NaN            NaN  \n415313                NaN            NaN            NaN  \n415314                NaN            NaN            NaN  \n415315                NaN            NaN            NaN  \n415316                NaN            NaN            NaN  \n\n[415317 rows x 3000 columns]",
      "text/html": "<div>\n<style scoped>\n    .dataframe tbody tr th:only-of-type {\n        vertical-align: middle;\n    }\n\n    .dataframe tbody tr th {\n        vertical-align: top;\n    }\n\n    .dataframe thead th {\n        text-align: right;\n    }\n</style>\n<table border=\"1\" class=\"dataframe\">\n  <thead>\n    <tr style=\"text-align: right;\">\n      <th></th>\n      <th>googleads.g.doubleclick.net_frac</th>\n      <th>yandex.ru_frac</th>\n      <th>i.ytimg.com_frac</th>\n      <th>vk.com_frac</th>\n      <th>avatars.mds.yandex.net_frac</th>\n      <th>ad.mail.ru_frac</th>\n      <th>yastatic.net_frac</th>\n      <th>apple.com_frac</th>\n      <th>instagram.com_frac</th>\n      <th>ads.adfox.ru_frac</th>\n      <th>...</th>\n      <th>realblog-24.ru_frac</th>\n      <th>psy-magic.org_frac</th>\n      <th>megapteka-ru.turbopages.org_frac</th>\n      <th>127.0.0.1_frac</th>\n      <th>bukvaprava.ru_frac</th>\n      <th>belnovosti-by.turbopages.org_frac</th>\n      <th>ngs24-ru.turbopages.org_frac</th>\n      <th>forum.mfd.ru_frac</th>\n      <th>yomed.ru_frac</th>\n      <th>7info.ru_frac</th>\n    </tr>\n  </thead>\n  <tbody>\n    <tr>\n      <th>0</th>\n      <td>0.196891</td>\n      <td>0.031088</td>\n      <td>0.025907</td>\n      <td>0.041451</td>\n      <td>0.046632</td>\n      <td>0.031088</td>\n      <td>0.051813</td>\n      <td>0.117714</td>\n      <td>0.003861</td>\n      <td>0.025907</td>\n      <td>...</td>\n      <td>0.000847</td>\n      <td>0.001109</td>\n      <td>0.000105</td>\n      <td>0.000177</td>\n      <td>0.000573</td>\n      <td>0.000077</td>\n      <td>0.000077</td>\n      <td>0.016760</td>\n      <td>0.001179</td>\n      <td>0.000386</td>\n    </tr>\n    <tr>\n      <th>1</th>\n      <td>0.072588</td>\n      <td>0.112703</td>\n      <td>0.040115</td>\n      <td>0.023878</td>\n      <td>0.104107</td>\n      <td>0.034384</td>\n      <td>0.081184</td>\n      <td>0.096916</td>\n      <td>0.100249</td>\n      <td>0.019102</td>\n      <td>...</td>\n      <td>0.001476</td>\n      <td>0.000525</td>\n      <td>0.000187</td>\n      <td>0.000077</td>\n      <td>0.000112</td>\n      <td>0.009816</td>\n      <td>0.000740</td>\n      <td>0.000375</td>\n      <td>0.000225</td>\n      <td>0.001665</td>\n    </tr>\n    <tr>\n      <th>2</th>\n      <td>0.092457</td>\n      <td>0.046229</td>\n      <td>0.126521</td>\n      <td>0.141119</td>\n      <td>0.072993</td>\n      <td>0.038929</td>\n      <td>0.046229</td>\n      <td>0.093190</td>\n      <td>0.001225</td>\n      <td>0.026764</td>\n      <td>...</td>\n      <td>0.001630</td>\n      <td>0.000566</td>\n      <td>0.000143</td>\n      <td>0.000114</td>\n      <td>0.000674</td>\n      <td>0.000465</td>\n      <td>0.001210</td>\n      <td>0.000553</td>\n      <td>0.000247</td>\n      <td>0.003367</td>\n    </tr>\n    <tr>\n      <th>3</th>\n      <td>0.021818</td>\n      <td>0.061818</td>\n      <td>0.007273</td>\n      <td>0.178182</td>\n      <td>0.094545</td>\n      <td>0.080000</td>\n      <td>0.069091</td>\n      <td>0.160606</td>\n      <td>0.008811</td>\n      <td>0.028314</td>\n      <td>...</td>\n      <td>0.001280</td>\n      <td>0.001508</td>\n      <td>0.000780</td>\n      <td>0.054767</td>\n      <td>0.000249</td>\n      <td>0.000058</td>\n      <td>0.001447</td>\n      <td>0.000130</td>\n      <td>0.000198</td>\n      <td>0.000069</td>\n    </tr>\n    <tr>\n      <th>4</th>\n      <td>0.061776</td>\n      <td>0.030888</td>\n      <td>0.048906</td>\n      <td>0.083655</td>\n      <td>0.046332</td>\n      <td>0.061776</td>\n      <td>0.045045</td>\n      <td>0.175000</td>\n      <td>0.112903</td>\n      <td>0.009753</td>\n      <td>...</td>\n      <td>0.001018</td>\n      <td>0.000447</td>\n      <td>0.000172</td>\n      <td>0.000138</td>\n      <td>0.001732</td>\n      <td>0.001241</td>\n      <td>0.000484</td>\n      <td>0.027652</td>\n      <td>0.000965</td>\n      <td>0.000112</td>\n    </tr>\n    <tr>\n      <th>...</th>\n      <td>...</td>\n      <td>...</td>\n      <td>...</td>\n      <td>...</td>\n      <td>...</td>\n      <td>...</td>\n      <td>...</td>\n      <td>...</td>\n      <td>...</td>\n      <td>...</td>\n      <td>...</td>\n      <td>...</td>\n      <td>...</td>\n      <td>...</td>\n      <td>...</td>\n      <td>...</td>\n      <td>...</td>\n      <td>...</td>\n      <td>...</td>\n      <td>...</td>\n      <td>...</td>\n    </tr>\n    <tr>\n      <th>415312</th>\n      <td>NaN</td>\n      <td>NaN</td>\n      <td>NaN</td>\n      <td>NaN</td>\n      <td>NaN</td>\n      <td>NaN</td>\n      <td>NaN</td>\n      <td>NaN</td>\n      <td>NaN</td>\n      <td>NaN</td>\n      <td>...</td>\n      <td>NaN</td>\n      <td>NaN</td>\n      <td>NaN</td>\n      <td>NaN</td>\n      <td>NaN</td>\n      <td>NaN</td>\n      <td>NaN</td>\n      <td>NaN</td>\n      <td>NaN</td>\n      <td>NaN</td>\n    </tr>\n    <tr>\n      <th>415313</th>\n      <td>NaN</td>\n      <td>NaN</td>\n      <td>NaN</td>\n      <td>NaN</td>\n      <td>NaN</td>\n      <td>NaN</td>\n      <td>NaN</td>\n      <td>NaN</td>\n      <td>NaN</td>\n      <td>NaN</td>\n      <td>...</td>\n      <td>NaN</td>\n      <td>NaN</td>\n      <td>NaN</td>\n      <td>NaN</td>\n      <td>NaN</td>\n      <td>NaN</td>\n      <td>NaN</td>\n      <td>NaN</td>\n      <td>NaN</td>\n      <td>NaN</td>\n    </tr>\n    <tr>\n      <th>415314</th>\n      <td>NaN</td>\n      <td>NaN</td>\n      <td>NaN</td>\n      <td>NaN</td>\n      <td>NaN</td>\n      <td>NaN</td>\n      <td>NaN</td>\n      <td>NaN</td>\n      <td>NaN</td>\n      <td>NaN</td>\n      <td>...</td>\n      <td>NaN</td>\n      <td>NaN</td>\n      <td>NaN</td>\n      <td>NaN</td>\n      <td>NaN</td>\n      <td>NaN</td>\n      <td>NaN</td>\n      <td>NaN</td>\n      <td>NaN</td>\n      <td>NaN</td>\n    </tr>\n    <tr>\n      <th>415315</th>\n      <td>NaN</td>\n      <td>NaN</td>\n      <td>NaN</td>\n      <td>NaN</td>\n      <td>NaN</td>\n      <td>NaN</td>\n      <td>NaN</td>\n      <td>NaN</td>\n      <td>NaN</td>\n      <td>NaN</td>\n      <td>...</td>\n      <td>NaN</td>\n      <td>NaN</td>\n      <td>NaN</td>\n      <td>NaN</td>\n      <td>NaN</td>\n      <td>NaN</td>\n      <td>NaN</td>\n      <td>NaN</td>\n      <td>NaN</td>\n      <td>NaN</td>\n    </tr>\n    <tr>\n      <th>415316</th>\n      <td>NaN</td>\n      <td>NaN</td>\n      <td>NaN</td>\n      <td>NaN</td>\n      <td>NaN</td>\n      <td>NaN</td>\n      <td>NaN</td>\n      <td>NaN</td>\n      <td>NaN</td>\n      <td>NaN</td>\n      <td>...</td>\n      <td>NaN</td>\n      <td>NaN</td>\n      <td>NaN</td>\n      <td>NaN</td>\n      <td>NaN</td>\n      <td>NaN</td>\n      <td>NaN</td>\n      <td>NaN</td>\n      <td>NaN</td>\n      <td>NaN</td>\n    </tr>\n  </tbody>\n</table>\n<p>415317 rows × 3000 columns</p>\n</div>"
     },
     "execution_count": 4,
     "metadata": {},
     "output_type": "execute_result"
    }
   ],
   "source": [
    "df[nan_urls_frac.index]"
   ],
   "metadata": {
    "collapsed": false
   }
  },
  {
   "cell_type": "code",
   "execution_count": 6,
   "outputs": [
    {
     "data": {
      "text/plain": "user_id                   0.000000\nregion_name_0             0.000000\nregion_name_1             0.000000\nregion_name_2             0.000000\nregion_name_3             0.000000\n                            ...   \nforum.mfd.ru_frac         0.016760\nyomed.ru_frac             0.001179\n7info.ru_frac             0.000386\nother_female_urls_frac    0.005181\nother_male_urls_frac      0.000000\nName: 0, Length: 3036, dtype: float64"
     },
     "execution_count": 6,
     "metadata": {},
     "output_type": "execute_result"
    }
   ],
   "source": [
    "df.iloc[0]"
   ],
   "metadata": {
    "collapsed": false
   }
  },
  {
   "cell_type": "code",
   "execution_count": 7,
   "outputs": [],
   "source": [
    "df = dd.read_parquet('..\\\\full_data\\\\figma_plan\\\\003cpe_manufacturer.parquet').compute()"
   ],
   "metadata": {
    "collapsed": false
   }
  },
  {
   "cell_type": "code",
   "execution_count": 9,
   "outputs": [
    {
     "name": "stdout",
     "output_type": "stream",
     "text": [
      "<class 'pandas.core.frame.DataFrame'>\n",
      "RangeIndex: 415317 entries, 0 to 415316\n",
      "Data columns (total 6 columns):\n",
      " #   Column                   Non-Null Count   Dtype   \n",
      "---  ------                   --------------   -----   \n",
      " 0   cpe_manufacturer_name_0  415317 non-null  category\n",
      " 1   cpe_manufacturer_name_1  415317 non-null  category\n",
      " 2   cpe_manufacturer_name_2  415317 non-null  category\n",
      " 3   cpe_manufacturer_name_3  415317 non-null  category\n",
      " 4   cpe_manufacturer_name_4  415317 non-null  category\n",
      " 5   cpe_manufacturer_name_5  415317 non-null  category\n",
      "dtypes: category(6)\n",
      "memory usage: 2.4 MB\n"
     ]
    }
   ],
   "source": [
    "df.info()"
   ],
   "metadata": {
    "collapsed": false
   }
  },
  {
   "cell_type": "code",
   "execution_count": null,
   "outputs": [],
   "source": [],
   "metadata": {
    "collapsed": false
   }
  }
 ],
 "metadata": {
  "kernelspec": {
   "display_name": "Python 3",
   "language": "python",
   "name": "python3"
  },
  "language_info": {
   "codemirror_mode": {
    "name": "ipython",
    "version": 2
   },
   "file_extension": ".py",
   "mimetype": "text/x-python",
   "name": "python",
   "nbconvert_exporter": "python",
   "pygments_lexer": "ipython2",
   "version": "2.7.6"
  }
 },
 "nbformat": 4,
 "nbformat_minor": 0
}
