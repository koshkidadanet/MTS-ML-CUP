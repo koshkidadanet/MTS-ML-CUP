{
 "cells": [
  {
   "cell_type": "code",
   "execution_count": 2,
   "metadata": {
    "pycharm": {
     "is_executing": true
    }
   },
   "outputs": [],
   "source": [
    "import pandas as pd\n",
    "import numpy as np\n",
    "import dask.dataframe as dd\n",
    "import pycaret.classification as pc\n",
    "\n",
    "from catboost import CatBoostClassifier, Pool, EShapCalcType, EFeaturesSelectionAlgorithm, cv\n",
    "from sklearn.metrics import roc_auc_score, classification_report\n",
    "from sklearn.model_selection import train_test_split, StratifiedKFold"
   ]
  },
  {
   "cell_type": "code",
   "execution_count": 4,
   "metadata": {},
   "outputs": [
    {
     "data": {
      "text/html": [
       "<div>\n",
       "<style scoped>\n",
       "    .dataframe tbody tr th:only-of-type {\n",
       "        vertical-align: middle;\n",
       "    }\n",
       "\n",
       "    .dataframe tbody tr th {\n",
       "        vertical-align: top;\n",
       "    }\n",
       "\n",
       "    .dataframe thead th {\n",
       "        text-align: right;\n",
       "    }\n",
       "</style>\n",
       "<table border=\"1\" class=\"dataframe\">\n",
       "  <thead>\n",
       "    <tr style=\"text-align: right;\">\n",
       "      <th></th>\n",
       "      <th>googleads.g.doubleclick.net</th>\n",
       "      <th>yandex.ru</th>\n",
       "      <th>i.ytimg.com</th>\n",
       "      <th>vk.com</th>\n",
       "      <th>avatars.mds.yandex.net</th>\n",
       "      <th>ad.mail.ru</th>\n",
       "      <th>yastatic.net</th>\n",
       "      <th>apple.com</th>\n",
       "      <th>instagram.com</th>\n",
       "      <th>ads.adfox.ru</th>\n",
       "      <th>...</th>\n",
       "      <th>manrule.ru</th>\n",
       "      <th>programma-peredach.com</th>\n",
       "      <th>mcpehub.org</th>\n",
       "      <th>go64.ru</th>\n",
       "      <th>nail-styles.ru</th>\n",
       "      <th>other_url</th>\n",
       "      <th>other_female_urls_frac</th>\n",
       "      <th>other_male_urls_frac</th>\n",
       "      <th>user_id</th>\n",
       "      <th>is_male</th>\n",
       "    </tr>\n",
       "  </thead>\n",
       "  <tbody>\n",
       "    <tr>\n",
       "      <th>0</th>\n",
       "      <td>0.196891</td>\n",
       "      <td>0.031088</td>\n",
       "      <td>0.025907</td>\n",
       "      <td>0.041451</td>\n",
       "      <td>0.046632</td>\n",
       "      <td>0.031088</td>\n",
       "      <td>0.051813</td>\n",
       "      <td>0.0</td>\n",
       "      <td>0.000000</td>\n",
       "      <td>0.025907</td>\n",
       "      <td>...</td>\n",
       "      <td>0.0</td>\n",
       "      <td>0.0</td>\n",
       "      <td>0.0</td>\n",
       "      <td>0.0</td>\n",
       "      <td>0.0</td>\n",
       "      <td>0.031088</td>\n",
       "      <td>0.005181</td>\n",
       "      <td>0.000000</td>\n",
       "      <td>0</td>\n",
       "      <td>0</td>\n",
       "    </tr>\n",
       "    <tr>\n",
       "      <th>1</th>\n",
       "      <td>0.072588</td>\n",
       "      <td>0.112703</td>\n",
       "      <td>0.040115</td>\n",
       "      <td>0.023878</td>\n",
       "      <td>0.104107</td>\n",
       "      <td>0.034384</td>\n",
       "      <td>0.081184</td>\n",
       "      <td>0.0</td>\n",
       "      <td>0.000000</td>\n",
       "      <td>0.019102</td>\n",
       "      <td>...</td>\n",
       "      <td>0.0</td>\n",
       "      <td>0.0</td>\n",
       "      <td>0.0</td>\n",
       "      <td>0.0</td>\n",
       "      <td>0.0</td>\n",
       "      <td>0.013372</td>\n",
       "      <td>0.001910</td>\n",
       "      <td>0.000955</td>\n",
       "      <td>1</td>\n",
       "      <td>0</td>\n",
       "    </tr>\n",
       "    <tr>\n",
       "      <th>2</th>\n",
       "      <td>0.092457</td>\n",
       "      <td>0.046229</td>\n",
       "      <td>0.126521</td>\n",
       "      <td>0.141119</td>\n",
       "      <td>0.072993</td>\n",
       "      <td>0.038929</td>\n",
       "      <td>0.046229</td>\n",
       "      <td>0.0</td>\n",
       "      <td>0.000000</td>\n",
       "      <td>0.026764</td>\n",
       "      <td>...</td>\n",
       "      <td>0.0</td>\n",
       "      <td>0.0</td>\n",
       "      <td>0.0</td>\n",
       "      <td>0.0</td>\n",
       "      <td>0.0</td>\n",
       "      <td>0.002433</td>\n",
       "      <td>0.000000</td>\n",
       "      <td>0.000000</td>\n",
       "      <td>2</td>\n",
       "      <td>0</td>\n",
       "    </tr>\n",
       "    <tr>\n",
       "      <th>3</th>\n",
       "      <td>0.021818</td>\n",
       "      <td>0.061818</td>\n",
       "      <td>0.007273</td>\n",
       "      <td>0.178182</td>\n",
       "      <td>0.094545</td>\n",
       "      <td>0.080000</td>\n",
       "      <td>0.069091</td>\n",
       "      <td>0.0</td>\n",
       "      <td>0.000000</td>\n",
       "      <td>0.000000</td>\n",
       "      <td>...</td>\n",
       "      <td>0.0</td>\n",
       "      <td>0.0</td>\n",
       "      <td>0.0</td>\n",
       "      <td>0.0</td>\n",
       "      <td>0.0</td>\n",
       "      <td>0.010909</td>\n",
       "      <td>0.003636</td>\n",
       "      <td>0.003636</td>\n",
       "      <td>3</td>\n",
       "      <td>1</td>\n",
       "    </tr>\n",
       "    <tr>\n",
       "      <th>4</th>\n",
       "      <td>0.061776</td>\n",
       "      <td>0.030888</td>\n",
       "      <td>0.048906</td>\n",
       "      <td>0.083655</td>\n",
       "      <td>0.046332</td>\n",
       "      <td>0.061776</td>\n",
       "      <td>0.045045</td>\n",
       "      <td>0.0</td>\n",
       "      <td>0.003861</td>\n",
       "      <td>0.028314</td>\n",
       "      <td>...</td>\n",
       "      <td>0.0</td>\n",
       "      <td>0.0</td>\n",
       "      <td>0.0</td>\n",
       "      <td>0.0</td>\n",
       "      <td>0.0</td>\n",
       "      <td>0.011583</td>\n",
       "      <td>0.003861</td>\n",
       "      <td>0.000000</td>\n",
       "      <td>4</td>\n",
       "      <td>0</td>\n",
       "    </tr>\n",
       "  </tbody>\n",
       "</table>\n",
       "<p>5 rows × 402 columns</p>\n",
       "</div>"
      ],
      "text/plain": [
       "   googleads.g.doubleclick.net  yandex.ru  i.ytimg.com    vk.com  \\\n",
       "0                     0.196891   0.031088     0.025907  0.041451   \n",
       "1                     0.072588   0.112703     0.040115  0.023878   \n",
       "2                     0.092457   0.046229     0.126521  0.141119   \n",
       "3                     0.021818   0.061818     0.007273  0.178182   \n",
       "4                     0.061776   0.030888     0.048906  0.083655   \n",
       "\n",
       "   avatars.mds.yandex.net  ad.mail.ru  yastatic.net  apple.com  instagram.com  \\\n",
       "0                0.046632    0.031088      0.051813        0.0       0.000000   \n",
       "1                0.104107    0.034384      0.081184        0.0       0.000000   \n",
       "2                0.072993    0.038929      0.046229        0.0       0.000000   \n",
       "3                0.094545    0.080000      0.069091        0.0       0.000000   \n",
       "4                0.046332    0.061776      0.045045        0.0       0.003861   \n",
       "\n",
       "   ads.adfox.ru  ...  manrule.ru  programma-peredach.com  mcpehub.org  \\\n",
       "0      0.025907  ...         0.0                     0.0          0.0   \n",
       "1      0.019102  ...         0.0                     0.0          0.0   \n",
       "2      0.026764  ...         0.0                     0.0          0.0   \n",
       "3      0.000000  ...         0.0                     0.0          0.0   \n",
       "4      0.028314  ...         0.0                     0.0          0.0   \n",
       "\n",
       "   go64.ru  nail-styles.ru  other_url  other_female_urls_frac  \\\n",
       "0      0.0             0.0   0.031088                0.005181   \n",
       "1      0.0             0.0   0.013372                0.001910   \n",
       "2      0.0             0.0   0.002433                0.000000   \n",
       "3      0.0             0.0   0.010909                0.003636   \n",
       "4      0.0             0.0   0.011583                0.003861   \n",
       "\n",
       "   other_male_urls_frac  user_id  is_male  \n",
       "0              0.000000        0        0  \n",
       "1              0.000955        1        0  \n",
       "2              0.000000        2        0  \n",
       "3              0.003636        3        1  \n",
       "4              0.000000        4        0  \n",
       "\n",
       "[5 rows x 402 columns]"
      ]
     },
     "metadata": {},
     "output_type": "display_data"
    },
    {
     "name": "stdout",
     "output_type": "stream",
     "text": [
      "<class 'pandas.core.frame.DataFrame'>\n",
      "Int64Index: 264326 entries, 0 to 269999\n",
      "Columns: 402 entries, googleads.g.doubleclick.net to is_male\n",
      "dtypes: float32(400), int32(1), int8(1)\n",
      "memory usage: 406.6 MB\n"
     ]
    },
    {
     "data": {
      "text/plain": [
       "None"
      ]
     },
     "metadata": {},
     "output_type": "display_data"
    }
   ],
   "source": [
    "df = dd.read_parquet('..\\\\full_data\\\\figma_plan\\\\full_gender_data_txt.parquet').compute()\n",
    "\n",
    "#берем нужные колонки url\n",
    "df = df.loc[:,df.columns[12:-1].to_list()+['user_id']]\n",
    "top400 = np.load('top400_features.npy',allow_pickle=True)\n",
    "# добавляем target, удаляем nan\n",
    "df = df.loc[:,(df.columns.isin(top400))|(df.columns.isin(['user_id']))]\n",
    "df = df.merge(pd.read_parquet('..\\\\full_data\\\\public_train.pqt',columns=['user_id','is_male'])[['is_male','user_id']], on = 'user_id', how = 'inner')\n",
    "df = df.loc[~(df['is_male'].isna()) & (df['is_male'] != 'NA')]\n",
    "df['is_male'] = df['is_male'].astype('int8')\n",
    "\n",
    "display(df.head())\n",
    "display(df.info())"
   ]
  },
  {
   "cell_type": "code",
   "execution_count": 5,
   "metadata": {},
   "outputs": [
    {
     "data": {
      "application/vnd.jupyter.widget-view+json": {
       "model_id": "c39cf3739105451cb6a58ba5a77d03bd",
       "version_major": 2,
       "version_minor": 0
      },
      "text/plain": [
       "MetricVisualizer(layout=Layout(align_self='stretch', height='500px'))"
      ]
     },
     "metadata": {},
     "output_type": "display_data"
    },
    {
     "name": "stdout",
     "output_type": "stream",
     "text": [
      "0.7289353568885151\n"
     ]
    }
   ],
   "source": [
    "x_train = df.drop(['is_male','user_id'],axis=1)\n",
    "y_train = df['is_male']\n",
    "\n",
    "pool_train = Pool(x_train, y_train,\n",
    "                  cat_features = list(x_train.select_dtypes(include=['object']).columns))\n",
    "\n",
    "model = CatBoostClassifier(iterations=2000,\n",
    "                           learning_rate = 0.01,\n",
    "                           random_strength = 1,\n",
    "                           l2_leaf_reg = 8,\n",
    "                           random_state=42,\n",
    "                           task_type='GPU')\n",
    "\n",
    "model.fit(pool_train, verbose=False,plot=True)\n",
    "print(2 * roc_auc_score(y_train, model.predict_proba(x_train)[:,1]) - 1)"
   ]
  },
  {
   "cell_type": "code",
   "execution_count": null,
   "metadata": {},
   "outputs": [],
   "source": [
    "model.save_model('catboost_gender_urls')"
   ]
  },
  {
   "cell_type": "code",
   "execution_count": 21,
   "outputs": [
    {
     "name": "stdout",
     "output_type": "stream",
     "text": [
      "0.7289353568885151\n"
     ]
    }
   ],
   "source": [
    "model = CatBoostClassifier()\n",
    "model.load_model('catboost_gender_urls')\n",
    "print(2 * roc_auc_score(y_train, model.predict_proba(x_train)[:,1]) - 1)"
   ],
   "metadata": {
    "collapsed": false
   }
  },
  {
   "cell_type": "code",
   "execution_count": 19,
   "outputs": [
    {
     "data": {
      "text/plain": "array([0.92350753, 0.89404111, 0.54102769, ..., 0.5306676 , 0.51787029,\n       0.38877523])"
     },
     "execution_count": 19,
     "metadata": {},
     "output_type": "execute_result"
    }
   ],
   "source": [
    "model.predict_proba(x_train)[:,0]"
   ],
   "metadata": {
    "collapsed": false
   }
  },
  {
   "cell_type": "code",
   "execution_count": 15,
   "outputs": [
    {
     "data": {
      "text/plain": "0         0\n1         0\n2         0\n3         1\n4         0\n         ..\n269994    1\n269996    0\n269997    0\n269998    1\n269999    0\nName: is_male, Length: 264326, dtype: int8"
     },
     "execution_count": 15,
     "metadata": {},
     "output_type": "execute_result"
    }
   ],
   "source": [
    "y_train"
   ],
   "metadata": {
    "collapsed": false
   }
  },
  {
   "cell_type": "code",
   "execution_count": null,
   "outputs": [],
   "source": [],
   "metadata": {
    "collapsed": false
   }
  }
 ],
 "metadata": {
  "kernelspec": {
   "display_name": "Python 3 (ipykernel)",
   "language": "python",
   "name": "python3"
  },
  "language_info": {
   "codemirror_mode": {
    "name": "ipython",
    "version": 3
   },
   "file_extension": ".py",
   "mimetype": "text/x-python",
   "name": "python",
   "nbconvert_exporter": "python",
   "pygments_lexer": "ipython3",
   "version": "3.8.10"
  }
 },
 "nbformat": 4,
 "nbformat_minor": 1
}
