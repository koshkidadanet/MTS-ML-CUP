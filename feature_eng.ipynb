{
 "cells": [
  {
   "cell_type": "code",
   "execution_count": 1,
   "outputs": [],
   "source": [
    "import bisect\n",
    "import json\n",
    "import requests\n",
    "import glob\n",
    "\n",
    "import numpy as np\n",
    "import pandas as pd\n",
    "import dask.dataframe as dd\n",
    "import matplotlib.pyplot as plt\n",
    "\n",
    "from category_encoders.binary import BinaryEncoder\n",
    "from IPython.display import clear_output"
   ],
   "metadata": {
    "collapsed": false
   }
  },
  {
   "cell_type": "markdown",
   "source": [
    "## Функция для чтения данных"
   ],
   "metadata": {
    "collapsed": false
   }
  },
  {
   "cell_type": "code",
   "execution_count": 2,
   "outputs": [],
   "source": [
    "def read_data(path,columns):\n",
    "    data = pd.DataFrame()\n",
    "    for name_column, column_type in columns.items():\n",
    "        df_column = pd.DataFrame()\n",
    "        for i in range(10):\n",
    "            data_features_file = dd.read_parquet(\n",
    "                path + f'\\\\part-0000{i}-aba60f69-2b63-4cc1-95ca-542598094698-c000.snappy.parquet')\n",
    "            df_column = pd.concat([df_column, data_features_file[name_column].compute()], ignore_index=True)\n",
    "        data[name_column] = df_column.astype(column_type)\n",
    "    return data"
   ],
   "metadata": {
    "collapsed": false
   }
  },
  {
   "cell_type": "markdown",
   "source": [
    "## Популярный регион, всего регионов binary encoder"
   ],
   "metadata": {
    "collapsed": false
   }
  },
  {
   "cell_type": "code",
   "execution_count": 6,
   "outputs": [
    {
     "name": "stdout",
     "output_type": "stream",
     "text": [
      "<class 'pandas.core.frame.DataFrame'>\n",
      "RangeIndex: 322899435 entries, 0 to 322899434\n",
      "Data columns (total 2 columns):\n",
      " #   Column       Dtype   \n",
      "---  ------       -----   \n",
      " 0   user_id      int32   \n",
      " 1   region_name  category\n",
      "dtypes: category(1), int32(1)\n",
      "memory usage: 1.5 GB\n"
     ]
    }
   ],
   "source": [
    "path = '..\\\\full_data\\\\competition_data_final_pqt'\n",
    "columns = {'user_id': 'int32', 'region_name': 'category'}\n",
    "data = read_data(path,columns)\n",
    "data.info()"
   ],
   "metadata": {
    "collapsed": false
   }
  },
  {
   "cell_type": "code",
   "execution_count": 34,
   "outputs": [
    {
     "name": "stdout",
     "output_type": "stream",
     "text": [
      "<class 'pandas.core.series.Series'>\n",
      "MultiIndex: 33640677 entries, (0, 'Алтайский край') to (415316, 'Ярославская область')\n",
      "Series name: top_region\n",
      "Non-Null Count     Dtype\n",
      "--------------     -----\n",
      "33640677 non-null  int64\n",
      "dtypes: int64(1)\n",
      "memory usage: 436.4 MB\n"
     ]
    },
    {
     "data": {
      "text/plain": "None"
     },
     "metadata": {},
     "output_type": "display_data"
    },
    {
     "name": "stdout",
     "output_type": "stream",
     "text": [
      "MultiIndex([(     0,             'Алтайский край'),\n",
      "            (     0,           'Амурская область'),\n",
      "            (     0,      'Архангельская область'),\n",
      "            (     0,       'Астраханская область'),\n",
      "            (     0,       'Белгородская область'),\n",
      "            (     0,           'Брянская область'),\n",
      "            (     0,       'Владимирская область'),\n",
      "            (     0,      'Волгоградская область'),\n",
      "            (     0,        'Вологодская область'),\n",
      "            (     0,        'Воронежская область'),\n",
      "            ...\n",
      "            (415316,      'Удмуртская Республика'),\n",
      "            (415316,        'Ульяновская область'),\n",
      "            (415316,           'Хабаровский край'),\n",
      "            (415316, 'Ханты-Мансийский АО — Югра'),\n",
      "            (415316,        'Челябинская область'),\n",
      "            (415316,       'Чеченская Республика'),\n",
      "            (415316,       'Чувашская Республика'),\n",
      "            (415316,               'Чукотский АО'),\n",
      "            (415316,          'Ямало-Ненецкий АО'),\n",
      "            (415316,        'Ярославская область')],\n",
      "           names=['user_id', 'region_name'], length=33640677)\n"
     ]
    },
    {
     "data": {
      "text/plain": "    user_id              region_name  top_region\n0         0                   Москва         131\n1         1                   Москва         572\n2         1       Московская область          37\n3         1          Санкт-Петербург          91\n4         2          Республика Коми         356\n5         3      Воронежская область         188\n6         4    Волгоградская область          23\n7         4       Краснодарский край         459\n8         4  Республика Башкортостан          97\n9         4        Самарская область          11\n10        4      Саратовская область           1\n11        5    Ленинградская область        2021\n12        5          Санкт-Петербург         498\n13        6       Московская область         456\n14        7                   Москва         239\n15        7       Московская область         222\n16        8    Нижегородская область         976\n17        9    Нижегородская область         315\n18       10    Нижегородская область        1679\n19       11          Приморский край         571",
      "text/html": "<div>\n<style scoped>\n    .dataframe tbody tr th:only-of-type {\n        vertical-align: middle;\n    }\n\n    .dataframe tbody tr th {\n        vertical-align: top;\n    }\n\n    .dataframe thead th {\n        text-align: right;\n    }\n</style>\n<table border=\"1\" class=\"dataframe\">\n  <thead>\n    <tr style=\"text-align: right;\">\n      <th></th>\n      <th>user_id</th>\n      <th>region_name</th>\n      <th>top_region</th>\n    </tr>\n  </thead>\n  <tbody>\n    <tr>\n      <th>0</th>\n      <td>0</td>\n      <td>Москва</td>\n      <td>131</td>\n    </tr>\n    <tr>\n      <th>1</th>\n      <td>1</td>\n      <td>Москва</td>\n      <td>572</td>\n    </tr>\n    <tr>\n      <th>2</th>\n      <td>1</td>\n      <td>Московская область</td>\n      <td>37</td>\n    </tr>\n    <tr>\n      <th>3</th>\n      <td>1</td>\n      <td>Санкт-Петербург</td>\n      <td>91</td>\n    </tr>\n    <tr>\n      <th>4</th>\n      <td>2</td>\n      <td>Республика Коми</td>\n      <td>356</td>\n    </tr>\n    <tr>\n      <th>5</th>\n      <td>3</td>\n      <td>Воронежская область</td>\n      <td>188</td>\n    </tr>\n    <tr>\n      <th>6</th>\n      <td>4</td>\n      <td>Волгоградская область</td>\n      <td>23</td>\n    </tr>\n    <tr>\n      <th>7</th>\n      <td>4</td>\n      <td>Краснодарский край</td>\n      <td>459</td>\n    </tr>\n    <tr>\n      <th>8</th>\n      <td>4</td>\n      <td>Республика Башкортостан</td>\n      <td>97</td>\n    </tr>\n    <tr>\n      <th>9</th>\n      <td>4</td>\n      <td>Самарская область</td>\n      <td>11</td>\n    </tr>\n    <tr>\n      <th>10</th>\n      <td>4</td>\n      <td>Саратовская область</td>\n      <td>1</td>\n    </tr>\n    <tr>\n      <th>11</th>\n      <td>5</td>\n      <td>Ленинградская область</td>\n      <td>2021</td>\n    </tr>\n    <tr>\n      <th>12</th>\n      <td>5</td>\n      <td>Санкт-Петербург</td>\n      <td>498</td>\n    </tr>\n    <tr>\n      <th>13</th>\n      <td>6</td>\n      <td>Московская область</td>\n      <td>456</td>\n    </tr>\n    <tr>\n      <th>14</th>\n      <td>7</td>\n      <td>Москва</td>\n      <td>239</td>\n    </tr>\n    <tr>\n      <th>15</th>\n      <td>7</td>\n      <td>Московская область</td>\n      <td>222</td>\n    </tr>\n    <tr>\n      <th>16</th>\n      <td>8</td>\n      <td>Нижегородская область</td>\n      <td>976</td>\n    </tr>\n    <tr>\n      <th>17</th>\n      <td>9</td>\n      <td>Нижегородская область</td>\n      <td>315</td>\n    </tr>\n    <tr>\n      <th>18</th>\n      <td>10</td>\n      <td>Нижегородская область</td>\n      <td>1679</td>\n    </tr>\n    <tr>\n      <th>19</th>\n      <td>11</td>\n      <td>Приморский край</td>\n      <td>571</td>\n    </tr>\n  </tbody>\n</table>\n</div>"
     },
     "metadata": {},
     "output_type": "display_data"
    }
   ],
   "source": [
    "# в top_region количество строк с этим регионом у юзера\n",
    "df = data.groupby(['user_id', 'region_name'])['region_name'].count()\n",
    "df.name = 'top_region'\n",
    "\n",
    "display(df.info())\n",
    "print(df.index)\n",
    "\n",
    "# удаляем из фрейма города, в которых не был человек\n",
    "df = df[df != 0].reset_index()\n",
    "display(df.head(20))\n",
    "# в скольки регионах бывал пользователь\n",
    "region_count = df.groupby('user_id', group_keys=False)['region_name'].count()\n",
    "#оставляем только топовые регионы для каждого пользоватеоля\n",
    "df = df.sort_values(by='top_region', ascending=False).drop_duplicates(subset='user_id', keep='first', ignore_index=True)\n",
    "df = df.drop('top_region', axis=1)\n",
    "#сортируем и добавляем колонку\n",
    "df = df.sort_values(by='user_id').reset_index(drop=True)\n",
    "df['region_count'] = region_count"
   ],
   "metadata": {
    "collapsed": false
   }
  },
  {
   "cell_type": "code",
   "execution_count": 35,
   "outputs": [
    {
     "data": {
      "text/plain": "        user_id            region_name  region_count\n0             0                 Москва             1\n1             1                 Москва             3\n2             2        Республика Коми             1\n3             3    Воронежская область             1\n4             4     Краснодарский край             5\n...         ...                    ...           ...\n415312   415312     Тамбовская область             1\n415313   415313    Саратовская область             1\n415314   415314  Новосибирская область             1\n415315   415315     Краснодарский край             1\n415316   415316  Удмуртская Республика             1\n\n[415317 rows x 3 columns]",
      "text/html": "<div>\n<style scoped>\n    .dataframe tbody tr th:only-of-type {\n        vertical-align: middle;\n    }\n\n    .dataframe tbody tr th {\n        vertical-align: top;\n    }\n\n    .dataframe thead th {\n        text-align: right;\n    }\n</style>\n<table border=\"1\" class=\"dataframe\">\n  <thead>\n    <tr style=\"text-align: right;\">\n      <th></th>\n      <th>user_id</th>\n      <th>region_name</th>\n      <th>region_count</th>\n    </tr>\n  </thead>\n  <tbody>\n    <tr>\n      <th>0</th>\n      <td>0</td>\n      <td>Москва</td>\n      <td>1</td>\n    </tr>\n    <tr>\n      <th>1</th>\n      <td>1</td>\n      <td>Москва</td>\n      <td>3</td>\n    </tr>\n    <tr>\n      <th>2</th>\n      <td>2</td>\n      <td>Республика Коми</td>\n      <td>1</td>\n    </tr>\n    <tr>\n      <th>3</th>\n      <td>3</td>\n      <td>Воронежская область</td>\n      <td>1</td>\n    </tr>\n    <tr>\n      <th>4</th>\n      <td>4</td>\n      <td>Краснодарский край</td>\n      <td>5</td>\n    </tr>\n    <tr>\n      <th>...</th>\n      <td>...</td>\n      <td>...</td>\n      <td>...</td>\n    </tr>\n    <tr>\n      <th>415312</th>\n      <td>415312</td>\n      <td>Тамбовская область</td>\n      <td>1</td>\n    </tr>\n    <tr>\n      <th>415313</th>\n      <td>415313</td>\n      <td>Саратовская область</td>\n      <td>1</td>\n    </tr>\n    <tr>\n      <th>415314</th>\n      <td>415314</td>\n      <td>Новосибирская область</td>\n      <td>1</td>\n    </tr>\n    <tr>\n      <th>415315</th>\n      <td>415315</td>\n      <td>Краснодарский край</td>\n      <td>1</td>\n    </tr>\n    <tr>\n      <th>415316</th>\n      <td>415316</td>\n      <td>Удмуртская Республика</td>\n      <td>1</td>\n    </tr>\n  </tbody>\n</table>\n<p>415317 rows × 3 columns</p>\n</div>"
     },
     "metadata": {},
     "output_type": "display_data"
    },
    {
     "data": {
      "text/plain": "        user_id  region_name_0  region_name_1  region_name_2  region_name_3  \\\n0             0              0              0              0              0   \n1             1              0              0              0              0   \n2             2              0              0              0              0   \n3             3              0              0              0              0   \n4             4              0              0              0              0   \n...         ...            ...            ...            ...            ...   \n415312   415312              1              0              0              0   \n415313   415313              0              0              1              1   \n415314   415314              0              0              1              0   \n415315   415315              0              0              0              0   \n415316   415316              0              0              0              1   \n\n        region_name_4  region_name_5  region_name_6  region_count  \n0                   0              0              1             1  \n1                   0              0              1             3  \n2                   0              1              0             1  \n3                   0              1              1             1  \n4                   1              0              0             5  \n...               ...            ...            ...           ...  \n415312              1              1              0             1  \n415313              0              0              0             1  \n415314              0              1              1             1  \n415315              1              0              0             1  \n415316              0              1              1             1  \n\n[415317 rows x 9 columns]",
      "text/html": "<div>\n<style scoped>\n    .dataframe tbody tr th:only-of-type {\n        vertical-align: middle;\n    }\n\n    .dataframe tbody tr th {\n        vertical-align: top;\n    }\n\n    .dataframe thead th {\n        text-align: right;\n    }\n</style>\n<table border=\"1\" class=\"dataframe\">\n  <thead>\n    <tr style=\"text-align: right;\">\n      <th></th>\n      <th>user_id</th>\n      <th>region_name_0</th>\n      <th>region_name_1</th>\n      <th>region_name_2</th>\n      <th>region_name_3</th>\n      <th>region_name_4</th>\n      <th>region_name_5</th>\n      <th>region_name_6</th>\n      <th>region_count</th>\n    </tr>\n  </thead>\n  <tbody>\n    <tr>\n      <th>0</th>\n      <td>0</td>\n      <td>0</td>\n      <td>0</td>\n      <td>0</td>\n      <td>0</td>\n      <td>0</td>\n      <td>0</td>\n      <td>1</td>\n      <td>1</td>\n    </tr>\n    <tr>\n      <th>1</th>\n      <td>1</td>\n      <td>0</td>\n      <td>0</td>\n      <td>0</td>\n      <td>0</td>\n      <td>0</td>\n      <td>0</td>\n      <td>1</td>\n      <td>3</td>\n    </tr>\n    <tr>\n      <th>2</th>\n      <td>2</td>\n      <td>0</td>\n      <td>0</td>\n      <td>0</td>\n      <td>0</td>\n      <td>0</td>\n      <td>1</td>\n      <td>0</td>\n      <td>1</td>\n    </tr>\n    <tr>\n      <th>3</th>\n      <td>3</td>\n      <td>0</td>\n      <td>0</td>\n      <td>0</td>\n      <td>0</td>\n      <td>0</td>\n      <td>1</td>\n      <td>1</td>\n      <td>1</td>\n    </tr>\n    <tr>\n      <th>4</th>\n      <td>4</td>\n      <td>0</td>\n      <td>0</td>\n      <td>0</td>\n      <td>0</td>\n      <td>1</td>\n      <td>0</td>\n      <td>0</td>\n      <td>5</td>\n    </tr>\n    <tr>\n      <th>...</th>\n      <td>...</td>\n      <td>...</td>\n      <td>...</td>\n      <td>...</td>\n      <td>...</td>\n      <td>...</td>\n      <td>...</td>\n      <td>...</td>\n      <td>...</td>\n    </tr>\n    <tr>\n      <th>415312</th>\n      <td>415312</td>\n      <td>1</td>\n      <td>0</td>\n      <td>0</td>\n      <td>0</td>\n      <td>1</td>\n      <td>1</td>\n      <td>0</td>\n      <td>1</td>\n    </tr>\n    <tr>\n      <th>415313</th>\n      <td>415313</td>\n      <td>0</td>\n      <td>0</td>\n      <td>1</td>\n      <td>1</td>\n      <td>0</td>\n      <td>0</td>\n      <td>0</td>\n      <td>1</td>\n    </tr>\n    <tr>\n      <th>415314</th>\n      <td>415314</td>\n      <td>0</td>\n      <td>0</td>\n      <td>1</td>\n      <td>0</td>\n      <td>0</td>\n      <td>1</td>\n      <td>1</td>\n      <td>1</td>\n    </tr>\n    <tr>\n      <th>415315</th>\n      <td>415315</td>\n      <td>0</td>\n      <td>0</td>\n      <td>0</td>\n      <td>0</td>\n      <td>1</td>\n      <td>0</td>\n      <td>0</td>\n      <td>1</td>\n    </tr>\n    <tr>\n      <th>415316</th>\n      <td>415316</td>\n      <td>0</td>\n      <td>0</td>\n      <td>0</td>\n      <td>1</td>\n      <td>0</td>\n      <td>1</td>\n      <td>1</td>\n      <td>1</td>\n    </tr>\n  </tbody>\n</table>\n<p>415317 rows × 9 columns</p>\n</div>"
     },
     "metadata": {},
     "output_type": "display_data"
    }
   ],
   "source": [
    "display(df)\n",
    "be = BinaryEncoder(cols=['region_name'],return_df=True)\n",
    "df = be.fit_transform(df)\n",
    "display(df)"
   ],
   "metadata": {
    "collapsed": false
   }
  },
  {
   "cell_type": "code",
   "execution_count": 36,
   "outputs": [
    {
     "name": "stdout",
     "output_type": "stream",
     "text": [
      "<class 'pandas.core.frame.DataFrame'>\n",
      "RangeIndex: 415317 entries, 0 to 415316\n",
      "Data columns (total 9 columns):\n",
      " #   Column         Non-Null Count   Dtype\n",
      "---  ------         --------------   -----\n",
      " 0   user_id        415317 non-null  int64\n",
      " 1   region_name_0  415317 non-null  int64\n",
      " 2   region_name_1  415317 non-null  int64\n",
      " 3   region_name_2  415317 non-null  int64\n",
      " 4   region_name_3  415317 non-null  int64\n",
      " 5   region_name_4  415317 non-null  int64\n",
      " 6   region_name_5  415317 non-null  int64\n",
      " 7   region_name_6  415317 non-null  int64\n",
      " 8   region_count   415317 non-null  int64\n",
      "dtypes: int64(9)\n",
      "memory usage: 28.5 MB\n"
     ]
    },
    {
     "data": {
      "text/plain": "None"
     },
     "metadata": {},
     "output_type": "display_data"
    },
    {
     "name": "stdout",
     "output_type": "stream",
     "text": [
      "41\n",
      "415316\n",
      "<class 'pandas.core.frame.DataFrame'>\n",
      "RangeIndex: 415317 entries, 0 to 415316\n",
      "Data columns (total 9 columns):\n",
      " #   Column         Non-Null Count   Dtype   \n",
      "---  ------         --------------   -----   \n",
      " 0   user_id        415317 non-null  int32   \n",
      " 1   region_name_0  415317 non-null  category\n",
      " 2   region_name_1  415317 non-null  category\n",
      " 3   region_name_2  415317 non-null  category\n",
      " 4   region_name_3  415317 non-null  category\n",
      " 5   region_name_4  415317 non-null  category\n",
      " 6   region_name_5  415317 non-null  category\n",
      " 7   region_name_6  415317 non-null  category\n",
      " 8   region_count   415317 non-null  int8    \n",
      "dtypes: category(7), int32(1), int8(1)\n",
      "memory usage: 4.8 MB\n"
     ]
    },
    {
     "data": {
      "text/plain": "None"
     },
     "metadata": {},
     "output_type": "display_data"
    }
   ],
   "source": [
    "display(df.info())\n",
    "print(df['region_count'].max()) #int8\n",
    "print(df['user_id'].max()) #int32\n",
    "\n",
    "df[['region_count']] = df[['region_count']].astype('int8')\n",
    "df[['user_id']] = df[['user_id']].astype('int32')\n",
    "df[df.columns[~df.columns.isin(['region_count','user_id'])]] = df[df.columns[~df.columns.isin(['region_count','user_id'])]].astype('category')\n",
    "\n",
    "display(df.info())\n"
   ],
   "metadata": {
    "collapsed": false
   }
  },
  {
   "cell_type": "code",
   "execution_count": 38,
   "outputs": [],
   "source": [
    "df.to_parquet('..\\\\full_data\\\\figma_plan\\\\region.parquet', index=False)"
   ],
   "metadata": {
    "collapsed": false
   }
  },
  {
   "cell_type": "markdown",
   "source": [
    "## Популярный город, всего городов binary encoder"
   ],
   "metadata": {
    "collapsed": false
   }
  },
  {
   "cell_type": "code",
   "execution_count": 3,
   "outputs": [
    {
     "name": "stdout",
     "output_type": "stream",
     "text": [
      "<class 'pandas.core.frame.DataFrame'>\n",
      "RangeIndex: 322899435 entries, 0 to 322899434\n",
      "Data columns (total 2 columns):\n",
      " #   Column     Dtype   \n",
      "---  ------     -----   \n",
      " 0   user_id    int32   \n",
      " 1   city_name  category\n",
      "dtypes: category(1), int32(1)\n",
      "memory usage: 1.8 GB\n"
     ]
    }
   ],
   "source": [
    "path = '..\\\\full_data\\\\competition_data_final_pqt'\n",
    "columns = {'user_id': 'int32', 'city_name': 'category'}\n",
    "data = read_data(path,columns)\n",
    "display(data.info())\n",
    "display(data.isna().sum())"
   ],
   "metadata": {
    "collapsed": false
   }
  },
  {
   "cell_type": "code",
   "execution_count": 6,
   "outputs": [
    {
     "name": "stdout",
     "output_type": "stream",
     "text": [
      "<class 'pandas.core.series.Series'>\n",
      "MultiIndex: 409087245 entries, (0, 'Абаза') to (415316, 'Яхрома')\n",
      "Series name: top_city\n",
      "Non-Null Count      Dtype\n",
      "--------------      -----\n",
      "409087245 non-null  int64\n",
      "dtypes: int64(1)\n",
      "memory usage: 5.4 GB\n"
     ]
    },
    {
     "data": {
      "text/plain": "None"
     },
     "metadata": {},
     "output_type": "display_data"
    },
    {
     "name": "stdout",
     "output_type": "stream",
     "text": [
      "MultiIndex([(     0,      'Абаза'),\n",
      "            (     0,     'Абакан'),\n",
      "            (     0,   'Абдулино'),\n",
      "            (     0,     'Абинск'),\n",
      "            (     0,    'Агидель'),\n",
      "            (     0,      'Агрыз'),\n",
      "            (     0,   'Адыгейск'),\n",
      "            (     0,  'Азнакаево'),\n",
      "            (     0,       'Азов'),\n",
      "            (     0, 'Ак-Довурак'),\n",
      "            ...\n",
      "            (415316,     'Якутск'),\n",
      "            (415316, 'Ялуторовск'),\n",
      "            (415316,      'Янаул'),\n",
      "            (415316,     'Яранск'),\n",
      "            (415316,     'Яровое'),\n",
      "            (415316,  'Ярославль'),\n",
      "            (415316,     'Ярцево'),\n",
      "            (415316,  'Ясногорск'),\n",
      "            (415316,      'Ясный'),\n",
      "            (415316,     'Яхрома')],\n",
      "           names=['user_id', 'city_name'], length=409087245)\n"
     ]
    },
    {
     "data": {
      "text/plain": "    user_id        city_name  top_city\n0         0           Москва       131\n1         1          Люберцы         6\n2         1           Москва       572\n3         1         Подольск        13\n4         1  Санкт-Петербург        91\n5         1            Химки         4\n6         1            Чехов        14\n7         2           Печора       356\n8         3          Воронеж       188\n9         4           Абинск         1\n10        4            Анапа       444\n11        4        Волгоград        22\n12        4        Геленджик         9\n13        4          Камышин         1\n14        4       Нефтекамск        97\n15        4     Новороссийск         5\n16        4          Саратов         1\n17        4          Сызрань        11\n18        5       Никольское      1987\n19        5         Отрадное        30",
      "text/html": "<div>\n<style scoped>\n    .dataframe tbody tr th:only-of-type {\n        vertical-align: middle;\n    }\n\n    .dataframe tbody tr th {\n        vertical-align: top;\n    }\n\n    .dataframe thead th {\n        text-align: right;\n    }\n</style>\n<table border=\"1\" class=\"dataframe\">\n  <thead>\n    <tr style=\"text-align: right;\">\n      <th></th>\n      <th>user_id</th>\n      <th>city_name</th>\n      <th>top_city</th>\n    </tr>\n  </thead>\n  <tbody>\n    <tr>\n      <th>0</th>\n      <td>0</td>\n      <td>Москва</td>\n      <td>131</td>\n    </tr>\n    <tr>\n      <th>1</th>\n      <td>1</td>\n      <td>Люберцы</td>\n      <td>6</td>\n    </tr>\n    <tr>\n      <th>2</th>\n      <td>1</td>\n      <td>Москва</td>\n      <td>572</td>\n    </tr>\n    <tr>\n      <th>3</th>\n      <td>1</td>\n      <td>Подольск</td>\n      <td>13</td>\n    </tr>\n    <tr>\n      <th>4</th>\n      <td>1</td>\n      <td>Санкт-Петербург</td>\n      <td>91</td>\n    </tr>\n    <tr>\n      <th>5</th>\n      <td>1</td>\n      <td>Химки</td>\n      <td>4</td>\n    </tr>\n    <tr>\n      <th>6</th>\n      <td>1</td>\n      <td>Чехов</td>\n      <td>14</td>\n    </tr>\n    <tr>\n      <th>7</th>\n      <td>2</td>\n      <td>Печора</td>\n      <td>356</td>\n    </tr>\n    <tr>\n      <th>8</th>\n      <td>3</td>\n      <td>Воронеж</td>\n      <td>188</td>\n    </tr>\n    <tr>\n      <th>9</th>\n      <td>4</td>\n      <td>Абинск</td>\n      <td>1</td>\n    </tr>\n    <tr>\n      <th>10</th>\n      <td>4</td>\n      <td>Анапа</td>\n      <td>444</td>\n    </tr>\n    <tr>\n      <th>11</th>\n      <td>4</td>\n      <td>Волгоград</td>\n      <td>22</td>\n    </tr>\n    <tr>\n      <th>12</th>\n      <td>4</td>\n      <td>Геленджик</td>\n      <td>9</td>\n    </tr>\n    <tr>\n      <th>13</th>\n      <td>4</td>\n      <td>Камышин</td>\n      <td>1</td>\n    </tr>\n    <tr>\n      <th>14</th>\n      <td>4</td>\n      <td>Нефтекамск</td>\n      <td>97</td>\n    </tr>\n    <tr>\n      <th>15</th>\n      <td>4</td>\n      <td>Новороссийск</td>\n      <td>5</td>\n    </tr>\n    <tr>\n      <th>16</th>\n      <td>4</td>\n      <td>Саратов</td>\n      <td>1</td>\n    </tr>\n    <tr>\n      <th>17</th>\n      <td>4</td>\n      <td>Сызрань</td>\n      <td>11</td>\n    </tr>\n    <tr>\n      <th>18</th>\n      <td>5</td>\n      <td>Никольское</td>\n      <td>1987</td>\n    </tr>\n    <tr>\n      <th>19</th>\n      <td>5</td>\n      <td>Отрадное</td>\n      <td>30</td>\n    </tr>\n  </tbody>\n</table>\n</div>"
     },
     "metadata": {},
     "output_type": "display_data"
    }
   ],
   "source": [
    "df = data.groupby(['user_id', 'city_name'])['city_name'].count()\n",
    "df.name = 'top_city'\n",
    "\n",
    "display(df.info())\n",
    "print(df.index)\n",
    "\n",
    "df = df[df != 0].reset_index()\n",
    "display(df.head(20))\n",
    "\n",
    "city_count = df.groupby('user_id', group_keys=False)['city_name'].count()\n",
    "\n",
    "df = df.sort_values(by='top_city', ascending=False).drop_duplicates(subset='user_id', keep='first', ignore_index=True)\n",
    "df = df.drop('top_city', axis=1)\n",
    "\n",
    "df = df.sort_values(by='user_id').reset_index(drop=True)\n",
    "df['city_count'] = city_count"
   ],
   "metadata": {
    "collapsed": false
   }
  },
  {
   "cell_type": "code",
   "execution_count": 8,
   "outputs": [
    {
     "data": {
      "text/plain": "        user_id    city_name  city_count\n0             0       Москва           1\n1             1       Москва           6\n2             2       Печора           1\n3             3      Воронеж           1\n4             4        Анапа           9\n...         ...          ...         ...\n415312   415312     Моршанск           1\n415313   415313      Саратов           1\n415314   415314  Новосибирск           1\n415315   415315    Краснодар           1\n415316   415316        Можга           1\n\n[415317 rows x 3 columns]",
      "text/html": "<div>\n<style scoped>\n    .dataframe tbody tr th:only-of-type {\n        vertical-align: middle;\n    }\n\n    .dataframe tbody tr th {\n        vertical-align: top;\n    }\n\n    .dataframe thead th {\n        text-align: right;\n    }\n</style>\n<table border=\"1\" class=\"dataframe\">\n  <thead>\n    <tr style=\"text-align: right;\">\n      <th></th>\n      <th>user_id</th>\n      <th>city_name</th>\n      <th>city_count</th>\n    </tr>\n  </thead>\n  <tbody>\n    <tr>\n      <th>0</th>\n      <td>0</td>\n      <td>Москва</td>\n      <td>1</td>\n    </tr>\n    <tr>\n      <th>1</th>\n      <td>1</td>\n      <td>Москва</td>\n      <td>6</td>\n    </tr>\n    <tr>\n      <th>2</th>\n      <td>2</td>\n      <td>Печора</td>\n      <td>1</td>\n    </tr>\n    <tr>\n      <th>3</th>\n      <td>3</td>\n      <td>Воронеж</td>\n      <td>1</td>\n    </tr>\n    <tr>\n      <th>4</th>\n      <td>4</td>\n      <td>Анапа</td>\n      <td>9</td>\n    </tr>\n    <tr>\n      <th>...</th>\n      <td>...</td>\n      <td>...</td>\n      <td>...</td>\n    </tr>\n    <tr>\n      <th>415312</th>\n      <td>415312</td>\n      <td>Моршанск</td>\n      <td>1</td>\n    </tr>\n    <tr>\n      <th>415313</th>\n      <td>415313</td>\n      <td>Саратов</td>\n      <td>1</td>\n    </tr>\n    <tr>\n      <th>415314</th>\n      <td>415314</td>\n      <td>Новосибирск</td>\n      <td>1</td>\n    </tr>\n    <tr>\n      <th>415315</th>\n      <td>415315</td>\n      <td>Краснодар</td>\n      <td>1</td>\n    </tr>\n    <tr>\n      <th>415316</th>\n      <td>415316</td>\n      <td>Можга</td>\n      <td>1</td>\n    </tr>\n  </tbody>\n</table>\n<p>415317 rows × 3 columns</p>\n</div>"
     },
     "metadata": {},
     "output_type": "display_data"
    },
    {
     "data": {
      "text/plain": "        user_id  city_name_0  city_name_1  city_name_2  city_name_3  \\\n0             0            0            0            0            0   \n1             1            0            0            0            0   \n2             2            0            0            0            0   \n3             3            0            0            0            0   \n4             4            0            0            0            0   \n...         ...          ...          ...          ...          ...   \n415312   415312            0            0            1            1   \n415313   415313            0            0            0            0   \n415314   415314            0            0            0            0   \n415315   415315            0            0            0            0   \n415316   415316            0            0            1            1   \n\n        city_name_4  city_name_5  city_name_6  city_name_7  city_name_8  \\\n0                 0            0            0            0            0   \n1                 0            0            0            0            0   \n2                 0            0            0            0            1   \n3                 0            0            0            0            1   \n4                 0            0            0            1            0   \n...             ...          ...          ...          ...          ...   \n415312            1            0            1            0            0   \n415313            1            0            0            0            1   \n415314            0            1            1            0            1   \n415315            1            0            0            1            0   \n415316            0            0            1            0            1   \n\n        city_name_9  city_count  \n0                 1           1  \n1                 1           6  \n2                 0           1  \n3                 1           1  \n4                 0           9  \n...             ...         ...  \n415312            0           1  \n415313            1           1  \n415314            0           1  \n415315            0           1  \n415316            0           1  \n\n[415317 rows x 12 columns]",
      "text/html": "<div>\n<style scoped>\n    .dataframe tbody tr th:only-of-type {\n        vertical-align: middle;\n    }\n\n    .dataframe tbody tr th {\n        vertical-align: top;\n    }\n\n    .dataframe thead th {\n        text-align: right;\n    }\n</style>\n<table border=\"1\" class=\"dataframe\">\n  <thead>\n    <tr style=\"text-align: right;\">\n      <th></th>\n      <th>user_id</th>\n      <th>city_name_0</th>\n      <th>city_name_1</th>\n      <th>city_name_2</th>\n      <th>city_name_3</th>\n      <th>city_name_4</th>\n      <th>city_name_5</th>\n      <th>city_name_6</th>\n      <th>city_name_7</th>\n      <th>city_name_8</th>\n      <th>city_name_9</th>\n      <th>city_count</th>\n    </tr>\n  </thead>\n  <tbody>\n    <tr>\n      <th>0</th>\n      <td>0</td>\n      <td>0</td>\n      <td>0</td>\n      <td>0</td>\n      <td>0</td>\n      <td>0</td>\n      <td>0</td>\n      <td>0</td>\n      <td>0</td>\n      <td>0</td>\n      <td>1</td>\n      <td>1</td>\n    </tr>\n    <tr>\n      <th>1</th>\n      <td>1</td>\n      <td>0</td>\n      <td>0</td>\n      <td>0</td>\n      <td>0</td>\n      <td>0</td>\n      <td>0</td>\n      <td>0</td>\n      <td>0</td>\n      <td>0</td>\n      <td>1</td>\n      <td>6</td>\n    </tr>\n    <tr>\n      <th>2</th>\n      <td>2</td>\n      <td>0</td>\n      <td>0</td>\n      <td>0</td>\n      <td>0</td>\n      <td>0</td>\n      <td>0</td>\n      <td>0</td>\n      <td>0</td>\n      <td>1</td>\n      <td>0</td>\n      <td>1</td>\n    </tr>\n    <tr>\n      <th>3</th>\n      <td>3</td>\n      <td>0</td>\n      <td>0</td>\n      <td>0</td>\n      <td>0</td>\n      <td>0</td>\n      <td>0</td>\n      <td>0</td>\n      <td>0</td>\n      <td>1</td>\n      <td>1</td>\n      <td>1</td>\n    </tr>\n    <tr>\n      <th>4</th>\n      <td>4</td>\n      <td>0</td>\n      <td>0</td>\n      <td>0</td>\n      <td>0</td>\n      <td>0</td>\n      <td>0</td>\n      <td>0</td>\n      <td>1</td>\n      <td>0</td>\n      <td>0</td>\n      <td>9</td>\n    </tr>\n    <tr>\n      <th>...</th>\n      <td>...</td>\n      <td>...</td>\n      <td>...</td>\n      <td>...</td>\n      <td>...</td>\n      <td>...</td>\n      <td>...</td>\n      <td>...</td>\n      <td>...</td>\n      <td>...</td>\n      <td>...</td>\n      <td>...</td>\n    </tr>\n    <tr>\n      <th>415312</th>\n      <td>415312</td>\n      <td>0</td>\n      <td>0</td>\n      <td>1</td>\n      <td>1</td>\n      <td>1</td>\n      <td>0</td>\n      <td>1</td>\n      <td>0</td>\n      <td>0</td>\n      <td>0</td>\n      <td>1</td>\n    </tr>\n    <tr>\n      <th>415313</th>\n      <td>415313</td>\n      <td>0</td>\n      <td>0</td>\n      <td>0</td>\n      <td>0</td>\n      <td>1</td>\n      <td>0</td>\n      <td>0</td>\n      <td>0</td>\n      <td>1</td>\n      <td>1</td>\n      <td>1</td>\n    </tr>\n    <tr>\n      <th>415314</th>\n      <td>415314</td>\n      <td>0</td>\n      <td>0</td>\n      <td>0</td>\n      <td>0</td>\n      <td>0</td>\n      <td>1</td>\n      <td>1</td>\n      <td>0</td>\n      <td>1</td>\n      <td>0</td>\n      <td>1</td>\n    </tr>\n    <tr>\n      <th>415315</th>\n      <td>415315</td>\n      <td>0</td>\n      <td>0</td>\n      <td>0</td>\n      <td>0</td>\n      <td>1</td>\n      <td>0</td>\n      <td>0</td>\n      <td>1</td>\n      <td>0</td>\n      <td>0</td>\n      <td>1</td>\n    </tr>\n    <tr>\n      <th>415316</th>\n      <td>415316</td>\n      <td>0</td>\n      <td>0</td>\n      <td>1</td>\n      <td>1</td>\n      <td>0</td>\n      <td>0</td>\n      <td>1</td>\n      <td>0</td>\n      <td>1</td>\n      <td>0</td>\n      <td>1</td>\n    </tr>\n  </tbody>\n</table>\n<p>415317 rows × 12 columns</p>\n</div>"
     },
     "metadata": {},
     "output_type": "display_data"
    }
   ],
   "source": [
    "display(df)\n",
    "be = BinaryEncoder(cols=['city_name'],return_df=True)\n",
    "df = be.fit_transform(df)\n",
    "display(df)"
   ],
   "metadata": {
    "collapsed": false
   }
  },
  {
   "cell_type": "code",
   "execution_count": 10,
   "outputs": [
    {
     "name": "stdout",
     "output_type": "stream",
     "text": [
      "<class 'pandas.core.frame.DataFrame'>\n",
      "RangeIndex: 415317 entries, 0 to 415316\n",
      "Data columns (total 11 columns):\n",
      " #   Column       Non-Null Count   Dtype\n",
      "---  ------       --------------   -----\n",
      " 0   city_name_0  415317 non-null  int64\n",
      " 1   city_name_1  415317 non-null  int64\n",
      " 2   city_name_2  415317 non-null  int64\n",
      " 3   city_name_3  415317 non-null  int64\n",
      " 4   city_name_4  415317 non-null  int64\n",
      " 5   city_name_5  415317 non-null  int64\n",
      " 6   city_name_6  415317 non-null  int64\n",
      " 7   city_name_7  415317 non-null  int64\n",
      " 8   city_name_8  415317 non-null  int64\n",
      " 9   city_name_9  415317 non-null  int64\n",
      " 10  city_count   415317 non-null  int64\n",
      "dtypes: int64(11)\n",
      "memory usage: 34.9 MB\n"
     ]
    },
    {
     "data": {
      "text/plain": "None"
     },
     "metadata": {},
     "output_type": "display_data"
    },
    {
     "name": "stdout",
     "output_type": "stream",
     "text": [
      "124\n",
      "<class 'pandas.core.frame.DataFrame'>\n",
      "RangeIndex: 415317 entries, 0 to 415316\n",
      "Data columns (total 11 columns):\n",
      " #   Column       Non-Null Count   Dtype   \n",
      "---  ------       --------------   -----   \n",
      " 0   city_name_0  415317 non-null  category\n",
      " 1   city_name_1  415317 non-null  category\n",
      " 2   city_name_2  415317 non-null  category\n",
      " 3   city_name_3  415317 non-null  category\n",
      " 4   city_name_4  415317 non-null  category\n",
      " 5   city_name_5  415317 non-null  category\n",
      " 6   city_name_6  415317 non-null  category\n",
      " 7   city_name_7  415317 non-null  category\n",
      " 8   city_name_8  415317 non-null  category\n",
      " 9   city_name_9  415317 non-null  category\n",
      " 10  city_count   415317 non-null  int8    \n",
      "dtypes: category(10), int8(1)\n",
      "memory usage: 4.4 MB\n"
     ]
    },
    {
     "data": {
      "text/plain": "None"
     },
     "metadata": {},
     "output_type": "display_data"
    }
   ],
   "source": [
    "df = df.drop('user_id',axis=1)\n",
    "display(df.info())\n",
    "print(df['city_count'].max()) #int8\n",
    "\n",
    "df[['city_count']] = df[['city_count']].astype('int8')\n",
    "df[df.columns[~df.columns.isin(['city_count'])]] = df[df.columns[~df.columns.isin(['city_count'])]].astype('category')\n",
    "\n",
    "display(df.info())"
   ],
   "metadata": {
    "collapsed": false
   }
  },
  {
   "cell_type": "code",
   "execution_count": 11,
   "outputs": [],
   "source": [
    "df.to_parquet('..\\\\full_data\\\\figma_plan\\\\city.parquet', index=False)\n",
    "del df"
   ],
   "metadata": {
    "collapsed": false
   }
  },
  {
   "cell_type": "markdown",
   "source": [
    "## Производитель binary encoder"
   ],
   "metadata": {
    "collapsed": false
   }
  },
  {
   "cell_type": "code",
   "execution_count": 13,
   "outputs": [
    {
     "name": "stdout",
     "output_type": "stream",
     "text": [
      "<class 'pandas.core.frame.DataFrame'>\n",
      "RangeIndex: 322899435 entries, 0 to 322899434\n",
      "Data columns (total 2 columns):\n",
      " #   Column                 Dtype   \n",
      "---  ------                 -----   \n",
      " 0   user_id                int32   \n",
      " 1   cpe_manufacturer_name  category\n",
      "dtypes: category(1), int32(1)\n",
      "memory usage: 1.5 GB\n"
     ]
    },
    {
     "data": {
      "text/plain": "None"
     },
     "metadata": {},
     "output_type": "display_data"
    },
    {
     "data": {
      "text/plain": "user_id                  0\ncpe_manufacturer_name    0\ndtype: int64"
     },
     "metadata": {},
     "output_type": "display_data"
    }
   ],
   "source": [
    "path = '..\\\\full_data\\\\competition_data_final_pqt'\n",
    "columns = {'user_id': 'int32', 'cpe_manufacturer_name': 'category'}\n",
    "data = read_data(path,columns)\n",
    "display(data.info())\n",
    "display(data.isna().sum())\n",
    "display(len(data['cpe_manufacturer_name'].unique()))"
   ],
   "metadata": {
    "collapsed": false
   }
  },
  {
   "cell_type": "code",
   "execution_count": 18,
   "outputs": [
    {
     "data": {
      "text/plain": "user_id                  0\ncpe_manufacturer_name    0\ndtype: int64"
     },
     "metadata": {},
     "output_type": "display_data"
    },
    {
     "name": "stdout",
     "output_type": "stream",
     "text": [
      "<class 'pandas.core.series.Series'>\n",
      "MultiIndex: 15366729 entries, (0, 'Alcatel') to (415316, 'ZTE')\n",
      "Series name: top_brend\n",
      "Non-Null Count     Dtype\n",
      "--------------     -----\n",
      "15366729 non-null  int64\n",
      "dtypes: int64(1)\n",
      "memory usage: 209.8 MB\n"
     ]
    },
    {
     "data": {
      "text/plain": "None"
     },
     "metadata": {},
     "output_type": "display_data"
    },
    {
     "name": "stdout",
     "output_type": "stream",
     "text": [
      "MultiIndex([(     0,                           'Alcatel'),\n",
      "            (     0,                             'Apple'),\n",
      "            (     0,                              'Asus'),\n",
      "            (     0,                         'Atlas LLC'),\n",
      "            (     0,                'BQ Devices Limited'),\n",
      "            (     0,                         'Blackview'),\n",
      "            (     0,   'Doke Communication (HK) Limited'),\n",
      "            (     0,                            'Doogee'),\n",
      "            (     0,                        'Google Inc'),\n",
      "            (     0,                               'HTC'),\n",
      "            ...\n",
      "            (415316,                           'Samsung'),\n",
      "            (415316,                              'Sony'),\n",
      "            (415316,   'Sony Mobile Communications Inc.'),\n",
      "            (415316,                             'Tecno'),\n",
      "            (415316, 'Umi Network Technology Co Limited'),\n",
      "            (415316,      'Vingroup Joint Stock Company'),\n",
      "            (415316,                              'Vivo'),\n",
      "            (415316,                            'Xiaomi'),\n",
      "            (415316,                        'Yandex LLC'),\n",
      "            (415316,                               'ZTE')],\n",
      "           names=['user_id', 'cpe_manufacturer_name'], length=15366729)\n"
     ]
    },
    {
     "data": {
      "text/plain": "    user_id          cpe_manufacturer_name  top_brend\n0         0                        Samsung        131\n1         1                         Xiaomi        700\n2         2                         Huawei        356\n3         3  Huawei Device Company Limited        188\n4         4                         Huawei        591\n5         5                          Apple       2519\n6         6                         Huawei        456\n7         7                         Huawei        461\n8         8                          Apple        976\n9         9                          Apple        315\n10       10                        Samsung       1679\n11       11                         Huawei        571\n12       12                         Xiaomi       1311\n13       13             BQ Devices Limited       1551\n14       14                        Samsung       1616\n15       15                        Samsung        584\n16       16                        Samsung       1231\n17       17                         Huawei       1330\n18       18                        Samsung       1125\n19       19                          Apple        375",
      "text/html": "<div>\n<style scoped>\n    .dataframe tbody tr th:only-of-type {\n        vertical-align: middle;\n    }\n\n    .dataframe tbody tr th {\n        vertical-align: top;\n    }\n\n    .dataframe thead th {\n        text-align: right;\n    }\n</style>\n<table border=\"1\" class=\"dataframe\">\n  <thead>\n    <tr style=\"text-align: right;\">\n      <th></th>\n      <th>user_id</th>\n      <th>cpe_manufacturer_name</th>\n      <th>top_brend</th>\n    </tr>\n  </thead>\n  <tbody>\n    <tr>\n      <th>0</th>\n      <td>0</td>\n      <td>Samsung</td>\n      <td>131</td>\n    </tr>\n    <tr>\n      <th>1</th>\n      <td>1</td>\n      <td>Xiaomi</td>\n      <td>700</td>\n    </tr>\n    <tr>\n      <th>2</th>\n      <td>2</td>\n      <td>Huawei</td>\n      <td>356</td>\n    </tr>\n    <tr>\n      <th>3</th>\n      <td>3</td>\n      <td>Huawei Device Company Limited</td>\n      <td>188</td>\n    </tr>\n    <tr>\n      <th>4</th>\n      <td>4</td>\n      <td>Huawei</td>\n      <td>591</td>\n    </tr>\n    <tr>\n      <th>5</th>\n      <td>5</td>\n      <td>Apple</td>\n      <td>2519</td>\n    </tr>\n    <tr>\n      <th>6</th>\n      <td>6</td>\n      <td>Huawei</td>\n      <td>456</td>\n    </tr>\n    <tr>\n      <th>7</th>\n      <td>7</td>\n      <td>Huawei</td>\n      <td>461</td>\n    </tr>\n    <tr>\n      <th>8</th>\n      <td>8</td>\n      <td>Apple</td>\n      <td>976</td>\n    </tr>\n    <tr>\n      <th>9</th>\n      <td>9</td>\n      <td>Apple</td>\n      <td>315</td>\n    </tr>\n    <tr>\n      <th>10</th>\n      <td>10</td>\n      <td>Samsung</td>\n      <td>1679</td>\n    </tr>\n    <tr>\n      <th>11</th>\n      <td>11</td>\n      <td>Huawei</td>\n      <td>571</td>\n    </tr>\n    <tr>\n      <th>12</th>\n      <td>12</td>\n      <td>Xiaomi</td>\n      <td>1311</td>\n    </tr>\n    <tr>\n      <th>13</th>\n      <td>13</td>\n      <td>BQ Devices Limited</td>\n      <td>1551</td>\n    </tr>\n    <tr>\n      <th>14</th>\n      <td>14</td>\n      <td>Samsung</td>\n      <td>1616</td>\n    </tr>\n    <tr>\n      <th>15</th>\n      <td>15</td>\n      <td>Samsung</td>\n      <td>584</td>\n    </tr>\n    <tr>\n      <th>16</th>\n      <td>16</td>\n      <td>Samsung</td>\n      <td>1231</td>\n    </tr>\n    <tr>\n      <th>17</th>\n      <td>17</td>\n      <td>Huawei</td>\n      <td>1330</td>\n    </tr>\n    <tr>\n      <th>18</th>\n      <td>18</td>\n      <td>Samsung</td>\n      <td>1125</td>\n    </tr>\n    <tr>\n      <th>19</th>\n      <td>19</td>\n      <td>Apple</td>\n      <td>375</td>\n    </tr>\n  </tbody>\n</table>\n</div>"
     },
     "metadata": {},
     "output_type": "display_data"
    }
   ],
   "source": [
    "display(data.isna().sum())\n",
    "df = data.groupby(['user_id', 'cpe_manufacturer_name'])['cpe_manufacturer_name'].count()\n",
    "df.name = 'top_brend'\n",
    "\n",
    "display(df.info())\n",
    "print(df.index)\n",
    "\n",
    "df = df[df != 0].reset_index()\n",
    "display(df.head(20))\n",
    "\n",
    "df = df.sort_values(by='top_brend', ascending=False).drop_duplicates(subset='user_id', keep='first', ignore_index=True)\n",
    "df = df.drop('top_brend', axis=1)\n",
    "df = df.sort_values(by='user_id').reset_index(drop=True)"
   ],
   "metadata": {
    "collapsed": false
   }
  },
  {
   "cell_type": "code",
   "execution_count": 22,
   "outputs": [
    {
     "data": {
      "text/plain": "        user_id          cpe_manufacturer_name\n0             0                        Samsung\n1             1                         Xiaomi\n2             2                         Huawei\n3             3  Huawei Device Company Limited\n4             4                         Huawei\n...         ...                            ...\n415312   415312                         Huawei\n415313   415313                         Xiaomi\n415314   415314  Huawei Device Company Limited\n415315   415315                         Huawei\n415316   415316                         Xiaomi\n\n[415317 rows x 2 columns]",
      "text/html": "<div>\n<style scoped>\n    .dataframe tbody tr th:only-of-type {\n        vertical-align: middle;\n    }\n\n    .dataframe tbody tr th {\n        vertical-align: top;\n    }\n\n    .dataframe thead th {\n        text-align: right;\n    }\n</style>\n<table border=\"1\" class=\"dataframe\">\n  <thead>\n    <tr style=\"text-align: right;\">\n      <th></th>\n      <th>user_id</th>\n      <th>cpe_manufacturer_name</th>\n    </tr>\n  </thead>\n  <tbody>\n    <tr>\n      <th>0</th>\n      <td>0</td>\n      <td>Samsung</td>\n    </tr>\n    <tr>\n      <th>1</th>\n      <td>1</td>\n      <td>Xiaomi</td>\n    </tr>\n    <tr>\n      <th>2</th>\n      <td>2</td>\n      <td>Huawei</td>\n    </tr>\n    <tr>\n      <th>3</th>\n      <td>3</td>\n      <td>Huawei Device Company Limited</td>\n    </tr>\n    <tr>\n      <th>4</th>\n      <td>4</td>\n      <td>Huawei</td>\n    </tr>\n    <tr>\n      <th>...</th>\n      <td>...</td>\n      <td>...</td>\n    </tr>\n    <tr>\n      <th>415312</th>\n      <td>415312</td>\n      <td>Huawei</td>\n    </tr>\n    <tr>\n      <th>415313</th>\n      <td>415313</td>\n      <td>Xiaomi</td>\n    </tr>\n    <tr>\n      <th>415314</th>\n      <td>415314</td>\n      <td>Huawei Device Company Limited</td>\n    </tr>\n    <tr>\n      <th>415315</th>\n      <td>415315</td>\n      <td>Huawei</td>\n    </tr>\n    <tr>\n      <th>415316</th>\n      <td>415316</td>\n      <td>Xiaomi</td>\n    </tr>\n  </tbody>\n</table>\n<p>415317 rows × 2 columns</p>\n</div>"
     },
     "metadata": {},
     "output_type": "display_data"
    },
    {
     "data": {
      "text/plain": "        user_id  cpe_manufacturer_name_0  cpe_manufacturer_name_1  \\\n0             0                        0                        0   \n1             1                        0                        0   \n2             2                        0                        0   \n3             3                        0                        0   \n4             4                        0                        0   \n...         ...                      ...                      ...   \n415312   415312                        0                        0   \n415313   415313                        0                        0   \n415314   415314                        0                        0   \n415315   415315                        0                        0   \n415316   415316                        0                        0   \n\n        cpe_manufacturer_name_2  cpe_manufacturer_name_3  \\\n0                             0                        0   \n1                             0                        0   \n2                             0                        0   \n3                             0                        1   \n4                             0                        0   \n...                         ...                      ...   \n415312                        0                        0   \n415313                        0                        0   \n415314                        0                        1   \n415315                        0                        0   \n415316                        0                        0   \n\n        cpe_manufacturer_name_4  cpe_manufacturer_name_5  \n0                             0                        1  \n1                             1                        0  \n2                             1                        1  \n3                             0                        0  \n4                             1                        1  \n...                         ...                      ...  \n415312                        1                        1  \n415313                        1                        0  \n415314                        0                        0  \n415315                        1                        1  \n415316                        1                        0  \n\n[415317 rows x 7 columns]",
      "text/html": "<div>\n<style scoped>\n    .dataframe tbody tr th:only-of-type {\n        vertical-align: middle;\n    }\n\n    .dataframe tbody tr th {\n        vertical-align: top;\n    }\n\n    .dataframe thead th {\n        text-align: right;\n    }\n</style>\n<table border=\"1\" class=\"dataframe\">\n  <thead>\n    <tr style=\"text-align: right;\">\n      <th></th>\n      <th>user_id</th>\n      <th>cpe_manufacturer_name_0</th>\n      <th>cpe_manufacturer_name_1</th>\n      <th>cpe_manufacturer_name_2</th>\n      <th>cpe_manufacturer_name_3</th>\n      <th>cpe_manufacturer_name_4</th>\n      <th>cpe_manufacturer_name_5</th>\n    </tr>\n  </thead>\n  <tbody>\n    <tr>\n      <th>0</th>\n      <td>0</td>\n      <td>0</td>\n      <td>0</td>\n      <td>0</td>\n      <td>0</td>\n      <td>0</td>\n      <td>1</td>\n    </tr>\n    <tr>\n      <th>1</th>\n      <td>1</td>\n      <td>0</td>\n      <td>0</td>\n      <td>0</td>\n      <td>0</td>\n      <td>1</td>\n      <td>0</td>\n    </tr>\n    <tr>\n      <th>2</th>\n      <td>2</td>\n      <td>0</td>\n      <td>0</td>\n      <td>0</td>\n      <td>0</td>\n      <td>1</td>\n      <td>1</td>\n    </tr>\n    <tr>\n      <th>3</th>\n      <td>3</td>\n      <td>0</td>\n      <td>0</td>\n      <td>0</td>\n      <td>1</td>\n      <td>0</td>\n      <td>0</td>\n    </tr>\n    <tr>\n      <th>4</th>\n      <td>4</td>\n      <td>0</td>\n      <td>0</td>\n      <td>0</td>\n      <td>0</td>\n      <td>1</td>\n      <td>1</td>\n    </tr>\n    <tr>\n      <th>...</th>\n      <td>...</td>\n      <td>...</td>\n      <td>...</td>\n      <td>...</td>\n      <td>...</td>\n      <td>...</td>\n      <td>...</td>\n    </tr>\n    <tr>\n      <th>415312</th>\n      <td>415312</td>\n      <td>0</td>\n      <td>0</td>\n      <td>0</td>\n      <td>0</td>\n      <td>1</td>\n      <td>1</td>\n    </tr>\n    <tr>\n      <th>415313</th>\n      <td>415313</td>\n      <td>0</td>\n      <td>0</td>\n      <td>0</td>\n      <td>0</td>\n      <td>1</td>\n      <td>0</td>\n    </tr>\n    <tr>\n      <th>415314</th>\n      <td>415314</td>\n      <td>0</td>\n      <td>0</td>\n      <td>0</td>\n      <td>1</td>\n      <td>0</td>\n      <td>0</td>\n    </tr>\n    <tr>\n      <th>415315</th>\n      <td>415315</td>\n      <td>0</td>\n      <td>0</td>\n      <td>0</td>\n      <td>0</td>\n      <td>1</td>\n      <td>1</td>\n    </tr>\n    <tr>\n      <th>415316</th>\n      <td>415316</td>\n      <td>0</td>\n      <td>0</td>\n      <td>0</td>\n      <td>0</td>\n      <td>1</td>\n      <td>0</td>\n    </tr>\n  </tbody>\n</table>\n<p>415317 rows × 7 columns</p>\n</div>"
     },
     "metadata": {},
     "output_type": "display_data"
    }
   ],
   "source": [
    "display(df)\n",
    "be = BinaryEncoder(cols=['cpe_manufacturer_name'],return_df=True)\n",
    "df = be.fit_transform(df)\n",
    "display(df)"
   ],
   "metadata": {
    "collapsed": false
   }
  },
  {
   "cell_type": "code",
   "execution_count": 23,
   "outputs": [
    {
     "name": "stdout",
     "output_type": "stream",
     "text": [
      "<class 'pandas.core.frame.DataFrame'>\n",
      "RangeIndex: 415317 entries, 0 to 415316\n",
      "Data columns (total 6 columns):\n",
      " #   Column                   Non-Null Count   Dtype\n",
      "---  ------                   --------------   -----\n",
      " 0   cpe_manufacturer_name_0  415317 non-null  int64\n",
      " 1   cpe_manufacturer_name_1  415317 non-null  int64\n",
      " 2   cpe_manufacturer_name_2  415317 non-null  int64\n",
      " 3   cpe_manufacturer_name_3  415317 non-null  int64\n",
      " 4   cpe_manufacturer_name_4  415317 non-null  int64\n",
      " 5   cpe_manufacturer_name_5  415317 non-null  int64\n",
      "dtypes: int64(6)\n",
      "memory usage: 19.0 MB\n"
     ]
    },
    {
     "data": {
      "text/plain": "None"
     },
     "metadata": {},
     "output_type": "display_data"
    },
    {
     "name": "stdout",
     "output_type": "stream",
     "text": [
      "<class 'pandas.core.frame.DataFrame'>\n",
      "RangeIndex: 415317 entries, 0 to 415316\n",
      "Data columns (total 6 columns):\n",
      " #   Column                   Non-Null Count   Dtype   \n",
      "---  ------                   --------------   -----   \n",
      " 0   cpe_manufacturer_name_0  415317 non-null  category\n",
      " 1   cpe_manufacturer_name_1  415317 non-null  category\n",
      " 2   cpe_manufacturer_name_2  415317 non-null  category\n",
      " 3   cpe_manufacturer_name_3  415317 non-null  category\n",
      " 4   cpe_manufacturer_name_4  415317 non-null  category\n",
      " 5   cpe_manufacturer_name_5  415317 non-null  category\n",
      "dtypes: category(6)\n",
      "memory usage: 2.4 MB\n"
     ]
    },
    {
     "data": {
      "text/plain": "None"
     },
     "metadata": {},
     "output_type": "display_data"
    }
   ],
   "source": [
    "df = df.drop('user_id',axis=1)\n",
    "display(df.info())\n",
    "\n",
    "df[df.columns] = df[df.columns].astype('category')\n",
    "\n",
    "display(df.info())"
   ],
   "metadata": {
    "collapsed": false
   }
  },
  {
   "cell_type": "code",
   "execution_count": 24,
   "outputs": [],
   "source": [
    "df.to_parquet('..\\\\full_data\\\\figma_plan\\\\cpe_manufacturer.parquet', index=False)\n",
    "del df"
   ],
   "metadata": {
    "collapsed": false
   }
  },
  {
   "cell_type": "markdown",
   "source": [
    "## Количество моделей"
   ],
   "metadata": {
    "collapsed": false
   }
  },
  {
   "cell_type": "code",
   "execution_count": 3,
   "outputs": [
    {
     "name": "stdout",
     "output_type": "stream",
     "text": [
      "<class 'pandas.core.frame.DataFrame'>\n",
      "RangeIndex: 322899435 entries, 0 to 322899434\n",
      "Data columns (total 2 columns):\n",
      " #   Column          Dtype   \n",
      "---  ------          -----   \n",
      " 0   user_id         int32   \n",
      " 1   cpe_model_name  category\n",
      "dtypes: category(1), int32(1)\n",
      "memory usage: 1.8 GB\n"
     ]
    },
    {
     "data": {
      "text/plain": "None"
     },
     "metadata": {},
     "output_type": "display_data"
    },
    {
     "data": {
      "text/plain": "user_id           0\ncpe_model_name    0\ndtype: int64"
     },
     "metadata": {},
     "output_type": "display_data"
    },
    {
     "data": {
      "text/plain": "599"
     },
     "metadata": {},
     "output_type": "display_data"
    }
   ],
   "source": [
    "path = '..\\\\full_data\\\\competition_data_final_pqt'\n",
    "columns = {'user_id': 'int32', 'cpe_model_name': 'category'}\n",
    "data = read_data(path,columns)\n",
    "display(data.info())\n",
    "display(data.isna().sum())\n",
    "display(len(data['cpe_model_name'].unique()))"
   ],
   "metadata": {
    "collapsed": false
   }
  },
  {
   "cell_type": "code",
   "execution_count": 12,
   "outputs": [
    {
     "name": "stdout",
     "output_type": "stream",
     "text": [
      "<class 'pandas.core.series.Series'>\n",
      "MultiIndex: 248774883 entries, (0, '1') to (415316, 'iPhone Xs Max')\n",
      "Series name: top_model\n",
      "Non-Null Count      Dtype\n",
      "--------------      -----\n",
      "248774883 non-null  int64\n",
      "dtypes: int64(1)\n",
      "memory usage: 3.3 GB\n"
     ]
    },
    {
     "data": {
      "text/plain": "None"
     },
     "metadata": {},
     "output_type": "display_data"
    },
    {
     "name": "stdout",
     "output_type": "stream",
     "text": [
      "MultiIndex([(     0,              '1'),\n",
      "            (     0,         '1 Dual'),\n",
      "            (     0,  '11 Lite 5G NE'),\n",
      "            (     0,            '11T'),\n",
      "            (     0,        '15 Lite'),\n",
      "            (     0,             '16'),\n",
      "            (     0,           '16th'),\n",
      "            (     0,           '1904'),\n",
      "            (     0,             '1S'),\n",
      "            (     0,             '1X'),\n",
      "            ...\n",
      "            (415316,       'iPhone 7'),\n",
      "            (415316,  'iPhone 7 Plus'),\n",
      "            (415316,       'iPhone 8'),\n",
      "            (415316,  'iPhone 8 Plus'),\n",
      "            (415316,      'iPhone SE'),\n",
      "            (415316, 'iPhone SE 2020'),\n",
      "            (415316,       'iPhone X'),\n",
      "            (415316,      'iPhone XR'),\n",
      "            (415316,      'iPhone Xs'),\n",
      "            (415316,  'iPhone Xs Max')],\n",
      "           names=['user_id', 'cpe_model_name'], length=248774883)\n"
     ]
    },
    {
     "data": {
      "text/plain": "    user_id           cpe_model_name  top_model\n0         0  Galaxy J1 2016 LTE Dual        131\n1         1                     Mi 9        700\n2         2             Honor 9 Lite        356\n3         3             P Smart 2021        188\n4         4                   Nova 3        591\n5         5            iPhone 8 Plus       2519\n6         6                 Honor 8A        456\n7         7                 P20 Lite        461\n8         8                iPhone XR        976\n9         9                iPhone XR        315\n10       10              Galaxy S20+       1679\n11       11                P Smart Z        571\n12       12                  Redmi 9       1311\n13       13                    BQ S5       1551\n14       14  Galaxy J5 2016 LTE Dual       1616\n15       15  Galaxy J5 2016 LTE Dual        584\n16       16          Galaxy A10 Dual       1231\n17       17             Mate 20 Lite       1330\n18       18          Galaxy A51 Dual       1125\n19       19                iPhone 6S        375",
      "text/html": "<div>\n<style scoped>\n    .dataframe tbody tr th:only-of-type {\n        vertical-align: middle;\n    }\n\n    .dataframe tbody tr th {\n        vertical-align: top;\n    }\n\n    .dataframe thead th {\n        text-align: right;\n    }\n</style>\n<table border=\"1\" class=\"dataframe\">\n  <thead>\n    <tr style=\"text-align: right;\">\n      <th></th>\n      <th>user_id</th>\n      <th>cpe_model_name</th>\n      <th>top_model</th>\n    </tr>\n  </thead>\n  <tbody>\n    <tr>\n      <th>0</th>\n      <td>0</td>\n      <td>Galaxy J1 2016 LTE Dual</td>\n      <td>131</td>\n    </tr>\n    <tr>\n      <th>1</th>\n      <td>1</td>\n      <td>Mi 9</td>\n      <td>700</td>\n    </tr>\n    <tr>\n      <th>2</th>\n      <td>2</td>\n      <td>Honor 9 Lite</td>\n      <td>356</td>\n    </tr>\n    <tr>\n      <th>3</th>\n      <td>3</td>\n      <td>P Smart 2021</td>\n      <td>188</td>\n    </tr>\n    <tr>\n      <th>4</th>\n      <td>4</td>\n      <td>Nova 3</td>\n      <td>591</td>\n    </tr>\n    <tr>\n      <th>5</th>\n      <td>5</td>\n      <td>iPhone 8 Plus</td>\n      <td>2519</td>\n    </tr>\n    <tr>\n      <th>6</th>\n      <td>6</td>\n      <td>Honor 8A</td>\n      <td>456</td>\n    </tr>\n    <tr>\n      <th>7</th>\n      <td>7</td>\n      <td>P20 Lite</td>\n      <td>461</td>\n    </tr>\n    <tr>\n      <th>8</th>\n      <td>8</td>\n      <td>iPhone XR</td>\n      <td>976</td>\n    </tr>\n    <tr>\n      <th>9</th>\n      <td>9</td>\n      <td>iPhone XR</td>\n      <td>315</td>\n    </tr>\n    <tr>\n      <th>10</th>\n      <td>10</td>\n      <td>Galaxy S20+</td>\n      <td>1679</td>\n    </tr>\n    <tr>\n      <th>11</th>\n      <td>11</td>\n      <td>P Smart Z</td>\n      <td>571</td>\n    </tr>\n    <tr>\n      <th>12</th>\n      <td>12</td>\n      <td>Redmi 9</td>\n      <td>1311</td>\n    </tr>\n    <tr>\n      <th>13</th>\n      <td>13</td>\n      <td>BQ S5</td>\n      <td>1551</td>\n    </tr>\n    <tr>\n      <th>14</th>\n      <td>14</td>\n      <td>Galaxy J5 2016 LTE Dual</td>\n      <td>1616</td>\n    </tr>\n    <tr>\n      <th>15</th>\n      <td>15</td>\n      <td>Galaxy J5 2016 LTE Dual</td>\n      <td>584</td>\n    </tr>\n    <tr>\n      <th>16</th>\n      <td>16</td>\n      <td>Galaxy A10 Dual</td>\n      <td>1231</td>\n    </tr>\n    <tr>\n      <th>17</th>\n      <td>17</td>\n      <td>Mate 20 Lite</td>\n      <td>1330</td>\n    </tr>\n    <tr>\n      <th>18</th>\n      <td>18</td>\n      <td>Galaxy A51 Dual</td>\n      <td>1125</td>\n    </tr>\n    <tr>\n      <th>19</th>\n      <td>19</td>\n      <td>iPhone 6S</td>\n      <td>375</td>\n    </tr>\n  </tbody>\n</table>\n</div>"
     },
     "metadata": {},
     "output_type": "display_data"
    }
   ],
   "source": [
    "df = data.groupby(['user_id', 'cpe_model_name'])['cpe_model_name'].count()\n",
    "df.name = 'top_model'\n",
    "\n",
    "display(df.info())\n",
    "print(df.index)\n",
    "\n",
    "df = df[df != 0].reset_index()\n",
    "display(df.head(20))\n",
    "\n",
    "model_count = df.groupby('user_id', group_keys=False)['cpe_model_name'].count()\n",
    "df['model_count'] = model_count"
   ],
   "metadata": {
    "collapsed": false
   }
  },
  {
   "cell_type": "code",
   "execution_count": 14,
   "outputs": [
    {
     "data": {
      "text/plain": "1    415317\nName: model_count, dtype: int64"
     },
     "execution_count": 14,
     "metadata": {},
     "output_type": "execute_result"
    }
   ],
   "source": [
    "df['model_count'].value_counts()"
   ],
   "metadata": {
    "collapsed": false
   }
  },
  {
   "cell_type": "markdown",
   "source": [
    "#### У всех пользователей оказалось по одной модели, поэтому столбец неинформативен"
   ],
   "metadata": {
    "collapsed": false
   }
  },
  {
   "cell_type": "markdown",
   "source": [
    "## Тип устройства binary encoder"
   ],
   "metadata": {
    "collapsed": false
   }
  },
  {
   "cell_type": "code",
   "execution_count": 3,
   "outputs": [
    {
     "name": "stdout",
     "output_type": "stream",
     "text": [
      "<class 'pandas.core.frame.DataFrame'>\n",
      "RangeIndex: 322899435 entries, 0 to 322899434\n",
      "Data columns (total 2 columns):\n",
      " #   Column       Dtype   \n",
      "---  ------       -----   \n",
      " 0   user_id      int32   \n",
      " 1   cpe_type_cd  category\n",
      "dtypes: category(1), int32(1)\n",
      "memory usage: 1.5 GB\n"
     ]
    },
    {
     "data": {
      "text/plain": "None"
     },
     "metadata": {},
     "output_type": "display_data"
    },
    {
     "data": {
      "text/plain": "user_id        0\ncpe_type_cd    0\ndtype: int64"
     },
     "metadata": {},
     "output_type": "display_data"
    },
    {
     "data": {
      "text/plain": "4"
     },
     "metadata": {},
     "output_type": "display_data"
    }
   ],
   "source": [
    "path = '..\\\\full_data\\\\competition_data_final_pqt'\n",
    "columns = {'user_id': 'int32', 'cpe_type_cd': 'category'}\n",
    "data = read_data(path,columns)\n",
    "display(data.info())\n",
    "display(data.isna().sum())\n",
    "display(len(data['cpe_type_cd'].unique()))"
   ],
   "metadata": {
    "collapsed": false
   }
  },
  {
   "cell_type": "code",
   "execution_count": 7,
   "outputs": [
    {
     "data": {
      "text/plain": "        user_id cpe_type_cd\n0         45098  smartphone\n1        117132  smartphone\n2         79395  smartphone\n3         91294  smartphone\n4        161323  smartphone\n...         ...         ...\n415312   375972  smartphone\n415313   160996  smartphone\n415314     5505  smartphone\n415315   260127  smartphone\n415316   300964  smartphone\n\n[415317 rows x 2 columns]",
      "text/html": "<div>\n<style scoped>\n    .dataframe tbody tr th:only-of-type {\n        vertical-align: middle;\n    }\n\n    .dataframe tbody tr th {\n        vertical-align: top;\n    }\n\n    .dataframe thead th {\n        text-align: right;\n    }\n</style>\n<table border=\"1\" class=\"dataframe\">\n  <thead>\n    <tr style=\"text-align: right;\">\n      <th></th>\n      <th>user_id</th>\n      <th>cpe_type_cd</th>\n    </tr>\n  </thead>\n  <tbody>\n    <tr>\n      <th>0</th>\n      <td>45098</td>\n      <td>smartphone</td>\n    </tr>\n    <tr>\n      <th>1</th>\n      <td>117132</td>\n      <td>smartphone</td>\n    </tr>\n    <tr>\n      <th>2</th>\n      <td>79395</td>\n      <td>smartphone</td>\n    </tr>\n    <tr>\n      <th>3</th>\n      <td>91294</td>\n      <td>smartphone</td>\n    </tr>\n    <tr>\n      <th>4</th>\n      <td>161323</td>\n      <td>smartphone</td>\n    </tr>\n    <tr>\n      <th>...</th>\n      <td>...</td>\n      <td>...</td>\n    </tr>\n    <tr>\n      <th>415312</th>\n      <td>375972</td>\n      <td>smartphone</td>\n    </tr>\n    <tr>\n      <th>415313</th>\n      <td>160996</td>\n      <td>smartphone</td>\n    </tr>\n    <tr>\n      <th>415314</th>\n      <td>5505</td>\n      <td>smartphone</td>\n    </tr>\n    <tr>\n      <th>415315</th>\n      <td>260127</td>\n      <td>smartphone</td>\n    </tr>\n    <tr>\n      <th>415316</th>\n      <td>300964</td>\n      <td>smartphone</td>\n    </tr>\n  </tbody>\n</table>\n<p>415317 rows × 2 columns</p>\n</div>"
     },
     "metadata": {},
     "output_type": "display_data"
    },
    {
     "data": {
      "text/plain": "        user_id  cpe_type_cd_0  cpe_type_cd_1  cpe_type_cd_2\n0             0              0              0              1\n1             1              0              0              1\n2             2              0              0              1\n3             3              0              0              1\n4             4              0              0              1\n...         ...            ...            ...            ...\n415312   415312              0              0              1\n415313   415313              0              0              1\n415314   415314              0              0              1\n415315   415315              0              0              1\n415316   415316              0              0              1\n\n[415317 rows x 4 columns]",
      "text/html": "<div>\n<style scoped>\n    .dataframe tbody tr th:only-of-type {\n        vertical-align: middle;\n    }\n\n    .dataframe tbody tr th {\n        vertical-align: top;\n    }\n\n    .dataframe thead th {\n        text-align: right;\n    }\n</style>\n<table border=\"1\" class=\"dataframe\">\n  <thead>\n    <tr style=\"text-align: right;\">\n      <th></th>\n      <th>user_id</th>\n      <th>cpe_type_cd_0</th>\n      <th>cpe_type_cd_1</th>\n      <th>cpe_type_cd_2</th>\n    </tr>\n  </thead>\n  <tbody>\n    <tr>\n      <th>0</th>\n      <td>0</td>\n      <td>0</td>\n      <td>0</td>\n      <td>1</td>\n    </tr>\n    <tr>\n      <th>1</th>\n      <td>1</td>\n      <td>0</td>\n      <td>0</td>\n      <td>1</td>\n    </tr>\n    <tr>\n      <th>2</th>\n      <td>2</td>\n      <td>0</td>\n      <td>0</td>\n      <td>1</td>\n    </tr>\n    <tr>\n      <th>3</th>\n      <td>3</td>\n      <td>0</td>\n      <td>0</td>\n      <td>1</td>\n    </tr>\n    <tr>\n      <th>4</th>\n      <td>4</td>\n      <td>0</td>\n      <td>0</td>\n      <td>1</td>\n    </tr>\n    <tr>\n      <th>...</th>\n      <td>...</td>\n      <td>...</td>\n      <td>...</td>\n      <td>...</td>\n    </tr>\n    <tr>\n      <th>415312</th>\n      <td>415312</td>\n      <td>0</td>\n      <td>0</td>\n      <td>1</td>\n    </tr>\n    <tr>\n      <th>415313</th>\n      <td>415313</td>\n      <td>0</td>\n      <td>0</td>\n      <td>1</td>\n    </tr>\n    <tr>\n      <th>415314</th>\n      <td>415314</td>\n      <td>0</td>\n      <td>0</td>\n      <td>1</td>\n    </tr>\n    <tr>\n      <th>415315</th>\n      <td>415315</td>\n      <td>0</td>\n      <td>0</td>\n      <td>1</td>\n    </tr>\n    <tr>\n      <th>415316</th>\n      <td>415316</td>\n      <td>0</td>\n      <td>0</td>\n      <td>1</td>\n    </tr>\n  </tbody>\n</table>\n<p>415317 rows × 4 columns</p>\n</div>"
     },
     "metadata": {},
     "output_type": "display_data"
    }
   ],
   "source": [
    "df = data.drop_duplicates(subset='user_id',ignore_index=True)\n",
    "\n",
    "display(df)\n",
    "be = BinaryEncoder(cols=['cpe_type_cd'],return_df=True)\n",
    "df = be.fit_transform(df)\n",
    "df = df.sort_values(by='user_id').reset_index(drop=True)\n",
    "display(df)"
   ],
   "metadata": {
    "collapsed": false
   }
  },
  {
   "cell_type": "code",
   "execution_count": 8,
   "outputs": [
    {
     "name": "stdout",
     "output_type": "stream",
     "text": [
      "<class 'pandas.core.frame.DataFrame'>\n",
      "RangeIndex: 415317 entries, 0 to 415316\n",
      "Data columns (total 3 columns):\n",
      " #   Column         Non-Null Count   Dtype\n",
      "---  ------         --------------   -----\n",
      " 0   cpe_type_cd_0  415317 non-null  int64\n",
      " 1   cpe_type_cd_1  415317 non-null  int64\n",
      " 2   cpe_type_cd_2  415317 non-null  int64\n",
      "dtypes: int64(3)\n",
      "memory usage: 9.5 MB\n"
     ]
    },
    {
     "data": {
      "text/plain": "None"
     },
     "metadata": {},
     "output_type": "display_data"
    },
    {
     "name": "stdout",
     "output_type": "stream",
     "text": [
      "<class 'pandas.core.frame.DataFrame'>\n",
      "RangeIndex: 415317 entries, 0 to 415316\n",
      "Data columns (total 3 columns):\n",
      " #   Column         Non-Null Count   Dtype   \n",
      "---  ------         --------------   -----   \n",
      " 0   cpe_type_cd_0  415317 non-null  category\n",
      " 1   cpe_type_cd_1  415317 non-null  category\n",
      " 2   cpe_type_cd_2  415317 non-null  category\n",
      "dtypes: category(3)\n",
      "memory usage: 1.2 MB\n"
     ]
    },
    {
     "data": {
      "text/plain": "None"
     },
     "metadata": {},
     "output_type": "display_data"
    }
   ],
   "source": [
    "df = df.drop('user_id',axis=1)\n",
    "display(df.info())\n",
    "\n",
    "df[df.columns] = df[df.columns].astype('category')\n",
    "\n",
    "display(df.info())"
   ],
   "metadata": {
    "collapsed": false
   }
  },
  {
   "cell_type": "code",
   "execution_count": 21,
   "outputs": [],
   "source": [
    "df.to_parquet('..\\\\full_data\\\\figma_plan\\\\cpe_type.parquet', index=False)\n",
    "del df"
   ],
   "metadata": {
    "collapsed": false
   }
  },
  {
   "cell_type": "markdown",
   "source": [
    "## Цена устройства, создание категорий"
   ],
   "metadata": {
    "collapsed": false
   }
  },
  {
   "cell_type": "code",
   "execution_count": 9,
   "outputs": [
    {
     "name": "stdout",
     "output_type": "stream",
     "text": [
      "<class 'pandas.core.frame.DataFrame'>\n",
      "RangeIndex: 322899435 entries, 0 to 322899434\n",
      "Data columns (total 2 columns):\n",
      " #   Column   Dtype  \n",
      "---  ------   -----  \n",
      " 0   user_id  int32  \n",
      " 1   price    float32\n",
      "dtypes: float32(1), int32(1)\n",
      "memory usage: 2.4 GB\n"
     ]
    },
    {
     "data": {
      "text/plain": "None"
     },
     "metadata": {},
     "output_type": "display_data"
    },
    {
     "data": {
      "text/plain": "user_id          0\nprice      6589482\ndtype: int64"
     },
     "metadata": {},
     "output_type": "display_data"
    }
   ],
   "source": [
    "path = '..\\\\full_data\\\\competition_data_final_pqt'\n",
    "columns = {'user_id': 'int32', 'price': 'float32'}\n",
    "data = read_data(path,columns)\n",
    "display(data.info())\n",
    "display(data.isna().sum())"
   ],
   "metadata": {
    "collapsed": false
   }
  },
  {
   "cell_type": "code",
   "execution_count": 10,
   "outputs": [
    {
     "data": {
      "text/plain": "        user_id    price\n0             0   2990.0\n1             1      NaN\n2             2   5915.0\n3             3  13990.0\n4             4  12990.0\n...         ...      ...\n415312   415312   7947.0\n415313   415313   4790.0\n415314   415314  16990.0\n415315   415315   6990.0\n415316   415316  10667.0\n\n[415317 rows x 2 columns]",
      "text/html": "<div>\n<style scoped>\n    .dataframe tbody tr th:only-of-type {\n        vertical-align: middle;\n    }\n\n    .dataframe tbody tr th {\n        vertical-align: top;\n    }\n\n    .dataframe thead th {\n        text-align: right;\n    }\n</style>\n<table border=\"1\" class=\"dataframe\">\n  <thead>\n    <tr style=\"text-align: right;\">\n      <th></th>\n      <th>user_id</th>\n      <th>price</th>\n    </tr>\n  </thead>\n  <tbody>\n    <tr>\n      <th>0</th>\n      <td>0</td>\n      <td>2990.0</td>\n    </tr>\n    <tr>\n      <th>1</th>\n      <td>1</td>\n      <td>NaN</td>\n    </tr>\n    <tr>\n      <th>2</th>\n      <td>2</td>\n      <td>5915.0</td>\n    </tr>\n    <tr>\n      <th>3</th>\n      <td>3</td>\n      <td>13990.0</td>\n    </tr>\n    <tr>\n      <th>4</th>\n      <td>4</td>\n      <td>12990.0</td>\n    </tr>\n    <tr>\n      <th>...</th>\n      <td>...</td>\n      <td>...</td>\n    </tr>\n    <tr>\n      <th>415312</th>\n      <td>415312</td>\n      <td>7947.0</td>\n    </tr>\n    <tr>\n      <th>415313</th>\n      <td>415313</td>\n      <td>4790.0</td>\n    </tr>\n    <tr>\n      <th>415314</th>\n      <td>415314</td>\n      <td>16990.0</td>\n    </tr>\n    <tr>\n      <th>415315</th>\n      <td>415315</td>\n      <td>6990.0</td>\n    </tr>\n    <tr>\n      <th>415316</th>\n      <td>415316</td>\n      <td>10667.0</td>\n    </tr>\n  </tbody>\n</table>\n<p>415317 rows × 2 columns</p>\n</div>"
     },
     "metadata": {},
     "output_type": "display_data"
    },
    {
     "data": {
      "text/plain": "user_id        0\nprice      10754\ndtype: int64"
     },
     "metadata": {},
     "output_type": "display_data"
    }
   ],
   "source": [
    "df = data.drop_duplicates(subset='user_id',ignore_index=True)\n",
    "df = df.sort_values(by='user_id').reset_index(drop=True)\n",
    "display(df)\n",
    "display(df.isna().sum())"
   ],
   "metadata": {
    "collapsed": false
   }
  },
  {
   "cell_type": "code",
   "execution_count": 11,
   "outputs": [
    {
     "data": {
      "text/plain": "<Figure size 640x480 with 1 Axes>",
      "image/png": "[encoded data removed]"
     },
     "metadata": {},
     "output_type": "display_data"
    },
    {
     "data": {
      "text/plain": "<Figure size 640x480 with 1 Axes>",
      "image/png": "[encoded data removed]"
     },
     "metadata": {},
     "output_type": "display_data"
    },
    {
     "data": {
      "text/plain": "<Figure size 640x480 with 1 Axes>",
      "image/png": "[encoded data removed]"
     },
     "metadata": {},
     "output_type": "display_data"
    },
    {
     "data": {
      "text/plain": "<Figure size 640x480 with 1 Axes>",
      "image/png": "[encoded data removed]"
     },
     "metadata": {},
     "output_type": "display_data"
    }
   ],
   "source": [
    "plt.xlim(0,13000)\n",
    "plt.title('Бюджетный сегмент [0,12000]')\n",
    "df['price'].hist(bins=300)\n",
    "plt.show()\n",
    "\n",
    "plt.xlim(11000,40000)\n",
    "plt.title('Средний сегмент [12000,30000]')\n",
    "df['price'].hist(bins=300)\n",
    "plt.show()\n",
    "\n",
    "plt.xlim(25000,70000)\n",
    "plt.title('Дорогой сегмент [30001,65000]')\n",
    "df['price'].hist(bins=300)\n",
    "plt.show()\n",
    "\n",
    "plt.xlim(65000,140000)\n",
    "plt.title('Люкс сегмент > 65000')\n",
    "df['price'].hist(bins=300)\n",
    "plt.show()"
   ],
   "metadata": {
    "collapsed": false
   }
  },
  {
   "cell_type": "code",
   "execution_count": 12,
   "outputs": [
    {
     "data": {
      "text/plain": "user_id    0\nprice      0\ndtype: int64"
     },
     "metadata": {},
     "output_type": "display_data"
    },
    {
     "data": {
      "text/plain": "        user_id    price\n0             0   2990.0\n1             1    -10.0\n2             2   5915.0\n3             3  13990.0\n4             4  12990.0\n...         ...      ...\n415312   415312   7947.0\n415313   415313   4790.0\n415314   415314  16990.0\n415315   415315   6990.0\n415316   415316  10667.0\n\n[415317 rows x 2 columns]",
      "text/html": "<div>\n<style scoped>\n    .dataframe tbody tr th:only-of-type {\n        vertical-align: middle;\n    }\n\n    .dataframe tbody tr th {\n        vertical-align: top;\n    }\n\n    .dataframe thead th {\n        text-align: right;\n    }\n</style>\n<table border=\"1\" class=\"dataframe\">\n  <thead>\n    <tr style=\"text-align: right;\">\n      <th></th>\n      <th>user_id</th>\n      <th>price</th>\n    </tr>\n  </thead>\n  <tbody>\n    <tr>\n      <th>0</th>\n      <td>0</td>\n      <td>2990.0</td>\n    </tr>\n    <tr>\n      <th>1</th>\n      <td>1</td>\n      <td>-10.0</td>\n    </tr>\n    <tr>\n      <th>2</th>\n      <td>2</td>\n      <td>5915.0</td>\n    </tr>\n    <tr>\n      <th>3</th>\n      <td>3</td>\n      <td>13990.0</td>\n    </tr>\n    <tr>\n      <th>4</th>\n      <td>4</td>\n      <td>12990.0</td>\n    </tr>\n    <tr>\n      <th>...</th>\n      <td>...</td>\n      <td>...</td>\n    </tr>\n    <tr>\n      <th>415312</th>\n      <td>415312</td>\n      <td>7947.0</td>\n    </tr>\n    <tr>\n      <th>415313</th>\n      <td>415313</td>\n      <td>4790.0</td>\n    </tr>\n    <tr>\n      <th>415314</th>\n      <td>415314</td>\n      <td>16990.0</td>\n    </tr>\n    <tr>\n      <th>415315</th>\n      <td>415315</td>\n      <td>6990.0</td>\n    </tr>\n    <tr>\n      <th>415316</th>\n      <td>415316</td>\n      <td>10667.0</td>\n    </tr>\n  </tbody>\n</table>\n<p>415317 rows × 2 columns</p>\n</div>"
     },
     "metadata": {},
     "output_type": "display_data"
    },
    {
     "data": {
      "text/plain": "        price\n0           1\n1           0\n2           1\n3           2\n4           2\n...       ...\n415312      1\n415313      1\n415314      2\n415315      1\n415316      1\n\n[415317 rows x 1 columns]",
      "text/html": "<div>\n<style scoped>\n    .dataframe tbody tr th:only-of-type {\n        vertical-align: middle;\n    }\n\n    .dataframe tbody tr th {\n        vertical-align: top;\n    }\n\n    .dataframe thead th {\n        text-align: right;\n    }\n</style>\n<table border=\"1\" class=\"dataframe\">\n  <thead>\n    <tr style=\"text-align: right;\">\n      <th></th>\n      <th>price</th>\n    </tr>\n  </thead>\n  <tbody>\n    <tr>\n      <th>0</th>\n      <td>1</td>\n    </tr>\n    <tr>\n      <th>1</th>\n      <td>0</td>\n    </tr>\n    <tr>\n      <th>2</th>\n      <td>1</td>\n    </tr>\n    <tr>\n      <th>3</th>\n      <td>2</td>\n    </tr>\n    <tr>\n      <th>4</th>\n      <td>2</td>\n    </tr>\n    <tr>\n      <th>...</th>\n      <td>...</td>\n    </tr>\n    <tr>\n      <th>415312</th>\n      <td>1</td>\n    </tr>\n    <tr>\n      <th>415313</th>\n      <td>1</td>\n    </tr>\n    <tr>\n      <th>415314</th>\n      <td>2</td>\n    </tr>\n    <tr>\n      <th>415315</th>\n      <td>1</td>\n    </tr>\n    <tr>\n      <th>415316</th>\n      <td>1</td>\n    </tr>\n  </tbody>\n</table>\n<p>415317 rows × 1 columns</p>\n</div>"
     },
     "metadata": {},
     "output_type": "display_data"
    }
   ],
   "source": [
    "df = df.fillna(-10)\n",
    "display(df.isna().sum())\n",
    "\n",
    "display(df)\n",
    "df['price'] = df['price'].apply(lambda price: bisect.bisect_left([-1,12000,30000,65000],price))\n",
    "df = df.drop('user_id',axis=1)\n",
    "display(df)"
   ],
   "metadata": {
    "collapsed": false
   }
  },
  {
   "cell_type": "code",
   "execution_count": 13,
   "outputs": [
    {
     "data": {
      "text/plain": "array([[<AxesSubplot: title={'center': 'price'}>]], dtype=object)"
     },
     "execution_count": 13,
     "metadata": {},
     "output_type": "execute_result"
    },
    {
     "data": {
      "text/plain": "<Figure size 640x480 with 1 Axes>",
      "image/png": "[encoded data removed]"
     },
     "metadata": {},
     "output_type": "display_data"
    }
   ],
   "source": [
    "df.hist()"
   ],
   "metadata": {
    "collapsed": false
   }
  },
  {
   "cell_type": "code",
   "execution_count": 128,
   "outputs": [],
   "source": [
    "df.to_parquet('..\\\\full_data\\\\figma_plan\\\\price.parquet', index=False)\n",
    "del df"
   ],
   "metadata": {
    "collapsed": false
   }
  },
  {
   "cell_type": "markdown",
   "source": [
    "## Доли запросов в выходной"
   ],
   "metadata": {
    "collapsed": false
   }
  },
  {
   "cell_type": "code",
   "execution_count": 35,
   "outputs": [
    {
     "name": "stdout",
     "output_type": "stream",
     "text": [
      "<class 'pandas.core.frame.DataFrame'>\n",
      "RangeIndex: 322899435 entries, 0 to 322899434\n",
      "Data columns (total 3 columns):\n",
      " #   Column       Dtype         \n",
      "---  ------       -----         \n",
      " 0   user_id      int32         \n",
      " 1   request_cnt  int8          \n",
      " 2   date         datetime64[ns]\n",
      "dtypes: datetime64[ns](1), int32(1), int8(1)\n",
      "memory usage: 3.9 GB\n"
     ]
    },
    {
     "data": {
      "text/plain": "None"
     },
     "metadata": {},
     "output_type": "display_data"
    },
    {
     "data": {
      "text/plain": "user_id        0\nrequest_cnt    0\ndate           0\ndtype: int64"
     },
     "metadata": {},
     "output_type": "display_data"
    }
   ],
   "source": [
    "path = '..\\\\full_data\\\\competition_data_final_pqt'\n",
    "columns = {'user_id': 'int32', 'request_cnt': 'int8','date': 'datetime64[ns]'}\n",
    "data = read_data(path,columns)\n",
    "display(data.info())\n",
    "display(data.isna().sum())"
   ],
   "metadata": {
    "collapsed": false
   }
  },
  {
   "cell_type": "code",
   "execution_count": 36,
   "outputs": [
    {
     "data": {
      "text/plain": "   user_id  request_cnt  date\n0    45098            1     0\n1    45098            1     1\n2    45098            1     1\n3    45098            1     0\n4    45098            1     0",
      "text/html": "<div>\n<style scoped>\n    .dataframe tbody tr th:only-of-type {\n        vertical-align: middle;\n    }\n\n    .dataframe tbody tr th {\n        vertical-align: top;\n    }\n\n    .dataframe thead th {\n        text-align: right;\n    }\n</style>\n<table border=\"1\" class=\"dataframe\">\n  <thead>\n    <tr style=\"text-align: right;\">\n      <th></th>\n      <th>user_id</th>\n      <th>request_cnt</th>\n      <th>date</th>\n    </tr>\n  </thead>\n  <tbody>\n    <tr>\n      <th>0</th>\n      <td>45098</td>\n      <td>1</td>\n      <td>0</td>\n    </tr>\n    <tr>\n      <th>1</th>\n      <td>45098</td>\n      <td>1</td>\n      <td>1</td>\n    </tr>\n    <tr>\n      <th>2</th>\n      <td>45098</td>\n      <td>1</td>\n      <td>1</td>\n    </tr>\n    <tr>\n      <th>3</th>\n      <td>45098</td>\n      <td>1</td>\n      <td>0</td>\n    </tr>\n    <tr>\n      <th>4</th>\n      <td>45098</td>\n      <td>1</td>\n      <td>0</td>\n    </tr>\n  </tbody>\n</table>\n</div>"
     },
     "execution_count": 36,
     "metadata": {},
     "output_type": "execute_result"
    }
   ],
   "source": [
    "url21 = 'https://raw.githubusercontent.com/d10xa/holidays-calendar/master/json/consultant' + '2021' + '.json'\n",
    "r21 = requests.get(url21)\n",
    "cal21 = json.loads(r21.text)\n",
    "\n",
    "url22 = 'https://raw.githubusercontent.com/d10xa/holidays-calendar/master/json/consultant' + '2022' + '.json'\n",
    "r22 = requests.get(url22)\n",
    "cal22 = json.loads(r22.text)\n",
    "\n",
    "def is_holiday(date):\n",
    "    if date.year == 2021:\n",
    "        return cal21['holidays'].count(str(date)[0:-9])\n",
    "    else:\n",
    "        return cal22['holidays'].count(str(date)[0:-9])\n",
    "\n",
    "data['date'] = data['date'].apply(lambda date: is_holiday(date))\n",
    "data.head()"
   ],
   "metadata": {
    "collapsed": false
   }
  },
  {
   "cell_type": "code",
   "execution_count": 38,
   "outputs": [
    {
     "name": "stdout",
     "output_type": "stream",
     "text": [
      "<class 'pandas.core.frame.DataFrame'>\n",
      "RangeIndex: 322899435 entries, 0 to 322899434\n",
      "Data columns (total 3 columns):\n",
      " #   Column       Dtype   \n",
      "---  ------       -----   \n",
      " 0   user_id      int32   \n",
      " 1   request_cnt  int8    \n",
      " 2   date         category\n",
      "dtypes: category(1), int32(1), int8(1)\n",
      "memory usage: 1.8 GB\n"
     ]
    }
   ],
   "source": [
    "data['date'] = data['date'].astype('category')\n",
    "data.info()"
   ],
   "metadata": {
    "collapsed": false
   }
  },
  {
   "cell_type": "code",
   "execution_count": 71,
   "outputs": [
    {
     "data": {
      "text/plain": "   user_id date  request_cnt\n0        0    0          146\n1        0    1           47\n2        1    0          837\n3        1    1          210\n4        2    0          288",
      "text/html": "<div>\n<style scoped>\n    .dataframe tbody tr th:only-of-type {\n        vertical-align: middle;\n    }\n\n    .dataframe tbody tr th {\n        vertical-align: top;\n    }\n\n    .dataframe thead th {\n        text-align: right;\n    }\n</style>\n<table border=\"1\" class=\"dataframe\">\n  <thead>\n    <tr style=\"text-align: right;\">\n      <th></th>\n      <th>user_id</th>\n      <th>date</th>\n      <th>request_cnt</th>\n    </tr>\n  </thead>\n  <tbody>\n    <tr>\n      <th>0</th>\n      <td>0</td>\n      <td>0</td>\n      <td>146</td>\n    </tr>\n    <tr>\n      <th>1</th>\n      <td>0</td>\n      <td>1</td>\n      <td>47</td>\n    </tr>\n    <tr>\n      <th>2</th>\n      <td>1</td>\n      <td>0</td>\n      <td>837</td>\n    </tr>\n    <tr>\n      <th>3</th>\n      <td>1</td>\n      <td>1</td>\n      <td>210</td>\n    </tr>\n    <tr>\n      <th>4</th>\n      <td>2</td>\n      <td>0</td>\n      <td>288</td>\n    </tr>\n  </tbody>\n</table>\n</div>"
     },
     "metadata": {},
     "output_type": "display_data"
    },
    {
     "data": {
      "text/plain": "   user_id date  request_cnt  request_cnt_sum\n0        0    0          146              193\n1        0    1           47              193\n2        1    0          837             1047\n3        1    1          210             1047\n4        2    0          288              411",
      "text/html": "<div>\n<style scoped>\n    .dataframe tbody tr th:only-of-type {\n        vertical-align: middle;\n    }\n\n    .dataframe tbody tr th {\n        vertical-align: top;\n    }\n\n    .dataframe thead th {\n        text-align: right;\n    }\n</style>\n<table border=\"1\" class=\"dataframe\">\n  <thead>\n    <tr style=\"text-align: right;\">\n      <th></th>\n      <th>user_id</th>\n      <th>date</th>\n      <th>request_cnt</th>\n      <th>request_cnt_sum</th>\n    </tr>\n  </thead>\n  <tbody>\n    <tr>\n      <th>0</th>\n      <td>0</td>\n      <td>0</td>\n      <td>146</td>\n      <td>193</td>\n    </tr>\n    <tr>\n      <th>1</th>\n      <td>0</td>\n      <td>1</td>\n      <td>47</td>\n      <td>193</td>\n    </tr>\n    <tr>\n      <th>2</th>\n      <td>1</td>\n      <td>0</td>\n      <td>837</td>\n      <td>1047</td>\n    </tr>\n    <tr>\n      <th>3</th>\n      <td>1</td>\n      <td>1</td>\n      <td>210</td>\n      <td>1047</td>\n    </tr>\n    <tr>\n      <th>4</th>\n      <td>2</td>\n      <td>0</td>\n      <td>288</td>\n      <td>411</td>\n    </tr>\n  </tbody>\n</table>\n</div>"
     },
     "metadata": {},
     "output_type": "display_data"
    },
    {
     "data": {
      "text/plain": "   user_id date  request_cnt  request_cnt_sum  holyday_fraction\n0        0    0          146              193          0.756477\n1        0    1           47              193          0.243523\n2        1    0          837             1047          0.799427\n3        1    1          210             1047          0.200573\n4        2    0          288              411          0.700730",
      "text/html": "<div>\n<style scoped>\n    .dataframe tbody tr th:only-of-type {\n        vertical-align: middle;\n    }\n\n    .dataframe tbody tr th {\n        vertical-align: top;\n    }\n\n    .dataframe thead th {\n        text-align: right;\n    }\n</style>\n<table border=\"1\" class=\"dataframe\">\n  <thead>\n    <tr style=\"text-align: right;\">\n      <th></th>\n      <th>user_id</th>\n      <th>date</th>\n      <th>request_cnt</th>\n      <th>request_cnt_sum</th>\n      <th>holyday_fraction</th>\n    </tr>\n  </thead>\n  <tbody>\n    <tr>\n      <th>0</th>\n      <td>0</td>\n      <td>0</td>\n      <td>146</td>\n      <td>193</td>\n      <td>0.756477</td>\n    </tr>\n    <tr>\n      <th>1</th>\n      <td>0</td>\n      <td>1</td>\n      <td>47</td>\n      <td>193</td>\n      <td>0.243523</td>\n    </tr>\n    <tr>\n      <th>2</th>\n      <td>1</td>\n      <td>0</td>\n      <td>837</td>\n      <td>1047</td>\n      <td>0.799427</td>\n    </tr>\n    <tr>\n      <th>3</th>\n      <td>1</td>\n      <td>1</td>\n      <td>210</td>\n      <td>1047</td>\n      <td>0.200573</td>\n    </tr>\n    <tr>\n      <th>4</th>\n      <td>2</td>\n      <td>0</td>\n      <td>288</td>\n      <td>411</td>\n      <td>0.700730</td>\n    </tr>\n  </tbody>\n</table>\n</div>"
     },
     "metadata": {},
     "output_type": "display_data"
    },
    {
     "data": {
      "text/plain": "   user_id  holyday_fraction\n0        0          0.243523\n1        1          0.200573\n2        2          0.299270\n3        3          0.181818\n4        4          0.326898",
      "text/html": "<div>\n<style scoped>\n    .dataframe tbody tr th:only-of-type {\n        vertical-align: middle;\n    }\n\n    .dataframe tbody tr th {\n        vertical-align: top;\n    }\n\n    .dataframe thead th {\n        text-align: right;\n    }\n</style>\n<table border=\"1\" class=\"dataframe\">\n  <thead>\n    <tr style=\"text-align: right;\">\n      <th></th>\n      <th>user_id</th>\n      <th>holyday_fraction</th>\n    </tr>\n  </thead>\n  <tbody>\n    <tr>\n      <th>0</th>\n      <td>0</td>\n      <td>0.243523</td>\n    </tr>\n    <tr>\n      <th>1</th>\n      <td>1</td>\n      <td>0.200573</td>\n    </tr>\n    <tr>\n      <th>2</th>\n      <td>2</td>\n      <td>0.299270</td>\n    </tr>\n    <tr>\n      <th>3</th>\n      <td>3</td>\n      <td>0.181818</td>\n    </tr>\n    <tr>\n      <th>4</th>\n      <td>4</td>\n      <td>0.326898</td>\n    </tr>\n  </tbody>\n</table>\n</div>"
     },
     "metadata": {},
     "output_type": "display_data"
    },
    {
     "name": "stdout",
     "output_type": "stream",
     "text": [
      "<class 'pandas.core.frame.DataFrame'>\n",
      "RangeIndex: 415317 entries, 0 to 415316\n",
      "Data columns (total 1 columns):\n",
      " #   Column            Non-Null Count   Dtype  \n",
      "---  ------            --------------   -----  \n",
      " 0   holyday_fraction  415317 non-null  float32\n",
      "dtypes: float32(1)\n",
      "memory usage: 1.6 MB\n"
     ]
    },
    {
     "data": {
      "text/plain": "None"
     },
     "metadata": {},
     "output_type": "display_data"
    }
   ],
   "source": [
    "df = data.groupby(['user_id','date'],group_keys=False)['request_cnt'].sum().reset_index()\n",
    "display(df.head())\n",
    "df['request_cnt_sum'] = pd.Series(np.repeat(df.groupby('user_id')['request_cnt'].sum().reset_index(drop=True).values,2,axis=0))\n",
    "display(df.head())\n",
    "df['holyday_fraction'] = df['request_cnt']/df['request_cnt_sum']\n",
    "df['holyday_fraction'] = df['holyday_fraction'].astype('float32')\n",
    "display(df.head())\n",
    "\n",
    "df = df.loc[df['date']==1].drop(['request_cnt_sum','request_cnt','date'],axis=1).reset_index(drop=True)\n",
    "display(df.head())\n",
    "df = df.drop('user_id',axis=1)\n",
    "display(df.info())"
   ],
   "metadata": {
    "collapsed": false
   }
  },
  {
   "cell_type": "code",
   "execution_count": 72,
   "outputs": [],
   "source": [
    "df.to_parquet('..\\\\full_data\\\\figma_plan\\\\holyday_fraction.parquet', index=False)\n",
    "del df"
   ],
   "metadata": {
    "collapsed": false
   }
  },
  {
   "cell_type": "markdown",
   "source": [
    "## Доли запросов утро, день, вечер"
   ],
   "metadata": {
    "collapsed": false
   }
  },
  {
   "cell_type": "code",
   "execution_count": 3,
   "outputs": [
    {
     "name": "stdout",
     "output_type": "stream",
     "text": [
      "<class 'pandas.core.frame.DataFrame'>\n",
      "RangeIndex: 322899435 entries, 0 to 322899434\n",
      "Data columns (total 3 columns):\n",
      " #   Column       Dtype   \n",
      "---  ------       -----   \n",
      " 0   user_id      int32   \n",
      " 1   request_cnt  int8    \n",
      " 2   part_of_day  category\n",
      "dtypes: category(1), int32(1), int8(1)\n",
      "memory usage: 1.8 GB\n"
     ]
    },
    {
     "data": {
      "text/plain": "None"
     },
     "metadata": {},
     "output_type": "display_data"
    },
    {
     "data": {
      "text/plain": "user_id        0\nrequest_cnt    0\npart_of_day    0\ndtype: int64"
     },
     "metadata": {},
     "output_type": "display_data"
    }
   ],
   "source": [
    "path = '..\\\\full_data\\\\competition_data_final_pqt'\n",
    "columns = {'user_id': 'int32', 'request_cnt': 'int8','part_of_day': 'category'}\n",
    "data = read_data(path,columns)\n",
    "display(data.info())\n",
    "display(data.isna().sum())"
   ],
   "metadata": {
    "collapsed": false
   }
  },
  {
   "cell_type": "code",
   "execution_count": 26,
   "outputs": [
    {
     "data": {
      "text/plain": "   user_id part_of_day  request_cnt\n0        0         day          107\n1        0     evening           62\n2        0     morning           23\n3        0       night            1\n4        1         day          363",
      "text/html": "<div>\n<style scoped>\n    .dataframe tbody tr th:only-of-type {\n        vertical-align: middle;\n    }\n\n    .dataframe tbody tr th {\n        vertical-align: top;\n    }\n\n    .dataframe thead th {\n        text-align: right;\n    }\n</style>\n<table border=\"1\" class=\"dataframe\">\n  <thead>\n    <tr style=\"text-align: right;\">\n      <th></th>\n      <th>user_id</th>\n      <th>part_of_day</th>\n      <th>request_cnt</th>\n    </tr>\n  </thead>\n  <tbody>\n    <tr>\n      <th>0</th>\n      <td>0</td>\n      <td>day</td>\n      <td>107</td>\n    </tr>\n    <tr>\n      <th>1</th>\n      <td>0</td>\n      <td>evening</td>\n      <td>62</td>\n    </tr>\n    <tr>\n      <th>2</th>\n      <td>0</td>\n      <td>morning</td>\n      <td>23</td>\n    </tr>\n    <tr>\n      <th>3</th>\n      <td>0</td>\n      <td>night</td>\n      <td>1</td>\n    </tr>\n    <tr>\n      <th>4</th>\n      <td>1</td>\n      <td>day</td>\n      <td>363</td>\n    </tr>\n  </tbody>\n</table>\n</div>"
     },
     "metadata": {},
     "output_type": "display_data"
    },
    {
     "data": {
      "text/plain": "   user_id part_of_day  request_cnt  request_cnt_sum\n0        0         day          107              193\n1        0     evening           62              193\n2        0     morning           23              193\n3        0       night            1              193\n4        1         day          363             1047",
      "text/html": "<div>\n<style scoped>\n    .dataframe tbody tr th:only-of-type {\n        vertical-align: middle;\n    }\n\n    .dataframe tbody tr th {\n        vertical-align: top;\n    }\n\n    .dataframe thead th {\n        text-align: right;\n    }\n</style>\n<table border=\"1\" class=\"dataframe\">\n  <thead>\n    <tr style=\"text-align: right;\">\n      <th></th>\n      <th>user_id</th>\n      <th>part_of_day</th>\n      <th>request_cnt</th>\n      <th>request_cnt_sum</th>\n    </tr>\n  </thead>\n  <tbody>\n    <tr>\n      <th>0</th>\n      <td>0</td>\n      <td>day</td>\n      <td>107</td>\n      <td>193</td>\n    </tr>\n    <tr>\n      <th>1</th>\n      <td>0</td>\n      <td>evening</td>\n      <td>62</td>\n      <td>193</td>\n    </tr>\n    <tr>\n      <th>2</th>\n      <td>0</td>\n      <td>morning</td>\n      <td>23</td>\n      <td>193</td>\n    </tr>\n    <tr>\n      <th>3</th>\n      <td>0</td>\n      <td>night</td>\n      <td>1</td>\n      <td>193</td>\n    </tr>\n    <tr>\n      <th>4</th>\n      <td>1</td>\n      <td>day</td>\n      <td>363</td>\n      <td>1047</td>\n    </tr>\n  </tbody>\n</table>\n</div>"
     },
     "metadata": {},
     "output_type": "display_data"
    },
    {
     "data": {
      "text/plain": "   user_id  morning_fraction  day_fraction  evening_fraction\n0        0          0.119171      0.554404          0.321244\n1        1          0.322827      0.346705          0.295129\n2        2          0.187348      0.481752          0.316302\n3        3          0.178182      0.352727          0.454545\n4        4          0.371943      0.348777          0.265122",
      "text/html": "<div>\n<style scoped>\n    .dataframe tbody tr th:only-of-type {\n        vertical-align: middle;\n    }\n\n    .dataframe tbody tr th {\n        vertical-align: top;\n    }\n\n    .dataframe thead th {\n        text-align: right;\n    }\n</style>\n<table border=\"1\" class=\"dataframe\">\n  <thead>\n    <tr style=\"text-align: right;\">\n      <th></th>\n      <th>user_id</th>\n      <th>morning_fraction</th>\n      <th>day_fraction</th>\n      <th>evening_fraction</th>\n    </tr>\n  </thead>\n  <tbody>\n    <tr>\n      <th>0</th>\n      <td>0</td>\n      <td>0.119171</td>\n      <td>0.554404</td>\n      <td>0.321244</td>\n    </tr>\n    <tr>\n      <th>1</th>\n      <td>1</td>\n      <td>0.322827</td>\n      <td>0.346705</td>\n      <td>0.295129</td>\n    </tr>\n    <tr>\n      <th>2</th>\n      <td>2</td>\n      <td>0.187348</td>\n      <td>0.481752</td>\n      <td>0.316302</td>\n    </tr>\n    <tr>\n      <th>3</th>\n      <td>3</td>\n      <td>0.178182</td>\n      <td>0.352727</td>\n      <td>0.454545</td>\n    </tr>\n    <tr>\n      <th>4</th>\n      <td>4</td>\n      <td>0.371943</td>\n      <td>0.348777</td>\n      <td>0.265122</td>\n    </tr>\n  </tbody>\n</table>\n</div>"
     },
     "metadata": {},
     "output_type": "display_data"
    },
    {
     "data": {
      "text/plain": "   morning_fraction  day_fraction  evening_fraction\n0             0.119         0.554             0.321\n1             0.323         0.347             0.295\n2             0.187         0.482             0.316\n3             0.178         0.353             0.455\n4             0.372         0.349             0.265",
      "text/html": "<div>\n<style scoped>\n    .dataframe tbody tr th:only-of-type {\n        vertical-align: middle;\n    }\n\n    .dataframe tbody tr th {\n        vertical-align: top;\n    }\n\n    .dataframe thead th {\n        text-align: right;\n    }\n</style>\n<table border=\"1\" class=\"dataframe\">\n  <thead>\n    <tr style=\"text-align: right;\">\n      <th></th>\n      <th>morning_fraction</th>\n      <th>day_fraction</th>\n      <th>evening_fraction</th>\n    </tr>\n  </thead>\n  <tbody>\n    <tr>\n      <th>0</th>\n      <td>0.119</td>\n      <td>0.554</td>\n      <td>0.321</td>\n    </tr>\n    <tr>\n      <th>1</th>\n      <td>0.323</td>\n      <td>0.347</td>\n      <td>0.295</td>\n    </tr>\n    <tr>\n      <th>2</th>\n      <td>0.187</td>\n      <td>0.482</td>\n      <td>0.316</td>\n    </tr>\n    <tr>\n      <th>3</th>\n      <td>0.178</td>\n      <td>0.353</td>\n      <td>0.455</td>\n    </tr>\n    <tr>\n      <th>4</th>\n      <td>0.372</td>\n      <td>0.349</td>\n      <td>0.265</td>\n    </tr>\n  </tbody>\n</table>\n</div>"
     },
     "metadata": {},
     "output_type": "display_data"
    },
    {
     "name": "stdout",
     "output_type": "stream",
     "text": [
      "<class 'pandas.core.frame.DataFrame'>\n",
      "RangeIndex: 415317 entries, 0 to 415316\n",
      "Data columns (total 3 columns):\n",
      " #   Column            Non-Null Count   Dtype  \n",
      "---  ------            --------------   -----  \n",
      " 0   morning_fraction  415317 non-null  float32\n",
      " 1   day_fraction      415317 non-null  float32\n",
      " 2   evening_fraction  415317 non-null  float32\n",
      "dtypes: float32(3)\n",
      "memory usage: 4.8 MB\n"
     ]
    },
    {
     "data": {
      "text/plain": "None"
     },
     "metadata": {},
     "output_type": "display_data"
    }
   ],
   "source": [
    "df = data.groupby(['user_id','part_of_day'],group_keys=False)['request_cnt'].sum().reset_index()\n",
    "display(df.head())\n",
    "df['request_cnt_sum'] = pd.Series(np.repeat(df.groupby('user_id')['request_cnt'].sum().reset_index(drop=True).values,4,axis=0))\n",
    "display(df.head())\n",
    "\n",
    "frac_df = pd.DataFrame()\n",
    "frac_df['user_id'] = df['user_id'].drop_duplicates().reset_index(drop=True)\n",
    "frac_df['morning_fraction'] = (df.loc[df['part_of_day']=='morning','request_cnt'] / df.loc[df['part_of_day']=='morning','request_cnt_sum']).reset_index(drop=True)\n",
    "frac_df['morning_fraction'] = frac_df['morning_fraction'].astype('float32')\n",
    "frac_df['day_fraction'] = (df.loc[df['part_of_day']=='day','request_cnt'] / df.loc[df['part_of_day']=='day','request_cnt_sum']).reset_index(drop=True)\n",
    "frac_df['day_fraction'] = frac_df['day_fraction'].astype('float32')\n",
    "frac_df['evening_fraction'] = (df.loc[df['part_of_day']=='evening','request_cnt'] / df.loc[df['part_of_day']=='evening','request_cnt_sum']).reset_index(drop=True)\n",
    "frac_df['evening_fraction'] = frac_df['evening_fraction'].astype('float32')\n",
    "display(frac_df.head())\n",
    "\n",
    "frac_df = frac_df.round(3).drop('user_id',axis=1)\n",
    "display(frac_df.head())\n",
    "display(frac_df.info())"
   ],
   "metadata": {
    "collapsed": false
   }
  },
  {
   "cell_type": "code",
   "execution_count": 27,
   "outputs": [],
   "source": [
    "frac_df.to_parquet('..\\\\full_data\\\\figma_plan\\\\part_of_day_fraction.parquet', index=False)\n",
    "del df\n",
    "del frac_df"
   ],
   "metadata": {
    "collapsed": false
   }
  },
  {
   "cell_type": "markdown",
   "source": [
    "## Топ доли заходов на 3000 популярных сайтов + доля заходов на остальные"
   ],
   "metadata": {
    "collapsed": false
   }
  },
  {
   "cell_type": "code",
   "execution_count": 3,
   "outputs": [
    {
     "name": "stdout",
     "output_type": "stream",
     "text": [
      "<class 'pandas.core.frame.DataFrame'>\n",
      "RangeIndex: 322899435 entries, 0 to 322899434\n",
      "Data columns (total 3 columns):\n",
      " #   Column       Dtype \n",
      "---  ------       ----- \n",
      " 0   user_id      int32 \n",
      " 1   request_cnt  int8  \n",
      " 2   url_host     object\n",
      "dtypes: int32(1), int8(1), object(1)\n",
      "memory usage: 3.9+ GB\n"
     ]
    },
    {
     "data": {
      "text/plain": "None"
     },
     "metadata": {},
     "output_type": "display_data"
    },
    {
     "data": {
      "text/plain": "user_id        0\nrequest_cnt    0\nurl_host       0\ndtype: int64"
     },
     "metadata": {},
     "output_type": "display_data"
    }
   ],
   "source": [
    "path = '..\\\\full_data\\\\competition_data_final_pqt'\n",
    "columns = {'user_id': 'int32','request_cnt': 'int8','url_host': 'object'}\n",
    "data = read_data(path,columns)\n",
    "display(data.info())\n",
    "display(data.isna().sum())"
   ],
   "metadata": {
    "collapsed": false
   }
  },
  {
   "cell_type": "code",
   "execution_count": 4,
   "outputs": [
    {
     "data": {
      "text/plain": "                           url_host  request_cnt\n59366   googleads.g.doubleclick.net     49094546\n194523                    yandex.ru     47494474\n65865                   i.ytimg.com     35166640\n180836                       vk.com     34750259\n17626        avatars.mds.yandex.net     29760534",
      "text/html": "<div>\n<style scoped>\n    .dataframe tbody tr th:only-of-type {\n        vertical-align: middle;\n    }\n\n    .dataframe tbody tr th {\n        vertical-align: top;\n    }\n\n    .dataframe thead th {\n        text-align: right;\n    }\n</style>\n<table border=\"1\" class=\"dataframe\">\n  <thead>\n    <tr style=\"text-align: right;\">\n      <th></th>\n      <th>url_host</th>\n      <th>request_cnt</th>\n    </tr>\n  </thead>\n  <tbody>\n    <tr>\n      <th>59366</th>\n      <td>googleads.g.doubleclick.net</td>\n      <td>49094546</td>\n    </tr>\n    <tr>\n      <th>194523</th>\n      <td>yandex.ru</td>\n      <td>47494474</td>\n    </tr>\n    <tr>\n      <th>65865</th>\n      <td>i.ytimg.com</td>\n      <td>35166640</td>\n    </tr>\n    <tr>\n      <th>180836</th>\n      <td>vk.com</td>\n      <td>34750259</td>\n    </tr>\n    <tr>\n      <th>17626</th>\n      <td>avatars.mds.yandex.net</td>\n      <td>29760534</td>\n    </tr>\n  </tbody>\n</table>\n</div>"
     },
     "metadata": {},
     "output_type": "display_data"
    },
    {
     "name": "stdout",
     "output_type": "stream",
     "text": [
      "199683\n"
     ]
    },
    {
     "data": {
      "text/plain": "       request_cnt\ncount    199683.00\nmean       2788.13\nstd      242249.42\nmin           1.00\n25%           1.00\n50%           4.00\n75%          14.00\nmax    49094546.00",
      "text/html": "<div>\n<style scoped>\n    .dataframe tbody tr th:only-of-type {\n        vertical-align: middle;\n    }\n\n    .dataframe tbody tr th {\n        vertical-align: top;\n    }\n\n    .dataframe thead th {\n        text-align: right;\n    }\n</style>\n<table border=\"1\" class=\"dataframe\">\n  <thead>\n    <tr style=\"text-align: right;\">\n      <th></th>\n      <th>request_cnt</th>\n    </tr>\n  </thead>\n  <tbody>\n    <tr>\n      <th>count</th>\n      <td>199683.00</td>\n    </tr>\n    <tr>\n      <th>mean</th>\n      <td>2788.13</td>\n    </tr>\n    <tr>\n      <th>std</th>\n      <td>242249.42</td>\n    </tr>\n    <tr>\n      <th>min</th>\n      <td>1.00</td>\n    </tr>\n    <tr>\n      <th>25%</th>\n      <td>1.00</td>\n    </tr>\n    <tr>\n      <th>50%</th>\n      <td>4.00</td>\n    </tr>\n    <tr>\n      <th>75%</th>\n      <td>14.00</td>\n    </tr>\n    <tr>\n      <th>max</th>\n      <td>49094546.00</td>\n    </tr>\n  </tbody>\n</table>\n</div>"
     },
     "metadata": {},
     "output_type": "display_data"
    },
    {
     "data": {
      "text/plain": "                           url_host  request_cnt\n59366   googleads.g.doubleclick.net     49094546\n194523                    yandex.ru     47494474\n65865                   i.ytimg.com     35166640\n180836                       vk.com     34750259\n17626        avatars.mds.yandex.net     29760534",
      "text/html": "<div>\n<style scoped>\n    .dataframe tbody tr th:only-of-type {\n        vertical-align: middle;\n    }\n\n    .dataframe tbody tr th {\n        vertical-align: top;\n    }\n\n    .dataframe thead th {\n        text-align: right;\n    }\n</style>\n<table border=\"1\" class=\"dataframe\">\n  <thead>\n    <tr style=\"text-align: right;\">\n      <th></th>\n      <th>url_host</th>\n      <th>request_cnt</th>\n    </tr>\n  </thead>\n  <tbody>\n    <tr>\n      <th>59366</th>\n      <td>googleads.g.doubleclick.net</td>\n      <td>49094546</td>\n    </tr>\n    <tr>\n      <th>194523</th>\n      <td>yandex.ru</td>\n      <td>47494474</td>\n    </tr>\n    <tr>\n      <th>65865</th>\n      <td>i.ytimg.com</td>\n      <td>35166640</td>\n    </tr>\n    <tr>\n      <th>180836</th>\n      <td>vk.com</td>\n      <td>34750259</td>\n    </tr>\n    <tr>\n      <th>17626</th>\n      <td>avatars.mds.yandex.net</td>\n      <td>29760534</td>\n    </tr>\n  </tbody>\n</table>\n</div>"
     },
     "metadata": {},
     "output_type": "display_data"
    },
    {
     "name": "stdout",
     "output_type": "stream",
     "text": [
      "24017\n"
     ]
    },
    {
     "data": {
      "text/plain": "       request_cnt\ncount     24017.00\nmean      23130.71\nstd      698188.05\nmin          51.00\n25%          82.00\n50%         155.00\n75%         434.00\nmax    49094546.00",
      "text/html": "<div>\n<style scoped>\n    .dataframe tbody tr th:only-of-type {\n        vertical-align: middle;\n    }\n\n    .dataframe tbody tr th {\n        vertical-align: top;\n    }\n\n    .dataframe thead th {\n        text-align: right;\n    }\n</style>\n<table border=\"1\" class=\"dataframe\">\n  <thead>\n    <tr style=\"text-align: right;\">\n      <th></th>\n      <th>request_cnt</th>\n    </tr>\n  </thead>\n  <tbody>\n    <tr>\n      <th>count</th>\n      <td>24017.00</td>\n    </tr>\n    <tr>\n      <th>mean</th>\n      <td>23130.71</td>\n    </tr>\n    <tr>\n      <th>std</th>\n      <td>698188.05</td>\n    </tr>\n    <tr>\n      <th>min</th>\n      <td>51.00</td>\n    </tr>\n    <tr>\n      <th>25%</th>\n      <td>82.00</td>\n    </tr>\n    <tr>\n      <th>50%</th>\n      <td>155.00</td>\n    </tr>\n    <tr>\n      <th>75%</th>\n      <td>434.00</td>\n    </tr>\n    <tr>\n      <th>max</th>\n      <td>49094546.00</td>\n    </tr>\n  </tbody>\n</table>\n</div>"
     },
     "metadata": {},
     "output_type": "display_data"
    },
    {
     "name": "stdout",
     "output_type": "stream",
     "text": [
      "['googleads.g.doubleclick.net' 'yandex.ru' 'i.ytimg.com' ...\n",
      " 'buildingclub-ru.turbopages.org' 'insearch.site' 'el-id.ru']\n",
      "3000\n"
     ]
    }
   ],
   "source": [
    "'''\n",
    "\n",
    "\n",
    "сохраняем список сайтов, в которых приемлемое количество запросов\n",
    "сохраняем список сайтов, которые наверняка будут добавлены в df\n",
    "\n",
    "\n",
    "'''\n",
    "\n",
    "important_df = data.groupby('url_host')['request_cnt'].sum().reset_index().sort_values(by='request_cnt',ascending=False)\n",
    "display(important_df.head())\n",
    "print(len(important_df))\n",
    "display(important_df.describe().round(2))\n",
    "\n",
    "important_df = important_df.loc[important_df['request_cnt']>50]\n",
    "display(important_df.head())\n",
    "print(len(important_df))\n",
    "display(important_df.describe().round(2))\n",
    "\n",
    "important_columns = important_df['url_host'].unique()\n",
    "del important_df\n",
    "\n",
    "np.save('important_columns.npy', important_columns, allow_pickle=True)\n",
    "important_columns = np.load('important_columns.npy',allow_pickle=True)\n",
    "\n",
    "np.save('exists_columns.npy', important_columns[0:3000], allow_pickle=True)\n",
    "exists_columns = np.load('exists_columns.npy',allow_pickle=True)\n",
    "print(important_columns)\n",
    "print(len(exists_columns))"
   ],
   "metadata": {
    "collapsed": false
   }
  },
  {
   "cell_type": "code",
   "execution_count": 4,
   "outputs": [
    {
     "data": {
      "text/plain": "   user_id  request_cnt_sum\n0        0              193\n1        1             1047\n2        2              411\n3        3              275\n4        4              777",
      "text/html": "<div>\n<style scoped>\n    .dataframe tbody tr th:only-of-type {\n        vertical-align: middle;\n    }\n\n    .dataframe tbody tr th {\n        vertical-align: top;\n    }\n\n    .dataframe thead th {\n        text-align: right;\n    }\n</style>\n<table border=\"1\" class=\"dataframe\">\n  <thead>\n    <tr style=\"text-align: right;\">\n      <th></th>\n      <th>user_id</th>\n      <th>request_cnt_sum</th>\n    </tr>\n  </thead>\n  <tbody>\n    <tr>\n      <th>0</th>\n      <td>0</td>\n      <td>193</td>\n    </tr>\n    <tr>\n      <th>1</th>\n      <td>1</td>\n      <td>1047</td>\n    </tr>\n    <tr>\n      <th>2</th>\n      <td>2</td>\n      <td>411</td>\n    </tr>\n    <tr>\n      <th>3</th>\n      <td>3</td>\n      <td>275</td>\n    </tr>\n    <tr>\n      <th>4</th>\n      <td>4</td>\n      <td>777</td>\n    </tr>\n  </tbody>\n</table>\n</div>"
     },
     "metadata": {},
     "output_type": "display_data"
    },
    {
     "name": "stdout",
     "output_type": "stream",
     "text": [
      "<class 'pandas.core.frame.DataFrame'>\n",
      "RangeIndex: 415317 entries, 0 to 415316\n",
      "Data columns (total 2 columns):\n",
      " #   Column           Non-Null Count   Dtype\n",
      "---  ------           --------------   -----\n",
      " 0   user_id          415317 non-null  int32\n",
      " 1   request_cnt_sum  415317 non-null  int32\n",
      "dtypes: int32(2)\n",
      "memory usage: 3.2 MB\n"
     ]
    },
    {
     "data": {
      "text/plain": "None"
     },
     "metadata": {},
     "output_type": "display_data"
    }
   ],
   "source": [
    "#сохраняем данные о сумме перед удалением или переименовыванием строк\n",
    "data_sum = data.groupby('user_id')['request_cnt'].sum().reset_index()\n",
    "data_sum['user_id'] = data_sum['user_id'].astype('int32')\n",
    "data_sum['request_cnt'] = data_sum['request_cnt'].astype('int32')\n",
    "data_sum = data_sum.rename(columns={'request_cnt':'request_cnt_sum'})\n",
    "display(data_sum.head())\n",
    "display(data_sum.info())"
   ],
   "metadata": {
    "collapsed": false
   }
  },
  {
   "cell_type": "code",
   "execution_count": 5,
   "outputs": [
    {
     "data": {
      "text/plain": "   user_id  request_cnt                     url_host\n0    45098            1                ad.adriver.ru\n1    45098            1                    apple.com\n2    45098            1       avatars.mds.yandex.net\n3    45098            1  googleads.g.doubleclick.net\n4    45098            1  googleads.g.doubleclick.net",
      "text/html": "<div>\n<style scoped>\n    .dataframe tbody tr th:only-of-type {\n        vertical-align: middle;\n    }\n\n    .dataframe tbody tr th {\n        vertical-align: top;\n    }\n\n    .dataframe thead th {\n        text-align: right;\n    }\n</style>\n<table border=\"1\" class=\"dataframe\">\n  <thead>\n    <tr style=\"text-align: right;\">\n      <th></th>\n      <th>user_id</th>\n      <th>request_cnt</th>\n      <th>url_host</th>\n    </tr>\n  </thead>\n  <tbody>\n    <tr>\n      <th>0</th>\n      <td>45098</td>\n      <td>1</td>\n      <td>ad.adriver.ru</td>\n    </tr>\n    <tr>\n      <th>1</th>\n      <td>45098</td>\n      <td>1</td>\n      <td>apple.com</td>\n    </tr>\n    <tr>\n      <th>2</th>\n      <td>45098</td>\n      <td>1</td>\n      <td>avatars.mds.yandex.net</td>\n    </tr>\n    <tr>\n      <th>3</th>\n      <td>45098</td>\n      <td>1</td>\n      <td>googleads.g.doubleclick.net</td>\n    </tr>\n    <tr>\n      <th>4</th>\n      <td>45098</td>\n      <td>1</td>\n      <td>googleads.g.doubleclick.net</td>\n    </tr>\n  </tbody>\n</table>\n</div>"
     },
     "metadata": {},
     "output_type": "display_data"
    },
    {
     "name": "stdout",
     "output_type": "stream",
     "text": [
      "<class 'pandas.core.frame.DataFrame'>\n",
      "RangeIndex: 322899435 entries, 0 to 322899434\n",
      "Data columns (total 3 columns):\n",
      " #   Column       Dtype \n",
      "---  ------       ----- \n",
      " 0   user_id      int32 \n",
      " 1   request_cnt  int8  \n",
      " 2   url_host     object\n",
      "dtypes: int32(1), int8(1), object(1)\n",
      "memory usage: 3.9+ GB\n"
     ]
    },
    {
     "data": {
      "text/plain": "None"
     },
     "metadata": {},
     "output_type": "display_data"
    }
   ],
   "source": [
    "#оставляем топ 3000, остальные переименуем в 'other_url'\n",
    "exists_columns = np.load('exists_columns.npy',allow_pickle=True)\n",
    "data.loc[~data['url_host'].isin(exists_columns),'url_host'] = 'other_url'\n",
    "exists_columns = np.append(exists_columns,'other_url')\n",
    "display(data.head())\n",
    "display(data.info())"
   ],
   "metadata": {
    "collapsed": false
   }
  },
  {
   "cell_type": "code",
   "execution_count": 6,
   "outputs": [
    {
     "data": {
      "text/plain": "                       url_host  fraction\nuser_id                                  \n0                 ad.adriver.ru  0.005181\n0                    ad.mail.ru  0.031088\n0                  ads.adfox.ru  0.025907\n0        ads.betweendigital.com  0.010363\n0        avatars.mds.yandex.net  0.046632",
      "text/html": "<div>\n<style scoped>\n    .dataframe tbody tr th:only-of-type {\n        vertical-align: middle;\n    }\n\n    .dataframe tbody tr th {\n        vertical-align: top;\n    }\n\n    .dataframe thead th {\n        text-align: right;\n    }\n</style>\n<table border=\"1\" class=\"dataframe\">\n  <thead>\n    <tr style=\"text-align: right;\">\n      <th></th>\n      <th>url_host</th>\n      <th>fraction</th>\n    </tr>\n    <tr>\n      <th>user_id</th>\n      <th></th>\n      <th></th>\n    </tr>\n  </thead>\n  <tbody>\n    <tr>\n      <th>0</th>\n      <td>ad.adriver.ru</td>\n      <td>0.005181</td>\n    </tr>\n    <tr>\n      <th>0</th>\n      <td>ad.mail.ru</td>\n      <td>0.031088</td>\n    </tr>\n    <tr>\n      <th>0</th>\n      <td>ads.adfox.ru</td>\n      <td>0.025907</td>\n    </tr>\n    <tr>\n      <th>0</th>\n      <td>ads.betweendigital.com</td>\n      <td>0.010363</td>\n    </tr>\n    <tr>\n      <th>0</th>\n      <td>avatars.mds.yandex.net</td>\n      <td>0.046632</td>\n    </tr>\n  </tbody>\n</table>\n</div>"
     },
     "metadata": {},
     "output_type": "display_data"
    },
    {
     "name": "stdout",
     "output_type": "stream",
     "text": [
      "<class 'pandas.core.frame.DataFrame'>\n",
      "Int64Index: 28995021 entries, 0 to 415316\n",
      "Data columns (total 2 columns):\n",
      " #   Column    Dtype  \n",
      "---  ------    -----  \n",
      " 0   url_host  object \n",
      " 1   fraction  float64\n",
      "dtypes: float64(1), object(1)\n",
      "memory usage: 663.6+ MB\n"
     ]
    },
    {
     "data": {
      "text/plain": "None"
     },
     "metadata": {},
     "output_type": "display_data"
    }
   ],
   "source": [
    "df = data.groupby(['user_id','url_host'],group_keys=False)['request_cnt'].sum().reset_index()\n",
    "del data\n",
    "df = df.merge(data_sum[['request_cnt_sum','user_id']], on = 'user_id', how = 'inner')\n",
    "del data_sum\n",
    "df = df.set_index('user_id')\n",
    "df['fraction'] = df['request_cnt']/df['request_cnt_sum']\n",
    "df = df.drop(['request_cnt','request_cnt_sum'],axis=1)\n",
    "display(df.head())\n",
    "display(df.info())"
   ],
   "metadata": {
    "collapsed": false
   }
  },
  {
   "cell_type": "code",
   "execution_count": 7,
   "outputs": [
    {
     "name": "stdout",
     "output_type": "stream",
     "text": [
      "100.0 %\n"
     ]
    },
    {
     "data": {
      "text/plain": "   user_id  googleads.g.doubleclick.net  yandex.ru  i.ytimg.com    vk.com  \\\n0        0                     0.196891   0.031088     0.025907  0.041451   \n1        1                     0.072588   0.112703     0.040115  0.023878   \n2        2                     0.092457   0.046229     0.126521  0.141119   \n3        3                     0.021818   0.061818     0.007273  0.178182   \n4        4                     0.061776   0.030888     0.048906  0.083655   \n\n   avatars.mds.yandex.net  ad.mail.ru  yastatic.net  apple.com  instagram.com  \\\n0                0.046632    0.031088      0.051813        NaN            NaN   \n1                0.104107    0.034384      0.081184        NaN            NaN   \n2                0.072993    0.038929      0.046229        NaN            NaN   \n3                0.094545    0.080000      0.069091        NaN            NaN   \n4                0.046332    0.061776      0.045045        NaN       0.003861   \n\n   ...  psy-magic.org  megapteka-ru.turbopages.org  127.0.0.1  bukvaprava.ru  \\\n0  ...            NaN                          NaN        NaN            NaN   \n1  ...            NaN                          NaN        NaN            NaN   \n2  ...            NaN                          NaN        NaN            NaN   \n3  ...            NaN                          NaN        NaN            NaN   \n4  ...            NaN                          NaN        NaN            NaN   \n\n   belnovosti-by.turbopages.org  ngs24-ru.turbopages.org  forum.mfd.ru  \\\n0                           NaN                      NaN           NaN   \n1                           NaN                      NaN           NaN   \n2                           NaN                      NaN           NaN   \n3                           NaN                      NaN           NaN   \n4                           NaN                      NaN           NaN   \n\n   yomed.ru  7info.ru  other_url  \n0       NaN       NaN   0.031088  \n1       NaN       NaN   0.013372  \n2       NaN       NaN   0.002433  \n3       NaN       NaN   0.010909  \n4       NaN       NaN   0.011583  \n\n[5 rows x 3002 columns]",
      "text/html": "<div>\n<style scoped>\n    .dataframe tbody tr th:only-of-type {\n        vertical-align: middle;\n    }\n\n    .dataframe tbody tr th {\n        vertical-align: top;\n    }\n\n    .dataframe thead th {\n        text-align: right;\n    }\n</style>\n<table border=\"1\" class=\"dataframe\">\n  <thead>\n    <tr style=\"text-align: right;\">\n      <th></th>\n      <th>user_id</th>\n      <th>googleads.g.doubleclick.net</th>\n      <th>yandex.ru</th>\n      <th>i.ytimg.com</th>\n      <th>vk.com</th>\n      <th>avatars.mds.yandex.net</th>\n      <th>ad.mail.ru</th>\n      <th>yastatic.net</th>\n      <th>apple.com</th>\n      <th>instagram.com</th>\n      <th>...</th>\n      <th>psy-magic.org</th>\n      <th>megapteka-ru.turbopages.org</th>\n      <th>127.0.0.1</th>\n      <th>bukvaprava.ru</th>\n      <th>belnovosti-by.turbopages.org</th>\n      <th>ngs24-ru.turbopages.org</th>\n      <th>forum.mfd.ru</th>\n      <th>yomed.ru</th>\n      <th>7info.ru</th>\n      <th>other_url</th>\n    </tr>\n  </thead>\n  <tbody>\n    <tr>\n      <th>0</th>\n      <td>0</td>\n      <td>0.196891</td>\n      <td>0.031088</td>\n      <td>0.025907</td>\n      <td>0.041451</td>\n      <td>0.046632</td>\n      <td>0.031088</td>\n      <td>0.051813</td>\n      <td>NaN</td>\n      <td>NaN</td>\n      <td>...</td>\n      <td>NaN</td>\n      <td>NaN</td>\n      <td>NaN</td>\n      <td>NaN</td>\n      <td>NaN</td>\n      <td>NaN</td>\n      <td>NaN</td>\n      <td>NaN</td>\n      <td>NaN</td>\n      <td>0.031088</td>\n    </tr>\n    <tr>\n      <th>1</th>\n      <td>1</td>\n      <td>0.072588</td>\n      <td>0.112703</td>\n      <td>0.040115</td>\n      <td>0.023878</td>\n      <td>0.104107</td>\n      <td>0.034384</td>\n      <td>0.081184</td>\n      <td>NaN</td>\n      <td>NaN</td>\n      <td>...</td>\n      <td>NaN</td>\n      <td>NaN</td>\n      <td>NaN</td>\n      <td>NaN</td>\n      <td>NaN</td>\n      <td>NaN</td>\n      <td>NaN</td>\n      <td>NaN</td>\n      <td>NaN</td>\n      <td>0.013372</td>\n    </tr>\n    <tr>\n      <th>2</th>\n      <td>2</td>\n      <td>0.092457</td>\n      <td>0.046229</td>\n      <td>0.126521</td>\n      <td>0.141119</td>\n      <td>0.072993</td>\n      <td>0.038929</td>\n      <td>0.046229</td>\n      <td>NaN</td>\n      <td>NaN</td>\n      <td>...</td>\n      <td>NaN</td>\n      <td>NaN</td>\n      <td>NaN</td>\n      <td>NaN</td>\n      <td>NaN</td>\n      <td>NaN</td>\n      <td>NaN</td>\n      <td>NaN</td>\n      <td>NaN</td>\n      <td>0.002433</td>\n    </tr>\n    <tr>\n      <th>3</th>\n      <td>3</td>\n      <td>0.021818</td>\n      <td>0.061818</td>\n      <td>0.007273</td>\n      <td>0.178182</td>\n      <td>0.094545</td>\n      <td>0.080000</td>\n      <td>0.069091</td>\n      <td>NaN</td>\n      <td>NaN</td>\n      <td>...</td>\n      <td>NaN</td>\n      <td>NaN</td>\n      <td>NaN</td>\n      <td>NaN</td>\n      <td>NaN</td>\n      <td>NaN</td>\n      <td>NaN</td>\n      <td>NaN</td>\n      <td>NaN</td>\n      <td>0.010909</td>\n    </tr>\n    <tr>\n      <th>4</th>\n      <td>4</td>\n      <td>0.061776</td>\n      <td>0.030888</td>\n      <td>0.048906</td>\n      <td>0.083655</td>\n      <td>0.046332</td>\n      <td>0.061776</td>\n      <td>0.045045</td>\n      <td>NaN</td>\n      <td>0.003861</td>\n      <td>...</td>\n      <td>NaN</td>\n      <td>NaN</td>\n      <td>NaN</td>\n      <td>NaN</td>\n      <td>NaN</td>\n      <td>NaN</td>\n      <td>NaN</td>\n      <td>NaN</td>\n      <td>NaN</td>\n      <td>0.011583</td>\n    </tr>\n  </tbody>\n</table>\n<p>5 rows × 3002 columns</p>\n</div>"
     },
     "metadata": {},
     "output_type": "display_data"
    },
    {
     "name": "stdout",
     "output_type": "stream",
     "text": [
      "<class 'pandas.core.frame.DataFrame'>\n",
      "RangeIndex: 415317 entries, 0 to 415316\n",
      "Columns: 3002 entries, user_id to other_url\n",
      "dtypes: float32(3001), int64(1)\n",
      "memory usage: 4.6 GB\n"
     ]
    },
    {
     "data": {
      "text/plain": "None"
     },
     "metadata": {},
     "output_type": "display_data"
    },
    {
     "name": "stdout",
     "output_type": "stream",
     "text": [
      "CPU times: total: 1h 32min 56s\n",
      "Wall time: 1h 39min 34s\n"
     ]
    }
   ],
   "source": [
    "%%time\n",
    "frac_df = pd.DataFrame()\n",
    "frac_df['user_id'] = df.index.drop_duplicates()\n",
    "frac_df = pd.concat([frac_df,pd.DataFrame(0,index=df.index.drop_duplicates(),columns=exists_columns)],axis=1)\n",
    "\n",
    "prog_bar=1\n",
    "for column in exists_columns:\n",
    "    clear_output(wait=True)\n",
    "    frac_df.loc[:,column] = df.loc[df['url_host'] == column,'fraction']\n",
    "    frac_df[column] = frac_df[column].astype('float32')\n",
    "    print(round(prog_bar/len(exists_columns)*100,1),'%')\n",
    "    prog_bar += 1\n",
    "\n",
    "display(frac_df.head())\n",
    "display(frac_df.info())"
   ],
   "metadata": {
    "collapsed": false
   }
  },
  {
   "cell_type": "code",
   "execution_count": 10,
   "outputs": [
    {
     "data": {
      "text/plain": "    user_id  googleads.g.doubleclick.net  yandex.ru  i.ytimg.com    vk.com  \\\n0         0                     0.196891   0.031088     0.025907  0.041451   \n1         1                     0.072588   0.112703     0.040115  0.023878   \n2         2                     0.092457   0.046229     0.126521  0.141119   \n3         3                     0.021818   0.061818     0.007273  0.178182   \n4         4                     0.061776   0.030888     0.048906  0.083655   \n5         5                     0.046949   0.044001     0.025176  0.036743   \n6         6                     0.042892   0.066176     0.047794  0.148284   \n7         7                     0.115747   0.220727     0.078062  0.113055   \n8         8                     0.083700   0.027313     0.057269  0.080176   \n9         9                     0.134409   0.003584     0.003584  0.082437   \n10       10                     0.114057   0.075337     0.012205  0.117003   \n11       11                     0.070000   0.268889     0.047778  0.008889   \n12       12                     0.093264   0.126345     0.110801  0.062575   \n13       13                     0.402077   0.154889     0.190943  0.002596   \n14       14                     0.158196   0.246506     0.083545  0.133736   \n15       15                     0.132172   0.182377     0.096311  0.011270   \n16       16                     0.165678   0.229735     0.101226  0.002372   \n17       17                     0.077835   0.070103     0.013918  0.210309   \n18       18                     0.085128   0.133846     0.017436  0.018974   \n19       19                     0.078788   0.024242     0.010606  0.034848   \n20       20                     0.022222   0.061111     0.005556  0.091667   \n21       21                     0.034031   0.081926     0.004285  0.028233   \n22       22                     0.061818   0.060000     0.050909  0.120909   \n23       23                     0.097288   0.043042     0.082547  0.085495   \n24       24                     0.149227   0.275023     0.129663  0.017288   \n25       25                     0.111111   0.033333     0.122222  0.119444   \n26       26                     0.069638   0.049443     0.092618  0.022981   \n27       27                     0.138694   0.060312     0.123786  0.103682   \n28       28                     0.063053   0.137639     0.095732  0.178008   \n29       29                     0.037753   0.046041     0.014273  0.035451   \n30       30                     0.033161   0.106736     0.046632  0.045596   \n31       31                     0.090299   0.232090     0.142537  0.128731   \n32       32                     0.005331   0.372430     0.021325  0.048743   \n33       33                     0.090985   0.233723     0.045910  0.081803   \n34       34                     0.066341   0.064788     0.041713  0.060794   \n35       35                     0.058142   0.066250     0.032662  0.023628   \n36       36                     0.061905   0.131429     0.005714  0.025714   \n37       37                     0.041363   0.018248     0.007908  0.063869   \n38       38                     0.041208   0.052317     0.020794  0.043202   \n39       39                     0.044184   0.004909     0.010952  0.065710   \n40       40                     0.042394   0.019950     0.019327  0.056733   \n41       41                     0.023810   0.047619     0.000000  0.357143   \n42       42                     0.052038   0.038124     0.010079  0.041411   \n43       43                     0.051592   0.040844     0.038242  0.043842   \n44       44                     0.072144   0.120908     0.060788  0.120908   \n45       45                     0.155534   0.456850     0.055095  0.007801   \n46       46                     0.033333   0.033333     0.033333  0.033333   \n47       47                     0.214286   0.071429     0.071429  0.000000   \n48       48                     0.075789   0.027368     0.037895  0.107368   \n49       49                     0.054530   0.035235     0.033138  0.049497   \n\n    avatars.mds.yandex.net  ad.mail.ru  yastatic.net  apple.com  \\\n0                 0.046632    0.031088      0.051813   0.000000   \n1                 0.104107    0.034384      0.081184   0.000000   \n2                 0.072993    0.038929      0.046229   0.000000   \n3                 0.094545    0.080000      0.069091   0.000000   \n4                 0.046332    0.061776      0.045045   0.000000   \n5                 0.059651    0.017691      0.053073   0.117714   \n6                 0.030637    0.120098      0.026961   0.000000   \n7                 0.061911    0.001346      0.082100   0.000000   \n8                 0.051101    0.041410      0.021145   0.096916   \n9                 0.032258    0.096774      0.016129   0.093190   \n10                0.071128    0.063131      0.047559   0.000000   \n11                0.074444    0.014444      0.086667   0.000000   \n12                0.041052    0.059386      0.080112   0.000000   \n13                0.049611    0.003461      0.098933   0.000000   \n14                0.049238    0.028907      0.065756   0.000000   \n15                0.070697    0.043033      0.127049   0.000000   \n16                0.109134    0.015421      0.028865   0.000000   \n17                0.069588    0.080928      0.049485   0.000000   \n18                0.095385    0.022051      0.080000   0.000000   \n19                0.040909    0.028788      0.027273   0.160606   \n20                0.058333    0.047222      0.055556   0.175000   \n21                0.081422    0.011848      0.072851   0.131586   \n22                0.036364    0.042727      0.037273   0.000000   \n23                0.038325    0.025354      0.033608   0.000000   \n24                0.069154    0.012966      0.075523   0.000000   \n25                0.022222    0.072222      0.030556   0.000000   \n26                0.042479    0.034123      0.052228   0.000000   \n27                0.060538    0.121753      0.052632   0.000000   \n28                0.032680    0.117647      0.010765   0.000000   \n29                0.062615    0.027624      0.040055   0.102210   \n30                0.024870    0.038342      0.041451   0.000000   \n31                0.003731    0.012313      0.022015   0.000000   \n32                0.054836    0.013709      0.091394   0.000000   \n33                0.068447    0.101836      0.059265   0.000000   \n34                0.053250    0.068116      0.046150   0.000000   \n35                0.094742    0.032662      0.069956   0.067408   \n36                0.115238    0.025714      0.107619   0.000000   \n37                0.052920    0.014599      0.035888   0.135036   \n38                0.051652    0.030763      0.050228   0.067224   \n39                0.016239    0.055136      0.013595   0.112160   \n40                0.025561    0.019327      0.043017   0.145885   \n41                0.023810    0.226190      0.011905   0.000000   \n42                0.071648    0.016652      0.072305   0.092901   \n43                0.040222    0.029982      0.036432   0.039486   \n44                0.043420    0.062124      0.067468   0.000000   \n45                0.021453    0.045344      0.022428   0.000000   \n46                0.033333    0.133333      0.033333   0.000000   \n47                0.071429    0.000000      0.071429   0.000000   \n48                0.029474    0.073684      0.027368   0.014737   \n49                0.078440    0.012164      0.040688   0.285654   \n\n    instagram.com  ...  psy-magic.org  megapteka-ru.turbopages.org  127.0.0.1  \\\n0        0.000000  ...            0.0                          0.0        0.0   \n1        0.000000  ...            0.0                          0.0        0.0   \n2        0.000000  ...            0.0                          0.0        0.0   \n3        0.000000  ...            0.0                          0.0        0.0   \n4        0.003861  ...            0.0                          0.0        0.0   \n5        0.100249  ...            0.0                          0.0        0.0   \n6        0.001225  ...            0.0                          0.0        0.0   \n7        0.000000  ...            0.0                          0.0        0.0   \n8        0.008811  ...            0.0                          0.0        0.0   \n9        0.112903  ...            0.0                          0.0        0.0   \n10       0.000421  ...            0.0                          0.0        0.0   \n11       0.000000  ...            0.0                          0.0        0.0   \n12       0.000000  ...            0.0                          0.0        0.0   \n13       0.000288  ...            0.0                          0.0        0.0   \n14       0.000635  ...            0.0                          0.0        0.0   \n15       0.000000  ...            0.0                          0.0        0.0   \n16       0.000000  ...            0.0                          0.0        0.0   \n17       0.000515  ...            0.0                          0.0        0.0   \n18       0.000000  ...            0.0                          0.0        0.0   \n19       0.218182  ...            0.0                          0.0        0.0   \n20       0.000000  ...            0.0                          0.0        0.0   \n21       0.013864  ...            0.0                          0.0        0.0   \n22       0.000000  ...            0.0                          0.0        0.0   \n23       0.000000  ...            0.0                          0.0        0.0   \n24       0.000000  ...            0.0                          0.0        0.0   \n25       0.000000  ...            0.0                          0.0        0.0   \n26       0.000000  ...            0.0                          0.0        0.0   \n27       0.000226  ...            0.0                          0.0        0.0   \n28       0.000384  ...            0.0                          0.0        0.0   \n29       0.105433  ...            0.0                          0.0        0.0   \n30       0.002073  ...            0.0                          0.0        0.0   \n31       0.000000  ...            0.0                          0.0        0.0   \n32       0.000000  ...            0.0                          0.0        0.0   \n33       0.000000  ...            0.0                          0.0        0.0   \n34       0.001775  ...            0.0                          0.0        0.0   \n35       0.034746  ...            0.0                          0.0        0.0   \n36       0.000952  ...            0.0                          0.0        0.0   \n37       0.171533  ...            0.0                          0.0        0.0   \n38       0.052886  ...            0.0                          0.0        0.0   \n39       0.085725  ...            0.0                          0.0        0.0   \n40       0.029302  ...            0.0                          0.0        0.0   \n41       0.000000  ...            0.0                          0.0        0.0   \n42       0.007888  ...            0.0                          0.0        0.0   \n43       0.003281  ...            0.0                          0.0        0.0   \n44       0.000000  ...            0.0                          0.0        0.0   \n45       0.000488  ...            0.0                          0.0        0.0   \n46       0.000000  ...            0.0                          0.0        0.0   \n47       0.000000  ...            0.0                          0.0        0.0   \n48       0.149474  ...            0.0                          0.0        0.0   \n49       0.010487  ...            0.0                          0.0        0.0   \n\n    bukvaprava.ru  belnovosti-by.turbopages.org  ngs24-ru.turbopages.org  \\\n0             0.0                           0.0                      0.0   \n1             0.0                           0.0                      0.0   \n2             0.0                           0.0                      0.0   \n3             0.0                           0.0                      0.0   \n4             0.0                           0.0                      0.0   \n5             0.0                           0.0                      0.0   \n6             0.0                           0.0                      0.0   \n7             0.0                           0.0                      0.0   \n8             0.0                           0.0                      0.0   \n9             0.0                           0.0                      0.0   \n10            0.0                           0.0                      0.0   \n11            0.0                           0.0                      0.0   \n12            0.0                           0.0                      0.0   \n13            0.0                           0.0                      0.0   \n14            0.0                           0.0                      0.0   \n15            0.0                           0.0                      0.0   \n16            0.0                           0.0                      0.0   \n17            0.0                           0.0                      0.0   \n18            0.0                           0.0                      0.0   \n19            0.0                           0.0                      0.0   \n20            0.0                           0.0                      0.0   \n21            0.0                           0.0                      0.0   \n22            0.0                           0.0                      0.0   \n23            0.0                           0.0                      0.0   \n24            0.0                           0.0                      0.0   \n25            0.0                           0.0                      0.0   \n26            0.0                           0.0                      0.0   \n27            0.0                           0.0                      0.0   \n28            0.0                           0.0                      0.0   \n29            0.0                           0.0                      0.0   \n30            0.0                           0.0                      0.0   \n31            0.0                           0.0                      0.0   \n32            0.0                           0.0                      0.0   \n33            0.0                           0.0                      0.0   \n34            0.0                           0.0                      0.0   \n35            0.0                           0.0                      0.0   \n36            0.0                           0.0                      0.0   \n37            0.0                           0.0                      0.0   \n38            0.0                           0.0                      0.0   \n39            0.0                           0.0                      0.0   \n40            0.0                           0.0                      0.0   \n41            0.0                           0.0                      0.0   \n42            0.0                           0.0                      0.0   \n43            0.0                           0.0                      0.0   \n44            0.0                           0.0                      0.0   \n45            0.0                           0.0                      0.0   \n46            0.0                           0.0                      0.0   \n47            0.0                           0.0                      0.0   \n48            0.0                           0.0                      0.0   \n49            0.0                           0.0                      0.0   \n\n    forum.mfd.ru  yomed.ru  7info.ru  other_url  \n0            0.0  0.000000       0.0   0.031088  \n1            0.0  0.000000       0.0   0.013372  \n2            0.0  0.000000       0.0   0.002433  \n3            0.0  0.000000       0.0   0.010909  \n4            0.0  0.000000       0.0   0.011583  \n5            0.0  0.000000       0.0   0.009299  \n6            0.0  0.000000       0.0   0.014706  \n7            0.0  0.000000       0.0   0.000000  \n8            0.0  0.000000       0.0   0.010573  \n9            0.0  0.000000       0.0   0.001792  \n10           0.0  0.000000       0.0   0.007576  \n11           0.0  0.000000       0.0   0.002222  \n12           0.0  0.000000       0.0   0.003587  \n13           0.0  0.000000       0.0   0.002884  \n14           0.0  0.000000       0.0   0.001906  \n15           0.0  0.000000       0.0   0.016393  \n16           0.0  0.000000       0.0   0.001186  \n17           0.0  0.000000       0.0   0.011856  \n18           0.0  0.000000       0.0   0.008205  \n19           0.0  0.000000       0.0   0.001515  \n20           0.0  0.000000       0.0   0.005556  \n21           0.0  0.000000       0.0   0.036047  \n22           0.0  0.000000       0.0   0.020909  \n23           0.0  0.001179       0.0   0.045401  \n24           0.0  0.000000       0.0   0.002730  \n25           0.0  0.000000       0.0   0.000000  \n26           0.0  0.000000       0.0   0.008357  \n27           0.0  0.000000       0.0   0.007228  \n28           0.0  0.000000       0.0   0.004998  \n29           0.0  0.000000       0.0   0.014273  \n30           0.0  0.000000       0.0   0.000000  \n31           0.0  0.000000       0.0   0.000000  \n32           0.0  0.000000       0.0   0.008378  \n33           0.0  0.000000       0.0   0.022538  \n34           0.0  0.000000       0.0   0.006656  \n35           0.0  0.000000       0.0   0.010192  \n36           0.0  0.000000       0.0   0.025714  \n37           0.0  0.000000       0.0   0.006691  \n38           0.0  0.000000       0.0   0.022978  \n39           0.0  0.000000       0.0   0.010196  \n40           0.0  0.000000       0.0   0.013092  \n41           0.0  0.000000       0.0   0.000000  \n42           0.0  0.000000       0.0   0.006683  \n43           0.0  0.000000       0.0   0.031736  \n44           0.0  0.000000       0.0   0.005344  \n45           0.0  0.000000       0.0   0.004388  \n46           0.0  0.000000       0.0   0.033333  \n47           0.0  0.000000       0.0   0.000000  \n48           0.0  0.000000       0.0   0.040000  \n49           0.0  0.000000       0.0   0.024748  \n\n[50 rows x 3002 columns]",
      "text/html": "<div>\n<style scoped>\n    .dataframe tbody tr th:only-of-type {\n        vertical-align: middle;\n    }\n\n    .dataframe tbody tr th {\n        vertical-align: top;\n    }\n\n    .dataframe thead th {\n        text-align: right;\n    }\n</style>\n<table border=\"1\" class=\"dataframe\">\n  <thead>\n    <tr style=\"text-align: right;\">\n      <th></th>\n      <th>user_id</th>\n      <th>googleads.g.doubleclick.net</th>\n      <th>yandex.ru</th>\n      <th>i.ytimg.com</th>\n      <th>vk.com</th>\n      <th>avatars.mds.yandex.net</th>\n      <th>ad.mail.ru</th>\n      <th>yastatic.net</th>\n      <th>apple.com</th>\n      <th>instagram.com</th>\n      <th>...</th>\n      <th>psy-magic.org</th>\n      <th>megapteka-ru.turbopages.org</th>\n      <th>127.0.0.1</th>\n      <th>bukvaprava.ru</th>\n      <th>belnovosti-by.turbopages.org</th>\n      <th>ngs24-ru.turbopages.org</th>\n      <th>forum.mfd.ru</th>\n      <th>yomed.ru</th>\n      <th>7info.ru</th>\n      <th>other_url</th>\n    </tr>\n  </thead>\n  <tbody>\n    <tr>\n      <th>0</th>\n      <td>0</td>\n      <td>0.196891</td>\n      <td>0.031088</td>\n      <td>0.025907</td>\n      <td>0.041451</td>\n      <td>0.046632</td>\n      <td>0.031088</td>\n      <td>0.051813</td>\n      <td>0.000000</td>\n      <td>0.000000</td>\n      <td>...</td>\n      <td>0.0</td>\n      <td>0.0</td>\n      <td>0.0</td>\n      <td>0.0</td>\n      <td>0.0</td>\n      <td>0.0</td>\n      <td>0.0</td>\n      <td>0.000000</td>\n      <td>0.0</td>\n      <td>0.031088</td>\n    </tr>\n    <tr>\n      <th>1</th>\n      <td>1</td>\n      <td>0.072588</td>\n      <td>0.112703</td>\n      <td>0.040115</td>\n      <td>0.023878</td>\n      <td>0.104107</td>\n      <td>0.034384</td>\n      <td>0.081184</td>\n      <td>0.000000</td>\n      <td>0.000000</td>\n      <td>...</td>\n      <td>0.0</td>\n      <td>0.0</td>\n      <td>0.0</td>\n      <td>0.0</td>\n      <td>0.0</td>\n      <td>0.0</td>\n      <td>0.0</td>\n      <td>0.000000</td>\n      <td>0.0</td>\n      <td>0.013372</td>\n    </tr>\n    <tr>\n      <th>2</th>\n      <td>2</td>\n      <td>0.092457</td>\n      <td>0.046229</td>\n      <td>0.126521</td>\n      <td>0.141119</td>\n      <td>0.072993</td>\n      <td>0.038929</td>\n      <td>0.046229</td>\n      <td>0.000000</td>\n      <td>0.000000</td>\n      <td>...</td>\n      <td>0.0</td>\n      <td>0.0</td>\n      <td>0.0</td>\n      <td>0.0</td>\n      <td>0.0</td>\n      <td>0.0</td>\n      <td>0.0</td>\n      <td>0.000000</td>\n      <td>0.0</td>\n      <td>0.002433</td>\n    </tr>\n    <tr>\n      <th>3</th>\n      <td>3</td>\n      <td>0.021818</td>\n      <td>0.061818</td>\n      <td>0.007273</td>\n      <td>0.178182</td>\n      <td>0.094545</td>\n      <td>0.080000</td>\n      <td>0.069091</td>\n      <td>0.000000</td>\n      <td>0.000000</td>\n      <td>...</td>\n      <td>0.0</td>\n      <td>0.0</td>\n      <td>0.0</td>\n      <td>0.0</td>\n      <td>0.0</td>\n      <td>0.0</td>\n      <td>0.0</td>\n      <td>0.000000</td>\n      <td>0.0</td>\n      <td>0.010909</td>\n    </tr>\n    <tr>\n      <th>4</th>\n      <td>4</td>\n      <td>0.061776</td>\n      <td>0.030888</td>\n      <td>0.048906</td>\n      <td>0.083655</td>\n      <td>0.046332</td>\n      <td>0.061776</td>\n      <td>0.045045</td>\n      <td>0.000000</td>\n      <td>0.003861</td>\n      <td>...</td>\n      <td>0.0</td>\n      <td>0.0</td>\n      <td>0.0</td>\n      <td>0.0</td>\n      <td>0.0</td>\n      <td>0.0</td>\n      <td>0.0</td>\n      <td>0.000000</td>\n      <td>0.0</td>\n      <td>0.011583</td>\n    </tr>\n    <tr>\n      <th>5</th>\n      <td>5</td>\n      <td>0.046949</td>\n      <td>0.044001</td>\n      <td>0.025176</td>\n      <td>0.036743</td>\n      <td>0.059651</td>\n      <td>0.017691</td>\n      <td>0.053073</td>\n      <td>0.117714</td>\n      <td>0.100249</td>\n      <td>...</td>\n      <td>0.0</td>\n      <td>0.0</td>\n      <td>0.0</td>\n      <td>0.0</td>\n      <td>0.0</td>\n      <td>0.0</td>\n      <td>0.0</td>\n      <td>0.000000</td>\n      <td>0.0</td>\n      <td>0.009299</td>\n    </tr>\n    <tr>\n      <th>6</th>\n      <td>6</td>\n      <td>0.042892</td>\n      <td>0.066176</td>\n      <td>0.047794</td>\n      <td>0.148284</td>\n      <td>0.030637</td>\n      <td>0.120098</td>\n      <td>0.026961</td>\n      <td>0.000000</td>\n      <td>0.001225</td>\n      <td>...</td>\n      <td>0.0</td>\n      <td>0.0</td>\n      <td>0.0</td>\n      <td>0.0</td>\n      <td>0.0</td>\n      <td>0.0</td>\n      <td>0.0</td>\n      <td>0.000000</td>\n      <td>0.0</td>\n      <td>0.014706</td>\n    </tr>\n    <tr>\n      <th>7</th>\n      <td>7</td>\n      <td>0.115747</td>\n      <td>0.220727</td>\n      <td>0.078062</td>\n      <td>0.113055</td>\n      <td>0.061911</td>\n      <td>0.001346</td>\n      <td>0.082100</td>\n      <td>0.000000</td>\n      <td>0.000000</td>\n      <td>...</td>\n      <td>0.0</td>\n      <td>0.0</td>\n      <td>0.0</td>\n      <td>0.0</td>\n      <td>0.0</td>\n      <td>0.0</td>\n      <td>0.0</td>\n      <td>0.000000</td>\n      <td>0.0</td>\n      <td>0.000000</td>\n    </tr>\n    <tr>\n      <th>8</th>\n      <td>8</td>\n      <td>0.083700</td>\n      <td>0.027313</td>\n      <td>0.057269</td>\n      <td>0.080176</td>\n      <td>0.051101</td>\n      <td>0.041410</td>\n      <td>0.021145</td>\n      <td>0.096916</td>\n      <td>0.008811</td>\n      <td>...</td>\n      <td>0.0</td>\n      <td>0.0</td>\n      <td>0.0</td>\n      <td>0.0</td>\n      <td>0.0</td>\n      <td>0.0</td>\n      <td>0.0</td>\n      <td>0.000000</td>\n      <td>0.0</td>\n      <td>0.010573</td>\n    </tr>\n    <tr>\n      <th>9</th>\n      <td>9</td>\n      <td>0.134409</td>\n      <td>0.003584</td>\n      <td>0.003584</td>\n      <td>0.082437</td>\n      <td>0.032258</td>\n      <td>0.096774</td>\n      <td>0.016129</td>\n      <td>0.093190</td>\n      <td>0.112903</td>\n      <td>...</td>\n      <td>0.0</td>\n      <td>0.0</td>\n      <td>0.0</td>\n      <td>0.0</td>\n      <td>0.0</td>\n      <td>0.0</td>\n      <td>0.0</td>\n      <td>0.000000</td>\n      <td>0.0</td>\n      <td>0.001792</td>\n    </tr>\n    <tr>\n      <th>10</th>\n      <td>10</td>\n      <td>0.114057</td>\n      <td>0.075337</td>\n      <td>0.012205</td>\n      <td>0.117003</td>\n      <td>0.071128</td>\n      <td>0.063131</td>\n      <td>0.047559</td>\n      <td>0.000000</td>\n      <td>0.000421</td>\n      <td>...</td>\n      <td>0.0</td>\n      <td>0.0</td>\n      <td>0.0</td>\n      <td>0.0</td>\n      <td>0.0</td>\n      <td>0.0</td>\n      <td>0.0</td>\n      <td>0.000000</td>\n      <td>0.0</td>\n      <td>0.007576</td>\n    </tr>\n    <tr>\n      <th>11</th>\n      <td>11</td>\n      <td>0.070000</td>\n      <td>0.268889</td>\n      <td>0.047778</td>\n      <td>0.008889</td>\n      <td>0.074444</td>\n      <td>0.014444</td>\n      <td>0.086667</td>\n      <td>0.000000</td>\n      <td>0.000000</td>\n      <td>...</td>\n      <td>0.0</td>\n      <td>0.0</td>\n      <td>0.0</td>\n      <td>0.0</td>\n      <td>0.0</td>\n      <td>0.0</td>\n      <td>0.0</td>\n      <td>0.000000</td>\n      <td>0.0</td>\n      <td>0.002222</td>\n    </tr>\n    <tr>\n      <th>12</th>\n      <td>12</td>\n      <td>0.093264</td>\n      <td>0.126345</td>\n      <td>0.110801</td>\n      <td>0.062575</td>\n      <td>0.041052</td>\n      <td>0.059386</td>\n      <td>0.080112</td>\n      <td>0.000000</td>\n      <td>0.000000</td>\n      <td>...</td>\n      <td>0.0</td>\n      <td>0.0</td>\n      <td>0.0</td>\n      <td>0.0</td>\n      <td>0.0</td>\n      <td>0.0</td>\n      <td>0.0</td>\n      <td>0.000000</td>\n      <td>0.0</td>\n      <td>0.003587</td>\n    </tr>\n    <tr>\n      <th>13</th>\n      <td>13</td>\n      <td>0.402077</td>\n      <td>0.154889</td>\n      <td>0.190943</td>\n      <td>0.002596</td>\n      <td>0.049611</td>\n      <td>0.003461</td>\n      <td>0.098933</td>\n      <td>0.000000</td>\n      <td>0.000288</td>\n      <td>...</td>\n      <td>0.0</td>\n      <td>0.0</td>\n      <td>0.0</td>\n      <td>0.0</td>\n      <td>0.0</td>\n      <td>0.0</td>\n      <td>0.0</td>\n      <td>0.000000</td>\n      <td>0.0</td>\n      <td>0.002884</td>\n    </tr>\n    <tr>\n      <th>14</th>\n      <td>14</td>\n      <td>0.158196</td>\n      <td>0.246506</td>\n      <td>0.083545</td>\n      <td>0.133736</td>\n      <td>0.049238</td>\n      <td>0.028907</td>\n      <td>0.065756</td>\n      <td>0.000000</td>\n      <td>0.000635</td>\n      <td>...</td>\n      <td>0.0</td>\n      <td>0.0</td>\n      <td>0.0</td>\n      <td>0.0</td>\n      <td>0.0</td>\n      <td>0.0</td>\n      <td>0.0</td>\n      <td>0.000000</td>\n      <td>0.0</td>\n      <td>0.001906</td>\n    </tr>\n    <tr>\n      <th>15</th>\n      <td>15</td>\n      <td>0.132172</td>\n      <td>0.182377</td>\n      <td>0.096311</td>\n      <td>0.011270</td>\n      <td>0.070697</td>\n      <td>0.043033</td>\n      <td>0.127049</td>\n      <td>0.000000</td>\n      <td>0.000000</td>\n      <td>...</td>\n      <td>0.0</td>\n      <td>0.0</td>\n      <td>0.0</td>\n      <td>0.0</td>\n      <td>0.0</td>\n      <td>0.0</td>\n      <td>0.0</td>\n      <td>0.000000</td>\n      <td>0.0</td>\n      <td>0.016393</td>\n    </tr>\n    <tr>\n      <th>16</th>\n      <td>16</td>\n      <td>0.165678</td>\n      <td>0.229735</td>\n      <td>0.101226</td>\n      <td>0.002372</td>\n      <td>0.109134</td>\n      <td>0.015421</td>\n      <td>0.028865</td>\n      <td>0.000000</td>\n      <td>0.000000</td>\n      <td>...</td>\n      <td>0.0</td>\n      <td>0.0</td>\n      <td>0.0</td>\n      <td>0.0</td>\n      <td>0.0</td>\n      <td>0.0</td>\n      <td>0.0</td>\n      <td>0.000000</td>\n      <td>0.0</td>\n      <td>0.001186</td>\n    </tr>\n    <tr>\n      <th>17</th>\n      <td>17</td>\n      <td>0.077835</td>\n      <td>0.070103</td>\n      <td>0.013918</td>\n      <td>0.210309</td>\n      <td>0.069588</td>\n      <td>0.080928</td>\n      <td>0.049485</td>\n      <td>0.000000</td>\n      <td>0.000515</td>\n      <td>...</td>\n      <td>0.0</td>\n      <td>0.0</td>\n      <td>0.0</td>\n      <td>0.0</td>\n      <td>0.0</td>\n      <td>0.0</td>\n      <td>0.0</td>\n      <td>0.000000</td>\n      <td>0.0</td>\n      <td>0.011856</td>\n    </tr>\n    <tr>\n      <th>18</th>\n      <td>18</td>\n      <td>0.085128</td>\n      <td>0.133846</td>\n      <td>0.017436</td>\n      <td>0.018974</td>\n      <td>0.095385</td>\n      <td>0.022051</td>\n      <td>0.080000</td>\n      <td>0.000000</td>\n      <td>0.000000</td>\n      <td>...</td>\n      <td>0.0</td>\n      <td>0.0</td>\n      <td>0.0</td>\n      <td>0.0</td>\n      <td>0.0</td>\n      <td>0.0</td>\n      <td>0.0</td>\n      <td>0.000000</td>\n      <td>0.0</td>\n      <td>0.008205</td>\n    </tr>\n    <tr>\n      <th>19</th>\n      <td>19</td>\n      <td>0.078788</td>\n      <td>0.024242</td>\n      <td>0.010606</td>\n      <td>0.034848</td>\n      <td>0.040909</td>\n      <td>0.028788</td>\n      <td>0.027273</td>\n      <td>0.160606</td>\n      <td>0.218182</td>\n      <td>...</td>\n      <td>0.0</td>\n      <td>0.0</td>\n      <td>0.0</td>\n      <td>0.0</td>\n      <td>0.0</td>\n      <td>0.0</td>\n      <td>0.0</td>\n      <td>0.000000</td>\n      <td>0.0</td>\n      <td>0.001515</td>\n    </tr>\n    <tr>\n      <th>20</th>\n      <td>20</td>\n      <td>0.022222</td>\n      <td>0.061111</td>\n      <td>0.005556</td>\n      <td>0.091667</td>\n      <td>0.058333</td>\n      <td>0.047222</td>\n      <td>0.055556</td>\n      <td>0.175000</td>\n      <td>0.000000</td>\n      <td>...</td>\n      <td>0.0</td>\n      <td>0.0</td>\n      <td>0.0</td>\n      <td>0.0</td>\n      <td>0.0</td>\n      <td>0.0</td>\n      <td>0.0</td>\n      <td>0.000000</td>\n      <td>0.0</td>\n      <td>0.005556</td>\n    </tr>\n    <tr>\n      <th>21</th>\n      <td>21</td>\n      <td>0.034031</td>\n      <td>0.081926</td>\n      <td>0.004285</td>\n      <td>0.028233</td>\n      <td>0.081422</td>\n      <td>0.011848</td>\n      <td>0.072851</td>\n      <td>0.131586</td>\n      <td>0.013864</td>\n      <td>...</td>\n      <td>0.0</td>\n      <td>0.0</td>\n      <td>0.0</td>\n      <td>0.0</td>\n      <td>0.0</td>\n      <td>0.0</td>\n      <td>0.0</td>\n      <td>0.000000</td>\n      <td>0.0</td>\n      <td>0.036047</td>\n    </tr>\n    <tr>\n      <th>22</th>\n      <td>22</td>\n      <td>0.061818</td>\n      <td>0.060000</td>\n      <td>0.050909</td>\n      <td>0.120909</td>\n      <td>0.036364</td>\n      <td>0.042727</td>\n      <td>0.037273</td>\n      <td>0.000000</td>\n      <td>0.000000</td>\n      <td>...</td>\n      <td>0.0</td>\n      <td>0.0</td>\n      <td>0.0</td>\n      <td>0.0</td>\n      <td>0.0</td>\n      <td>0.0</td>\n      <td>0.0</td>\n      <td>0.000000</td>\n      <td>0.0</td>\n      <td>0.020909</td>\n    </tr>\n    <tr>\n      <th>23</th>\n      <td>23</td>\n      <td>0.097288</td>\n      <td>0.043042</td>\n      <td>0.082547</td>\n      <td>0.085495</td>\n      <td>0.038325</td>\n      <td>0.025354</td>\n      <td>0.033608</td>\n      <td>0.000000</td>\n      <td>0.000000</td>\n      <td>...</td>\n      <td>0.0</td>\n      <td>0.0</td>\n      <td>0.0</td>\n      <td>0.0</td>\n      <td>0.0</td>\n      <td>0.0</td>\n      <td>0.0</td>\n      <td>0.001179</td>\n      <td>0.0</td>\n      <td>0.045401</td>\n    </tr>\n    <tr>\n      <th>24</th>\n      <td>24</td>\n      <td>0.149227</td>\n      <td>0.275023</td>\n      <td>0.129663</td>\n      <td>0.017288</td>\n      <td>0.069154</td>\n      <td>0.012966</td>\n      <td>0.075523</td>\n      <td>0.000000</td>\n      <td>0.000000</td>\n      <td>...</td>\n      <td>0.0</td>\n      <td>0.0</td>\n      <td>0.0</td>\n      <td>0.0</td>\n      <td>0.0</td>\n      <td>0.0</td>\n      <td>0.0</td>\n      <td>0.000000</td>\n      <td>0.0</td>\n      <td>0.002730</td>\n    </tr>\n    <tr>\n      <th>25</th>\n      <td>25</td>\n      <td>0.111111</td>\n      <td>0.033333</td>\n      <td>0.122222</td>\n      <td>0.119444</td>\n      <td>0.022222</td>\n      <td>0.072222</td>\n      <td>0.030556</td>\n      <td>0.000000</td>\n      <td>0.000000</td>\n      <td>...</td>\n      <td>0.0</td>\n      <td>0.0</td>\n      <td>0.0</td>\n      <td>0.0</td>\n      <td>0.0</td>\n      <td>0.0</td>\n      <td>0.0</td>\n      <td>0.000000</td>\n      <td>0.0</td>\n      <td>0.000000</td>\n    </tr>\n    <tr>\n      <th>26</th>\n      <td>26</td>\n      <td>0.069638</td>\n      <td>0.049443</td>\n      <td>0.092618</td>\n      <td>0.022981</td>\n      <td>0.042479</td>\n      <td>0.034123</td>\n      <td>0.052228</td>\n      <td>0.000000</td>\n      <td>0.000000</td>\n      <td>...</td>\n      <td>0.0</td>\n      <td>0.0</td>\n      <td>0.0</td>\n      <td>0.0</td>\n      <td>0.0</td>\n      <td>0.0</td>\n      <td>0.0</td>\n      <td>0.000000</td>\n      <td>0.0</td>\n      <td>0.008357</td>\n    </tr>\n    <tr>\n      <th>27</th>\n      <td>27</td>\n      <td>0.138694</td>\n      <td>0.060312</td>\n      <td>0.123786</td>\n      <td>0.103682</td>\n      <td>0.060538</td>\n      <td>0.121753</td>\n      <td>0.052632</td>\n      <td>0.000000</td>\n      <td>0.000226</td>\n      <td>...</td>\n      <td>0.0</td>\n      <td>0.0</td>\n      <td>0.0</td>\n      <td>0.0</td>\n      <td>0.0</td>\n      <td>0.0</td>\n      <td>0.0</td>\n      <td>0.000000</td>\n      <td>0.0</td>\n      <td>0.007228</td>\n    </tr>\n    <tr>\n      <th>28</th>\n      <td>28</td>\n      <td>0.063053</td>\n      <td>0.137639</td>\n      <td>0.095732</td>\n      <td>0.178008</td>\n      <td>0.032680</td>\n      <td>0.117647</td>\n      <td>0.010765</td>\n      <td>0.000000</td>\n      <td>0.000384</td>\n      <td>...</td>\n      <td>0.0</td>\n      <td>0.0</td>\n      <td>0.0</td>\n      <td>0.0</td>\n      <td>0.0</td>\n      <td>0.0</td>\n      <td>0.0</td>\n      <td>0.000000</td>\n      <td>0.0</td>\n      <td>0.004998</td>\n    </tr>\n    <tr>\n      <th>29</th>\n      <td>29</td>\n      <td>0.037753</td>\n      <td>0.046041</td>\n      <td>0.014273</td>\n      <td>0.035451</td>\n      <td>0.062615</td>\n      <td>0.027624</td>\n      <td>0.040055</td>\n      <td>0.102210</td>\n      <td>0.105433</td>\n      <td>...</td>\n      <td>0.0</td>\n      <td>0.0</td>\n      <td>0.0</td>\n      <td>0.0</td>\n      <td>0.0</td>\n      <td>0.0</td>\n      <td>0.0</td>\n      <td>0.000000</td>\n      <td>0.0</td>\n      <td>0.014273</td>\n    </tr>\n    <tr>\n      <th>30</th>\n      <td>30</td>\n      <td>0.033161</td>\n      <td>0.106736</td>\n      <td>0.046632</td>\n      <td>0.045596</td>\n      <td>0.024870</td>\n      <td>0.038342</td>\n      <td>0.041451</td>\n      <td>0.000000</td>\n      <td>0.002073</td>\n      <td>...</td>\n      <td>0.0</td>\n      <td>0.0</td>\n      <td>0.0</td>\n      <td>0.0</td>\n      <td>0.0</td>\n      <td>0.0</td>\n      <td>0.0</td>\n      <td>0.000000</td>\n      <td>0.0</td>\n      <td>0.000000</td>\n    </tr>\n    <tr>\n      <th>31</th>\n      <td>31</td>\n      <td>0.090299</td>\n      <td>0.232090</td>\n      <td>0.142537</td>\n      <td>0.128731</td>\n      <td>0.003731</td>\n      <td>0.012313</td>\n      <td>0.022015</td>\n      <td>0.000000</td>\n      <td>0.000000</td>\n      <td>...</td>\n      <td>0.0</td>\n      <td>0.0</td>\n      <td>0.0</td>\n      <td>0.0</td>\n      <td>0.0</td>\n      <td>0.0</td>\n      <td>0.0</td>\n      <td>0.000000</td>\n      <td>0.0</td>\n      <td>0.000000</td>\n    </tr>\n    <tr>\n      <th>32</th>\n      <td>32</td>\n      <td>0.005331</td>\n      <td>0.372430</td>\n      <td>0.021325</td>\n      <td>0.048743</td>\n      <td>0.054836</td>\n      <td>0.013709</td>\n      <td>0.091394</td>\n      <td>0.000000</td>\n      <td>0.000000</td>\n      <td>...</td>\n      <td>0.0</td>\n      <td>0.0</td>\n      <td>0.0</td>\n      <td>0.0</td>\n      <td>0.0</td>\n      <td>0.0</td>\n      <td>0.0</td>\n      <td>0.000000</td>\n      <td>0.0</td>\n      <td>0.008378</td>\n    </tr>\n    <tr>\n      <th>33</th>\n      <td>33</td>\n      <td>0.090985</td>\n      <td>0.233723</td>\n      <td>0.045910</td>\n      <td>0.081803</td>\n      <td>0.068447</td>\n      <td>0.101836</td>\n      <td>0.059265</td>\n      <td>0.000000</td>\n      <td>0.000000</td>\n      <td>...</td>\n      <td>0.0</td>\n      <td>0.0</td>\n      <td>0.0</td>\n      <td>0.0</td>\n      <td>0.0</td>\n      <td>0.0</td>\n      <td>0.0</td>\n      <td>0.000000</td>\n      <td>0.0</td>\n      <td>0.022538</td>\n    </tr>\n    <tr>\n      <th>34</th>\n      <td>34</td>\n      <td>0.066341</td>\n      <td>0.064788</td>\n      <td>0.041713</td>\n      <td>0.060794</td>\n      <td>0.053250</td>\n      <td>0.068116</td>\n      <td>0.046150</td>\n      <td>0.000000</td>\n      <td>0.001775</td>\n      <td>...</td>\n      <td>0.0</td>\n      <td>0.0</td>\n      <td>0.0</td>\n      <td>0.0</td>\n      <td>0.0</td>\n      <td>0.0</td>\n      <td>0.0</td>\n      <td>0.000000</td>\n      <td>0.0</td>\n      <td>0.006656</td>\n    </tr>\n    <tr>\n      <th>35</th>\n      <td>35</td>\n      <td>0.058142</td>\n      <td>0.066250</td>\n      <td>0.032662</td>\n      <td>0.023628</td>\n      <td>0.094742</td>\n      <td>0.032662</td>\n      <td>0.069956</td>\n      <td>0.067408</td>\n      <td>0.034746</td>\n      <td>...</td>\n      <td>0.0</td>\n      <td>0.0</td>\n      <td>0.0</td>\n      <td>0.0</td>\n      <td>0.0</td>\n      <td>0.0</td>\n      <td>0.0</td>\n      <td>0.000000</td>\n      <td>0.0</td>\n      <td>0.010192</td>\n    </tr>\n    <tr>\n      <th>36</th>\n      <td>36</td>\n      <td>0.061905</td>\n      <td>0.131429</td>\n      <td>0.005714</td>\n      <td>0.025714</td>\n      <td>0.115238</td>\n      <td>0.025714</td>\n      <td>0.107619</td>\n      <td>0.000000</td>\n      <td>0.000952</td>\n      <td>...</td>\n      <td>0.0</td>\n      <td>0.0</td>\n      <td>0.0</td>\n      <td>0.0</td>\n      <td>0.0</td>\n      <td>0.0</td>\n      <td>0.0</td>\n      <td>0.000000</td>\n      <td>0.0</td>\n      <td>0.025714</td>\n    </tr>\n    <tr>\n      <th>37</th>\n      <td>37</td>\n      <td>0.041363</td>\n      <td>0.018248</td>\n      <td>0.007908</td>\n      <td>0.063869</td>\n      <td>0.052920</td>\n      <td>0.014599</td>\n      <td>0.035888</td>\n      <td>0.135036</td>\n      <td>0.171533</td>\n      <td>...</td>\n      <td>0.0</td>\n      <td>0.0</td>\n      <td>0.0</td>\n      <td>0.0</td>\n      <td>0.0</td>\n      <td>0.0</td>\n      <td>0.0</td>\n      <td>0.000000</td>\n      <td>0.0</td>\n      <td>0.006691</td>\n    </tr>\n    <tr>\n      <th>38</th>\n      <td>38</td>\n      <td>0.041208</td>\n      <td>0.052317</td>\n      <td>0.020794</td>\n      <td>0.043202</td>\n      <td>0.051652</td>\n      <td>0.030763</td>\n      <td>0.050228</td>\n      <td>0.067224</td>\n      <td>0.052886</td>\n      <td>...</td>\n      <td>0.0</td>\n      <td>0.0</td>\n      <td>0.0</td>\n      <td>0.0</td>\n      <td>0.0</td>\n      <td>0.0</td>\n      <td>0.0</td>\n      <td>0.000000</td>\n      <td>0.0</td>\n      <td>0.022978</td>\n    </tr>\n    <tr>\n      <th>39</th>\n      <td>39</td>\n      <td>0.044184</td>\n      <td>0.004909</td>\n      <td>0.010952</td>\n      <td>0.065710</td>\n      <td>0.016239</td>\n      <td>0.055136</td>\n      <td>0.013595</td>\n      <td>0.112160</td>\n      <td>0.085725</td>\n      <td>...</td>\n      <td>0.0</td>\n      <td>0.0</td>\n      <td>0.0</td>\n      <td>0.0</td>\n      <td>0.0</td>\n      <td>0.0</td>\n      <td>0.0</td>\n      <td>0.000000</td>\n      <td>0.0</td>\n      <td>0.010196</td>\n    </tr>\n    <tr>\n      <th>40</th>\n      <td>40</td>\n      <td>0.042394</td>\n      <td>0.019950</td>\n      <td>0.019327</td>\n      <td>0.056733</td>\n      <td>0.025561</td>\n      <td>0.019327</td>\n      <td>0.043017</td>\n      <td>0.145885</td>\n      <td>0.029302</td>\n      <td>...</td>\n      <td>0.0</td>\n      <td>0.0</td>\n      <td>0.0</td>\n      <td>0.0</td>\n      <td>0.0</td>\n      <td>0.0</td>\n      <td>0.0</td>\n      <td>0.000000</td>\n      <td>0.0</td>\n      <td>0.013092</td>\n    </tr>\n    <tr>\n      <th>41</th>\n      <td>41</td>\n      <td>0.023810</td>\n      <td>0.047619</td>\n      <td>0.000000</td>\n      <td>0.357143</td>\n      <td>0.023810</td>\n      <td>0.226190</td>\n      <td>0.011905</td>\n      <td>0.000000</td>\n      <td>0.000000</td>\n      <td>...</td>\n      <td>0.0</td>\n      <td>0.0</td>\n      <td>0.0</td>\n      <td>0.0</td>\n      <td>0.0</td>\n      <td>0.0</td>\n      <td>0.0</td>\n      <td>0.000000</td>\n      <td>0.0</td>\n      <td>0.000000</td>\n    </tr>\n    <tr>\n      <th>42</th>\n      <td>42</td>\n      <td>0.052038</td>\n      <td>0.038124</td>\n      <td>0.010079</td>\n      <td>0.041411</td>\n      <td>0.071648</td>\n      <td>0.016652</td>\n      <td>0.072305</td>\n      <td>0.092901</td>\n      <td>0.007888</td>\n      <td>...</td>\n      <td>0.0</td>\n      <td>0.0</td>\n      <td>0.0</td>\n      <td>0.0</td>\n      <td>0.0</td>\n      <td>0.0</td>\n      <td>0.0</td>\n      <td>0.000000</td>\n      <td>0.0</td>\n      <td>0.006683</td>\n    </tr>\n    <tr>\n      <th>43</th>\n      <td>43</td>\n      <td>0.051592</td>\n      <td>0.040844</td>\n      <td>0.038242</td>\n      <td>0.043842</td>\n      <td>0.040222</td>\n      <td>0.029982</td>\n      <td>0.036432</td>\n      <td>0.039486</td>\n      <td>0.003281</td>\n      <td>...</td>\n      <td>0.0</td>\n      <td>0.0</td>\n      <td>0.0</td>\n      <td>0.0</td>\n      <td>0.0</td>\n      <td>0.0</td>\n      <td>0.0</td>\n      <td>0.000000</td>\n      <td>0.0</td>\n      <td>0.031736</td>\n    </tr>\n    <tr>\n      <th>44</th>\n      <td>44</td>\n      <td>0.072144</td>\n      <td>0.120908</td>\n      <td>0.060788</td>\n      <td>0.120908</td>\n      <td>0.043420</td>\n      <td>0.062124</td>\n      <td>0.067468</td>\n      <td>0.000000</td>\n      <td>0.000000</td>\n      <td>...</td>\n      <td>0.0</td>\n      <td>0.0</td>\n      <td>0.0</td>\n      <td>0.0</td>\n      <td>0.0</td>\n      <td>0.0</td>\n      <td>0.0</td>\n      <td>0.000000</td>\n      <td>0.0</td>\n      <td>0.005344</td>\n    </tr>\n    <tr>\n      <th>45</th>\n      <td>45</td>\n      <td>0.155534</td>\n      <td>0.456850</td>\n      <td>0.055095</td>\n      <td>0.007801</td>\n      <td>0.021453</td>\n      <td>0.045344</td>\n      <td>0.022428</td>\n      <td>0.000000</td>\n      <td>0.000488</td>\n      <td>...</td>\n      <td>0.0</td>\n      <td>0.0</td>\n      <td>0.0</td>\n      <td>0.0</td>\n      <td>0.0</td>\n      <td>0.0</td>\n      <td>0.0</td>\n      <td>0.000000</td>\n      <td>0.0</td>\n      <td>0.004388</td>\n    </tr>\n    <tr>\n      <th>46</th>\n      <td>46</td>\n      <td>0.033333</td>\n      <td>0.033333</td>\n      <td>0.033333</td>\n      <td>0.033333</td>\n      <td>0.033333</td>\n      <td>0.133333</td>\n      <td>0.033333</td>\n      <td>0.000000</td>\n      <td>0.000000</td>\n      <td>...</td>\n      <td>0.0</td>\n      <td>0.0</td>\n      <td>0.0</td>\n      <td>0.0</td>\n      <td>0.0</td>\n      <td>0.0</td>\n      <td>0.0</td>\n      <td>0.000000</td>\n      <td>0.0</td>\n      <td>0.033333</td>\n    </tr>\n    <tr>\n      <th>47</th>\n      <td>47</td>\n      <td>0.214286</td>\n      <td>0.071429</td>\n      <td>0.071429</td>\n      <td>0.000000</td>\n      <td>0.071429</td>\n      <td>0.000000</td>\n      <td>0.071429</td>\n      <td>0.000000</td>\n      <td>0.000000</td>\n      <td>...</td>\n      <td>0.0</td>\n      <td>0.0</td>\n      <td>0.0</td>\n      <td>0.0</td>\n      <td>0.0</td>\n      <td>0.0</td>\n      <td>0.0</td>\n      <td>0.000000</td>\n      <td>0.0</td>\n      <td>0.000000</td>\n    </tr>\n    <tr>\n      <th>48</th>\n      <td>48</td>\n      <td>0.075789</td>\n      <td>0.027368</td>\n      <td>0.037895</td>\n      <td>0.107368</td>\n      <td>0.029474</td>\n      <td>0.073684</td>\n      <td>0.027368</td>\n      <td>0.014737</td>\n      <td>0.149474</td>\n      <td>...</td>\n      <td>0.0</td>\n      <td>0.0</td>\n      <td>0.0</td>\n      <td>0.0</td>\n      <td>0.0</td>\n      <td>0.0</td>\n      <td>0.0</td>\n      <td>0.000000</td>\n      <td>0.0</td>\n      <td>0.040000</td>\n    </tr>\n    <tr>\n      <th>49</th>\n      <td>49</td>\n      <td>0.054530</td>\n      <td>0.035235</td>\n      <td>0.033138</td>\n      <td>0.049497</td>\n      <td>0.078440</td>\n      <td>0.012164</td>\n      <td>0.040688</td>\n      <td>0.285654</td>\n      <td>0.010487</td>\n      <td>...</td>\n      <td>0.0</td>\n      <td>0.0</td>\n      <td>0.0</td>\n      <td>0.0</td>\n      <td>0.0</td>\n      <td>0.0</td>\n      <td>0.0</td>\n      <td>0.000000</td>\n      <td>0.0</td>\n      <td>0.024748</td>\n    </tr>\n  </tbody>\n</table>\n<p>50 rows × 3002 columns</p>\n</div>"
     },
     "execution_count": 10,
     "metadata": {},
     "output_type": "execute_result"
    }
   ],
   "source": [
    "frac_df = frac_df.fillna(0)\n",
    "frac_df.head(50)"
   ],
   "metadata": {
    "collapsed": false
   }
  },
  {
   "cell_type": "code",
   "execution_count": 12,
   "outputs": [
    {
     "data": {
      "text/plain": "   googleads.g.doubleclick.net  yandex.ru  i.ytimg.com    vk.com  \\\n0                     0.196891   0.031088     0.025907  0.041451   \n1                     0.072588   0.112703     0.040115  0.023878   \n2                     0.092457   0.046229     0.126521  0.141119   \n3                     0.021818   0.061818     0.007273  0.178182   \n4                     0.061776   0.030888     0.048906  0.083655   \n\n   avatars.mds.yandex.net  ad.mail.ru  yastatic.net  apple.com  instagram.com  \\\n0                0.046632    0.031088      0.051813        0.0       0.000000   \n1                0.104107    0.034384      0.081184        0.0       0.000000   \n2                0.072993    0.038929      0.046229        0.0       0.000000   \n3                0.094545    0.080000      0.069091        0.0       0.000000   \n4                0.046332    0.061776      0.045045        0.0       0.003861   \n\n   ads.adfox.ru  ...  psy-magic.org  megapteka-ru.turbopages.org  127.0.0.1  \\\n0      0.025907  ...            0.0                          0.0        0.0   \n1      0.019102  ...            0.0                          0.0        0.0   \n2      0.026764  ...            0.0                          0.0        0.0   \n3      0.000000  ...            0.0                          0.0        0.0   \n4      0.028314  ...            0.0                          0.0        0.0   \n\n   bukvaprava.ru  belnovosti-by.turbopages.org  ngs24-ru.turbopages.org  \\\n0            0.0                           0.0                      0.0   \n1            0.0                           0.0                      0.0   \n2            0.0                           0.0                      0.0   \n3            0.0                           0.0                      0.0   \n4            0.0                           0.0                      0.0   \n\n   forum.mfd.ru  yomed.ru  7info.ru  other_url  \n0           0.0       0.0       0.0   0.031088  \n1           0.0       0.0       0.0   0.013372  \n2           0.0       0.0       0.0   0.002433  \n3           0.0       0.0       0.0   0.010909  \n4           0.0       0.0       0.0   0.011583  \n\n[5 rows x 3001 columns]",
      "text/html": "<div>\n<style scoped>\n    .dataframe tbody tr th:only-of-type {\n        vertical-align: middle;\n    }\n\n    .dataframe tbody tr th {\n        vertical-align: top;\n    }\n\n    .dataframe thead th {\n        text-align: right;\n    }\n</style>\n<table border=\"1\" class=\"dataframe\">\n  <thead>\n    <tr style=\"text-align: right;\">\n      <th></th>\n      <th>googleads.g.doubleclick.net</th>\n      <th>yandex.ru</th>\n      <th>i.ytimg.com</th>\n      <th>vk.com</th>\n      <th>avatars.mds.yandex.net</th>\n      <th>ad.mail.ru</th>\n      <th>yastatic.net</th>\n      <th>apple.com</th>\n      <th>instagram.com</th>\n      <th>ads.adfox.ru</th>\n      <th>...</th>\n      <th>psy-magic.org</th>\n      <th>megapteka-ru.turbopages.org</th>\n      <th>127.0.0.1</th>\n      <th>bukvaprava.ru</th>\n      <th>belnovosti-by.turbopages.org</th>\n      <th>ngs24-ru.turbopages.org</th>\n      <th>forum.mfd.ru</th>\n      <th>yomed.ru</th>\n      <th>7info.ru</th>\n      <th>other_url</th>\n    </tr>\n  </thead>\n  <tbody>\n    <tr>\n      <th>0</th>\n      <td>0.196891</td>\n      <td>0.031088</td>\n      <td>0.025907</td>\n      <td>0.041451</td>\n      <td>0.046632</td>\n      <td>0.031088</td>\n      <td>0.051813</td>\n      <td>0.0</td>\n      <td>0.000000</td>\n      <td>0.025907</td>\n      <td>...</td>\n      <td>0.0</td>\n      <td>0.0</td>\n      <td>0.0</td>\n      <td>0.0</td>\n      <td>0.0</td>\n      <td>0.0</td>\n      <td>0.0</td>\n      <td>0.0</td>\n      <td>0.0</td>\n      <td>0.031088</td>\n    </tr>\n    <tr>\n      <th>1</th>\n      <td>0.072588</td>\n      <td>0.112703</td>\n      <td>0.040115</td>\n      <td>0.023878</td>\n      <td>0.104107</td>\n      <td>0.034384</td>\n      <td>0.081184</td>\n      <td>0.0</td>\n      <td>0.000000</td>\n      <td>0.019102</td>\n      <td>...</td>\n      <td>0.0</td>\n      <td>0.0</td>\n      <td>0.0</td>\n      <td>0.0</td>\n      <td>0.0</td>\n      <td>0.0</td>\n      <td>0.0</td>\n      <td>0.0</td>\n      <td>0.0</td>\n      <td>0.013372</td>\n    </tr>\n    <tr>\n      <th>2</th>\n      <td>0.092457</td>\n      <td>0.046229</td>\n      <td>0.126521</td>\n      <td>0.141119</td>\n      <td>0.072993</td>\n      <td>0.038929</td>\n      <td>0.046229</td>\n      <td>0.0</td>\n      <td>0.000000</td>\n      <td>0.026764</td>\n      <td>...</td>\n      <td>0.0</td>\n      <td>0.0</td>\n      <td>0.0</td>\n      <td>0.0</td>\n      <td>0.0</td>\n      <td>0.0</td>\n      <td>0.0</td>\n      <td>0.0</td>\n      <td>0.0</td>\n      <td>0.002433</td>\n    </tr>\n    <tr>\n      <th>3</th>\n      <td>0.021818</td>\n      <td>0.061818</td>\n      <td>0.007273</td>\n      <td>0.178182</td>\n      <td>0.094545</td>\n      <td>0.080000</td>\n      <td>0.069091</td>\n      <td>0.0</td>\n      <td>0.000000</td>\n      <td>0.000000</td>\n      <td>...</td>\n      <td>0.0</td>\n      <td>0.0</td>\n      <td>0.0</td>\n      <td>0.0</td>\n      <td>0.0</td>\n      <td>0.0</td>\n      <td>0.0</td>\n      <td>0.0</td>\n      <td>0.0</td>\n      <td>0.010909</td>\n    </tr>\n    <tr>\n      <th>4</th>\n      <td>0.061776</td>\n      <td>0.030888</td>\n      <td>0.048906</td>\n      <td>0.083655</td>\n      <td>0.046332</td>\n      <td>0.061776</td>\n      <td>0.045045</td>\n      <td>0.0</td>\n      <td>0.003861</td>\n      <td>0.028314</td>\n      <td>...</td>\n      <td>0.0</td>\n      <td>0.0</td>\n      <td>0.0</td>\n      <td>0.0</td>\n      <td>0.0</td>\n      <td>0.0</td>\n      <td>0.0</td>\n      <td>0.0</td>\n      <td>0.0</td>\n      <td>0.011583</td>\n    </tr>\n  </tbody>\n</table>\n<p>5 rows × 3001 columns</p>\n</div>"
     },
     "metadata": {},
     "output_type": "display_data"
    },
    {
     "name": "stdout",
     "output_type": "stream",
     "text": [
      "<class 'pandas.core.frame.DataFrame'>\n",
      "RangeIndex: 415317 entries, 0 to 415316\n",
      "Columns: 3001 entries, googleads.g.doubleclick.net to other_url\n",
      "dtypes: float32(3001)\n",
      "memory usage: 4.6 GB\n"
     ]
    },
    {
     "data": {
      "text/plain": "None"
     },
     "metadata": {},
     "output_type": "display_data"
    }
   ],
   "source": [
    "del df\n",
    "frac_df = frac_df.drop('user_id',axis=1)\n",
    "display(frac_df.head())\n",
    "display(frac_df.info())\n",
    "\n",
    "frac_df.to_parquet('..\\\\full_data\\\\figma_plan\\\\top_3000_urls_fraction.parquet', index=False)\n",
    "del frac_df"
   ],
   "metadata": {
    "collapsed": false
   }
  },
  {
   "cell_type": "markdown",
   "source": [
    "## Создаем списки для мужских и женских сайтов"
   ],
   "metadata": {
    "collapsed": false
   }
  },
  {
   "cell_type": "code",
   "execution_count": 3,
   "outputs": [
    {
     "name": "stdout",
     "output_type": "stream",
     "text": [
      "<class 'pandas.core.frame.DataFrame'>\n",
      "RangeIndex: 322899435 entries, 0 to 322899434\n",
      "Data columns (total 3 columns):\n",
      " #   Column       Dtype \n",
      "---  ------       ----- \n",
      " 0   user_id      int32 \n",
      " 1   request_cnt  int8  \n",
      " 2   url_host     object\n",
      "dtypes: int32(1), int8(1), object(1)\n",
      "memory usage: 3.9+ GB\n"
     ]
    },
    {
     "data": {
      "text/plain": "None"
     },
     "metadata": {},
     "output_type": "display_data"
    },
    {
     "data": {
      "text/plain": "user_id        0\nrequest_cnt    0\nurl_host       0\ndtype: int64"
     },
     "metadata": {},
     "output_type": "display_data"
    }
   ],
   "source": [
    "path = '..\\\\full_data\\\\competition_data_final_pqt'\n",
    "columns = {'user_id': 'int32','request_cnt': 'int8','url_host': 'object'}\n",
    "data = read_data(path,columns)\n",
    "display(data.info())\n",
    "display(data.isna().sum())"
   ],
   "metadata": {
    "collapsed": false
   }
  },
  {
   "cell_type": "code",
   "execution_count": 4,
   "outputs": [
    {
     "data": {
      "text/plain": "     user_id  request_cnt             url_host\n166    45098            1  forum.skoda-club.ru\n191    45098            1            sylphy.ru\n319    45098            1           kuzov.info\n537    45098            1         automagia.ru\n714    45098            1           bmwdrug.ru",
      "text/html": "<div>\n<style scoped>\n    .dataframe tbody tr th:only-of-type {\n        vertical-align: middle;\n    }\n\n    .dataframe tbody tr th {\n        vertical-align: top;\n    }\n\n    .dataframe thead th {\n        text-align: right;\n    }\n</style>\n<table border=\"1\" class=\"dataframe\">\n  <thead>\n    <tr style=\"text-align: right;\">\n      <th></th>\n      <th>user_id</th>\n      <th>request_cnt</th>\n      <th>url_host</th>\n    </tr>\n  </thead>\n  <tbody>\n    <tr>\n      <th>166</th>\n      <td>45098</td>\n      <td>1</td>\n      <td>forum.skoda-club.ru</td>\n    </tr>\n    <tr>\n      <th>191</th>\n      <td>45098</td>\n      <td>1</td>\n      <td>sylphy.ru</td>\n    </tr>\n    <tr>\n      <th>319</th>\n      <td>45098</td>\n      <td>1</td>\n      <td>kuzov.info</td>\n    </tr>\n    <tr>\n      <th>537</th>\n      <td>45098</td>\n      <td>1</td>\n      <td>automagia.ru</td>\n    </tr>\n    <tr>\n      <th>714</th>\n      <td>45098</td>\n      <td>1</td>\n      <td>bmwdrug.ru</td>\n    </tr>\n  </tbody>\n</table>\n</div>"
     },
     "metadata": {},
     "output_type": "display_data"
    },
    {
     "name": "stdout",
     "output_type": "stream",
     "text": [
      "<class 'pandas.core.frame.DataFrame'>\n",
      "Int64Index: 4139591 entries, 166 to 322899386\n",
      "Data columns (total 3 columns):\n",
      " #   Column       Dtype \n",
      "---  ------       ----- \n",
      " 0   user_id      int32 \n",
      " 1   request_cnt  int8  \n",
      " 2   url_host     object\n",
      "dtypes: int32(1), int8(1), object(1)\n",
      "memory usage: 82.9+ MB\n"
     ]
    },
    {
     "data": {
      "text/plain": "None"
     },
     "metadata": {},
     "output_type": "display_data"
    }
   ],
   "source": [
    "#удаляем использованные колонки и берем только сайты с нормальными запросами > 50\n",
    "exists_columns = np.load('exists_columns.npy',allow_pickle=True)\n",
    "important_columns = np.load('important_columns.npy',allow_pickle=True)\n",
    "\n",
    "data = data.loc[~data['url_host'].isin(exists_columns) & data['url_host'].isin(important_columns)]\n",
    "display(data.head())\n",
    "display(data.info())"
   ],
   "metadata": {
    "collapsed": false
   }
  },
  {
   "cell_type": "code",
   "execution_count": 5,
   "outputs": [
    {
     "data": {
      "text/plain": "        user_id is_male\n350459   350459       1\n188276   188276       1\n99002     99002       0\n155506   155506       0\n213873   213873       0",
      "text/html": "<div>\n<style scoped>\n    .dataframe tbody tr th:only-of-type {\n        vertical-align: middle;\n    }\n\n    .dataframe tbody tr th {\n        vertical-align: top;\n    }\n\n    .dataframe thead th {\n        text-align: right;\n    }\n</style>\n<table border=\"1\" class=\"dataframe\">\n  <thead>\n    <tr style=\"text-align: right;\">\n      <th></th>\n      <th>user_id</th>\n      <th>is_male</th>\n    </tr>\n  </thead>\n  <tbody>\n    <tr>\n      <th>350459</th>\n      <td>350459</td>\n      <td>1</td>\n    </tr>\n    <tr>\n      <th>188276</th>\n      <td>188276</td>\n      <td>1</td>\n    </tr>\n    <tr>\n      <th>99002</th>\n      <td>99002</td>\n      <td>0</td>\n    </tr>\n    <tr>\n      <th>155506</th>\n      <td>155506</td>\n      <td>0</td>\n    </tr>\n    <tr>\n      <th>213873</th>\n      <td>213873</td>\n      <td>0</td>\n    </tr>\n  </tbody>\n</table>\n</div>"
     },
     "metadata": {},
     "output_type": "display_data"
    },
    {
     "name": "stdout",
     "output_type": "stream",
     "text": [
      "<class 'pandas.core.frame.DataFrame'>\n",
      "Int64Index: 270000 entries, 350459 to 103148\n",
      "Data columns (total 2 columns):\n",
      " #   Column   Non-Null Count   Dtype \n",
      "---  ------   --------------   ----- \n",
      " 0   user_id  270000 non-null  int32 \n",
      " 1   is_male  269958 non-null  object\n",
      "dtypes: int32(1), object(1)\n",
      "memory usage: 5.1+ MB\n"
     ]
    },
    {
     "data": {
      "text/plain": "None"
     },
     "metadata": {},
     "output_type": "display_data"
    },
    {
     "data": {
      "text/plain": "            request_cnt  male_request_cnt  male_fraction\nurl_host                                                \n0-1.ru               34                31       0.911765\n003ms.ru            438               181       0.413242\n010203.org           69                36       0.521739\n0370.ru             124                31       0.250000\n03hm.ru              34                17       0.500000",
      "text/html": "<div>\n<style scoped>\n    .dataframe tbody tr th:only-of-type {\n        vertical-align: middle;\n    }\n\n    .dataframe tbody tr th {\n        vertical-align: top;\n    }\n\n    .dataframe thead th {\n        text-align: right;\n    }\n</style>\n<table border=\"1\" class=\"dataframe\">\n  <thead>\n    <tr style=\"text-align: right;\">\n      <th></th>\n      <th>request_cnt</th>\n      <th>male_request_cnt</th>\n      <th>male_fraction</th>\n    </tr>\n    <tr>\n      <th>url_host</th>\n      <th></th>\n      <th></th>\n      <th></th>\n    </tr>\n  </thead>\n  <tbody>\n    <tr>\n      <th>0-1.ru</th>\n      <td>34</td>\n      <td>31</td>\n      <td>0.911765</td>\n    </tr>\n    <tr>\n      <th>003ms.ru</th>\n      <td>438</td>\n      <td>181</td>\n      <td>0.413242</td>\n    </tr>\n    <tr>\n      <th>010203.org</th>\n      <td>69</td>\n      <td>36</td>\n      <td>0.521739</td>\n    </tr>\n    <tr>\n      <th>0370.ru</th>\n      <td>124</td>\n      <td>31</td>\n      <td>0.250000</td>\n    </tr>\n    <tr>\n      <th>03hm.ru</th>\n      <td>34</td>\n      <td>17</td>\n      <td>0.500000</td>\n    </tr>\n  </tbody>\n</table>\n</div>"
     },
     "metadata": {},
     "output_type": "display_data"
    },
    {
     "name": "stdout",
     "output_type": "stream",
     "text": [
      "<class 'pandas.core.frame.DataFrame'>\n",
      "Index: 20965 entries, 0-1.ru to выкса.рф\n",
      "Data columns (total 3 columns):\n",
      " #   Column            Non-Null Count  Dtype  \n",
      "---  ------            --------------  -----  \n",
      " 0   request_cnt       20965 non-null  int64  \n",
      " 1   male_request_cnt  20965 non-null  int64  \n",
      " 2   male_fraction     20965 non-null  float64\n",
      "dtypes: float64(1), int64(2)\n",
      "memory usage: 655.2+ KB\n"
     ]
    },
    {
     "data": {
      "text/plain": "None"
     },
     "metadata": {},
     "output_type": "display_data"
    }
   ],
   "source": [
    "target = pd.read_parquet('..\\\\full_data\\\\public_train.pqt',columns=['user_id','is_male'])\n",
    "target['user_id'] = target['user_id'].astype('int32')\n",
    "target['is_male'] = target['is_male'].astype('object')\n",
    "display(target.head())\n",
    "display(target.info())\n",
    "\n",
    "# добавляем target, удаляем nan\n",
    "data = data.merge(target[['is_male','user_id']], on = 'user_id', how = 'inner')\n",
    "data = data.loc[~(data['is_male'].isna()) & (data['is_male'] != 'NA')]\n",
    "data['is_male'] = data['is_male'].astype('int8')\n",
    "\n",
    "data['male_request_cnt'] = data['is_male'] * data['request_cnt']\n",
    "data = data.groupby('url_host').agg({'request_cnt':'sum','male_request_cnt':'sum'})\n",
    "data['male_fraction'] = data['male_request_cnt']/data['request_cnt']\n",
    "\n",
    "display(data.head())\n",
    "display(data.info())\n",
    "\n",
    "del target"
   ],
   "metadata": {
    "collapsed": false
   }
  },
  {
   "cell_type": "code",
   "execution_count": 6,
   "outputs": [
    {
     "data": {
      "text/plain": "            url_host  request_cnt  male_request_cnt  male_fraction\n0      quote-spy.com          155               155            1.0\n1          melz.info            8                 8            1.0\n2          cc-fan.tv           57                57            1.0\n3  keramix-crimea.ru           60                60            1.0\n4       soloviev.xyz          165               165            1.0",
      "text/html": "<div>\n<style scoped>\n    .dataframe tbody tr th:only-of-type {\n        vertical-align: middle;\n    }\n\n    .dataframe tbody tr th {\n        vertical-align: top;\n    }\n\n    .dataframe thead th {\n        text-align: right;\n    }\n</style>\n<table border=\"1\" class=\"dataframe\">\n  <thead>\n    <tr style=\"text-align: right;\">\n      <th></th>\n      <th>url_host</th>\n      <th>request_cnt</th>\n      <th>male_request_cnt</th>\n      <th>male_fraction</th>\n    </tr>\n  </thead>\n  <tbody>\n    <tr>\n      <th>0</th>\n      <td>quote-spy.com</td>\n      <td>155</td>\n      <td>155</td>\n      <td>1.0</td>\n    </tr>\n    <tr>\n      <th>1</th>\n      <td>melz.info</td>\n      <td>8</td>\n      <td>8</td>\n      <td>1.0</td>\n    </tr>\n    <tr>\n      <th>2</th>\n      <td>cc-fan.tv</td>\n      <td>57</td>\n      <td>57</td>\n      <td>1.0</td>\n    </tr>\n    <tr>\n      <th>3</th>\n      <td>keramix-crimea.ru</td>\n      <td>60</td>\n      <td>60</td>\n      <td>1.0</td>\n    </tr>\n    <tr>\n      <th>4</th>\n      <td>soloviev.xyz</td>\n      <td>165</td>\n      <td>165</td>\n      <td>1.0</td>\n    </tr>\n  </tbody>\n</table>\n</div>"
     },
     "metadata": {},
     "output_type": "display_data"
    },
    {
     "data": {
      "text/plain": "                                            url_host  request_cnt  \\\n0                                           выкса.рф           91   \n1                                      smartdieta.ru           54   \n2                                 smeshnoe-video.net           97   \n3  smtown-portal.ap-northeast-2.elasticbeanstalk.com           55   \n4                                            erha.ru           22   \n\n   male_request_cnt  male_fraction  \n0                 0            0.0  \n1                 0            0.0  \n2                 0            0.0  \n3                 0            0.0  \n4                 0            0.0  ",
      "text/html": "<div>\n<style scoped>\n    .dataframe tbody tr th:only-of-type {\n        vertical-align: middle;\n    }\n\n    .dataframe tbody tr th {\n        vertical-align: top;\n    }\n\n    .dataframe thead th {\n        text-align: right;\n    }\n</style>\n<table border=\"1\" class=\"dataframe\">\n  <thead>\n    <tr style=\"text-align: right;\">\n      <th></th>\n      <th>url_host</th>\n      <th>request_cnt</th>\n      <th>male_request_cnt</th>\n      <th>male_fraction</th>\n    </tr>\n  </thead>\n  <tbody>\n    <tr>\n      <th>0</th>\n      <td>выкса.рф</td>\n      <td>91</td>\n      <td>0</td>\n      <td>0.0</td>\n    </tr>\n    <tr>\n      <th>1</th>\n      <td>smartdieta.ru</td>\n      <td>54</td>\n      <td>0</td>\n      <td>0.0</td>\n    </tr>\n    <tr>\n      <th>2</th>\n      <td>smeshnoe-video.net</td>\n      <td>97</td>\n      <td>0</td>\n      <td>0.0</td>\n    </tr>\n    <tr>\n      <th>3</th>\n      <td>smtown-portal.ap-northeast-2.elasticbeanstalk.com</td>\n      <td>55</td>\n      <td>0</td>\n      <td>0.0</td>\n    </tr>\n    <tr>\n      <th>4</th>\n      <td>erha.ru</td>\n      <td>22</td>\n      <td>0</td>\n      <td>0.0</td>\n    </tr>\n  </tbody>\n</table>\n</div>"
     },
     "metadata": {},
     "output_type": "display_data"
    },
    {
     "name": "stdout",
     "output_type": "stream",
     "text": [
      "<class 'pandas.core.frame.DataFrame'>\n",
      "RangeIndex: 7185 entries, 0 to 7184\n",
      "Data columns (total 4 columns):\n",
      " #   Column            Non-Null Count  Dtype  \n",
      "---  ------            --------------  -----  \n",
      " 0   url_host          7185 non-null   object \n",
      " 1   request_cnt       7185 non-null   int64  \n",
      " 2   male_request_cnt  7185 non-null   int64  \n",
      " 3   male_fraction     7185 non-null   float64\n",
      "dtypes: float64(1), int64(2), object(1)\n",
      "memory usage: 224.7+ KB\n"
     ]
    },
    {
     "data": {
      "text/plain": "None"
     },
     "metadata": {},
     "output_type": "display_data"
    },
    {
     "name": "stdout",
     "output_type": "stream",
     "text": [
      "<class 'pandas.core.frame.DataFrame'>\n",
      "RangeIndex: 7856 entries, 0 to 7855\n",
      "Data columns (total 4 columns):\n",
      " #   Column            Non-Null Count  Dtype  \n",
      "---  ------            --------------  -----  \n",
      " 0   url_host          7856 non-null   object \n",
      " 1   request_cnt       7856 non-null   int64  \n",
      " 2   male_request_cnt  7856 non-null   int64  \n",
      " 3   male_fraction     7856 non-null   float64\n",
      "dtypes: float64(1), int64(2), object(1)\n",
      "memory usage: 245.6+ KB\n"
     ]
    },
    {
     "data": {
      "text/plain": "None"
     },
     "metadata": {},
     "output_type": "display_data"
    }
   ],
   "source": [
    "male_columns_df = data.loc[data['male_fraction'] > 0.6].sort_values('male_fraction',ascending=False).reset_index()\n",
    "female_columns_df = data.loc[data['male_fraction'] < 0.4].sort_values('male_fraction').reset_index()\n",
    "\n",
    "display(male_columns_df.head())\n",
    "display(female_columns_df.head())\n",
    "display(male_columns_df.info())\n",
    "display(female_columns_df.info())\n",
    "\n",
    "male_columns_df = male_columns_df[:7000]\n",
    "female_columns_df = female_columns_df[:7000]\n",
    "\n",
    "np.save('other_male_urls.npy', male_columns_df['url_host'].unique(), allow_pickle=True)\n",
    "np.save('other_female_urls.npy', female_columns_df['url_host'].unique(), allow_pickle=True)"
   ],
   "metadata": {
    "collapsed": false
   }
  },
  {
   "cell_type": "markdown",
   "source": [
    "## Отношение запросов на альтернативные женские сайты"
   ],
   "metadata": {
    "collapsed": false
   }
  },
  {
   "cell_type": "code",
   "execution_count": 3,
   "outputs": [
    {
     "name": "stdout",
     "output_type": "stream",
     "text": [
      "<class 'pandas.core.frame.DataFrame'>\n",
      "RangeIndex: 322899435 entries, 0 to 322899434\n",
      "Data columns (total 3 columns):\n",
      " #   Column       Dtype \n",
      "---  ------       ----- \n",
      " 0   user_id      int32 \n",
      " 1   request_cnt  int8  \n",
      " 2   url_host     object\n",
      "dtypes: int32(1), int8(1), object(1)\n",
      "memory usage: 3.9+ GB\n"
     ]
    },
    {
     "data": {
      "text/plain": "None"
     },
     "metadata": {},
     "output_type": "display_data"
    },
    {
     "data": {
      "text/plain": "user_id        0\nrequest_cnt    0\nurl_host       0\ndtype: int64"
     },
     "metadata": {},
     "output_type": "display_data"
    }
   ],
   "source": [
    "path = '..\\\\full_data\\\\competition_data_final_pqt'\n",
    "columns = {'user_id': 'int32','request_cnt': 'int8','url_host': 'object'}\n",
    "data = read_data(path,columns)\n",
    "display(data.info())\n",
    "display(data.isna().sum())"
   ],
   "metadata": {
    "collapsed": false
   }
  },
  {
   "cell_type": "code",
   "execution_count": 4,
   "outputs": [
    {
     "data": {
      "text/plain": "   user_id  request_cnt_sum\n0        0              193\n1        1             1047\n2        2              411\n3        3              275\n4        4              777",
      "text/html": "<div>\n<style scoped>\n    .dataframe tbody tr th:only-of-type {\n        vertical-align: middle;\n    }\n\n    .dataframe tbody tr th {\n        vertical-align: top;\n    }\n\n    .dataframe thead th {\n        text-align: right;\n    }\n</style>\n<table border=\"1\" class=\"dataframe\">\n  <thead>\n    <tr style=\"text-align: right;\">\n      <th></th>\n      <th>user_id</th>\n      <th>request_cnt_sum</th>\n    </tr>\n  </thead>\n  <tbody>\n    <tr>\n      <th>0</th>\n      <td>0</td>\n      <td>193</td>\n    </tr>\n    <tr>\n      <th>1</th>\n      <td>1</td>\n      <td>1047</td>\n    </tr>\n    <tr>\n      <th>2</th>\n      <td>2</td>\n      <td>411</td>\n    </tr>\n    <tr>\n      <th>3</th>\n      <td>3</td>\n      <td>275</td>\n    </tr>\n    <tr>\n      <th>4</th>\n      <td>4</td>\n      <td>777</td>\n    </tr>\n  </tbody>\n</table>\n</div>"
     },
     "metadata": {},
     "output_type": "display_data"
    },
    {
     "name": "stdout",
     "output_type": "stream",
     "text": [
      "<class 'pandas.core.frame.DataFrame'>\n",
      "RangeIndex: 415317 entries, 0 to 415316\n",
      "Data columns (total 2 columns):\n",
      " #   Column           Non-Null Count   Dtype\n",
      "---  ------           --------------   -----\n",
      " 0   user_id          415317 non-null  int32\n",
      " 1   request_cnt_sum  415317 non-null  int32\n",
      "dtypes: int32(2)\n",
      "memory usage: 3.2 MB\n"
     ]
    },
    {
     "data": {
      "text/plain": "None"
     },
     "metadata": {},
     "output_type": "display_data"
    }
   ],
   "source": [
    "#сохраняем данные о сумме перед удалением строк\n",
    "data_sum = data.groupby('user_id')['request_cnt'].sum().reset_index()\n",
    "data_sum['user_id'] = data_sum['user_id'].astype('int32')\n",
    "data_sum['request_cnt'] = data_sum['request_cnt'].astype('int32')\n",
    "data_sum = data_sum.rename(columns={'request_cnt':'request_cnt_sum'})\n",
    "display(data_sum.head())\n",
    "display(data_sum.info())"
   ],
   "metadata": {
    "collapsed": false
   }
  },
  {
   "cell_type": "code",
   "execution_count": 5,
   "outputs": [
    {
     "data": {
      "text/plain": "      user_id  request_cnt  url_host\n3475    79395            1         0\n3584    79395            1         0\n3684    79395            1         0\n4085    91294            1         0\n4804    91294            1         0",
      "text/html": "<div>\n<style scoped>\n    .dataframe tbody tr th:only-of-type {\n        vertical-align: middle;\n    }\n\n    .dataframe tbody tr th {\n        vertical-align: top;\n    }\n\n    .dataframe thead th {\n        text-align: right;\n    }\n</style>\n<table border=\"1\" class=\"dataframe\">\n  <thead>\n    <tr style=\"text-align: right;\">\n      <th></th>\n      <th>user_id</th>\n      <th>request_cnt</th>\n      <th>url_host</th>\n    </tr>\n  </thead>\n  <tbody>\n    <tr>\n      <th>3475</th>\n      <td>79395</td>\n      <td>1</td>\n      <td>0</td>\n    </tr>\n    <tr>\n      <th>3584</th>\n      <td>79395</td>\n      <td>1</td>\n      <td>0</td>\n    </tr>\n    <tr>\n      <th>3684</th>\n      <td>79395</td>\n      <td>1</td>\n      <td>0</td>\n    </tr>\n    <tr>\n      <th>4085</th>\n      <td>91294</td>\n      <td>1</td>\n      <td>0</td>\n    </tr>\n    <tr>\n      <th>4804</th>\n      <td>91294</td>\n      <td>1</td>\n      <td>0</td>\n    </tr>\n  </tbody>\n</table>\n</div>"
     },
     "metadata": {},
     "output_type": "display_data"
    },
    {
     "name": "stdout",
     "output_type": "stream",
     "text": [
      "<class 'pandas.core.frame.DataFrame'>\n",
      "Int64Index: 1305294 entries, 3475 to 322899386\n",
      "Data columns (total 3 columns):\n",
      " #   Column       Non-Null Count    Dtype\n",
      "---  ------       --------------    -----\n",
      " 0   user_id      1305294 non-null  int32\n",
      " 1   request_cnt  1305294 non-null  int8 \n",
      " 2   url_host     1305294 non-null  int64\n",
      "dtypes: int32(1), int64(1), int8(1)\n",
      "memory usage: 26.1 MB\n"
     ]
    },
    {
     "data": {
      "text/plain": "None"
     },
     "metadata": {},
     "output_type": "display_data"
    }
   ],
   "source": [
    "#оставляем только альтернативные женские сайты и задаем им одно имя\n",
    "exists_columns = np.load('other_female_urls.npy',allow_pickle=True)\n",
    "data = data.loc[data['url_host'].isin(exists_columns)]\n",
    "data['url_host'] = 0\n",
    "display(data.head())\n",
    "display(data.info())"
   ],
   "metadata": {
    "collapsed": false
   }
  },
  {
   "cell_type": "code",
   "execution_count": 9,
   "outputs": [
    {
     "data": {
      "text/plain": "   user_id  url_host  request_cnt\n0        0         0            1\n1        1         0            2\n2        3         0            1\n3        4         0            3\n4        5         0           28",
      "text/html": "<div>\n<style scoped>\n    .dataframe tbody tr th:only-of-type {\n        vertical-align: middle;\n    }\n\n    .dataframe tbody tr th {\n        vertical-align: top;\n    }\n\n    .dataframe thead th {\n        text-align: right;\n    }\n</style>\n<table border=\"1\" class=\"dataframe\">\n  <thead>\n    <tr style=\"text-align: right;\">\n      <th></th>\n      <th>user_id</th>\n      <th>url_host</th>\n      <th>request_cnt</th>\n    </tr>\n  </thead>\n  <tbody>\n    <tr>\n      <th>0</th>\n      <td>0</td>\n      <td>0</td>\n      <td>1</td>\n    </tr>\n    <tr>\n      <th>1</th>\n      <td>1</td>\n      <td>0</td>\n      <td>2</td>\n    </tr>\n    <tr>\n      <th>2</th>\n      <td>3</td>\n      <td>0</td>\n      <td>1</td>\n    </tr>\n    <tr>\n      <th>3</th>\n      <td>4</td>\n      <td>0</td>\n      <td>3</td>\n    </tr>\n    <tr>\n      <th>4</th>\n      <td>5</td>\n      <td>0</td>\n      <td>28</td>\n    </tr>\n  </tbody>\n</table>\n</div>"
     },
     "execution_count": 9,
     "metadata": {},
     "output_type": "execute_result"
    }
   ],
   "source": [
    "df = data.groupby(['user_id','url_host'],group_keys=False)['request_cnt'].sum().reset_index()\n",
    "df.head()"
   ],
   "metadata": {
    "collapsed": false
   }
  },
  {
   "cell_type": "code",
   "execution_count": 10,
   "outputs": [
    {
     "data": {
      "text/plain": "   user_id  request_cnt_sum  request_cnt\n0        0              193          1.0\n1        1             1047          2.0\n2        2              411          0.0\n3        3              275          1.0\n4        4              777          3.0",
      "text/html": "<div>\n<style scoped>\n    .dataframe tbody tr th:only-of-type {\n        vertical-align: middle;\n    }\n\n    .dataframe tbody tr th {\n        vertical-align: top;\n    }\n\n    .dataframe thead th {\n        text-align: right;\n    }\n</style>\n<table border=\"1\" class=\"dataframe\">\n  <thead>\n    <tr style=\"text-align: right;\">\n      <th></th>\n      <th>user_id</th>\n      <th>request_cnt_sum</th>\n      <th>request_cnt</th>\n    </tr>\n  </thead>\n  <tbody>\n    <tr>\n      <th>0</th>\n      <td>0</td>\n      <td>193</td>\n      <td>1.0</td>\n    </tr>\n    <tr>\n      <th>1</th>\n      <td>1</td>\n      <td>1047</td>\n      <td>2.0</td>\n    </tr>\n    <tr>\n      <th>2</th>\n      <td>2</td>\n      <td>411</td>\n      <td>0.0</td>\n    </tr>\n    <tr>\n      <th>3</th>\n      <td>3</td>\n      <td>275</td>\n      <td>1.0</td>\n    </tr>\n    <tr>\n      <th>4</th>\n      <td>4</td>\n      <td>777</td>\n      <td>3.0</td>\n    </tr>\n  </tbody>\n</table>\n</div>"
     },
     "metadata": {},
     "output_type": "display_data"
    },
    {
     "data": {
      "text/plain": "   user_id  other_female_urls_frac\n0        0                0.005181\n1        1                0.001910\n2        2                0.000000\n3        3                0.003636\n4        4                0.003861",
      "text/html": "<div>\n<style scoped>\n    .dataframe tbody tr th:only-of-type {\n        vertical-align: middle;\n    }\n\n    .dataframe tbody tr th {\n        vertical-align: top;\n    }\n\n    .dataframe thead th {\n        text-align: right;\n    }\n</style>\n<table border=\"1\" class=\"dataframe\">\n  <thead>\n    <tr style=\"text-align: right;\">\n      <th></th>\n      <th>user_id</th>\n      <th>other_female_urls_frac</th>\n    </tr>\n  </thead>\n  <tbody>\n    <tr>\n      <th>0</th>\n      <td>0</td>\n      <td>0.005181</td>\n    </tr>\n    <tr>\n      <th>1</th>\n      <td>1</td>\n      <td>0.001910</td>\n    </tr>\n    <tr>\n      <th>2</th>\n      <td>2</td>\n      <td>0.000000</td>\n    </tr>\n    <tr>\n      <th>3</th>\n      <td>3</td>\n      <td>0.003636</td>\n    </tr>\n    <tr>\n      <th>4</th>\n      <td>4</td>\n      <td>0.003861</td>\n    </tr>\n  </tbody>\n</table>\n</div>"
     },
     "metadata": {},
     "output_type": "display_data"
    }
   ],
   "source": [
    "data_sum = data_sum.merge(df[['request_cnt','user_id']], on = 'user_id', how = 'left')\n",
    "data_sum = data_sum.fillna(0)\n",
    "display(data_sum.head())\n",
    "\n",
    "data_sum['other_female_urls_frac'] = data_sum['request_cnt'] / data_sum['request_cnt_sum']\n",
    "data_sum['other_female_urls_frac'] = data_sum['other_female_urls_frac'].astype('float32')\n",
    "data_sum = data_sum.drop(['request_cnt_sum','request_cnt'],axis=1)\n",
    "display(data_sum.head())"
   ],
   "metadata": {
    "collapsed": false
   }
  },
  {
   "cell_type": "code",
   "execution_count": 8,
   "outputs": [
    {
     "data": {
      "text/plain": "   other_female_urls_frac\n0                0.005181\n1                0.001910\n2                0.000000\n3                0.003636\n4                0.003861",
      "text/html": "<div>\n<style scoped>\n    .dataframe tbody tr th:only-of-type {\n        vertical-align: middle;\n    }\n\n    .dataframe tbody tr th {\n        vertical-align: top;\n    }\n\n    .dataframe thead th {\n        text-align: right;\n    }\n</style>\n<table border=\"1\" class=\"dataframe\">\n  <thead>\n    <tr style=\"text-align: right;\">\n      <th></th>\n      <th>other_female_urls_frac</th>\n    </tr>\n  </thead>\n  <tbody>\n    <tr>\n      <th>0</th>\n      <td>0.005181</td>\n    </tr>\n    <tr>\n      <th>1</th>\n      <td>0.001910</td>\n    </tr>\n    <tr>\n      <th>2</th>\n      <td>0.000000</td>\n    </tr>\n    <tr>\n      <th>3</th>\n      <td>0.003636</td>\n    </tr>\n    <tr>\n      <th>4</th>\n      <td>0.003861</td>\n    </tr>\n  </tbody>\n</table>\n</div>"
     },
     "metadata": {},
     "output_type": "display_data"
    },
    {
     "name": "stdout",
     "output_type": "stream",
     "text": [
      "<class 'pandas.core.frame.DataFrame'>\n",
      "Int64Index: 415317 entries, 0 to 415316\n",
      "Data columns (total 1 columns):\n",
      " #   Column                  Non-Null Count   Dtype  \n",
      "---  ------                  --------------   -----  \n",
      " 0   other_female_urls_frac  415317 non-null  float32\n",
      "dtypes: float32(1)\n",
      "memory usage: 4.8 MB\n"
     ]
    },
    {
     "data": {
      "text/plain": "None"
     },
     "metadata": {},
     "output_type": "display_data"
    }
   ],
   "source": [
    "data_sum = data_sum.drop('user_id',axis=1)\n",
    "display(data_sum.head())\n",
    "display(data_sum.info())\n",
    "\n",
    "data_sum.to_parquet('..\\\\full_data\\\\figma_plan\\\\other_female_urls_frac.parquet', index=False)\n",
    "del data_sum"
   ],
   "metadata": {
    "collapsed": false
   }
  },
  {
   "cell_type": "markdown",
   "source": [
    "## Отношение запросов на альтернативные мужские сайты"
   ],
   "metadata": {
    "collapsed": false
   }
  },
  {
   "cell_type": "code",
   "execution_count": 9,
   "outputs": [
    {
     "name": "stdout",
     "output_type": "stream",
     "text": [
      "<class 'pandas.core.frame.DataFrame'>\n",
      "RangeIndex: 322899435 entries, 0 to 322899434\n",
      "Data columns (total 3 columns):\n",
      " #   Column       Dtype \n",
      "---  ------       ----- \n",
      " 0   user_id      int32 \n",
      " 1   request_cnt  int8  \n",
      " 2   url_host     object\n",
      "dtypes: int32(1), int8(1), object(1)\n",
      "memory usage: 3.9+ GB\n"
     ]
    },
    {
     "data": {
      "text/plain": "None"
     },
     "metadata": {},
     "output_type": "display_data"
    },
    {
     "data": {
      "text/plain": "user_id        0\nrequest_cnt    0\nurl_host       0\ndtype: int64"
     },
     "metadata": {},
     "output_type": "display_data"
    }
   ],
   "source": [
    "path = '..\\\\full_data\\\\competition_data_final_pqt'\n",
    "columns = {'user_id': 'int32','request_cnt': 'int8','url_host': 'object'}\n",
    "data = read_data(path,columns)\n",
    "display(data.info())\n",
    "display(data.isna().sum())"
   ],
   "metadata": {
    "collapsed": false
   }
  },
  {
   "cell_type": "code",
   "execution_count": 10,
   "outputs": [
    {
     "data": {
      "text/plain": "   user_id  request_cnt_sum\n0        0              193\n1        1             1047\n2        2              411\n3        3              275\n4        4              777",
      "text/html": "<div>\n<style scoped>\n    .dataframe tbody tr th:only-of-type {\n        vertical-align: middle;\n    }\n\n    .dataframe tbody tr th {\n        vertical-align: top;\n    }\n\n    .dataframe thead th {\n        text-align: right;\n    }\n</style>\n<table border=\"1\" class=\"dataframe\">\n  <thead>\n    <tr style=\"text-align: right;\">\n      <th></th>\n      <th>user_id</th>\n      <th>request_cnt_sum</th>\n    </tr>\n  </thead>\n  <tbody>\n    <tr>\n      <th>0</th>\n      <td>0</td>\n      <td>193</td>\n    </tr>\n    <tr>\n      <th>1</th>\n      <td>1</td>\n      <td>1047</td>\n    </tr>\n    <tr>\n      <th>2</th>\n      <td>2</td>\n      <td>411</td>\n    </tr>\n    <tr>\n      <th>3</th>\n      <td>3</td>\n      <td>275</td>\n    </tr>\n    <tr>\n      <th>4</th>\n      <td>4</td>\n      <td>777</td>\n    </tr>\n  </tbody>\n</table>\n</div>"
     },
     "metadata": {},
     "output_type": "display_data"
    },
    {
     "name": "stdout",
     "output_type": "stream",
     "text": [
      "<class 'pandas.core.frame.DataFrame'>\n",
      "RangeIndex: 415317 entries, 0 to 415316\n",
      "Data columns (total 2 columns):\n",
      " #   Column           Non-Null Count   Dtype\n",
      "---  ------           --------------   -----\n",
      " 0   user_id          415317 non-null  int32\n",
      " 1   request_cnt_sum  415317 non-null  int32\n",
      "dtypes: int32(2)\n",
      "memory usage: 3.2 MB\n"
     ]
    },
    {
     "data": {
      "text/plain": "None"
     },
     "metadata": {},
     "output_type": "display_data"
    }
   ],
   "source": [
    "#сохраняем данные о сумме перед удалением строк\n",
    "data_sum = data.groupby('user_id')['request_cnt'].sum().reset_index()\n",
    "data_sum['user_id'] = data_sum['user_id'].astype('int32')\n",
    "data_sum['request_cnt'] = data_sum['request_cnt'].astype('int32')\n",
    "data_sum = data_sum.rename(columns={'request_cnt':'request_cnt_sum'})\n",
    "display(data_sum.head())\n",
    "display(data_sum.info())"
   ],
   "metadata": {
    "collapsed": false
   }
  },
  {
   "cell_type": "code",
   "execution_count": 11,
   "outputs": [
    {
     "data": {
      "text/plain": "     user_id  request_cnt  url_host\n166    45098            1         0\n191    45098            1         0\n319    45098            1         0\n537    45098            1         0\n714    45098            1         0",
      "text/html": "<div>\n<style scoped>\n    .dataframe tbody tr th:only-of-type {\n        vertical-align: middle;\n    }\n\n    .dataframe tbody tr th {\n        vertical-align: top;\n    }\n\n    .dataframe thead th {\n        text-align: right;\n    }\n</style>\n<table border=\"1\" class=\"dataframe\">\n  <thead>\n    <tr style=\"text-align: right;\">\n      <th></th>\n      <th>user_id</th>\n      <th>request_cnt</th>\n      <th>url_host</th>\n    </tr>\n  </thead>\n  <tbody>\n    <tr>\n      <th>166</th>\n      <td>45098</td>\n      <td>1</td>\n      <td>0</td>\n    </tr>\n    <tr>\n      <th>191</th>\n      <td>45098</td>\n      <td>1</td>\n      <td>0</td>\n    </tr>\n    <tr>\n      <th>319</th>\n      <td>45098</td>\n      <td>1</td>\n      <td>0</td>\n    </tr>\n    <tr>\n      <th>537</th>\n      <td>45098</td>\n      <td>1</td>\n      <td>0</td>\n    </tr>\n    <tr>\n      <th>714</th>\n      <td>45098</td>\n      <td>1</td>\n      <td>0</td>\n    </tr>\n  </tbody>\n</table>\n</div>"
     },
     "metadata": {},
     "output_type": "display_data"
    },
    {
     "name": "stdout",
     "output_type": "stream",
     "text": [
      "<class 'pandas.core.frame.DataFrame'>\n",
      "Int64Index: 1303344 entries, 166 to 322899311\n",
      "Data columns (total 3 columns):\n",
      " #   Column       Non-Null Count    Dtype\n",
      "---  ------       --------------    -----\n",
      " 0   user_id      1303344 non-null  int32\n",
      " 1   request_cnt  1303344 non-null  int8 \n",
      " 2   url_host     1303344 non-null  int64\n",
      "dtypes: int32(1), int64(1), int8(1)\n",
      "memory usage: 26.1 MB\n"
     ]
    },
    {
     "data": {
      "text/plain": "None"
     },
     "metadata": {},
     "output_type": "display_data"
    }
   ],
   "source": [
    "#оставляем только альтернативные мужские сайты и задаем им одно имя\n",
    "exists_columns = np.load('other_male_urls.npy',allow_pickle=True)\n",
    "data = data.loc[data['url_host'].isin(exists_columns)]\n",
    "data['url_host'] = 0\n",
    "display(data.head())\n",
    "display(data.info())"
   ],
   "metadata": {
    "collapsed": false
   }
  },
  {
   "cell_type": "code",
   "execution_count": 12,
   "outputs": [
    {
     "data": {
      "text/plain": "   user_id  url_host  request_cnt\n0        1         0            1\n1        3         0            1\n2        5         0            1\n3        6         0            1\n4       10         0            5",
      "text/html": "<div>\n<style scoped>\n    .dataframe tbody tr th:only-of-type {\n        vertical-align: middle;\n    }\n\n    .dataframe tbody tr th {\n        vertical-align: top;\n    }\n\n    .dataframe thead th {\n        text-align: right;\n    }\n</style>\n<table border=\"1\" class=\"dataframe\">\n  <thead>\n    <tr style=\"text-align: right;\">\n      <th></th>\n      <th>user_id</th>\n      <th>url_host</th>\n      <th>request_cnt</th>\n    </tr>\n  </thead>\n  <tbody>\n    <tr>\n      <th>0</th>\n      <td>1</td>\n      <td>0</td>\n      <td>1</td>\n    </tr>\n    <tr>\n      <th>1</th>\n      <td>3</td>\n      <td>0</td>\n      <td>1</td>\n    </tr>\n    <tr>\n      <th>2</th>\n      <td>5</td>\n      <td>0</td>\n      <td>1</td>\n    </tr>\n    <tr>\n      <th>3</th>\n      <td>6</td>\n      <td>0</td>\n      <td>1</td>\n    </tr>\n    <tr>\n      <th>4</th>\n      <td>10</td>\n      <td>0</td>\n      <td>5</td>\n    </tr>\n  </tbody>\n</table>\n</div>"
     },
     "execution_count": 12,
     "metadata": {},
     "output_type": "execute_result"
    }
   ],
   "source": [
    "df = data.groupby(['user_id','url_host'],group_keys=False)['request_cnt'].sum().reset_index()\n",
    "df.head()"
   ],
   "metadata": {
    "collapsed": false
   }
  },
  {
   "cell_type": "code",
   "execution_count": 13,
   "outputs": [
    {
     "data": {
      "text/plain": "   user_id  request_cnt_sum  request_cnt\n0        0              193          0.0\n1        1             1047          1.0\n2        2              411          0.0\n3        3              275          1.0\n4        4              777          0.0",
      "text/html": "<div>\n<style scoped>\n    .dataframe tbody tr th:only-of-type {\n        vertical-align: middle;\n    }\n\n    .dataframe tbody tr th {\n        vertical-align: top;\n    }\n\n    .dataframe thead th {\n        text-align: right;\n    }\n</style>\n<table border=\"1\" class=\"dataframe\">\n  <thead>\n    <tr style=\"text-align: right;\">\n      <th></th>\n      <th>user_id</th>\n      <th>request_cnt_sum</th>\n      <th>request_cnt</th>\n    </tr>\n  </thead>\n  <tbody>\n    <tr>\n      <th>0</th>\n      <td>0</td>\n      <td>193</td>\n      <td>0.0</td>\n    </tr>\n    <tr>\n      <th>1</th>\n      <td>1</td>\n      <td>1047</td>\n      <td>1.0</td>\n    </tr>\n    <tr>\n      <th>2</th>\n      <td>2</td>\n      <td>411</td>\n      <td>0.0</td>\n    </tr>\n    <tr>\n      <th>3</th>\n      <td>3</td>\n      <td>275</td>\n      <td>1.0</td>\n    </tr>\n    <tr>\n      <th>4</th>\n      <td>4</td>\n      <td>777</td>\n      <td>0.0</td>\n    </tr>\n  </tbody>\n</table>\n</div>"
     },
     "metadata": {},
     "output_type": "display_data"
    },
    {
     "data": {
      "text/plain": "   user_id  other_male_urls_frac\n0        0              0.000000\n1        1              0.000955\n2        2              0.000000\n3        3              0.003636\n4        4              0.000000",
      "text/html": "<div>\n<style scoped>\n    .dataframe tbody tr th:only-of-type {\n        vertical-align: middle;\n    }\n\n    .dataframe tbody tr th {\n        vertical-align: top;\n    }\n\n    .dataframe thead th {\n        text-align: right;\n    }\n</style>\n<table border=\"1\" class=\"dataframe\">\n  <thead>\n    <tr style=\"text-align: right;\">\n      <th></th>\n      <th>user_id</th>\n      <th>other_male_urls_frac</th>\n    </tr>\n  </thead>\n  <tbody>\n    <tr>\n      <th>0</th>\n      <td>0</td>\n      <td>0.000000</td>\n    </tr>\n    <tr>\n      <th>1</th>\n      <td>1</td>\n      <td>0.000955</td>\n    </tr>\n    <tr>\n      <th>2</th>\n      <td>2</td>\n      <td>0.000000</td>\n    </tr>\n    <tr>\n      <th>3</th>\n      <td>3</td>\n      <td>0.003636</td>\n    </tr>\n    <tr>\n      <th>4</th>\n      <td>4</td>\n      <td>0.000000</td>\n    </tr>\n  </tbody>\n</table>\n</div>"
     },
     "metadata": {},
     "output_type": "display_data"
    }
   ],
   "source": [
    "data_sum = data_sum.merge(df[['request_cnt','user_id']], on = 'user_id', how = 'left')\n",
    "data_sum = data_sum.fillna(0)\n",
    "display(data_sum.head())\n",
    "\n",
    "data_sum['other_male_urls_frac'] = data_sum['request_cnt'] / data_sum['request_cnt_sum']\n",
    "data_sum['other_male_urls_frac'] = data_sum['other_male_urls_frac'].astype('float32')\n",
    "data_sum = data_sum.drop(['request_cnt_sum','request_cnt'],axis=1)\n",
    "display(data_sum.head())"
   ],
   "metadata": {
    "collapsed": false
   }
  },
  {
   "cell_type": "code",
   "execution_count": 14,
   "outputs": [
    {
     "data": {
      "text/plain": "   other_male_urls_frac\n0              0.000000\n1              0.000955\n2              0.000000\n3              0.003636\n4              0.000000",
      "text/html": "<div>\n<style scoped>\n    .dataframe tbody tr th:only-of-type {\n        vertical-align: middle;\n    }\n\n    .dataframe tbody tr th {\n        vertical-align: top;\n    }\n\n    .dataframe thead th {\n        text-align: right;\n    }\n</style>\n<table border=\"1\" class=\"dataframe\">\n  <thead>\n    <tr style=\"text-align: right;\">\n      <th></th>\n      <th>other_male_urls_frac</th>\n    </tr>\n  </thead>\n  <tbody>\n    <tr>\n      <th>0</th>\n      <td>0.000000</td>\n    </tr>\n    <tr>\n      <th>1</th>\n      <td>0.000955</td>\n    </tr>\n    <tr>\n      <th>2</th>\n      <td>0.000000</td>\n    </tr>\n    <tr>\n      <th>3</th>\n      <td>0.003636</td>\n    </tr>\n    <tr>\n      <th>4</th>\n      <td>0.000000</td>\n    </tr>\n  </tbody>\n</table>\n</div>"
     },
     "metadata": {},
     "output_type": "display_data"
    },
    {
     "name": "stdout",
     "output_type": "stream",
     "text": [
      "<class 'pandas.core.frame.DataFrame'>\n",
      "Int64Index: 415317 entries, 0 to 415316\n",
      "Data columns (total 1 columns):\n",
      " #   Column                Non-Null Count   Dtype  \n",
      "---  ------                --------------   -----  \n",
      " 0   other_male_urls_frac  415317 non-null  float32\n",
      "dtypes: float32(1)\n",
      "memory usage: 4.8 MB\n"
     ]
    },
    {
     "data": {
      "text/plain": "None"
     },
     "metadata": {},
     "output_type": "display_data"
    }
   ],
   "source": [
    "data_sum = data_sum.drop('user_id',axis=1)\n",
    "display(data_sum.head())\n",
    "display(data_sum.info())\n",
    "\n",
    "data_sum.to_parquet('..\\\\full_data\\\\figma_plan\\\\other_male_urls_frac.parquet', index=False)\n",
    "del data_sum"
   ],
   "metadata": {
    "collapsed": false
   }
  },
  {
   "cell_type": "markdown",
   "source": [
    "## male_probability_by_urls Вероятность того, что человек мужчина, опираясь на все сайты."
   ],
   "metadata": {
    "collapsed": false
   }
  },
  {
   "cell_type": "markdown",
   "source": [
    "### Создаем словарь"
   ],
   "metadata": {
    "collapsed": false
   }
  },
  {
   "cell_type": "code",
   "execution_count": 3,
   "outputs": [
    {
     "name": "stdout",
     "output_type": "stream",
     "text": [
      "<class 'pandas.core.frame.DataFrame'>\n",
      "RangeIndex: 322899435 entries, 0 to 322899434\n",
      "Data columns (total 3 columns):\n",
      " #   Column       Dtype \n",
      "---  ------       ----- \n",
      " 0   user_id      int32 \n",
      " 1   request_cnt  int8  \n",
      " 2   url_host     object\n",
      "dtypes: int32(1), int8(1), object(1)\n",
      "memory usage: 3.9+ GB\n"
     ]
    },
    {
     "data": {
      "text/plain": "None"
     },
     "metadata": {},
     "output_type": "display_data"
    }
   ],
   "source": [
    "path = '..\\\\full_data\\\\competition_data_final_pqt'\n",
    "columns = {'user_id': 'int32','request_cnt': 'int8','url_host': 'object'}\n",
    "data = read_data(path,columns)\n",
    "display(data.info())\n",
    "#display(data.isna().sum())"
   ],
   "metadata": {
    "collapsed": false
   }
  },
  {
   "cell_type": "code",
   "execution_count": 4,
   "outputs": [
    {
     "data": {
      "text/plain": "                                     url_host  male_fraction\n0                                          -1       0.866277\n1  0--stranger-livejournal-com.turbopages.org       0.666667\n2                                      0-1.ru       0.911765\n3                                     0-34.ru       0.000000\n4                                     0-50.ru       0.666667",
      "text/html": "<div>\n<style scoped>\n    .dataframe tbody tr th:only-of-type {\n        vertical-align: middle;\n    }\n\n    .dataframe tbody tr th {\n        vertical-align: top;\n    }\n\n    .dataframe thead th {\n        text-align: right;\n    }\n</style>\n<table border=\"1\" class=\"dataframe\">\n  <thead>\n    <tr style=\"text-align: right;\">\n      <th></th>\n      <th>url_host</th>\n      <th>male_fraction</th>\n    </tr>\n  </thead>\n  <tbody>\n    <tr>\n      <th>0</th>\n      <td>-1</td>\n      <td>0.866277</td>\n    </tr>\n    <tr>\n      <th>1</th>\n      <td>0--stranger-livejournal-com.turbopages.org</td>\n      <td>0.666667</td>\n    </tr>\n    <tr>\n      <th>2</th>\n      <td>0-1.ru</td>\n      <td>0.911765</td>\n    </tr>\n    <tr>\n      <th>3</th>\n      <td>0-34.ru</td>\n      <td>0.000000</td>\n    </tr>\n    <tr>\n      <th>4</th>\n      <td>0-50.ru</td>\n      <td>0.666667</td>\n    </tr>\n  </tbody>\n</table>\n</div>"
     },
     "metadata": {},
     "output_type": "display_data"
    },
    {
     "name": "stdout",
     "output_type": "stream",
     "text": [
      "<class 'pandas.core.frame.DataFrame'>\n",
      "RangeIndex: 170834 entries, 0 to 170833\n",
      "Data columns (total 2 columns):\n",
      " #   Column         Non-Null Count   Dtype  \n",
      "---  ------         --------------   -----  \n",
      " 0   url_host       170834 non-null  object \n",
      " 1   male_fraction  170834 non-null  float32\n",
      "dtypes: float32(1), object(1)\n",
      "memory usage: 2.0+ MB\n"
     ]
    },
    {
     "data": {
      "text/plain": "None"
     },
     "metadata": {},
     "output_type": "display_data"
    }
   ],
   "source": [
    "target = pd.read_parquet('..\\\\full_data\\\\public_train.pqt',columns=['user_id','is_male'])\n",
    "target['user_id'] = target['user_id'].astype('int32')\n",
    "target['is_male'] = target['is_male'].astype('object')\n",
    "\n",
    "# добавляем target, удаляем nan\n",
    "data = data.merge(target[['is_male','user_id']], on = 'user_id', how = 'inner')\n",
    "del target\n",
    "data = data.loc[~(data['is_male'].isna()) & (data['is_male'] != 'NA')]\n",
    "data['is_male'] = data['is_male'].astype('int8')\n",
    "\n",
    "data['male_request_cnt'] = data['is_male'] * data['request_cnt']\n",
    "data = data.groupby('url_host').agg({'request_cnt':'sum','male_request_cnt':'sum'})\n",
    "data['male_fraction'] = data['male_request_cnt']/data['request_cnt']\n",
    "data['male_fraction'] = data['male_fraction'].astype('float32')\n",
    "data = data.drop(['request_cnt','male_request_cnt'],axis=1).reset_index()\n",
    "display(data.head())\n",
    "display(data.info())"
   ],
   "metadata": {
    "collapsed": false
   }
  },
  {
   "cell_type": "code",
   "execution_count": 6,
   "outputs": [],
   "source": [
    "data.to_parquet('..\\\\full_data\\\\male_fraction_urls.parquet', index=False)"
   ],
   "metadata": {
    "collapsed": false
   }
  },
  {
   "cell_type": "markdown",
   "source": [
    "### По словарю считаем вероятности"
   ],
   "metadata": {
    "collapsed": false
   }
  },
  {
   "cell_type": "code",
   "execution_count": 4,
   "outputs": [
    {
     "name": "stdout",
     "output_type": "stream",
     "text": [
      "<class 'pandas.core.frame.DataFrame'>\n",
      "RangeIndex: 322899435 entries, 0 to 322899434\n",
      "Data columns (total 3 columns):\n",
      " #   Column       Dtype \n",
      "---  ------       ----- \n",
      " 0   user_id      int32 \n",
      " 1   request_cnt  int8  \n",
      " 2   url_host     object\n",
      "dtypes: int32(1), int8(1), object(1)\n",
      "memory usage: 3.9+ GB\n"
     ]
    },
    {
     "data": {
      "text/plain": "None"
     },
     "metadata": {},
     "output_type": "display_data"
    }
   ],
   "source": [
    "path = '..\\\\full_data\\\\competition_data_final_pqt'\n",
    "columns = {'user_id': 'int32','request_cnt': 'int8','url_host': 'object'}\n",
    "data = read_data(path,columns)\n",
    "display(data.info())\n",
    "#display(data.isna().sum())"
   ],
   "metadata": {
    "collapsed": false
   }
  },
  {
   "cell_type": "code",
   "execution_count": 18,
   "outputs": [
    {
     "data": {
      "text/plain": "   user_id                url_host  request_cnt\n0        0           ad.adriver.ru            1\n1        0              ad.mail.ru            6\n2        0            ads.adfox.ru            5\n3        0  ads.betweendigital.com            2\n4        0  avatars.mds.yandex.net            9",
      "text/html": "<div>\n<style scoped>\n    .dataframe tbody tr th:only-of-type {\n        vertical-align: middle;\n    }\n\n    .dataframe tbody tr th {\n        vertical-align: top;\n    }\n\n    .dataframe thead th {\n        text-align: right;\n    }\n</style>\n<table border=\"1\" class=\"dataframe\">\n  <thead>\n    <tr style=\"text-align: right;\">\n      <th></th>\n      <th>user_id</th>\n      <th>url_host</th>\n      <th>request_cnt</th>\n    </tr>\n  </thead>\n  <tbody>\n    <tr>\n      <th>0</th>\n      <td>0</td>\n      <td>ad.adriver.ru</td>\n      <td>1</td>\n    </tr>\n    <tr>\n      <th>1</th>\n      <td>0</td>\n      <td>ad.mail.ru</td>\n      <td>6</td>\n    </tr>\n    <tr>\n      <th>2</th>\n      <td>0</td>\n      <td>ads.adfox.ru</td>\n      <td>5</td>\n    </tr>\n    <tr>\n      <th>3</th>\n      <td>0</td>\n      <td>ads.betweendigital.com</td>\n      <td>2</td>\n    </tr>\n    <tr>\n      <th>4</th>\n      <td>0</td>\n      <td>avatars.mds.yandex.net</td>\n      <td>9</td>\n    </tr>\n  </tbody>\n</table>\n</div>"
     },
     "metadata": {},
     "output_type": "display_data"
    },
    {
     "data": {
      "text/plain": "                                     url_host  male_fraction\n0                                          -1       0.866277\n1  0--stranger-livejournal-com.turbopages.org       0.666667\n2                                      0-1.ru       0.911765\n3                                     0-34.ru       0.000000\n4                                     0-50.ru       0.666667",
      "text/html": "<div>\n<style scoped>\n    .dataframe tbody tr th:only-of-type {\n        vertical-align: middle;\n    }\n\n    .dataframe tbody tr th {\n        vertical-align: top;\n    }\n\n    .dataframe thead th {\n        text-align: right;\n    }\n</style>\n<table border=\"1\" class=\"dataframe\">\n  <thead>\n    <tr style=\"text-align: right;\">\n      <th></th>\n      <th>url_host</th>\n      <th>male_fraction</th>\n    </tr>\n  </thead>\n  <tbody>\n    <tr>\n      <th>0</th>\n      <td>-1</td>\n      <td>0.866277</td>\n    </tr>\n    <tr>\n      <th>1</th>\n      <td>0--stranger-livejournal-com.turbopages.org</td>\n      <td>0.666667</td>\n    </tr>\n    <tr>\n      <th>2</th>\n      <td>0-1.ru</td>\n      <td>0.911765</td>\n    </tr>\n    <tr>\n      <th>3</th>\n      <td>0-34.ru</td>\n      <td>0.000000</td>\n    </tr>\n    <tr>\n      <th>4</th>\n      <td>0-50.ru</td>\n      <td>0.666667</td>\n    </tr>\n  </tbody>\n</table>\n</div>"
     },
     "metadata": {},
     "output_type": "display_data"
    },
    {
     "data": {
      "text/plain": "user_id              0\nurl_host             0\nrequest_cnt          0\nmale_fraction    34921\ndtype: int64"
     },
     "metadata": {},
     "output_type": "display_data"
    },
    {
     "data": {
      "text/plain": "user_id          0\nurl_host         0\nrequest_cnt      0\nmale_fraction    0\ndtype: int64"
     },
     "metadata": {},
     "output_type": "display_data"
    },
    {
     "data": {
      "text/plain": "   user_id                url_host  request_cnt  male_fraction  male_request\n0        0           ad.adriver.ru            1       0.509663      0.509663\n1        0              ad.mail.ru            6       0.501986      3.011917\n2        0            ads.adfox.ru            5       0.555583      2.777917\n3        0  ads.betweendigital.com            2       0.497218      0.994436\n4        0  avatars.mds.yandex.net            9       0.556834      5.011503",
      "text/html": "<div>\n<style scoped>\n    .dataframe tbody tr th:only-of-type {\n        vertical-align: middle;\n    }\n\n    .dataframe tbody tr th {\n        vertical-align: top;\n    }\n\n    .dataframe thead th {\n        text-align: right;\n    }\n</style>\n<table border=\"1\" class=\"dataframe\">\n  <thead>\n    <tr style=\"text-align: right;\">\n      <th></th>\n      <th>user_id</th>\n      <th>url_host</th>\n      <th>request_cnt</th>\n      <th>male_fraction</th>\n      <th>male_request</th>\n    </tr>\n  </thead>\n  <tbody>\n    <tr>\n      <th>0</th>\n      <td>0</td>\n      <td>ad.adriver.ru</td>\n      <td>1</td>\n      <td>0.509663</td>\n      <td>0.509663</td>\n    </tr>\n    <tr>\n      <th>1</th>\n      <td>0</td>\n      <td>ad.mail.ru</td>\n      <td>6</td>\n      <td>0.501986</td>\n      <td>3.011917</td>\n    </tr>\n    <tr>\n      <th>2</th>\n      <td>0</td>\n      <td>ads.adfox.ru</td>\n      <td>5</td>\n      <td>0.555583</td>\n      <td>2.777917</td>\n    </tr>\n    <tr>\n      <th>3</th>\n      <td>0</td>\n      <td>ads.betweendigital.com</td>\n      <td>2</td>\n      <td>0.497218</td>\n      <td>0.994436</td>\n    </tr>\n    <tr>\n      <th>4</th>\n      <td>0</td>\n      <td>avatars.mds.yandex.net</td>\n      <td>9</td>\n      <td>0.556834</td>\n      <td>5.011503</td>\n    </tr>\n  </tbody>\n</table>\n</div>"
     },
     "metadata": {},
     "output_type": "display_data"
    },
    {
     "data": {
      "text/plain": "   user_id  request_cnt  male_request  male_probability_by_urls\n0        0          193     96.594768                  0.500491\n1        1         1047    548.609396                  0.523982\n2        2          411    216.172861                  0.525968\n3        3          275    142.951323                  0.519823\n4        4          777    396.324330                  0.510070",
      "text/html": "<div>\n<style scoped>\n    .dataframe tbody tr th:only-of-type {\n        vertical-align: middle;\n    }\n\n    .dataframe tbody tr th {\n        vertical-align: top;\n    }\n\n    .dataframe thead th {\n        text-align: right;\n    }\n</style>\n<table border=\"1\" class=\"dataframe\">\n  <thead>\n    <tr style=\"text-align: right;\">\n      <th></th>\n      <th>user_id</th>\n      <th>request_cnt</th>\n      <th>male_request</th>\n      <th>male_probability_by_urls</th>\n    </tr>\n  </thead>\n  <tbody>\n    <tr>\n      <th>0</th>\n      <td>0</td>\n      <td>193</td>\n      <td>96.594768</td>\n      <td>0.500491</td>\n    </tr>\n    <tr>\n      <th>1</th>\n      <td>1</td>\n      <td>1047</td>\n      <td>548.609396</td>\n      <td>0.523982</td>\n    </tr>\n    <tr>\n      <th>2</th>\n      <td>2</td>\n      <td>411</td>\n      <td>216.172861</td>\n      <td>0.525968</td>\n    </tr>\n    <tr>\n      <th>3</th>\n      <td>3</td>\n      <td>275</td>\n      <td>142.951323</td>\n      <td>0.519823</td>\n    </tr>\n    <tr>\n      <th>4</th>\n      <td>4</td>\n      <td>777</td>\n      <td>396.324330</td>\n      <td>0.510070</td>\n    </tr>\n  </tbody>\n</table>\n</div>"
     },
     "metadata": {},
     "output_type": "display_data"
    },
    {
     "name": "stdout",
     "output_type": "stream",
     "text": [
      "<class 'pandas.core.frame.DataFrame'>\n",
      "RangeIndex: 415317 entries, 0 to 415316\n",
      "Data columns (total 4 columns):\n",
      " #   Column                    Non-Null Count   Dtype  \n",
      "---  ------                    --------------   -----  \n",
      " 0   user_id                   415317 non-null  int64  \n",
      " 1   request_cnt               415317 non-null  int64  \n",
      " 2   male_request              415317 non-null  float64\n",
      " 3   male_probability_by_urls  415317 non-null  float32\n",
      "dtypes: float32(1), float64(1), int64(2)\n",
      "memory usage: 11.1 MB\n"
     ]
    },
    {
     "data": {
      "text/plain": "None"
     },
     "metadata": {},
     "output_type": "display_data"
    }
   ],
   "source": [
    "df = data.groupby(['user_id','url_host'],group_keys=False)['request_cnt'].sum().reset_index()\n",
    "display(df.head())\n",
    "frac_dict = pd.read_parquet('..\\\\full_data\\\\male_fraction_urls.parquet')\n",
    "display(frac_dict.head())\n",
    "\n",
    "df = df.merge(frac_dict[['male_fraction','url_host']], on = 'url_host', how = 'left')\n",
    "display(df.isna().sum())\n",
    "df = df.fillna(0.5)\n",
    "display(df.isna().sum())\n",
    "df['male_request'] = df['request_cnt'] * df['male_fraction']\n",
    "display(df.head())\n",
    "\n",
    "df = df.groupby('user_id').agg({'request_cnt':'sum','male_request':'sum'}).reset_index()\n",
    "df['male_probability_by_urls'] = df['male_request'] / df['request_cnt']\n",
    "df['male_probability_by_urls'] = df['male_probability_by_urls'].astype('float32')\n",
    "display(df.head())\n",
    "display(df.info())"
   ],
   "metadata": {
    "collapsed": false
   }
  },
  {
   "cell_type": "code",
   "execution_count": null,
   "outputs": [],
   "source": [
    "df = df.drop(['user_id','male_request','request_cnt'],axis=1)\n",
    "df.to_parquet('..\\\\full_data\\\\figma_plan\\\\male_probability_by_urls.parquet', index=False)"
   ],
   "metadata": {
    "collapsed": false,
    "pycharm": {
     "is_executing": true
    }
   }
  },
  {
   "cell_type": "markdown",
   "source": [
    "## Объединяем весь датасет"
   ],
   "metadata": {
    "collapsed": false
   }
  },
  {
   "cell_type": "code",
   "execution_count": 3,
   "outputs": [
    {
     "data": {
      "text/plain": "   user_id region_name_0 region_name_1 region_name_2 region_name_3  \\\n0        0             0             0             0             0   \n1        1             0             0             0             0   \n2        2             0             0             0             0   \n3        3             0             0             0             0   \n4        4             0             0             0             0   \n\n  region_name_4 region_name_5 region_name_6  region_count city_name_0  ...  \\\n0             0             0             1             1           0  ...   \n1             0             0             1             3           0  ...   \n2             0             1             0             1           0  ...   \n3             0             1             1             1           0  ...   \n4             1             0             0             5           0  ...   \n\n  bukvaprava.ru belnovosti-by.turbopages.org ngs24-ru.turbopages.org  \\\n0           0.0                          0.0                     0.0   \n1           0.0                          0.0                     0.0   \n2           0.0                          0.0                     0.0   \n3           0.0                          0.0                     0.0   \n4           0.0                          0.0                     0.0   \n\n  forum.mfd.ru yomed.ru 7info.ru other_url other_female_urls_frac  \\\n0          0.0      0.0      0.0  0.031088               0.005181   \n1          0.0      0.0      0.0  0.013372               0.001910   \n2          0.0      0.0      0.0  0.002433               0.000000   \n3          0.0      0.0      0.0  0.010909               0.003636   \n4          0.0      0.0      0.0  0.011583               0.003861   \n\n  other_male_urls_frac  male_probability_by_urls  \n0             0.000000                  0.500491  \n1             0.000955                  0.523982  \n2             0.000000                  0.525968  \n3             0.003636                  0.519823  \n4             0.000000                  0.510070  \n\n[5 rows x 3038 columns]",
      "text/html": "<div>\n<style scoped>\n    .dataframe tbody tr th:only-of-type {\n        vertical-align: middle;\n    }\n\n    .dataframe tbody tr th {\n        vertical-align: top;\n    }\n\n    .dataframe thead th {\n        text-align: right;\n    }\n</style>\n<table border=\"1\" class=\"dataframe\">\n  <thead>\n    <tr style=\"text-align: right;\">\n      <th></th>\n      <th>user_id</th>\n      <th>region_name_0</th>\n      <th>region_name_1</th>\n      <th>region_name_2</th>\n      <th>region_name_3</th>\n      <th>region_name_4</th>\n      <th>region_name_5</th>\n      <th>region_name_6</th>\n      <th>region_count</th>\n      <th>city_name_0</th>\n      <th>...</th>\n      <th>bukvaprava.ru</th>\n      <th>belnovosti-by.turbopages.org</th>\n      <th>ngs24-ru.turbopages.org</th>\n      <th>forum.mfd.ru</th>\n      <th>yomed.ru</th>\n      <th>7info.ru</th>\n      <th>other_url</th>\n      <th>other_female_urls_frac</th>\n      <th>other_male_urls_frac</th>\n      <th>male_probability_by_urls</th>\n    </tr>\n  </thead>\n  <tbody>\n    <tr>\n      <th>0</th>\n      <td>0</td>\n      <td>0</td>\n      <td>0</td>\n      <td>0</td>\n      <td>0</td>\n      <td>0</td>\n      <td>0</td>\n      <td>1</td>\n      <td>1</td>\n      <td>0</td>\n      <td>...</td>\n      <td>0.0</td>\n      <td>0.0</td>\n      <td>0.0</td>\n      <td>0.0</td>\n      <td>0.0</td>\n      <td>0.0</td>\n      <td>0.031088</td>\n      <td>0.005181</td>\n      <td>0.000000</td>\n      <td>0.500491</td>\n    </tr>\n    <tr>\n      <th>1</th>\n      <td>1</td>\n      <td>0</td>\n      <td>0</td>\n      <td>0</td>\n      <td>0</td>\n      <td>0</td>\n      <td>0</td>\n      <td>1</td>\n      <td>3</td>\n      <td>0</td>\n      <td>...</td>\n      <td>0.0</td>\n      <td>0.0</td>\n      <td>0.0</td>\n      <td>0.0</td>\n      <td>0.0</td>\n      <td>0.0</td>\n      <td>0.013372</td>\n      <td>0.001910</td>\n      <td>0.000955</td>\n      <td>0.523982</td>\n    </tr>\n    <tr>\n      <th>2</th>\n      <td>2</td>\n      <td>0</td>\n      <td>0</td>\n      <td>0</td>\n      <td>0</td>\n      <td>0</td>\n      <td>1</td>\n      <td>0</td>\n      <td>1</td>\n      <td>0</td>\n      <td>...</td>\n      <td>0.0</td>\n      <td>0.0</td>\n      <td>0.0</td>\n      <td>0.0</td>\n      <td>0.0</td>\n      <td>0.0</td>\n      <td>0.002433</td>\n      <td>0.000000</td>\n      <td>0.000000</td>\n      <td>0.525968</td>\n    </tr>\n    <tr>\n      <th>3</th>\n      <td>3</td>\n      <td>0</td>\n      <td>0</td>\n      <td>0</td>\n      <td>0</td>\n      <td>0</td>\n      <td>1</td>\n      <td>1</td>\n      <td>1</td>\n      <td>0</td>\n      <td>...</td>\n      <td>0.0</td>\n      <td>0.0</td>\n      <td>0.0</td>\n      <td>0.0</td>\n      <td>0.0</td>\n      <td>0.0</td>\n      <td>0.010909</td>\n      <td>0.003636</td>\n      <td>0.003636</td>\n      <td>0.519823</td>\n    </tr>\n    <tr>\n      <th>4</th>\n      <td>4</td>\n      <td>0</td>\n      <td>0</td>\n      <td>0</td>\n      <td>0</td>\n      <td>1</td>\n      <td>0</td>\n      <td>0</td>\n      <td>5</td>\n      <td>0</td>\n      <td>...</td>\n      <td>0.0</td>\n      <td>0.0</td>\n      <td>0.0</td>\n      <td>0.0</td>\n      <td>0.0</td>\n      <td>0.0</td>\n      <td>0.011583</td>\n      <td>0.003861</td>\n      <td>0.000000</td>\n      <td>0.510070</td>\n    </tr>\n  </tbody>\n</table>\n<p>5 rows × 3038 columns</p>\n</div>"
     },
     "metadata": {},
     "output_type": "display_data"
    },
    {
     "name": "stdout",
     "output_type": "stream",
     "text": [
      "<class 'pandas.core.frame.DataFrame'>\n",
      "RangeIndex: 415317 entries, 0 to 415316\n",
      "Columns: 3038 entries, user_id to male_probability_by_urls\n",
      "dtypes: category(26), float32(3009), int32(1), int8(2)\n",
      "memory usage: 4.7 GB\n"
     ]
    },
    {
     "data": {
      "text/plain": "None"
     },
     "metadata": {},
     "output_type": "display_data"
    }
   ],
   "source": [
    "list_parquet = glob.glob(\"..\\\\full_data\\\\figma_plan\\\\*.parquet\")\n",
    "\n",
    "df = pd.DataFrame()\n",
    "for path in list_parquet:\n",
    "    part_df = dd.read_parquet(path).compute()\n",
    "    df = pd.concat([df,part_df],axis=1)\n",
    "\n",
    "display(df.head())\n",
    "display(df.info())\n"
   ],
   "metadata": {
    "collapsed": false
   }
  },
  {
   "cell_type": "code",
   "execution_count": 4,
   "outputs": [],
   "source": [
    "#сохранение полного датасета\n",
    "df.to_parquet('..\\\\full_data\\\\figma_plan\\\\full_gender_data.parquet', index=False)\n",
    "del df"
   ],
   "metadata": {
    "collapsed": false
   }
  }
 ],
 "metadata": {
  "kernelspec": {
   "display_name": "Python 3",
   "language": "python",
   "name": "python3"
  },
  "language_info": {
   "codemirror_mode": {
    "name": "ipython",
    "version": 2
   },
   "file_extension": ".py",
   "mimetype": "text/x-python",
   "name": "python",
   "nbconvert_exporter": "python",
   "pygments_lexer": "ipython2",
   "version": "2.7.6"
  }
 },
 "nbformat": 4,
 "nbformat_minor": 0
}
