{
 "cells": [
  {
   "cell_type": "code",
   "execution_count": 1,
   "outputs": [],
   "source": [
    "import pandas as pd\n",
    "import dask.dataframe as dd\n",
    "\n",
    "from category_encoders.binary import BinaryEncoder"
   ],
   "metadata": {
    "collapsed": false
   }
  },
  {
   "cell_type": "markdown",
   "source": [
    "## Функция для чтения данных"
   ],
   "metadata": {
    "collapsed": false
   }
  },
  {
   "cell_type": "code",
   "execution_count": 5,
   "outputs": [],
   "source": [
    "def read_data(path,columns):\n",
    "    data = pd.DataFrame()\n",
    "    for name_column, column_type in columns.items():\n",
    "        df_column = pd.DataFrame()\n",
    "        for i in range(10):\n",
    "            data_features_file = dd.read_parquet(\n",
    "                path + f'\\\\part-0000{i}-aba60f69-2b63-4cc1-95ca-542598094698-c000.snappy.parquet')\n",
    "            df_column = pd.concat([df_column, data_features_file[name_column].compute()], ignore_index=True)\n",
    "        data[name_column] = df_column.astype(column_type)\n",
    "    return data"
   ],
   "metadata": {
    "collapsed": false
   }
  },
  {
   "cell_type": "markdown",
   "source": [
    "## Популярный регион, всего регионов binary encoder"
   ],
   "metadata": {
    "collapsed": false
   }
  },
  {
   "cell_type": "code",
   "execution_count": 6,
   "outputs": [
    {
     "name": "stdout",
     "output_type": "stream",
     "text": [
      "<class 'pandas.core.frame.DataFrame'>\n",
      "RangeIndex: 322899435 entries, 0 to 322899434\n",
      "Data columns (total 2 columns):\n",
      " #   Column       Dtype   \n",
      "---  ------       -----   \n",
      " 0   user_id      int32   \n",
      " 1   region_name  category\n",
      "dtypes: category(1), int32(1)\n",
      "memory usage: 1.5 GB\n"
     ]
    }
   ],
   "source": [
    "path = '..\\\\full_data\\\\competition_data_final_pqt'\n",
    "columns = {'user_id': 'int32', 'region_name': 'category'}\n",
    "data = read_data(path,columns)\n",
    "data.info()"
   ],
   "metadata": {
    "collapsed": false
   }
  },
  {
   "cell_type": "code",
   "execution_count": 34,
   "outputs": [
    {
     "name": "stdout",
     "output_type": "stream",
     "text": [
      "<class 'pandas.core.series.Series'>\n",
      "MultiIndex: 33640677 entries, (0, 'Алтайский край') to (415316, 'Ярославская область')\n",
      "Series name: top_region\n",
      "Non-Null Count     Dtype\n",
      "--------------     -----\n",
      "33640677 non-null  int64\n",
      "dtypes: int64(1)\n",
      "memory usage: 436.4 MB\n"
     ]
    },
    {
     "data": {
      "text/plain": "None"
     },
     "metadata": {},
     "output_type": "display_data"
    },
    {
     "name": "stdout",
     "output_type": "stream",
     "text": [
      "MultiIndex([(     0,             'Алтайский край'),\n",
      "            (     0,           'Амурская область'),\n",
      "            (     0,      'Архангельская область'),\n",
      "            (     0,       'Астраханская область'),\n",
      "            (     0,       'Белгородская область'),\n",
      "            (     0,           'Брянская область'),\n",
      "            (     0,       'Владимирская область'),\n",
      "            (     0,      'Волгоградская область'),\n",
      "            (     0,        'Вологодская область'),\n",
      "            (     0,        'Воронежская область'),\n",
      "            ...\n",
      "            (415316,      'Удмуртская Республика'),\n",
      "            (415316,        'Ульяновская область'),\n",
      "            (415316,           'Хабаровский край'),\n",
      "            (415316, 'Ханты-Мансийский АО — Югра'),\n",
      "            (415316,        'Челябинская область'),\n",
      "            (415316,       'Чеченская Республика'),\n",
      "            (415316,       'Чувашская Республика'),\n",
      "            (415316,               'Чукотский АО'),\n",
      "            (415316,          'Ямало-Ненецкий АО'),\n",
      "            (415316,        'Ярославская область')],\n",
      "           names=['user_id', 'region_name'], length=33640677)\n"
     ]
    },
    {
     "data": {
      "text/plain": "    user_id              region_name  top_region\n0         0                   Москва         131\n1         1                   Москва         572\n2         1       Московская область          37\n3         1          Санкт-Петербург          91\n4         2          Республика Коми         356\n5         3      Воронежская область         188\n6         4    Волгоградская область          23\n7         4       Краснодарский край         459\n8         4  Республика Башкортостан          97\n9         4        Самарская область          11\n10        4      Саратовская область           1\n11        5    Ленинградская область        2021\n12        5          Санкт-Петербург         498\n13        6       Московская область         456\n14        7                   Москва         239\n15        7       Московская область         222\n16        8    Нижегородская область         976\n17        9    Нижегородская область         315\n18       10    Нижегородская область        1679\n19       11          Приморский край         571",
      "text/html": "<div>\n<style scoped>\n    .dataframe tbody tr th:only-of-type {\n        vertical-align: middle;\n    }\n\n    .dataframe tbody tr th {\n        vertical-align: top;\n    }\n\n    .dataframe thead th {\n        text-align: right;\n    }\n</style>\n<table border=\"1\" class=\"dataframe\">\n  <thead>\n    <tr style=\"text-align: right;\">\n      <th></th>\n      <th>user_id</th>\n      <th>region_name</th>\n      <th>top_region</th>\n    </tr>\n  </thead>\n  <tbody>\n    <tr>\n      <th>0</th>\n      <td>0</td>\n      <td>Москва</td>\n      <td>131</td>\n    </tr>\n    <tr>\n      <th>1</th>\n      <td>1</td>\n      <td>Москва</td>\n      <td>572</td>\n    </tr>\n    <tr>\n      <th>2</th>\n      <td>1</td>\n      <td>Московская область</td>\n      <td>37</td>\n    </tr>\n    <tr>\n      <th>3</th>\n      <td>1</td>\n      <td>Санкт-Петербург</td>\n      <td>91</td>\n    </tr>\n    <tr>\n      <th>4</th>\n      <td>2</td>\n      <td>Республика Коми</td>\n      <td>356</td>\n    </tr>\n    <tr>\n      <th>5</th>\n      <td>3</td>\n      <td>Воронежская область</td>\n      <td>188</td>\n    </tr>\n    <tr>\n      <th>6</th>\n      <td>4</td>\n      <td>Волгоградская область</td>\n      <td>23</td>\n    </tr>\n    <tr>\n      <th>7</th>\n      <td>4</td>\n      <td>Краснодарский край</td>\n      <td>459</td>\n    </tr>\n    <tr>\n      <th>8</th>\n      <td>4</td>\n      <td>Республика Башкортостан</td>\n      <td>97</td>\n    </tr>\n    <tr>\n      <th>9</th>\n      <td>4</td>\n      <td>Самарская область</td>\n      <td>11</td>\n    </tr>\n    <tr>\n      <th>10</th>\n      <td>4</td>\n      <td>Саратовская область</td>\n      <td>1</td>\n    </tr>\n    <tr>\n      <th>11</th>\n      <td>5</td>\n      <td>Ленинградская область</td>\n      <td>2021</td>\n    </tr>\n    <tr>\n      <th>12</th>\n      <td>5</td>\n      <td>Санкт-Петербург</td>\n      <td>498</td>\n    </tr>\n    <tr>\n      <th>13</th>\n      <td>6</td>\n      <td>Московская область</td>\n      <td>456</td>\n    </tr>\n    <tr>\n      <th>14</th>\n      <td>7</td>\n      <td>Москва</td>\n      <td>239</td>\n    </tr>\n    <tr>\n      <th>15</th>\n      <td>7</td>\n      <td>Московская область</td>\n      <td>222</td>\n    </tr>\n    <tr>\n      <th>16</th>\n      <td>8</td>\n      <td>Нижегородская область</td>\n      <td>976</td>\n    </tr>\n    <tr>\n      <th>17</th>\n      <td>9</td>\n      <td>Нижегородская область</td>\n      <td>315</td>\n    </tr>\n    <tr>\n      <th>18</th>\n      <td>10</td>\n      <td>Нижегородская область</td>\n      <td>1679</td>\n    </tr>\n    <tr>\n      <th>19</th>\n      <td>11</td>\n      <td>Приморский край</td>\n      <td>571</td>\n    </tr>\n  </tbody>\n</table>\n</div>"
     },
     "metadata": {},
     "output_type": "display_data"
    }
   ],
   "source": [
    "# в top_region количество строк с этим регионом у юзера\n",
    "df = data.groupby(['user_id', 'region_name'])['region_name'].count()\n",
    "df.name = 'top_region'\n",
    "\n",
    "display(df.info())\n",
    "print(df.index)\n",
    "\n",
    "# удаляем из фрейма города, в которых не был человек\n",
    "df = df[df != 0].reset_index()\n",
    "display(df.head(20))\n",
    "# в скольки регионах бывал пользователь\n",
    "region_count = df.groupby('user_id', group_keys=False)['region_name'].count()\n",
    "#оставляем только топовые регионы для каждого пользоватеоля\n",
    "df = df.sort_values(by='top_region', ascending=False).drop_duplicates(subset='user_id', keep='first', ignore_index=True)\n",
    "df = df.drop('top_region', axis=1)\n",
    "#сортируем и добавляем колонку\n",
    "df = df.sort_values(by='user_id').reset_index(drop=True)\n",
    "df['region_count'] = region_count"
   ],
   "metadata": {
    "collapsed": false
   }
  },
  {
   "cell_type": "code",
   "execution_count": 35,
   "outputs": [
    {
     "data": {
      "text/plain": "        user_id            region_name  region_count\n0             0                 Москва             1\n1             1                 Москва             3\n2             2        Республика Коми             1\n3             3    Воронежская область             1\n4             4     Краснодарский край             5\n...         ...                    ...           ...\n415312   415312     Тамбовская область             1\n415313   415313    Саратовская область             1\n415314   415314  Новосибирская область             1\n415315   415315     Краснодарский край             1\n415316   415316  Удмуртская Республика             1\n\n[415317 rows x 3 columns]",
      "text/html": "<div>\n<style scoped>\n    .dataframe tbody tr th:only-of-type {\n        vertical-align: middle;\n    }\n\n    .dataframe tbody tr th {\n        vertical-align: top;\n    }\n\n    .dataframe thead th {\n        text-align: right;\n    }\n</style>\n<table border=\"1\" class=\"dataframe\">\n  <thead>\n    <tr style=\"text-align: right;\">\n      <th></th>\n      <th>user_id</th>\n      <th>region_name</th>\n      <th>region_count</th>\n    </tr>\n  </thead>\n  <tbody>\n    <tr>\n      <th>0</th>\n      <td>0</td>\n      <td>Москва</td>\n      <td>1</td>\n    </tr>\n    <tr>\n      <th>1</th>\n      <td>1</td>\n      <td>Москва</td>\n      <td>3</td>\n    </tr>\n    <tr>\n      <th>2</th>\n      <td>2</td>\n      <td>Республика Коми</td>\n      <td>1</td>\n    </tr>\n    <tr>\n      <th>3</th>\n      <td>3</td>\n      <td>Воронежская область</td>\n      <td>1</td>\n    </tr>\n    <tr>\n      <th>4</th>\n      <td>4</td>\n      <td>Краснодарский край</td>\n      <td>5</td>\n    </tr>\n    <tr>\n      <th>...</th>\n      <td>...</td>\n      <td>...</td>\n      <td>...</td>\n    </tr>\n    <tr>\n      <th>415312</th>\n      <td>415312</td>\n      <td>Тамбовская область</td>\n      <td>1</td>\n    </tr>\n    <tr>\n      <th>415313</th>\n      <td>415313</td>\n      <td>Саратовская область</td>\n      <td>1</td>\n    </tr>\n    <tr>\n      <th>415314</th>\n      <td>415314</td>\n      <td>Новосибирская область</td>\n      <td>1</td>\n    </tr>\n    <tr>\n      <th>415315</th>\n      <td>415315</td>\n      <td>Краснодарский край</td>\n      <td>1</td>\n    </tr>\n    <tr>\n      <th>415316</th>\n      <td>415316</td>\n      <td>Удмуртская Республика</td>\n      <td>1</td>\n    </tr>\n  </tbody>\n</table>\n<p>415317 rows × 3 columns</p>\n</div>"
     },
     "metadata": {},
     "output_type": "display_data"
    },
    {
     "data": {
      "text/plain": "        user_id  region_name_0  region_name_1  region_name_2  region_name_3  \\\n0             0              0              0              0              0   \n1             1              0              0              0              0   \n2             2              0              0              0              0   \n3             3              0              0              0              0   \n4             4              0              0              0              0   \n...         ...            ...            ...            ...            ...   \n415312   415312              1              0              0              0   \n415313   415313              0              0              1              1   \n415314   415314              0              0              1              0   \n415315   415315              0              0              0              0   \n415316   415316              0              0              0              1   \n\n        region_name_4  region_name_5  region_name_6  region_count  \n0                   0              0              1             1  \n1                   0              0              1             3  \n2                   0              1              0             1  \n3                   0              1              1             1  \n4                   1              0              0             5  \n...               ...            ...            ...           ...  \n415312              1              1              0             1  \n415313              0              0              0             1  \n415314              0              1              1             1  \n415315              1              0              0             1  \n415316              0              1              1             1  \n\n[415317 rows x 9 columns]",
      "text/html": "<div>\n<style scoped>\n    .dataframe tbody tr th:only-of-type {\n        vertical-align: middle;\n    }\n\n    .dataframe tbody tr th {\n        vertical-align: top;\n    }\n\n    .dataframe thead th {\n        text-align: right;\n    }\n</style>\n<table border=\"1\" class=\"dataframe\">\n  <thead>\n    <tr style=\"text-align: right;\">\n      <th></th>\n      <th>user_id</th>\n      <th>region_name_0</th>\n      <th>region_name_1</th>\n      <th>region_name_2</th>\n      <th>region_name_3</th>\n      <th>region_name_4</th>\n      <th>region_name_5</th>\n      <th>region_name_6</th>\n      <th>region_count</th>\n    </tr>\n  </thead>\n  <tbody>\n    <tr>\n      <th>0</th>\n      <td>0</td>\n      <td>0</td>\n      <td>0</td>\n      <td>0</td>\n      <td>0</td>\n      <td>0</td>\n      <td>0</td>\n      <td>1</td>\n      <td>1</td>\n    </tr>\n    <tr>\n      <th>1</th>\n      <td>1</td>\n      <td>0</td>\n      <td>0</td>\n      <td>0</td>\n      <td>0</td>\n      <td>0</td>\n      <td>0</td>\n      <td>1</td>\n      <td>3</td>\n    </tr>\n    <tr>\n      <th>2</th>\n      <td>2</td>\n      <td>0</td>\n      <td>0</td>\n      <td>0</td>\n      <td>0</td>\n      <td>0</td>\n      <td>1</td>\n      <td>0</td>\n      <td>1</td>\n    </tr>\n    <tr>\n      <th>3</th>\n      <td>3</td>\n      <td>0</td>\n      <td>0</td>\n      <td>0</td>\n      <td>0</td>\n      <td>0</td>\n      <td>1</td>\n      <td>1</td>\n      <td>1</td>\n    </tr>\n    <tr>\n      <th>4</th>\n      <td>4</td>\n      <td>0</td>\n      <td>0</td>\n      <td>0</td>\n      <td>0</td>\n      <td>1</td>\n      <td>0</td>\n      <td>0</td>\n      <td>5</td>\n    </tr>\n    <tr>\n      <th>...</th>\n      <td>...</td>\n      <td>...</td>\n      <td>...</td>\n      <td>...</td>\n      <td>...</td>\n      <td>...</td>\n      <td>...</td>\n      <td>...</td>\n      <td>...</td>\n    </tr>\n    <tr>\n      <th>415312</th>\n      <td>415312</td>\n      <td>1</td>\n      <td>0</td>\n      <td>0</td>\n      <td>0</td>\n      <td>1</td>\n      <td>1</td>\n      <td>0</td>\n      <td>1</td>\n    </tr>\n    <tr>\n      <th>415313</th>\n      <td>415313</td>\n      <td>0</td>\n      <td>0</td>\n      <td>1</td>\n      <td>1</td>\n      <td>0</td>\n      <td>0</td>\n      <td>0</td>\n      <td>1</td>\n    </tr>\n    <tr>\n      <th>415314</th>\n      <td>415314</td>\n      <td>0</td>\n      <td>0</td>\n      <td>1</td>\n      <td>0</td>\n      <td>0</td>\n      <td>1</td>\n      <td>1</td>\n      <td>1</td>\n    </tr>\n    <tr>\n      <th>415315</th>\n      <td>415315</td>\n      <td>0</td>\n      <td>0</td>\n      <td>0</td>\n      <td>0</td>\n      <td>1</td>\n      <td>0</td>\n      <td>0</td>\n      <td>1</td>\n    </tr>\n    <tr>\n      <th>415316</th>\n      <td>415316</td>\n      <td>0</td>\n      <td>0</td>\n      <td>0</td>\n      <td>1</td>\n      <td>0</td>\n      <td>1</td>\n      <td>1</td>\n      <td>1</td>\n    </tr>\n  </tbody>\n</table>\n<p>415317 rows × 9 columns</p>\n</div>"
     },
     "metadata": {},
     "output_type": "display_data"
    }
   ],
   "source": [
    "display(df)\n",
    "be = BinaryEncoder(cols=['region_name'],return_df=True)\n",
    "df = be.fit_transform(df)\n",
    "display(df)"
   ],
   "metadata": {
    "collapsed": false
   }
  },
  {
   "cell_type": "code",
   "execution_count": 36,
   "outputs": [
    {
     "name": "stdout",
     "output_type": "stream",
     "text": [
      "<class 'pandas.core.frame.DataFrame'>\n",
      "RangeIndex: 415317 entries, 0 to 415316\n",
      "Data columns (total 9 columns):\n",
      " #   Column         Non-Null Count   Dtype\n",
      "---  ------         --------------   -----\n",
      " 0   user_id        415317 non-null  int64\n",
      " 1   region_name_0  415317 non-null  int64\n",
      " 2   region_name_1  415317 non-null  int64\n",
      " 3   region_name_2  415317 non-null  int64\n",
      " 4   region_name_3  415317 non-null  int64\n",
      " 5   region_name_4  415317 non-null  int64\n",
      " 6   region_name_5  415317 non-null  int64\n",
      " 7   region_name_6  415317 non-null  int64\n",
      " 8   region_count   415317 non-null  int64\n",
      "dtypes: int64(9)\n",
      "memory usage: 28.5 MB\n"
     ]
    },
    {
     "data": {
      "text/plain": "None"
     },
     "metadata": {},
     "output_type": "display_data"
    },
    {
     "name": "stdout",
     "output_type": "stream",
     "text": [
      "41\n",
      "415316\n",
      "<class 'pandas.core.frame.DataFrame'>\n",
      "RangeIndex: 415317 entries, 0 to 415316\n",
      "Data columns (total 9 columns):\n",
      " #   Column         Non-Null Count   Dtype   \n",
      "---  ------         --------------   -----   \n",
      " 0   user_id        415317 non-null  int32   \n",
      " 1   region_name_0  415317 non-null  category\n",
      " 2   region_name_1  415317 non-null  category\n",
      " 3   region_name_2  415317 non-null  category\n",
      " 4   region_name_3  415317 non-null  category\n",
      " 5   region_name_4  415317 non-null  category\n",
      " 6   region_name_5  415317 non-null  category\n",
      " 7   region_name_6  415317 non-null  category\n",
      " 8   region_count   415317 non-null  int8    \n",
      "dtypes: category(7), int32(1), int8(1)\n",
      "memory usage: 4.8 MB\n"
     ]
    },
    {
     "data": {
      "text/plain": "None"
     },
     "metadata": {},
     "output_type": "display_data"
    }
   ],
   "source": [
    "display(df.info())\n",
    "print(df['region_count'].max()) #int8\n",
    "print(df['user_id'].max()) #int32\n",
    "\n",
    "df[['region_count']] = df[['region_count']].astype('int8')\n",
    "df[['user_id']] = df[['user_id']].astype('int32')\n",
    "df[df.columns[~df.columns.isin(['region_count','user_id'])]] = df[df.columns[~df.columns.isin(['region_count','user_id'])]].astype('category')\n",
    "\n",
    "display(df.info())\n"
   ],
   "metadata": {
    "collapsed": false
   }
  },
  {
   "cell_type": "code",
   "execution_count": 38,
   "outputs": [],
   "source": [
    "df.to_parquet('..\\\\full_data\\\\figma_plan\\\\region.parquet', index=False)"
   ],
   "metadata": {
    "collapsed": false
   }
  }
 ],
 "metadata": {
  "kernelspec": {
   "display_name": "Python 3",
   "language": "python",
   "name": "python3"
  },
  "language_info": {
   "codemirror_mode": {
    "name": "ipython",
    "version": 2
   },
   "file_extension": ".py",
   "mimetype": "text/x-python",
   "name": "python",
   "nbconvert_exporter": "python",
   "pygments_lexer": "ipython2",
   "version": "2.7.6"
  }
 },
 "nbformat": 4,
 "nbformat_minor": 0
}
