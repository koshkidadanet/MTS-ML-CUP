{
 "cells": [
  {
   "cell_type": "code",
   "execution_count": 1,
   "outputs": [],
   "source": [
    "import pandas as pd\n",
    "import dask.dataframe as dd\n",
    "\n",
    "from category_encoders.binary import BinaryEncoder"
   ],
   "metadata": {
    "collapsed": false
   }
  },
  {
   "cell_type": "markdown",
   "source": [
    "## Функция для чтения данных"
   ],
   "metadata": {
    "collapsed": false
   }
  },
  {
   "cell_type": "code",
   "execution_count": 2,
   "outputs": [],
   "source": [
    "def read_data(path,columns):\n",
    "    data = pd.DataFrame()\n",
    "    for name_column, column_type in columns.items():\n",
    "        df_column = pd.DataFrame()\n",
    "        for i in range(10):\n",
    "            data_features_file = dd.read_parquet(\n",
    "                path + f'\\\\part-0000{i}-aba60f69-2b63-4cc1-95ca-542598094698-c000.snappy.parquet')\n",
    "            df_column = pd.concat([df_column, data_features_file[name_column].compute()], ignore_index=True)\n",
    "        data[name_column] = df_column.astype(column_type)\n",
    "    return data"
   ],
   "metadata": {
    "collapsed": false
   }
  },
  {
   "cell_type": "markdown",
   "source": [
    "## Популярный регион, всего регионов binary encoder"
   ],
   "metadata": {
    "collapsed": false
   }
  },
  {
   "cell_type": "code",
   "execution_count": 6,
   "outputs": [
    {
     "name": "stdout",
     "output_type": "stream",
     "text": [
      "<class 'pandas.core.frame.DataFrame'>\n",
      "RangeIndex: 322899435 entries, 0 to 322899434\n",
      "Data columns (total 2 columns):\n",
      " #   Column       Dtype   \n",
      "---  ------       -----   \n",
      " 0   user_id      int32   \n",
      " 1   region_name  category\n",
      "dtypes: category(1), int32(1)\n",
      "memory usage: 1.5 GB\n"
     ]
    }
   ],
   "source": [
    "path = '..\\\\full_data\\\\competition_data_final_pqt'\n",
    "columns = {'user_id': 'int32', 'region_name': 'category'}\n",
    "data = read_data(path,columns)\n",
    "data.info()"
   ],
   "metadata": {
    "collapsed": false
   }
  },
  {
   "cell_type": "code",
   "execution_count": 34,
   "outputs": [
    {
     "name": "stdout",
     "output_type": "stream",
     "text": [
      "<class 'pandas.core.series.Series'>\n",
      "MultiIndex: 33640677 entries, (0, 'Алтайский край') to (415316, 'Ярославская область')\n",
      "Series name: top_region\n",
      "Non-Null Count     Dtype\n",
      "--------------     -----\n",
      "33640677 non-null  int64\n",
      "dtypes: int64(1)\n",
      "memory usage: 436.4 MB\n"
     ]
    },
    {
     "data": {
      "text/plain": "None"
     },
     "metadata": {},
     "output_type": "display_data"
    },
    {
     "name": "stdout",
     "output_type": "stream",
     "text": [
      "MultiIndex([(     0,             'Алтайский край'),\n",
      "            (     0,           'Амурская область'),\n",
      "            (     0,      'Архангельская область'),\n",
      "            (     0,       'Астраханская область'),\n",
      "            (     0,       'Белгородская область'),\n",
      "            (     0,           'Брянская область'),\n",
      "            (     0,       'Владимирская область'),\n",
      "            (     0,      'Волгоградская область'),\n",
      "            (     0,        'Вологодская область'),\n",
      "            (     0,        'Воронежская область'),\n",
      "            ...\n",
      "            (415316,      'Удмуртская Республика'),\n",
      "            (415316,        'Ульяновская область'),\n",
      "            (415316,           'Хабаровский край'),\n",
      "            (415316, 'Ханты-Мансийский АО — Югра'),\n",
      "            (415316,        'Челябинская область'),\n",
      "            (415316,       'Чеченская Республика'),\n",
      "            (415316,       'Чувашская Республика'),\n",
      "            (415316,               'Чукотский АО'),\n",
      "            (415316,          'Ямало-Ненецкий АО'),\n",
      "            (415316,        'Ярославская область')],\n",
      "           names=['user_id', 'region_name'], length=33640677)\n"
     ]
    },
    {
     "data": {
      "text/plain": "    user_id              region_name  top_region\n0         0                   Москва         131\n1         1                   Москва         572\n2         1       Московская область          37\n3         1          Санкт-Петербург          91\n4         2          Республика Коми         356\n5         3      Воронежская область         188\n6         4    Волгоградская область          23\n7         4       Краснодарский край         459\n8         4  Республика Башкортостан          97\n9         4        Самарская область          11\n10        4      Саратовская область           1\n11        5    Ленинградская область        2021\n12        5          Санкт-Петербург         498\n13        6       Московская область         456\n14        7                   Москва         239\n15        7       Московская область         222\n16        8    Нижегородская область         976\n17        9    Нижегородская область         315\n18       10    Нижегородская область        1679\n19       11          Приморский край         571",
      "text/html": "<div>\n<style scoped>\n    .dataframe tbody tr th:only-of-type {\n        vertical-align: middle;\n    }\n\n    .dataframe tbody tr th {\n        vertical-align: top;\n    }\n\n    .dataframe thead th {\n        text-align: right;\n    }\n</style>\n<table border=\"1\" class=\"dataframe\">\n  <thead>\n    <tr style=\"text-align: right;\">\n      <th></th>\n      <th>user_id</th>\n      <th>region_name</th>\n      <th>top_region</th>\n    </tr>\n  </thead>\n  <tbody>\n    <tr>\n      <th>0</th>\n      <td>0</td>\n      <td>Москва</td>\n      <td>131</td>\n    </tr>\n    <tr>\n      <th>1</th>\n      <td>1</td>\n      <td>Москва</td>\n      <td>572</td>\n    </tr>\n    <tr>\n      <th>2</th>\n      <td>1</td>\n      <td>Московская область</td>\n      <td>37</td>\n    </tr>\n    <tr>\n      <th>3</th>\n      <td>1</td>\n      <td>Санкт-Петербург</td>\n      <td>91</td>\n    </tr>\n    <tr>\n      <th>4</th>\n      <td>2</td>\n      <td>Республика Коми</td>\n      <td>356</td>\n    </tr>\n    <tr>\n      <th>5</th>\n      <td>3</td>\n      <td>Воронежская область</td>\n      <td>188</td>\n    </tr>\n    <tr>\n      <th>6</th>\n      <td>4</td>\n      <td>Волгоградская область</td>\n      <td>23</td>\n    </tr>\n    <tr>\n      <th>7</th>\n      <td>4</td>\n      <td>Краснодарский край</td>\n      <td>459</td>\n    </tr>\n    <tr>\n      <th>8</th>\n      <td>4</td>\n      <td>Республика Башкортостан</td>\n      <td>97</td>\n    </tr>\n    <tr>\n      <th>9</th>\n      <td>4</td>\n      <td>Самарская область</td>\n      <td>11</td>\n    </tr>\n    <tr>\n      <th>10</th>\n      <td>4</td>\n      <td>Саратовская область</td>\n      <td>1</td>\n    </tr>\n    <tr>\n      <th>11</th>\n      <td>5</td>\n      <td>Ленинградская область</td>\n      <td>2021</td>\n    </tr>\n    <tr>\n      <th>12</th>\n      <td>5</td>\n      <td>Санкт-Петербург</td>\n      <td>498</td>\n    </tr>\n    <tr>\n      <th>13</th>\n      <td>6</td>\n      <td>Московская область</td>\n      <td>456</td>\n    </tr>\n    <tr>\n      <th>14</th>\n      <td>7</td>\n      <td>Москва</td>\n      <td>239</td>\n    </tr>\n    <tr>\n      <th>15</th>\n      <td>7</td>\n      <td>Московская область</td>\n      <td>222</td>\n    </tr>\n    <tr>\n      <th>16</th>\n      <td>8</td>\n      <td>Нижегородская область</td>\n      <td>976</td>\n    </tr>\n    <tr>\n      <th>17</th>\n      <td>9</td>\n      <td>Нижегородская область</td>\n      <td>315</td>\n    </tr>\n    <tr>\n      <th>18</th>\n      <td>10</td>\n      <td>Нижегородская область</td>\n      <td>1679</td>\n    </tr>\n    <tr>\n      <th>19</th>\n      <td>11</td>\n      <td>Приморский край</td>\n      <td>571</td>\n    </tr>\n  </tbody>\n</table>\n</div>"
     },
     "metadata": {},
     "output_type": "display_data"
    }
   ],
   "source": [
    "# в top_region количество строк с этим регионом у юзера\n",
    "df = data.groupby(['user_id', 'region_name'])['region_name'].count()\n",
    "df.name = 'top_region'\n",
    "\n",
    "display(df.info())\n",
    "print(df.index)\n",
    "\n",
    "# удаляем из фрейма города, в которых не был человек\n",
    "df = df[df != 0].reset_index()\n",
    "display(df.head(20))\n",
    "# в скольки регионах бывал пользователь\n",
    "region_count = df.groupby('user_id', group_keys=False)['region_name'].count()\n",
    "#оставляем только топовые регионы для каждого пользоватеоля\n",
    "df = df.sort_values(by='top_region', ascending=False).drop_duplicates(subset='user_id', keep='first', ignore_index=True)\n",
    "df = df.drop('top_region', axis=1)\n",
    "#сортируем и добавляем колонку\n",
    "df = df.sort_values(by='user_id').reset_index(drop=True)\n",
    "df['region_count'] = region_count"
   ],
   "metadata": {
    "collapsed": false
   }
  },
  {
   "cell_type": "code",
   "execution_count": 35,
   "outputs": [
    {
     "data": {
      "text/plain": "        user_id            region_name  region_count\n0             0                 Москва             1\n1             1                 Москва             3\n2             2        Республика Коми             1\n3             3    Воронежская область             1\n4             4     Краснодарский край             5\n...         ...                    ...           ...\n415312   415312     Тамбовская область             1\n415313   415313    Саратовская область             1\n415314   415314  Новосибирская область             1\n415315   415315     Краснодарский край             1\n415316   415316  Удмуртская Республика             1\n\n[415317 rows x 3 columns]",
      "text/html": "<div>\n<style scoped>\n    .dataframe tbody tr th:only-of-type {\n        vertical-align: middle;\n    }\n\n    .dataframe tbody tr th {\n        vertical-align: top;\n    }\n\n    .dataframe thead th {\n        text-align: right;\n    }\n</style>\n<table border=\"1\" class=\"dataframe\">\n  <thead>\n    <tr style=\"text-align: right;\">\n      <th></th>\n      <th>user_id</th>\n      <th>region_name</th>\n      <th>region_count</th>\n    </tr>\n  </thead>\n  <tbody>\n    <tr>\n      <th>0</th>\n      <td>0</td>\n      <td>Москва</td>\n      <td>1</td>\n    </tr>\n    <tr>\n      <th>1</th>\n      <td>1</td>\n      <td>Москва</td>\n      <td>3</td>\n    </tr>\n    <tr>\n      <th>2</th>\n      <td>2</td>\n      <td>Республика Коми</td>\n      <td>1</td>\n    </tr>\n    <tr>\n      <th>3</th>\n      <td>3</td>\n      <td>Воронежская область</td>\n      <td>1</td>\n    </tr>\n    <tr>\n      <th>4</th>\n      <td>4</td>\n      <td>Краснодарский край</td>\n      <td>5</td>\n    </tr>\n    <tr>\n      <th>...</th>\n      <td>...</td>\n      <td>...</td>\n      <td>...</td>\n    </tr>\n    <tr>\n      <th>415312</th>\n      <td>415312</td>\n      <td>Тамбовская область</td>\n      <td>1</td>\n    </tr>\n    <tr>\n      <th>415313</th>\n      <td>415313</td>\n      <td>Саратовская область</td>\n      <td>1</td>\n    </tr>\n    <tr>\n      <th>415314</th>\n      <td>415314</td>\n      <td>Новосибирская область</td>\n      <td>1</td>\n    </tr>\n    <tr>\n      <th>415315</th>\n      <td>415315</td>\n      <td>Краснодарский край</td>\n      <td>1</td>\n    </tr>\n    <tr>\n      <th>415316</th>\n      <td>415316</td>\n      <td>Удмуртская Республика</td>\n      <td>1</td>\n    </tr>\n  </tbody>\n</table>\n<p>415317 rows × 3 columns</p>\n</div>"
     },
     "metadata": {},
     "output_type": "display_data"
    },
    {
     "data": {
      "text/plain": "        user_id  region_name_0  region_name_1  region_name_2  region_name_3  \\\n0             0              0              0              0              0   \n1             1              0              0              0              0   \n2             2              0              0              0              0   \n3             3              0              0              0              0   \n4             4              0              0              0              0   \n...         ...            ...            ...            ...            ...   \n415312   415312              1              0              0              0   \n415313   415313              0              0              1              1   \n415314   415314              0              0              1              0   \n415315   415315              0              0              0              0   \n415316   415316              0              0              0              1   \n\n        region_name_4  region_name_5  region_name_6  region_count  \n0                   0              0              1             1  \n1                   0              0              1             3  \n2                   0              1              0             1  \n3                   0              1              1             1  \n4                   1              0              0             5  \n...               ...            ...            ...           ...  \n415312              1              1              0             1  \n415313              0              0              0             1  \n415314              0              1              1             1  \n415315              1              0              0             1  \n415316              0              1              1             1  \n\n[415317 rows x 9 columns]",
      "text/html": "<div>\n<style scoped>\n    .dataframe tbody tr th:only-of-type {\n        vertical-align: middle;\n    }\n\n    .dataframe tbody tr th {\n        vertical-align: top;\n    }\n\n    .dataframe thead th {\n        text-align: right;\n    }\n</style>\n<table border=\"1\" class=\"dataframe\">\n  <thead>\n    <tr style=\"text-align: right;\">\n      <th></th>\n      <th>user_id</th>\n      <th>region_name_0</th>\n      <th>region_name_1</th>\n      <th>region_name_2</th>\n      <th>region_name_3</th>\n      <th>region_name_4</th>\n      <th>region_name_5</th>\n      <th>region_name_6</th>\n      <th>region_count</th>\n    </tr>\n  </thead>\n  <tbody>\n    <tr>\n      <th>0</th>\n      <td>0</td>\n      <td>0</td>\n      <td>0</td>\n      <td>0</td>\n      <td>0</td>\n      <td>0</td>\n      <td>0</td>\n      <td>1</td>\n      <td>1</td>\n    </tr>\n    <tr>\n      <th>1</th>\n      <td>1</td>\n      <td>0</td>\n      <td>0</td>\n      <td>0</td>\n      <td>0</td>\n      <td>0</td>\n      <td>0</td>\n      <td>1</td>\n      <td>3</td>\n    </tr>\n    <tr>\n      <th>2</th>\n      <td>2</td>\n      <td>0</td>\n      <td>0</td>\n      <td>0</td>\n      <td>0</td>\n      <td>0</td>\n      <td>1</td>\n      <td>0</td>\n      <td>1</td>\n    </tr>\n    <tr>\n      <th>3</th>\n      <td>3</td>\n      <td>0</td>\n      <td>0</td>\n      <td>0</td>\n      <td>0</td>\n      <td>0</td>\n      <td>1</td>\n      <td>1</td>\n      <td>1</td>\n    </tr>\n    <tr>\n      <th>4</th>\n      <td>4</td>\n      <td>0</td>\n      <td>0</td>\n      <td>0</td>\n      <td>0</td>\n      <td>1</td>\n      <td>0</td>\n      <td>0</td>\n      <td>5</td>\n    </tr>\n    <tr>\n      <th>...</th>\n      <td>...</td>\n      <td>...</td>\n      <td>...</td>\n      <td>...</td>\n      <td>...</td>\n      <td>...</td>\n      <td>...</td>\n      <td>...</td>\n      <td>...</td>\n    </tr>\n    <tr>\n      <th>415312</th>\n      <td>415312</td>\n      <td>1</td>\n      <td>0</td>\n      <td>0</td>\n      <td>0</td>\n      <td>1</td>\n      <td>1</td>\n      <td>0</td>\n      <td>1</td>\n    </tr>\n    <tr>\n      <th>415313</th>\n      <td>415313</td>\n      <td>0</td>\n      <td>0</td>\n      <td>1</td>\n      <td>1</td>\n      <td>0</td>\n      <td>0</td>\n      <td>0</td>\n      <td>1</td>\n    </tr>\n    <tr>\n      <th>415314</th>\n      <td>415314</td>\n      <td>0</td>\n      <td>0</td>\n      <td>1</td>\n      <td>0</td>\n      <td>0</td>\n      <td>1</td>\n      <td>1</td>\n      <td>1</td>\n    </tr>\n    <tr>\n      <th>415315</th>\n      <td>415315</td>\n      <td>0</td>\n      <td>0</td>\n      <td>0</td>\n      <td>0</td>\n      <td>1</td>\n      <td>0</td>\n      <td>0</td>\n      <td>1</td>\n    </tr>\n    <tr>\n      <th>415316</th>\n      <td>415316</td>\n      <td>0</td>\n      <td>0</td>\n      <td>0</td>\n      <td>1</td>\n      <td>0</td>\n      <td>1</td>\n      <td>1</td>\n      <td>1</td>\n    </tr>\n  </tbody>\n</table>\n<p>415317 rows × 9 columns</p>\n</div>"
     },
     "metadata": {},
     "output_type": "display_data"
    }
   ],
   "source": [
    "display(df)\n",
    "be = BinaryEncoder(cols=['region_name'],return_df=True)\n",
    "df = be.fit_transform(df)\n",
    "display(df)"
   ],
   "metadata": {
    "collapsed": false
   }
  },
  {
   "cell_type": "code",
   "execution_count": 36,
   "outputs": [
    {
     "name": "stdout",
     "output_type": "stream",
     "text": [
      "<class 'pandas.core.frame.DataFrame'>\n",
      "RangeIndex: 415317 entries, 0 to 415316\n",
      "Data columns (total 9 columns):\n",
      " #   Column         Non-Null Count   Dtype\n",
      "---  ------         --------------   -----\n",
      " 0   user_id        415317 non-null  int64\n",
      " 1   region_name_0  415317 non-null  int64\n",
      " 2   region_name_1  415317 non-null  int64\n",
      " 3   region_name_2  415317 non-null  int64\n",
      " 4   region_name_3  415317 non-null  int64\n",
      " 5   region_name_4  415317 non-null  int64\n",
      " 6   region_name_5  415317 non-null  int64\n",
      " 7   region_name_6  415317 non-null  int64\n",
      " 8   region_count   415317 non-null  int64\n",
      "dtypes: int64(9)\n",
      "memory usage: 28.5 MB\n"
     ]
    },
    {
     "data": {
      "text/plain": "None"
     },
     "metadata": {},
     "output_type": "display_data"
    },
    {
     "name": "stdout",
     "output_type": "stream",
     "text": [
      "41\n",
      "415316\n",
      "<class 'pandas.core.frame.DataFrame'>\n",
      "RangeIndex: 415317 entries, 0 to 415316\n",
      "Data columns (total 9 columns):\n",
      " #   Column         Non-Null Count   Dtype   \n",
      "---  ------         --------------   -----   \n",
      " 0   user_id        415317 non-null  int32   \n",
      " 1   region_name_0  415317 non-null  category\n",
      " 2   region_name_1  415317 non-null  category\n",
      " 3   region_name_2  415317 non-null  category\n",
      " 4   region_name_3  415317 non-null  category\n",
      " 5   region_name_4  415317 non-null  category\n",
      " 6   region_name_5  415317 non-null  category\n",
      " 7   region_name_6  415317 non-null  category\n",
      " 8   region_count   415317 non-null  int8    \n",
      "dtypes: category(7), int32(1), int8(1)\n",
      "memory usage: 4.8 MB\n"
     ]
    },
    {
     "data": {
      "text/plain": "None"
     },
     "metadata": {},
     "output_type": "display_data"
    }
   ],
   "source": [
    "display(df.info())\n",
    "print(df['region_count'].max()) #int8\n",
    "print(df['user_id'].max()) #int32\n",
    "\n",
    "df[['region_count']] = df[['region_count']].astype('int8')\n",
    "df[['user_id']] = df[['user_id']].astype('int32')\n",
    "df[df.columns[~df.columns.isin(['region_count','user_id'])]] = df[df.columns[~df.columns.isin(['region_count','user_id'])]].astype('category')\n",
    "\n",
    "display(df.info())\n"
   ],
   "metadata": {
    "collapsed": false
   }
  },
  {
   "cell_type": "code",
   "execution_count": 38,
   "outputs": [],
   "source": [
    "df.to_parquet('..\\\\full_data\\\\figma_plan\\\\region.parquet', index=False)"
   ],
   "metadata": {
    "collapsed": false
   }
  },
  {
   "cell_type": "markdown",
   "source": [
    "## Популярный город, всего городов binary encoder"
   ],
   "metadata": {
    "collapsed": false
   }
  },
  {
   "cell_type": "code",
   "execution_count": 3,
   "outputs": [
    {
     "name": "stdout",
     "output_type": "stream",
     "text": [
      "<class 'pandas.core.frame.DataFrame'>\n",
      "RangeIndex: 322899435 entries, 0 to 322899434\n",
      "Data columns (total 2 columns):\n",
      " #   Column     Dtype   \n",
      "---  ------     -----   \n",
      " 0   user_id    int32   \n",
      " 1   city_name  category\n",
      "dtypes: category(1), int32(1)\n",
      "memory usage: 1.8 GB\n"
     ]
    }
   ],
   "source": [
    "path = '..\\\\full_data\\\\competition_data_final_pqt'\n",
    "columns = {'user_id': 'int32', 'city_name': 'category'}\n",
    "data = read_data(path,columns)\n",
    "display(data.info())\n",
    "display(data.isna().sum())"
   ],
   "metadata": {
    "collapsed": false
   }
  },
  {
   "cell_type": "code",
   "execution_count": 6,
   "outputs": [
    {
     "name": "stdout",
     "output_type": "stream",
     "text": [
      "<class 'pandas.core.series.Series'>\n",
      "MultiIndex: 409087245 entries, (0, 'Абаза') to (415316, 'Яхрома')\n",
      "Series name: top_city\n",
      "Non-Null Count      Dtype\n",
      "--------------      -----\n",
      "409087245 non-null  int64\n",
      "dtypes: int64(1)\n",
      "memory usage: 5.4 GB\n"
     ]
    },
    {
     "data": {
      "text/plain": "None"
     },
     "metadata": {},
     "output_type": "display_data"
    },
    {
     "name": "stdout",
     "output_type": "stream",
     "text": [
      "MultiIndex([(     0,      'Абаза'),\n",
      "            (     0,     'Абакан'),\n",
      "            (     0,   'Абдулино'),\n",
      "            (     0,     'Абинск'),\n",
      "            (     0,    'Агидель'),\n",
      "            (     0,      'Агрыз'),\n",
      "            (     0,   'Адыгейск'),\n",
      "            (     0,  'Азнакаево'),\n",
      "            (     0,       'Азов'),\n",
      "            (     0, 'Ак-Довурак'),\n",
      "            ...\n",
      "            (415316,     'Якутск'),\n",
      "            (415316, 'Ялуторовск'),\n",
      "            (415316,      'Янаул'),\n",
      "            (415316,     'Яранск'),\n",
      "            (415316,     'Яровое'),\n",
      "            (415316,  'Ярославль'),\n",
      "            (415316,     'Ярцево'),\n",
      "            (415316,  'Ясногорск'),\n",
      "            (415316,      'Ясный'),\n",
      "            (415316,     'Яхрома')],\n",
      "           names=['user_id', 'city_name'], length=409087245)\n"
     ]
    },
    {
     "data": {
      "text/plain": "    user_id        city_name  top_city\n0         0           Москва       131\n1         1          Люберцы         6\n2         1           Москва       572\n3         1         Подольск        13\n4         1  Санкт-Петербург        91\n5         1            Химки         4\n6         1            Чехов        14\n7         2           Печора       356\n8         3          Воронеж       188\n9         4           Абинск         1\n10        4            Анапа       444\n11        4        Волгоград        22\n12        4        Геленджик         9\n13        4          Камышин         1\n14        4       Нефтекамск        97\n15        4     Новороссийск         5\n16        4          Саратов         1\n17        4          Сызрань        11\n18        5       Никольское      1987\n19        5         Отрадное        30",
      "text/html": "<div>\n<style scoped>\n    .dataframe tbody tr th:only-of-type {\n        vertical-align: middle;\n    }\n\n    .dataframe tbody tr th {\n        vertical-align: top;\n    }\n\n    .dataframe thead th {\n        text-align: right;\n    }\n</style>\n<table border=\"1\" class=\"dataframe\">\n  <thead>\n    <tr style=\"text-align: right;\">\n      <th></th>\n      <th>user_id</th>\n      <th>city_name</th>\n      <th>top_city</th>\n    </tr>\n  </thead>\n  <tbody>\n    <tr>\n      <th>0</th>\n      <td>0</td>\n      <td>Москва</td>\n      <td>131</td>\n    </tr>\n    <tr>\n      <th>1</th>\n      <td>1</td>\n      <td>Люберцы</td>\n      <td>6</td>\n    </tr>\n    <tr>\n      <th>2</th>\n      <td>1</td>\n      <td>Москва</td>\n      <td>572</td>\n    </tr>\n    <tr>\n      <th>3</th>\n      <td>1</td>\n      <td>Подольск</td>\n      <td>13</td>\n    </tr>\n    <tr>\n      <th>4</th>\n      <td>1</td>\n      <td>Санкт-Петербург</td>\n      <td>91</td>\n    </tr>\n    <tr>\n      <th>5</th>\n      <td>1</td>\n      <td>Химки</td>\n      <td>4</td>\n    </tr>\n    <tr>\n      <th>6</th>\n      <td>1</td>\n      <td>Чехов</td>\n      <td>14</td>\n    </tr>\n    <tr>\n      <th>7</th>\n      <td>2</td>\n      <td>Печора</td>\n      <td>356</td>\n    </tr>\n    <tr>\n      <th>8</th>\n      <td>3</td>\n      <td>Воронеж</td>\n      <td>188</td>\n    </tr>\n    <tr>\n      <th>9</th>\n      <td>4</td>\n      <td>Абинск</td>\n      <td>1</td>\n    </tr>\n    <tr>\n      <th>10</th>\n      <td>4</td>\n      <td>Анапа</td>\n      <td>444</td>\n    </tr>\n    <tr>\n      <th>11</th>\n      <td>4</td>\n      <td>Волгоград</td>\n      <td>22</td>\n    </tr>\n    <tr>\n      <th>12</th>\n      <td>4</td>\n      <td>Геленджик</td>\n      <td>9</td>\n    </tr>\n    <tr>\n      <th>13</th>\n      <td>4</td>\n      <td>Камышин</td>\n      <td>1</td>\n    </tr>\n    <tr>\n      <th>14</th>\n      <td>4</td>\n      <td>Нефтекамск</td>\n      <td>97</td>\n    </tr>\n    <tr>\n      <th>15</th>\n      <td>4</td>\n      <td>Новороссийск</td>\n      <td>5</td>\n    </tr>\n    <tr>\n      <th>16</th>\n      <td>4</td>\n      <td>Саратов</td>\n      <td>1</td>\n    </tr>\n    <tr>\n      <th>17</th>\n      <td>4</td>\n      <td>Сызрань</td>\n      <td>11</td>\n    </tr>\n    <tr>\n      <th>18</th>\n      <td>5</td>\n      <td>Никольское</td>\n      <td>1987</td>\n    </tr>\n    <tr>\n      <th>19</th>\n      <td>5</td>\n      <td>Отрадное</td>\n      <td>30</td>\n    </tr>\n  </tbody>\n</table>\n</div>"
     },
     "metadata": {},
     "output_type": "display_data"
    }
   ],
   "source": [
    "df = data.groupby(['user_id', 'city_name'])['city_name'].count()\n",
    "df.name = 'top_city'\n",
    "\n",
    "display(df.info())\n",
    "print(df.index)\n",
    "\n",
    "df = df[df != 0].reset_index()\n",
    "display(df.head(20))\n",
    "\n",
    "city_count = df.groupby('user_id', group_keys=False)['city_name'].count()\n",
    "\n",
    "df = df.sort_values(by='top_city', ascending=False).drop_duplicates(subset='user_id', keep='first', ignore_index=True)\n",
    "df = df.drop('top_city', axis=1)\n",
    "\n",
    "df = df.sort_values(by='user_id').reset_index(drop=True)\n",
    "df['city_count'] = city_count"
   ],
   "metadata": {
    "collapsed": false
   }
  },
  {
   "cell_type": "code",
   "execution_count": 8,
   "outputs": [
    {
     "data": {
      "text/plain": "        user_id    city_name  city_count\n0             0       Москва           1\n1             1       Москва           6\n2             2       Печора           1\n3             3      Воронеж           1\n4             4        Анапа           9\n...         ...          ...         ...\n415312   415312     Моршанск           1\n415313   415313      Саратов           1\n415314   415314  Новосибирск           1\n415315   415315    Краснодар           1\n415316   415316        Можга           1\n\n[415317 rows x 3 columns]",
      "text/html": "<div>\n<style scoped>\n    .dataframe tbody tr th:only-of-type {\n        vertical-align: middle;\n    }\n\n    .dataframe tbody tr th {\n        vertical-align: top;\n    }\n\n    .dataframe thead th {\n        text-align: right;\n    }\n</style>\n<table border=\"1\" class=\"dataframe\">\n  <thead>\n    <tr style=\"text-align: right;\">\n      <th></th>\n      <th>user_id</th>\n      <th>city_name</th>\n      <th>city_count</th>\n    </tr>\n  </thead>\n  <tbody>\n    <tr>\n      <th>0</th>\n      <td>0</td>\n      <td>Москва</td>\n      <td>1</td>\n    </tr>\n    <tr>\n      <th>1</th>\n      <td>1</td>\n      <td>Москва</td>\n      <td>6</td>\n    </tr>\n    <tr>\n      <th>2</th>\n      <td>2</td>\n      <td>Печора</td>\n      <td>1</td>\n    </tr>\n    <tr>\n      <th>3</th>\n      <td>3</td>\n      <td>Воронеж</td>\n      <td>1</td>\n    </tr>\n    <tr>\n      <th>4</th>\n      <td>4</td>\n      <td>Анапа</td>\n      <td>9</td>\n    </tr>\n    <tr>\n      <th>...</th>\n      <td>...</td>\n      <td>...</td>\n      <td>...</td>\n    </tr>\n    <tr>\n      <th>415312</th>\n      <td>415312</td>\n      <td>Моршанск</td>\n      <td>1</td>\n    </tr>\n    <tr>\n      <th>415313</th>\n      <td>415313</td>\n      <td>Саратов</td>\n      <td>1</td>\n    </tr>\n    <tr>\n      <th>415314</th>\n      <td>415314</td>\n      <td>Новосибирск</td>\n      <td>1</td>\n    </tr>\n    <tr>\n      <th>415315</th>\n      <td>415315</td>\n      <td>Краснодар</td>\n      <td>1</td>\n    </tr>\n    <tr>\n      <th>415316</th>\n      <td>415316</td>\n      <td>Можга</td>\n      <td>1</td>\n    </tr>\n  </tbody>\n</table>\n<p>415317 rows × 3 columns</p>\n</div>"
     },
     "metadata": {},
     "output_type": "display_data"
    },
    {
     "data": {
      "text/plain": "        user_id  city_name_0  city_name_1  city_name_2  city_name_3  \\\n0             0            0            0            0            0   \n1             1            0            0            0            0   \n2             2            0            0            0            0   \n3             3            0            0            0            0   \n4             4            0            0            0            0   \n...         ...          ...          ...          ...          ...   \n415312   415312            0            0            1            1   \n415313   415313            0            0            0            0   \n415314   415314            0            0            0            0   \n415315   415315            0            0            0            0   \n415316   415316            0            0            1            1   \n\n        city_name_4  city_name_5  city_name_6  city_name_7  city_name_8  \\\n0                 0            0            0            0            0   \n1                 0            0            0            0            0   \n2                 0            0            0            0            1   \n3                 0            0            0            0            1   \n4                 0            0            0            1            0   \n...             ...          ...          ...          ...          ...   \n415312            1            0            1            0            0   \n415313            1            0            0            0            1   \n415314            0            1            1            0            1   \n415315            1            0            0            1            0   \n415316            0            0            1            0            1   \n\n        city_name_9  city_count  \n0                 1           1  \n1                 1           6  \n2                 0           1  \n3                 1           1  \n4                 0           9  \n...             ...         ...  \n415312            0           1  \n415313            1           1  \n415314            0           1  \n415315            0           1  \n415316            0           1  \n\n[415317 rows x 12 columns]",
      "text/html": "<div>\n<style scoped>\n    .dataframe tbody tr th:only-of-type {\n        vertical-align: middle;\n    }\n\n    .dataframe tbody tr th {\n        vertical-align: top;\n    }\n\n    .dataframe thead th {\n        text-align: right;\n    }\n</style>\n<table border=\"1\" class=\"dataframe\">\n  <thead>\n    <tr style=\"text-align: right;\">\n      <th></th>\n      <th>user_id</th>\n      <th>city_name_0</th>\n      <th>city_name_1</th>\n      <th>city_name_2</th>\n      <th>city_name_3</th>\n      <th>city_name_4</th>\n      <th>city_name_5</th>\n      <th>city_name_6</th>\n      <th>city_name_7</th>\n      <th>city_name_8</th>\n      <th>city_name_9</th>\n      <th>city_count</th>\n    </tr>\n  </thead>\n  <tbody>\n    <tr>\n      <th>0</th>\n      <td>0</td>\n      <td>0</td>\n      <td>0</td>\n      <td>0</td>\n      <td>0</td>\n      <td>0</td>\n      <td>0</td>\n      <td>0</td>\n      <td>0</td>\n      <td>0</td>\n      <td>1</td>\n      <td>1</td>\n    </tr>\n    <tr>\n      <th>1</th>\n      <td>1</td>\n      <td>0</td>\n      <td>0</td>\n      <td>0</td>\n      <td>0</td>\n      <td>0</td>\n      <td>0</td>\n      <td>0</td>\n      <td>0</td>\n      <td>0</td>\n      <td>1</td>\n      <td>6</td>\n    </tr>\n    <tr>\n      <th>2</th>\n      <td>2</td>\n      <td>0</td>\n      <td>0</td>\n      <td>0</td>\n      <td>0</td>\n      <td>0</td>\n      <td>0</td>\n      <td>0</td>\n      <td>0</td>\n      <td>1</td>\n      <td>0</td>\n      <td>1</td>\n    </tr>\n    <tr>\n      <th>3</th>\n      <td>3</td>\n      <td>0</td>\n      <td>0</td>\n      <td>0</td>\n      <td>0</td>\n      <td>0</td>\n      <td>0</td>\n      <td>0</td>\n      <td>0</td>\n      <td>1</td>\n      <td>1</td>\n      <td>1</td>\n    </tr>\n    <tr>\n      <th>4</th>\n      <td>4</td>\n      <td>0</td>\n      <td>0</td>\n      <td>0</td>\n      <td>0</td>\n      <td>0</td>\n      <td>0</td>\n      <td>0</td>\n      <td>1</td>\n      <td>0</td>\n      <td>0</td>\n      <td>9</td>\n    </tr>\n    <tr>\n      <th>...</th>\n      <td>...</td>\n      <td>...</td>\n      <td>...</td>\n      <td>...</td>\n      <td>...</td>\n      <td>...</td>\n      <td>...</td>\n      <td>...</td>\n      <td>...</td>\n      <td>...</td>\n      <td>...</td>\n      <td>...</td>\n    </tr>\n    <tr>\n      <th>415312</th>\n      <td>415312</td>\n      <td>0</td>\n      <td>0</td>\n      <td>1</td>\n      <td>1</td>\n      <td>1</td>\n      <td>0</td>\n      <td>1</td>\n      <td>0</td>\n      <td>0</td>\n      <td>0</td>\n      <td>1</td>\n    </tr>\n    <tr>\n      <th>415313</th>\n      <td>415313</td>\n      <td>0</td>\n      <td>0</td>\n      <td>0</td>\n      <td>0</td>\n      <td>1</td>\n      <td>0</td>\n      <td>0</td>\n      <td>0</td>\n      <td>1</td>\n      <td>1</td>\n      <td>1</td>\n    </tr>\n    <tr>\n      <th>415314</th>\n      <td>415314</td>\n      <td>0</td>\n      <td>0</td>\n      <td>0</td>\n      <td>0</td>\n      <td>0</td>\n      <td>1</td>\n      <td>1</td>\n      <td>0</td>\n      <td>1</td>\n      <td>0</td>\n      <td>1</td>\n    </tr>\n    <tr>\n      <th>415315</th>\n      <td>415315</td>\n      <td>0</td>\n      <td>0</td>\n      <td>0</td>\n      <td>0</td>\n      <td>1</td>\n      <td>0</td>\n      <td>0</td>\n      <td>1</td>\n      <td>0</td>\n      <td>0</td>\n      <td>1</td>\n    </tr>\n    <tr>\n      <th>415316</th>\n      <td>415316</td>\n      <td>0</td>\n      <td>0</td>\n      <td>1</td>\n      <td>1</td>\n      <td>0</td>\n      <td>0</td>\n      <td>1</td>\n      <td>0</td>\n      <td>1</td>\n      <td>0</td>\n      <td>1</td>\n    </tr>\n  </tbody>\n</table>\n<p>415317 rows × 12 columns</p>\n</div>"
     },
     "metadata": {},
     "output_type": "display_data"
    }
   ],
   "source": [
    "display(df)\n",
    "be = BinaryEncoder(cols=['city_name'],return_df=True)\n",
    "df = be.fit_transform(df)\n",
    "display(df)"
   ],
   "metadata": {
    "collapsed": false
   }
  },
  {
   "cell_type": "code",
   "execution_count": 10,
   "outputs": [
    {
     "name": "stdout",
     "output_type": "stream",
     "text": [
      "<class 'pandas.core.frame.DataFrame'>\n",
      "RangeIndex: 415317 entries, 0 to 415316\n",
      "Data columns (total 11 columns):\n",
      " #   Column       Non-Null Count   Dtype\n",
      "---  ------       --------------   -----\n",
      " 0   city_name_0  415317 non-null  int64\n",
      " 1   city_name_1  415317 non-null  int64\n",
      " 2   city_name_2  415317 non-null  int64\n",
      " 3   city_name_3  415317 non-null  int64\n",
      " 4   city_name_4  415317 non-null  int64\n",
      " 5   city_name_5  415317 non-null  int64\n",
      " 6   city_name_6  415317 non-null  int64\n",
      " 7   city_name_7  415317 non-null  int64\n",
      " 8   city_name_8  415317 non-null  int64\n",
      " 9   city_name_9  415317 non-null  int64\n",
      " 10  city_count   415317 non-null  int64\n",
      "dtypes: int64(11)\n",
      "memory usage: 34.9 MB\n"
     ]
    },
    {
     "data": {
      "text/plain": "None"
     },
     "metadata": {},
     "output_type": "display_data"
    },
    {
     "name": "stdout",
     "output_type": "stream",
     "text": [
      "124\n",
      "<class 'pandas.core.frame.DataFrame'>\n",
      "RangeIndex: 415317 entries, 0 to 415316\n",
      "Data columns (total 11 columns):\n",
      " #   Column       Non-Null Count   Dtype   \n",
      "---  ------       --------------   -----   \n",
      " 0   city_name_0  415317 non-null  category\n",
      " 1   city_name_1  415317 non-null  category\n",
      " 2   city_name_2  415317 non-null  category\n",
      " 3   city_name_3  415317 non-null  category\n",
      " 4   city_name_4  415317 non-null  category\n",
      " 5   city_name_5  415317 non-null  category\n",
      " 6   city_name_6  415317 non-null  category\n",
      " 7   city_name_7  415317 non-null  category\n",
      " 8   city_name_8  415317 non-null  category\n",
      " 9   city_name_9  415317 non-null  category\n",
      " 10  city_count   415317 non-null  int8    \n",
      "dtypes: category(10), int8(1)\n",
      "memory usage: 4.4 MB\n"
     ]
    },
    {
     "data": {
      "text/plain": "None"
     },
     "metadata": {},
     "output_type": "display_data"
    }
   ],
   "source": [
    "df = df.drop('user_id',axis=1)\n",
    "display(df.info())\n",
    "print(df['city_count'].max()) #int8\n",
    "\n",
    "df[['city_count']] = df[['city_count']].astype('int8')\n",
    "df[df.columns[~df.columns.isin(['city_count'])]] = df[df.columns[~df.columns.isin(['city_count'])]].astype('category')\n",
    "\n",
    "display(df.info())"
   ],
   "metadata": {
    "collapsed": false
   }
  },
  {
   "cell_type": "code",
   "execution_count": 11,
   "outputs": [],
   "source": [
    "df.to_parquet('..\\\\full_data\\\\figma_plan\\\\city.parquet', index=False)\n",
    "del df"
   ],
   "metadata": {
    "collapsed": false
   }
  },
  {
   "cell_type": "markdown",
   "source": [
    "## Производитель binary encoder"
   ],
   "metadata": {
    "collapsed": false
   }
  },
  {
   "cell_type": "code",
   "execution_count": 13,
   "outputs": [
    {
     "name": "stdout",
     "output_type": "stream",
     "text": [
      "<class 'pandas.core.frame.DataFrame'>\n",
      "RangeIndex: 322899435 entries, 0 to 322899434\n",
      "Data columns (total 2 columns):\n",
      " #   Column                 Dtype   \n",
      "---  ------                 -----   \n",
      " 0   user_id                int32   \n",
      " 1   cpe_manufacturer_name  category\n",
      "dtypes: category(1), int32(1)\n",
      "memory usage: 1.5 GB\n"
     ]
    },
    {
     "data": {
      "text/plain": "None"
     },
     "metadata": {},
     "output_type": "display_data"
    },
    {
     "data": {
      "text/plain": "user_id                  0\ncpe_manufacturer_name    0\ndtype: int64"
     },
     "metadata": {},
     "output_type": "display_data"
    }
   ],
   "source": [
    "path = '..\\\\full_data\\\\competition_data_final_pqt'\n",
    "columns = {'user_id': 'int32', 'cpe_manufacturer_name': 'category'}\n",
    "data = read_data(path,columns)\n",
    "display(data.info())\n",
    "display(data.isna().sum())\n",
    "display(len(data['cpe_manufacturer_name'].unique()))"
   ],
   "metadata": {
    "collapsed": false
   }
  },
  {
   "cell_type": "code",
   "execution_count": 18,
   "outputs": [
    {
     "data": {
      "text/plain": "user_id                  0\ncpe_manufacturer_name    0\ndtype: int64"
     },
     "metadata": {},
     "output_type": "display_data"
    },
    {
     "name": "stdout",
     "output_type": "stream",
     "text": [
      "<class 'pandas.core.series.Series'>\n",
      "MultiIndex: 15366729 entries, (0, 'Alcatel') to (415316, 'ZTE')\n",
      "Series name: top_brend\n",
      "Non-Null Count     Dtype\n",
      "--------------     -----\n",
      "15366729 non-null  int64\n",
      "dtypes: int64(1)\n",
      "memory usage: 209.8 MB\n"
     ]
    },
    {
     "data": {
      "text/plain": "None"
     },
     "metadata": {},
     "output_type": "display_data"
    },
    {
     "name": "stdout",
     "output_type": "stream",
     "text": [
      "MultiIndex([(     0,                           'Alcatel'),\n",
      "            (     0,                             'Apple'),\n",
      "            (     0,                              'Asus'),\n",
      "            (     0,                         'Atlas LLC'),\n",
      "            (     0,                'BQ Devices Limited'),\n",
      "            (     0,                         'Blackview'),\n",
      "            (     0,   'Doke Communication (HK) Limited'),\n",
      "            (     0,                            'Doogee'),\n",
      "            (     0,                        'Google Inc'),\n",
      "            (     0,                               'HTC'),\n",
      "            ...\n",
      "            (415316,                           'Samsung'),\n",
      "            (415316,                              'Sony'),\n",
      "            (415316,   'Sony Mobile Communications Inc.'),\n",
      "            (415316,                             'Tecno'),\n",
      "            (415316, 'Umi Network Technology Co Limited'),\n",
      "            (415316,      'Vingroup Joint Stock Company'),\n",
      "            (415316,                              'Vivo'),\n",
      "            (415316,                            'Xiaomi'),\n",
      "            (415316,                        'Yandex LLC'),\n",
      "            (415316,                               'ZTE')],\n",
      "           names=['user_id', 'cpe_manufacturer_name'], length=15366729)\n"
     ]
    },
    {
     "data": {
      "text/plain": "    user_id          cpe_manufacturer_name  top_brend\n0         0                        Samsung        131\n1         1                         Xiaomi        700\n2         2                         Huawei        356\n3         3  Huawei Device Company Limited        188\n4         4                         Huawei        591\n5         5                          Apple       2519\n6         6                         Huawei        456\n7         7                         Huawei        461\n8         8                          Apple        976\n9         9                          Apple        315\n10       10                        Samsung       1679\n11       11                         Huawei        571\n12       12                         Xiaomi       1311\n13       13             BQ Devices Limited       1551\n14       14                        Samsung       1616\n15       15                        Samsung        584\n16       16                        Samsung       1231\n17       17                         Huawei       1330\n18       18                        Samsung       1125\n19       19                          Apple        375",
      "text/html": "<div>\n<style scoped>\n    .dataframe tbody tr th:only-of-type {\n        vertical-align: middle;\n    }\n\n    .dataframe tbody tr th {\n        vertical-align: top;\n    }\n\n    .dataframe thead th {\n        text-align: right;\n    }\n</style>\n<table border=\"1\" class=\"dataframe\">\n  <thead>\n    <tr style=\"text-align: right;\">\n      <th></th>\n      <th>user_id</th>\n      <th>cpe_manufacturer_name</th>\n      <th>top_brend</th>\n    </tr>\n  </thead>\n  <tbody>\n    <tr>\n      <th>0</th>\n      <td>0</td>\n      <td>Samsung</td>\n      <td>131</td>\n    </tr>\n    <tr>\n      <th>1</th>\n      <td>1</td>\n      <td>Xiaomi</td>\n      <td>700</td>\n    </tr>\n    <tr>\n      <th>2</th>\n      <td>2</td>\n      <td>Huawei</td>\n      <td>356</td>\n    </tr>\n    <tr>\n      <th>3</th>\n      <td>3</td>\n      <td>Huawei Device Company Limited</td>\n      <td>188</td>\n    </tr>\n    <tr>\n      <th>4</th>\n      <td>4</td>\n      <td>Huawei</td>\n      <td>591</td>\n    </tr>\n    <tr>\n      <th>5</th>\n      <td>5</td>\n      <td>Apple</td>\n      <td>2519</td>\n    </tr>\n    <tr>\n      <th>6</th>\n      <td>6</td>\n      <td>Huawei</td>\n      <td>456</td>\n    </tr>\n    <tr>\n      <th>7</th>\n      <td>7</td>\n      <td>Huawei</td>\n      <td>461</td>\n    </tr>\n    <tr>\n      <th>8</th>\n      <td>8</td>\n      <td>Apple</td>\n      <td>976</td>\n    </tr>\n    <tr>\n      <th>9</th>\n      <td>9</td>\n      <td>Apple</td>\n      <td>315</td>\n    </tr>\n    <tr>\n      <th>10</th>\n      <td>10</td>\n      <td>Samsung</td>\n      <td>1679</td>\n    </tr>\n    <tr>\n      <th>11</th>\n      <td>11</td>\n      <td>Huawei</td>\n      <td>571</td>\n    </tr>\n    <tr>\n      <th>12</th>\n      <td>12</td>\n      <td>Xiaomi</td>\n      <td>1311</td>\n    </tr>\n    <tr>\n      <th>13</th>\n      <td>13</td>\n      <td>BQ Devices Limited</td>\n      <td>1551</td>\n    </tr>\n    <tr>\n      <th>14</th>\n      <td>14</td>\n      <td>Samsung</td>\n      <td>1616</td>\n    </tr>\n    <tr>\n      <th>15</th>\n      <td>15</td>\n      <td>Samsung</td>\n      <td>584</td>\n    </tr>\n    <tr>\n      <th>16</th>\n      <td>16</td>\n      <td>Samsung</td>\n      <td>1231</td>\n    </tr>\n    <tr>\n      <th>17</th>\n      <td>17</td>\n      <td>Huawei</td>\n      <td>1330</td>\n    </tr>\n    <tr>\n      <th>18</th>\n      <td>18</td>\n      <td>Samsung</td>\n      <td>1125</td>\n    </tr>\n    <tr>\n      <th>19</th>\n      <td>19</td>\n      <td>Apple</td>\n      <td>375</td>\n    </tr>\n  </tbody>\n</table>\n</div>"
     },
     "metadata": {},
     "output_type": "display_data"
    }
   ],
   "source": [
    "display(data.isna().sum())\n",
    "df = data.groupby(['user_id', 'cpe_manufacturer_name'])['cpe_manufacturer_name'].count()\n",
    "df.name = 'top_brend'\n",
    "\n",
    "display(df.info())\n",
    "print(df.index)\n",
    "\n",
    "df = df[df != 0].reset_index()\n",
    "display(df.head(20))\n",
    "\n",
    "df = df.sort_values(by='top_brend', ascending=False).drop_duplicates(subset='user_id', keep='first', ignore_index=True)\n",
    "df = df.drop('top_brend', axis=1)\n",
    "df = df.sort_values(by='user_id').reset_index(drop=True)"
   ],
   "metadata": {
    "collapsed": false
   }
  },
  {
   "cell_type": "code",
   "execution_count": 22,
   "outputs": [
    {
     "data": {
      "text/plain": "        user_id          cpe_manufacturer_name\n0             0                        Samsung\n1             1                         Xiaomi\n2             2                         Huawei\n3             3  Huawei Device Company Limited\n4             4                         Huawei\n...         ...                            ...\n415312   415312                         Huawei\n415313   415313                         Xiaomi\n415314   415314  Huawei Device Company Limited\n415315   415315                         Huawei\n415316   415316                         Xiaomi\n\n[415317 rows x 2 columns]",
      "text/html": "<div>\n<style scoped>\n    .dataframe tbody tr th:only-of-type {\n        vertical-align: middle;\n    }\n\n    .dataframe tbody tr th {\n        vertical-align: top;\n    }\n\n    .dataframe thead th {\n        text-align: right;\n    }\n</style>\n<table border=\"1\" class=\"dataframe\">\n  <thead>\n    <tr style=\"text-align: right;\">\n      <th></th>\n      <th>user_id</th>\n      <th>cpe_manufacturer_name</th>\n    </tr>\n  </thead>\n  <tbody>\n    <tr>\n      <th>0</th>\n      <td>0</td>\n      <td>Samsung</td>\n    </tr>\n    <tr>\n      <th>1</th>\n      <td>1</td>\n      <td>Xiaomi</td>\n    </tr>\n    <tr>\n      <th>2</th>\n      <td>2</td>\n      <td>Huawei</td>\n    </tr>\n    <tr>\n      <th>3</th>\n      <td>3</td>\n      <td>Huawei Device Company Limited</td>\n    </tr>\n    <tr>\n      <th>4</th>\n      <td>4</td>\n      <td>Huawei</td>\n    </tr>\n    <tr>\n      <th>...</th>\n      <td>...</td>\n      <td>...</td>\n    </tr>\n    <tr>\n      <th>415312</th>\n      <td>415312</td>\n      <td>Huawei</td>\n    </tr>\n    <tr>\n      <th>415313</th>\n      <td>415313</td>\n      <td>Xiaomi</td>\n    </tr>\n    <tr>\n      <th>415314</th>\n      <td>415314</td>\n      <td>Huawei Device Company Limited</td>\n    </tr>\n    <tr>\n      <th>415315</th>\n      <td>415315</td>\n      <td>Huawei</td>\n    </tr>\n    <tr>\n      <th>415316</th>\n      <td>415316</td>\n      <td>Xiaomi</td>\n    </tr>\n  </tbody>\n</table>\n<p>415317 rows × 2 columns</p>\n</div>"
     },
     "metadata": {},
     "output_type": "display_data"
    },
    {
     "data": {
      "text/plain": "        user_id  cpe_manufacturer_name_0  cpe_manufacturer_name_1  \\\n0             0                        0                        0   \n1             1                        0                        0   \n2             2                        0                        0   \n3             3                        0                        0   \n4             4                        0                        0   \n...         ...                      ...                      ...   \n415312   415312                        0                        0   \n415313   415313                        0                        0   \n415314   415314                        0                        0   \n415315   415315                        0                        0   \n415316   415316                        0                        0   \n\n        cpe_manufacturer_name_2  cpe_manufacturer_name_3  \\\n0                             0                        0   \n1                             0                        0   \n2                             0                        0   \n3                             0                        1   \n4                             0                        0   \n...                         ...                      ...   \n415312                        0                        0   \n415313                        0                        0   \n415314                        0                        1   \n415315                        0                        0   \n415316                        0                        0   \n\n        cpe_manufacturer_name_4  cpe_manufacturer_name_5  \n0                             0                        1  \n1                             1                        0  \n2                             1                        1  \n3                             0                        0  \n4                             1                        1  \n...                         ...                      ...  \n415312                        1                        1  \n415313                        1                        0  \n415314                        0                        0  \n415315                        1                        1  \n415316                        1                        0  \n\n[415317 rows x 7 columns]",
      "text/html": "<div>\n<style scoped>\n    .dataframe tbody tr th:only-of-type {\n        vertical-align: middle;\n    }\n\n    .dataframe tbody tr th {\n        vertical-align: top;\n    }\n\n    .dataframe thead th {\n        text-align: right;\n    }\n</style>\n<table border=\"1\" class=\"dataframe\">\n  <thead>\n    <tr style=\"text-align: right;\">\n      <th></th>\n      <th>user_id</th>\n      <th>cpe_manufacturer_name_0</th>\n      <th>cpe_manufacturer_name_1</th>\n      <th>cpe_manufacturer_name_2</th>\n      <th>cpe_manufacturer_name_3</th>\n      <th>cpe_manufacturer_name_4</th>\n      <th>cpe_manufacturer_name_5</th>\n    </tr>\n  </thead>\n  <tbody>\n    <tr>\n      <th>0</th>\n      <td>0</td>\n      <td>0</td>\n      <td>0</td>\n      <td>0</td>\n      <td>0</td>\n      <td>0</td>\n      <td>1</td>\n    </tr>\n    <tr>\n      <th>1</th>\n      <td>1</td>\n      <td>0</td>\n      <td>0</td>\n      <td>0</td>\n      <td>0</td>\n      <td>1</td>\n      <td>0</td>\n    </tr>\n    <tr>\n      <th>2</th>\n      <td>2</td>\n      <td>0</td>\n      <td>0</td>\n      <td>0</td>\n      <td>0</td>\n      <td>1</td>\n      <td>1</td>\n    </tr>\n    <tr>\n      <th>3</th>\n      <td>3</td>\n      <td>0</td>\n      <td>0</td>\n      <td>0</td>\n      <td>1</td>\n      <td>0</td>\n      <td>0</td>\n    </tr>\n    <tr>\n      <th>4</th>\n      <td>4</td>\n      <td>0</td>\n      <td>0</td>\n      <td>0</td>\n      <td>0</td>\n      <td>1</td>\n      <td>1</td>\n    </tr>\n    <tr>\n      <th>...</th>\n      <td>...</td>\n      <td>...</td>\n      <td>...</td>\n      <td>...</td>\n      <td>...</td>\n      <td>...</td>\n      <td>...</td>\n    </tr>\n    <tr>\n      <th>415312</th>\n      <td>415312</td>\n      <td>0</td>\n      <td>0</td>\n      <td>0</td>\n      <td>0</td>\n      <td>1</td>\n      <td>1</td>\n    </tr>\n    <tr>\n      <th>415313</th>\n      <td>415313</td>\n      <td>0</td>\n      <td>0</td>\n      <td>0</td>\n      <td>0</td>\n      <td>1</td>\n      <td>0</td>\n    </tr>\n    <tr>\n      <th>415314</th>\n      <td>415314</td>\n      <td>0</td>\n      <td>0</td>\n      <td>0</td>\n      <td>1</td>\n      <td>0</td>\n      <td>0</td>\n    </tr>\n    <tr>\n      <th>415315</th>\n      <td>415315</td>\n      <td>0</td>\n      <td>0</td>\n      <td>0</td>\n      <td>0</td>\n      <td>1</td>\n      <td>1</td>\n    </tr>\n    <tr>\n      <th>415316</th>\n      <td>415316</td>\n      <td>0</td>\n      <td>0</td>\n      <td>0</td>\n      <td>0</td>\n      <td>1</td>\n      <td>0</td>\n    </tr>\n  </tbody>\n</table>\n<p>415317 rows × 7 columns</p>\n</div>"
     },
     "metadata": {},
     "output_type": "display_data"
    }
   ],
   "source": [
    "display(df)\n",
    "be = BinaryEncoder(cols=['cpe_manufacturer_name'],return_df=True)\n",
    "df = be.fit_transform(df)\n",
    "display(df)"
   ],
   "metadata": {
    "collapsed": false
   }
  },
  {
   "cell_type": "code",
   "execution_count": 23,
   "outputs": [
    {
     "name": "stdout",
     "output_type": "stream",
     "text": [
      "<class 'pandas.core.frame.DataFrame'>\n",
      "RangeIndex: 415317 entries, 0 to 415316\n",
      "Data columns (total 6 columns):\n",
      " #   Column                   Non-Null Count   Dtype\n",
      "---  ------                   --------------   -----\n",
      " 0   cpe_manufacturer_name_0  415317 non-null  int64\n",
      " 1   cpe_manufacturer_name_1  415317 non-null  int64\n",
      " 2   cpe_manufacturer_name_2  415317 non-null  int64\n",
      " 3   cpe_manufacturer_name_3  415317 non-null  int64\n",
      " 4   cpe_manufacturer_name_4  415317 non-null  int64\n",
      " 5   cpe_manufacturer_name_5  415317 non-null  int64\n",
      "dtypes: int64(6)\n",
      "memory usage: 19.0 MB\n"
     ]
    },
    {
     "data": {
      "text/plain": "None"
     },
     "metadata": {},
     "output_type": "display_data"
    },
    {
     "name": "stdout",
     "output_type": "stream",
     "text": [
      "<class 'pandas.core.frame.DataFrame'>\n",
      "RangeIndex: 415317 entries, 0 to 415316\n",
      "Data columns (total 6 columns):\n",
      " #   Column                   Non-Null Count   Dtype   \n",
      "---  ------                   --------------   -----   \n",
      " 0   cpe_manufacturer_name_0  415317 non-null  category\n",
      " 1   cpe_manufacturer_name_1  415317 non-null  category\n",
      " 2   cpe_manufacturer_name_2  415317 non-null  category\n",
      " 3   cpe_manufacturer_name_3  415317 non-null  category\n",
      " 4   cpe_manufacturer_name_4  415317 non-null  category\n",
      " 5   cpe_manufacturer_name_5  415317 non-null  category\n",
      "dtypes: category(6)\n",
      "memory usage: 2.4 MB\n"
     ]
    },
    {
     "data": {
      "text/plain": "None"
     },
     "metadata": {},
     "output_type": "display_data"
    }
   ],
   "source": [
    "df = df.drop('user_id',axis=1)\n",
    "display(df.info())\n",
    "\n",
    "df[df.columns] = df[df.columns].astype('category')\n",
    "\n",
    "display(df.info())"
   ],
   "metadata": {
    "collapsed": false
   }
  },
  {
   "cell_type": "code",
   "execution_count": 24,
   "outputs": [],
   "source": [
    "df.to_parquet('..\\\\full_data\\\\figma_plan\\\\cpe_manufacturer.parquet', index=False)\n",
    "del df"
   ],
   "metadata": {
    "collapsed": false
   }
  },
  {
   "cell_type": "markdown",
   "source": [
    "## Количество моделей"
   ],
   "metadata": {
    "collapsed": false
   }
  },
  {
   "cell_type": "code",
   "execution_count": 3,
   "outputs": [
    {
     "name": "stdout",
     "output_type": "stream",
     "text": [
      "<class 'pandas.core.frame.DataFrame'>\n",
      "RangeIndex: 322899435 entries, 0 to 322899434\n",
      "Data columns (total 2 columns):\n",
      " #   Column          Dtype   \n",
      "---  ------          -----   \n",
      " 0   user_id         int32   \n",
      " 1   cpe_model_name  category\n",
      "dtypes: category(1), int32(1)\n",
      "memory usage: 1.8 GB\n"
     ]
    },
    {
     "data": {
      "text/plain": "None"
     },
     "metadata": {},
     "output_type": "display_data"
    },
    {
     "data": {
      "text/plain": "user_id           0\ncpe_model_name    0\ndtype: int64"
     },
     "metadata": {},
     "output_type": "display_data"
    },
    {
     "data": {
      "text/plain": "599"
     },
     "metadata": {},
     "output_type": "display_data"
    }
   ],
   "source": [
    "path = '..\\\\full_data\\\\competition_data_final_pqt'\n",
    "columns = {'user_id': 'int32', 'cpe_model_name': 'category'}\n",
    "data = read_data(path,columns)\n",
    "display(data.info())\n",
    "display(data.isna().sum())\n",
    "display(len(data['cpe_model_name'].unique()))"
   ],
   "metadata": {
    "collapsed": false
   }
  },
  {
   "cell_type": "code",
   "execution_count": 12,
   "outputs": [
    {
     "name": "stdout",
     "output_type": "stream",
     "text": [
      "<class 'pandas.core.series.Series'>\n",
      "MultiIndex: 248774883 entries, (0, '1') to (415316, 'iPhone Xs Max')\n",
      "Series name: top_model\n",
      "Non-Null Count      Dtype\n",
      "--------------      -----\n",
      "248774883 non-null  int64\n",
      "dtypes: int64(1)\n",
      "memory usage: 3.3 GB\n"
     ]
    },
    {
     "data": {
      "text/plain": "None"
     },
     "metadata": {},
     "output_type": "display_data"
    },
    {
     "name": "stdout",
     "output_type": "stream",
     "text": [
      "MultiIndex([(     0,              '1'),\n",
      "            (     0,         '1 Dual'),\n",
      "            (     0,  '11 Lite 5G NE'),\n",
      "            (     0,            '11T'),\n",
      "            (     0,        '15 Lite'),\n",
      "            (     0,             '16'),\n",
      "            (     0,           '16th'),\n",
      "            (     0,           '1904'),\n",
      "            (     0,             '1S'),\n",
      "            (     0,             '1X'),\n",
      "            ...\n",
      "            (415316,       'iPhone 7'),\n",
      "            (415316,  'iPhone 7 Plus'),\n",
      "            (415316,       'iPhone 8'),\n",
      "            (415316,  'iPhone 8 Plus'),\n",
      "            (415316,      'iPhone SE'),\n",
      "            (415316, 'iPhone SE 2020'),\n",
      "            (415316,       'iPhone X'),\n",
      "            (415316,      'iPhone XR'),\n",
      "            (415316,      'iPhone Xs'),\n",
      "            (415316,  'iPhone Xs Max')],\n",
      "           names=['user_id', 'cpe_model_name'], length=248774883)\n"
     ]
    },
    {
     "data": {
      "text/plain": "    user_id           cpe_model_name  top_model\n0         0  Galaxy J1 2016 LTE Dual        131\n1         1                     Mi 9        700\n2         2             Honor 9 Lite        356\n3         3             P Smart 2021        188\n4         4                   Nova 3        591\n5         5            iPhone 8 Plus       2519\n6         6                 Honor 8A        456\n7         7                 P20 Lite        461\n8         8                iPhone XR        976\n9         9                iPhone XR        315\n10       10              Galaxy S20+       1679\n11       11                P Smart Z        571\n12       12                  Redmi 9       1311\n13       13                    BQ S5       1551\n14       14  Galaxy J5 2016 LTE Dual       1616\n15       15  Galaxy J5 2016 LTE Dual        584\n16       16          Galaxy A10 Dual       1231\n17       17             Mate 20 Lite       1330\n18       18          Galaxy A51 Dual       1125\n19       19                iPhone 6S        375",
      "text/html": "<div>\n<style scoped>\n    .dataframe tbody tr th:only-of-type {\n        vertical-align: middle;\n    }\n\n    .dataframe tbody tr th {\n        vertical-align: top;\n    }\n\n    .dataframe thead th {\n        text-align: right;\n    }\n</style>\n<table border=\"1\" class=\"dataframe\">\n  <thead>\n    <tr style=\"text-align: right;\">\n      <th></th>\n      <th>user_id</th>\n      <th>cpe_model_name</th>\n      <th>top_model</th>\n    </tr>\n  </thead>\n  <tbody>\n    <tr>\n      <th>0</th>\n      <td>0</td>\n      <td>Galaxy J1 2016 LTE Dual</td>\n      <td>131</td>\n    </tr>\n    <tr>\n      <th>1</th>\n      <td>1</td>\n      <td>Mi 9</td>\n      <td>700</td>\n    </tr>\n    <tr>\n      <th>2</th>\n      <td>2</td>\n      <td>Honor 9 Lite</td>\n      <td>356</td>\n    </tr>\n    <tr>\n      <th>3</th>\n      <td>3</td>\n      <td>P Smart 2021</td>\n      <td>188</td>\n    </tr>\n    <tr>\n      <th>4</th>\n      <td>4</td>\n      <td>Nova 3</td>\n      <td>591</td>\n    </tr>\n    <tr>\n      <th>5</th>\n      <td>5</td>\n      <td>iPhone 8 Plus</td>\n      <td>2519</td>\n    </tr>\n    <tr>\n      <th>6</th>\n      <td>6</td>\n      <td>Honor 8A</td>\n      <td>456</td>\n    </tr>\n    <tr>\n      <th>7</th>\n      <td>7</td>\n      <td>P20 Lite</td>\n      <td>461</td>\n    </tr>\n    <tr>\n      <th>8</th>\n      <td>8</td>\n      <td>iPhone XR</td>\n      <td>976</td>\n    </tr>\n    <tr>\n      <th>9</th>\n      <td>9</td>\n      <td>iPhone XR</td>\n      <td>315</td>\n    </tr>\n    <tr>\n      <th>10</th>\n      <td>10</td>\n      <td>Galaxy S20+</td>\n      <td>1679</td>\n    </tr>\n    <tr>\n      <th>11</th>\n      <td>11</td>\n      <td>P Smart Z</td>\n      <td>571</td>\n    </tr>\n    <tr>\n      <th>12</th>\n      <td>12</td>\n      <td>Redmi 9</td>\n      <td>1311</td>\n    </tr>\n    <tr>\n      <th>13</th>\n      <td>13</td>\n      <td>BQ S5</td>\n      <td>1551</td>\n    </tr>\n    <tr>\n      <th>14</th>\n      <td>14</td>\n      <td>Galaxy J5 2016 LTE Dual</td>\n      <td>1616</td>\n    </tr>\n    <tr>\n      <th>15</th>\n      <td>15</td>\n      <td>Galaxy J5 2016 LTE Dual</td>\n      <td>584</td>\n    </tr>\n    <tr>\n      <th>16</th>\n      <td>16</td>\n      <td>Galaxy A10 Dual</td>\n      <td>1231</td>\n    </tr>\n    <tr>\n      <th>17</th>\n      <td>17</td>\n      <td>Mate 20 Lite</td>\n      <td>1330</td>\n    </tr>\n    <tr>\n      <th>18</th>\n      <td>18</td>\n      <td>Galaxy A51 Dual</td>\n      <td>1125</td>\n    </tr>\n    <tr>\n      <th>19</th>\n      <td>19</td>\n      <td>iPhone 6S</td>\n      <td>375</td>\n    </tr>\n  </tbody>\n</table>\n</div>"
     },
     "metadata": {},
     "output_type": "display_data"
    }
   ],
   "source": [
    "df = data.groupby(['user_id', 'cpe_model_name'])['cpe_model_name'].count()\n",
    "df.name = 'top_model'\n",
    "\n",
    "display(df.info())\n",
    "print(df.index)\n",
    "\n",
    "df = df[df != 0].reset_index()\n",
    "display(df.head(20))\n",
    "\n",
    "model_count = df.groupby('user_id', group_keys=False)['cpe_model_name'].count()\n",
    "df['model_count'] = model_count"
   ],
   "metadata": {
    "collapsed": false
   }
  },
  {
   "cell_type": "code",
   "execution_count": 14,
   "outputs": [
    {
     "data": {
      "text/plain": "1    415317\nName: model_count, dtype: int64"
     },
     "execution_count": 14,
     "metadata": {},
     "output_type": "execute_result"
    }
   ],
   "source": [
    "df['model_count'].value_counts()"
   ],
   "metadata": {
    "collapsed": false
   }
  },
  {
   "cell_type": "markdown",
   "source": [
    "#### У всех пользователей оказалось по одной модели, поэтому столбец неинформативен"
   ],
   "metadata": {
    "collapsed": false
   }
  },
  {
   "cell_type": "markdown",
   "source": [
    "## Тип устройства binary encoder"
   ],
   "metadata": {
    "collapsed": false
   }
  },
  {
   "cell_type": "code",
   "execution_count": 15,
   "outputs": [
    {
     "name": "stdout",
     "output_type": "stream",
     "text": [
      "<class 'pandas.core.frame.DataFrame'>\n",
      "RangeIndex: 322899435 entries, 0 to 322899434\n",
      "Data columns (total 2 columns):\n",
      " #   Column       Dtype   \n",
      "---  ------       -----   \n",
      " 0   user_id      int32   \n",
      " 1   cpe_type_cd  category\n",
      "dtypes: category(1), int32(1)\n",
      "memory usage: 1.5 GB\n"
     ]
    },
    {
     "data": {
      "text/plain": "None"
     },
     "metadata": {},
     "output_type": "display_data"
    },
    {
     "data": {
      "text/plain": "user_id        0\ncpe_type_cd    0\ndtype: int64"
     },
     "metadata": {},
     "output_type": "display_data"
    },
    {
     "data": {
      "text/plain": "4"
     },
     "metadata": {},
     "output_type": "display_data"
    }
   ],
   "source": [
    "path = '..\\\\full_data\\\\competition_data_final_pqt'\n",
    "columns = {'user_id': 'int32', 'cpe_type_cd': 'category'}\n",
    "data = read_data(path,columns)\n",
    "display(data.info())\n",
    "display(data.isna().sum())\n",
    "display(len(data['cpe_type_cd'].unique()))"
   ],
   "metadata": {
    "collapsed": false
   }
  },
  {
   "cell_type": "code",
   "execution_count": 19,
   "outputs": [
    {
     "data": {
      "text/plain": "        user_id cpe_type_cd\n0         45098  smartphone\n1        117132  smartphone\n2         79395  smartphone\n3         91294  smartphone\n4        161323  smartphone\n...         ...         ...\n415312   375972  smartphone\n415313   160996  smartphone\n415314     5505  smartphone\n415315   260127  smartphone\n415316   300964  smartphone\n\n[415317 rows x 2 columns]",
      "text/html": "<div>\n<style scoped>\n    .dataframe tbody tr th:only-of-type {\n        vertical-align: middle;\n    }\n\n    .dataframe tbody tr th {\n        vertical-align: top;\n    }\n\n    .dataframe thead th {\n        text-align: right;\n    }\n</style>\n<table border=\"1\" class=\"dataframe\">\n  <thead>\n    <tr style=\"text-align: right;\">\n      <th></th>\n      <th>user_id</th>\n      <th>cpe_type_cd</th>\n    </tr>\n  </thead>\n  <tbody>\n    <tr>\n      <th>0</th>\n      <td>45098</td>\n      <td>smartphone</td>\n    </tr>\n    <tr>\n      <th>1</th>\n      <td>117132</td>\n      <td>smartphone</td>\n    </tr>\n    <tr>\n      <th>2</th>\n      <td>79395</td>\n      <td>smartphone</td>\n    </tr>\n    <tr>\n      <th>3</th>\n      <td>91294</td>\n      <td>smartphone</td>\n    </tr>\n    <tr>\n      <th>4</th>\n      <td>161323</td>\n      <td>smartphone</td>\n    </tr>\n    <tr>\n      <th>...</th>\n      <td>...</td>\n      <td>...</td>\n    </tr>\n    <tr>\n      <th>415312</th>\n      <td>375972</td>\n      <td>smartphone</td>\n    </tr>\n    <tr>\n      <th>415313</th>\n      <td>160996</td>\n      <td>smartphone</td>\n    </tr>\n    <tr>\n      <th>415314</th>\n      <td>5505</td>\n      <td>smartphone</td>\n    </tr>\n    <tr>\n      <th>415315</th>\n      <td>260127</td>\n      <td>smartphone</td>\n    </tr>\n    <tr>\n      <th>415316</th>\n      <td>300964</td>\n      <td>smartphone</td>\n    </tr>\n  </tbody>\n</table>\n<p>415317 rows × 2 columns</p>\n</div>"
     },
     "metadata": {},
     "output_type": "display_data"
    },
    {
     "data": {
      "text/plain": "        user_id  cpe_type_cd_0  cpe_type_cd_1  cpe_type_cd_2\n0         45098              0              0              1\n1        117132              0              0              1\n2         79395              0              0              1\n3         91294              0              0              1\n4        161323              0              0              1\n...         ...            ...            ...            ...\n415312   375972              0              0              1\n415313   160996              0              0              1\n415314     5505              0              0              1\n415315   260127              0              0              1\n415316   300964              0              0              1\n\n[415317 rows x 4 columns]",
      "text/html": "<div>\n<style scoped>\n    .dataframe tbody tr th:only-of-type {\n        vertical-align: middle;\n    }\n\n    .dataframe tbody tr th {\n        vertical-align: top;\n    }\n\n    .dataframe thead th {\n        text-align: right;\n    }\n</style>\n<table border=\"1\" class=\"dataframe\">\n  <thead>\n    <tr style=\"text-align: right;\">\n      <th></th>\n      <th>user_id</th>\n      <th>cpe_type_cd_0</th>\n      <th>cpe_type_cd_1</th>\n      <th>cpe_type_cd_2</th>\n    </tr>\n  </thead>\n  <tbody>\n    <tr>\n      <th>0</th>\n      <td>45098</td>\n      <td>0</td>\n      <td>0</td>\n      <td>1</td>\n    </tr>\n    <tr>\n      <th>1</th>\n      <td>117132</td>\n      <td>0</td>\n      <td>0</td>\n      <td>1</td>\n    </tr>\n    <tr>\n      <th>2</th>\n      <td>79395</td>\n      <td>0</td>\n      <td>0</td>\n      <td>1</td>\n    </tr>\n    <tr>\n      <th>3</th>\n      <td>91294</td>\n      <td>0</td>\n      <td>0</td>\n      <td>1</td>\n    </tr>\n    <tr>\n      <th>4</th>\n      <td>161323</td>\n      <td>0</td>\n      <td>0</td>\n      <td>1</td>\n    </tr>\n    <tr>\n      <th>...</th>\n      <td>...</td>\n      <td>...</td>\n      <td>...</td>\n      <td>...</td>\n    </tr>\n    <tr>\n      <th>415312</th>\n      <td>375972</td>\n      <td>0</td>\n      <td>0</td>\n      <td>1</td>\n    </tr>\n    <tr>\n      <th>415313</th>\n      <td>160996</td>\n      <td>0</td>\n      <td>0</td>\n      <td>1</td>\n    </tr>\n    <tr>\n      <th>415314</th>\n      <td>5505</td>\n      <td>0</td>\n      <td>0</td>\n      <td>1</td>\n    </tr>\n    <tr>\n      <th>415315</th>\n      <td>260127</td>\n      <td>0</td>\n      <td>0</td>\n      <td>1</td>\n    </tr>\n    <tr>\n      <th>415316</th>\n      <td>300964</td>\n      <td>0</td>\n      <td>0</td>\n      <td>1</td>\n    </tr>\n  </tbody>\n</table>\n<p>415317 rows × 4 columns</p>\n</div>"
     },
     "metadata": {},
     "output_type": "display_data"
    }
   ],
   "source": [
    "df = data.drop_duplicates(subset='user_id',ignore_index=True)\n",
    "\n",
    "display(df)\n",
    "be = BinaryEncoder(cols=['cpe_type_cd'],return_df=True)\n",
    "df = be.fit_transform(df)\n",
    "display(df)"
   ],
   "metadata": {
    "collapsed": false
   }
  },
  {
   "cell_type": "code",
   "execution_count": 20,
   "outputs": [
    {
     "name": "stdout",
     "output_type": "stream",
     "text": [
      "<class 'pandas.core.frame.DataFrame'>\n",
      "RangeIndex: 415317 entries, 0 to 415316\n",
      "Data columns (total 3 columns):\n",
      " #   Column         Non-Null Count   Dtype\n",
      "---  ------         --------------   -----\n",
      " 0   cpe_type_cd_0  415317 non-null  int64\n",
      " 1   cpe_type_cd_1  415317 non-null  int64\n",
      " 2   cpe_type_cd_2  415317 non-null  int64\n",
      "dtypes: int64(3)\n",
      "memory usage: 9.5 MB\n"
     ]
    },
    {
     "data": {
      "text/plain": "None"
     },
     "metadata": {},
     "output_type": "display_data"
    },
    {
     "name": "stdout",
     "output_type": "stream",
     "text": [
      "<class 'pandas.core.frame.DataFrame'>\n",
      "RangeIndex: 415317 entries, 0 to 415316\n",
      "Data columns (total 3 columns):\n",
      " #   Column         Non-Null Count   Dtype   \n",
      "---  ------         --------------   -----   \n",
      " 0   cpe_type_cd_0  415317 non-null  category\n",
      " 1   cpe_type_cd_1  415317 non-null  category\n",
      " 2   cpe_type_cd_2  415317 non-null  category\n",
      "dtypes: category(3)\n",
      "memory usage: 1.2 MB\n"
     ]
    },
    {
     "data": {
      "text/plain": "None"
     },
     "metadata": {},
     "output_type": "display_data"
    }
   ],
   "source": [
    "df = df.drop('user_id',axis=1)\n",
    "display(df.info())\n",
    "\n",
    "df[df.columns] = df[df.columns].astype('category')\n",
    "\n",
    "display(df.info())"
   ],
   "metadata": {
    "collapsed": false
   }
  },
  {
   "cell_type": "code",
   "execution_count": 21,
   "outputs": [],
   "source": [
    "df.to_parquet('..\\\\full_data\\\\figma_plan\\\\cpe_type.parquet', index=False)\n",
    "del df"
   ],
   "metadata": {
    "collapsed": false
   }
  },
  {
   "cell_type": "markdown",
   "source": [
    "## Цена устройства"
   ],
   "metadata": {
    "collapsed": false
   }
  },
  {
   "cell_type": "code",
   "execution_count": 24,
   "outputs": [
    {
     "name": "stdout",
     "output_type": "stream",
     "text": [
      "<class 'pandas.core.frame.DataFrame'>\n",
      "RangeIndex: 322899435 entries, 0 to 322899434\n",
      "Data columns (total 2 columns):\n",
      " #   Column   Dtype  \n",
      "---  ------   -----  \n",
      " 0   user_id  int32  \n",
      " 1   price    float32\n",
      "dtypes: float32(1), int32(1)\n",
      "memory usage: 2.4 GB\n"
     ]
    },
    {
     "data": {
      "text/plain": "None"
     },
     "metadata": {},
     "output_type": "display_data"
    },
    {
     "data": {
      "text/plain": "user_id          0\nprice      6589482\ndtype: int64"
     },
     "metadata": {},
     "output_type": "display_data"
    }
   ],
   "source": [
    "path = '..\\\\full_data\\\\competition_data_final_pqt'\n",
    "columns = {'user_id': 'int32', 'price': 'float32'}\n",
    "data = read_data(path,columns)\n",
    "display(data.info())\n",
    "display(data.isna().sum())"
   ],
   "metadata": {
    "collapsed": false
   }
  },
  {
   "cell_type": "code",
   "execution_count": 26,
   "outputs": [
    {
     "data": {
      "text/plain": "        user_id    price\n0         45098  20368.0\n1        117132   4990.0\n2         79395  74259.0\n3         91294  23876.0\n4        161323  20465.0\n...         ...      ...\n415312   375972  56357.0\n415313   160996  26154.0\n415314     5505  15490.0\n415315   260127  40612.0\n415316   300964  16376.0\n\n[415317 rows x 2 columns]",
      "text/html": "<div>\n<style scoped>\n    .dataframe tbody tr th:only-of-type {\n        vertical-align: middle;\n    }\n\n    .dataframe tbody tr th {\n        vertical-align: top;\n    }\n\n    .dataframe thead th {\n        text-align: right;\n    }\n</style>\n<table border=\"1\" class=\"dataframe\">\n  <thead>\n    <tr style=\"text-align: right;\">\n      <th></th>\n      <th>user_id</th>\n      <th>price</th>\n    </tr>\n  </thead>\n  <tbody>\n    <tr>\n      <th>0</th>\n      <td>45098</td>\n      <td>20368.0</td>\n    </tr>\n    <tr>\n      <th>1</th>\n      <td>117132</td>\n      <td>4990.0</td>\n    </tr>\n    <tr>\n      <th>2</th>\n      <td>79395</td>\n      <td>74259.0</td>\n    </tr>\n    <tr>\n      <th>3</th>\n      <td>91294</td>\n      <td>23876.0</td>\n    </tr>\n    <tr>\n      <th>4</th>\n      <td>161323</td>\n      <td>20465.0</td>\n    </tr>\n    <tr>\n      <th>...</th>\n      <td>...</td>\n      <td>...</td>\n    </tr>\n    <tr>\n      <th>415312</th>\n      <td>375972</td>\n      <td>56357.0</td>\n    </tr>\n    <tr>\n      <th>415313</th>\n      <td>160996</td>\n      <td>26154.0</td>\n    </tr>\n    <tr>\n      <th>415314</th>\n      <td>5505</td>\n      <td>15490.0</td>\n    </tr>\n    <tr>\n      <th>415315</th>\n      <td>260127</td>\n      <td>40612.0</td>\n    </tr>\n    <tr>\n      <th>415316</th>\n      <td>300964</td>\n      <td>16376.0</td>\n    </tr>\n  </tbody>\n</table>\n<p>415317 rows × 2 columns</p>\n</div>"
     },
     "metadata": {},
     "output_type": "display_data"
    },
    {
     "data": {
      "text/plain": "user_id        0\nprice      10754\ndtype: int64"
     },
     "metadata": {},
     "output_type": "display_data"
    }
   ],
   "source": [
    "df = data.drop_duplicates(subset='user_id',ignore_index=True)\n",
    "display(df)\n",
    "display(df.isna().sum())"
   ],
   "metadata": {
    "collapsed": false
   }
  }
 ],
 "metadata": {
  "kernelspec": {
   "display_name": "Python 3",
   "language": "python",
   "name": "python3"
  },
  "language_info": {
   "codemirror_mode": {
    "name": "ipython",
    "version": 2
   },
   "file_extension": ".py",
   "mimetype": "text/x-python",
   "name": "python",
   "nbconvert_exporter": "python",
   "pygments_lexer": "ipython2",
   "version": "2.7.6"
  }
 },
 "nbformat": 4,
 "nbformat_minor": 0
}
