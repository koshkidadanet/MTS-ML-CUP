{
 "cells": [
  {
   "cell_type": "code",
   "execution_count": null,
   "outputs": [],
   "source": [
    "import numpy as np\n",
    "import pandas as pd\n",
    "#import matplotlib.pyplot as plt\n",
    "import dask.dataframe as dd\n",
    "#import pyarrow.parquet as pq\n",
    "from IPython.display import clear_output\n",
    "import time"
   ],
   "metadata": {
    "collapsed": false
   }
  },
  {
   "cell_type": "code",
   "execution_count": null,
   "outputs": [],
   "source": [
    "#создание df из 9ти маленьких\n",
    "\n",
    "features_path = '..\\\\full_data\\\\competition_data_final_pqt'\n",
    "name_columns = {'user_id':'int32','region_name': 'category'}\n",
    "\n",
    "data_all = pd.DataFrame()\n",
    "for name_column,column_type in name_columns.items():\n",
    "    df_column = pd.DataFrame()\n",
    "    for i in range(10):\n",
    "        data_features_file = dd.read_parquet(features_path + f'\\\\part-0000{i}-aba60f69-2b63-4cc1-95ca-542598094698-c000.snappy.parquet')\n",
    "        df_column = pd.concat([df_column, data_features_file[name_column].compute()], ignore_index=True)\n",
    "    data_all[name_column] = df_column.astype(column_type)\n",
    "\n",
    "data_all.info()"
   ],
   "metadata": {
    "collapsed": false
   }
  }
 ],
 "metadata": {
  "kernelspec": {
   "display_name": "Python 3",
   "language": "python",
   "name": "python3"
  },
  "language_info": {
   "codemirror_mode": {
    "name": "ipython",
    "version": 2
   },
   "file_extension": ".py",
   "mimetype": "text/x-python",
   "name": "python",
   "nbconvert_exporter": "python",
   "pygments_lexer": "ipython2",
   "version": "2.7.6"
  }
 },
 "nbformat": 4,
 "nbformat_minor": 0
}
