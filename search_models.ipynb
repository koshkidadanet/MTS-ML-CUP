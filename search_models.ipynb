{
 "cells": [
  {
   "cell_type": "code",
   "execution_count": 14,
   "metadata": {},
   "outputs": [
    {
     "name": "stderr",
     "output_type": "stream",
     "text": [
      "Enabling notebook extension jupyter-js-widgets/extension...\n",
      "      - Validating: ok\n"
     ]
    }
   ],
   "source": [
    "!jupyter nbextension enable --py widgetsnbextension"
   ]
  },
  {
   "cell_type": "code",
   "execution_count": 15,
   "metadata": {},
   "outputs": [],
   "source": [
    "import pandas as pd\n",
    "import numpy as np\n",
    "import dask.dataframe as dd\n",
    "import pycaret.classification as pc\n",
    "\n",
    "from catboost import CatBoostClassifier, Pool, EShapCalcType, EFeaturesSelectionAlgorithm, cv\n",
    "from sklearn.metrics import roc_auc_score, classification_report\n",
    "from sklearn.model_selection import train_test_split, StratifiedKFold"
   ]
  },
  {
   "cell_type": "markdown",
   "metadata": {},
   "source": [
    "## Препроцессинг"
   ]
  },
  {
   "cell_type": "code",
   "execution_count": 16,
   "metadata": {},
   "outputs": [
    {
     "data": {
      "text/html": [
       "<div>\n",
       "<style scoped>\n",
       "    .dataframe tbody tr th:only-of-type {\n",
       "        vertical-align: middle;\n",
       "    }\n",
       "\n",
       "    .dataframe tbody tr th {\n",
       "        vertical-align: top;\n",
       "    }\n",
       "\n",
       "    .dataframe thead th {\n",
       "        text-align: right;\n",
       "    }\n",
       "</style>\n",
       "<table border=\"1\" class=\"dataframe\">\n",
       "  <thead>\n",
       "    <tr style=\"text-align: right;\">\n",
       "      <th></th>\n",
       "      <th>user_id</th>\n",
       "      <th>region_name</th>\n",
       "      <th>male_fraction_region</th>\n",
       "      <th>city_name</th>\n",
       "      <th>city_count</th>\n",
       "      <th>cpe_manufacturer_name</th>\n",
       "      <th>price</th>\n",
       "      <th>holyday_fraction</th>\n",
       "      <th>morning_fraction</th>\n",
       "      <th>day_fraction</th>\n",
       "      <th>...</th>\n",
       "      <th>127.0.0.1</th>\n",
       "      <th>bukvaprava.ru</th>\n",
       "      <th>ngs24-ru.turbopages.org</th>\n",
       "      <th>forum.mfd.ru</th>\n",
       "      <th>other_url</th>\n",
       "      <th>other_female_urls_frac</th>\n",
       "      <th>other_male_urls_frac</th>\n",
       "      <th>male_probability_by_urls</th>\n",
       "      <th>catboost_top400urls</th>\n",
       "      <th>is_male</th>\n",
       "    </tr>\n",
       "  </thead>\n",
       "  <tbody>\n",
       "    <tr>\n",
       "      <th>0</th>\n",
       "      <td>0</td>\n",
       "      <td>Москва</td>\n",
       "      <td>0.461904</td>\n",
       "      <td>Москва</td>\n",
       "      <td>1</td>\n",
       "      <td>Samsung</td>\n",
       "      <td>2990.0</td>\n",
       "      <td>0.243523</td>\n",
       "      <td>0.119</td>\n",
       "      <td>0.554</td>\n",
       "      <td>...</td>\n",
       "      <td>0.0</td>\n",
       "      <td>0.0</td>\n",
       "      <td>0.0</td>\n",
       "      <td>0.0</td>\n",
       "      <td>0.031088</td>\n",
       "      <td>0.005181</td>\n",
       "      <td>0.000000</td>\n",
       "      <td>0.500491</td>\n",
       "      <td>0.076492</td>\n",
       "      <td>0</td>\n",
       "    </tr>\n",
       "    <tr>\n",
       "      <th>1</th>\n",
       "      <td>1</td>\n",
       "      <td>Москва</td>\n",
       "      <td>0.461904</td>\n",
       "      <td>Москва</td>\n",
       "      <td>6</td>\n",
       "      <td>Xiaomi</td>\n",
       "      <td>NaN</td>\n",
       "      <td>0.200573</td>\n",
       "      <td>0.323</td>\n",
       "      <td>0.347</td>\n",
       "      <td>...</td>\n",
       "      <td>0.0</td>\n",
       "      <td>0.0</td>\n",
       "      <td>0.0</td>\n",
       "      <td>0.0</td>\n",
       "      <td>0.013372</td>\n",
       "      <td>0.001910</td>\n",
       "      <td>0.000955</td>\n",
       "      <td>0.523982</td>\n",
       "      <td>0.105959</td>\n",
       "      <td>0</td>\n",
       "    </tr>\n",
       "    <tr>\n",
       "      <th>2</th>\n",
       "      <td>2</td>\n",
       "      <td>Республика Коми</td>\n",
       "      <td>0.472075</td>\n",
       "      <td>Печора</td>\n",
       "      <td>1</td>\n",
       "      <td>Huawei</td>\n",
       "      <td>5915.0</td>\n",
       "      <td>0.299270</td>\n",
       "      <td>0.187</td>\n",
       "      <td>0.482</td>\n",
       "      <td>...</td>\n",
       "      <td>0.0</td>\n",
       "      <td>0.0</td>\n",
       "      <td>0.0</td>\n",
       "      <td>0.0</td>\n",
       "      <td>0.002433</td>\n",
       "      <td>0.000000</td>\n",
       "      <td>0.000000</td>\n",
       "      <td>0.525968</td>\n",
       "      <td>0.458972</td>\n",
       "      <td>0</td>\n",
       "    </tr>\n",
       "    <tr>\n",
       "      <th>3</th>\n",
       "      <td>3</td>\n",
       "      <td>Воронежская область</td>\n",
       "      <td>0.458936</td>\n",
       "      <td>Воронеж</td>\n",
       "      <td>1</td>\n",
       "      <td>Huawei Device Company Limited</td>\n",
       "      <td>13990.0</td>\n",
       "      <td>0.181818</td>\n",
       "      <td>0.178</td>\n",
       "      <td>0.353</td>\n",
       "      <td>...</td>\n",
       "      <td>0.0</td>\n",
       "      <td>0.0</td>\n",
       "      <td>0.0</td>\n",
       "      <td>0.0</td>\n",
       "      <td>0.010909</td>\n",
       "      <td>0.003636</td>\n",
       "      <td>0.003636</td>\n",
       "      <td>0.519823</td>\n",
       "      <td>0.359567</td>\n",
       "      <td>1</td>\n",
       "    </tr>\n",
       "    <tr>\n",
       "      <th>4</th>\n",
       "      <td>4</td>\n",
       "      <td>Краснодарский край</td>\n",
       "      <td>0.463641</td>\n",
       "      <td>Анапа</td>\n",
       "      <td>9</td>\n",
       "      <td>Huawei</td>\n",
       "      <td>12990.0</td>\n",
       "      <td>0.326898</td>\n",
       "      <td>0.372</td>\n",
       "      <td>0.349</td>\n",
       "      <td>...</td>\n",
       "      <td>0.0</td>\n",
       "      <td>0.0</td>\n",
       "      <td>0.0</td>\n",
       "      <td>0.0</td>\n",
       "      <td>0.011583</td>\n",
       "      <td>0.003861</td>\n",
       "      <td>0.000000</td>\n",
       "      <td>0.510070</td>\n",
       "      <td>0.054218</td>\n",
       "      <td>0</td>\n",
       "    </tr>\n",
       "  </tbody>\n",
       "</table>\n",
       "<p>5 rows × 1102 columns</p>\n",
       "</div>"
      ],
      "text/plain": [
       "   user_id          region_name  male_fraction_region city_name  city_count  \\\n",
       "0        0               Москва              0.461904    Москва           1   \n",
       "1        1               Москва              0.461904    Москва           6   \n",
       "2        2      Республика Коми              0.472075    Печора           1   \n",
       "3        3  Воронежская область              0.458936   Воронеж           1   \n",
       "4        4   Краснодарский край              0.463641     Анапа           9   \n",
       "\n",
       "           cpe_manufacturer_name    price  holyday_fraction  morning_fraction  \\\n",
       "0                        Samsung   2990.0          0.243523             0.119   \n",
       "1                         Xiaomi      NaN          0.200573             0.323   \n",
       "2                         Huawei   5915.0          0.299270             0.187   \n",
       "3  Huawei Device Company Limited  13990.0          0.181818             0.178   \n",
       "4                         Huawei  12990.0          0.326898             0.372   \n",
       "\n",
       "   day_fraction  ...  127.0.0.1  bukvaprava.ru  ngs24-ru.turbopages.org  \\\n",
       "0         0.554  ...        0.0            0.0                      0.0   \n",
       "1         0.347  ...        0.0            0.0                      0.0   \n",
       "2         0.482  ...        0.0            0.0                      0.0   \n",
       "3         0.353  ...        0.0            0.0                      0.0   \n",
       "4         0.349  ...        0.0            0.0                      0.0   \n",
       "\n",
       "   forum.mfd.ru  other_url  other_female_urls_frac  other_male_urls_frac  \\\n",
       "0           0.0   0.031088                0.005181              0.000000   \n",
       "1           0.0   0.013372                0.001910              0.000955   \n",
       "2           0.0   0.002433                0.000000              0.000000   \n",
       "3           0.0   0.010909                0.003636              0.003636   \n",
       "4           0.0   0.011583                0.003861              0.000000   \n",
       "\n",
       "   male_probability_by_urls  catboost_top400urls  is_male  \n",
       "0                  0.500491             0.076492        0  \n",
       "1                  0.523982             0.105959        0  \n",
       "2                  0.525968             0.458972        0  \n",
       "3                  0.519823             0.359567        1  \n",
       "4                  0.510070             0.054218        0  \n",
       "\n",
       "[5 rows x 1102 columns]"
      ]
     },
     "metadata": {},
     "output_type": "display_data"
    },
    {
     "name": "stdout",
     "output_type": "stream",
     "text": [
      "<class 'pandas.core.frame.DataFrame'>\n",
      "Int64Index: 264326 entries, 0 to 269999\n",
      "Columns: 1102 entries, user_id to is_male\n",
      "dtypes: float32(1096), int32(1), int8(2), object(3)\n",
      "memory usage: 1.1+ GB\n"
     ]
    },
    {
     "data": {
      "text/plain": [
       "None"
      ]
     },
     "metadata": {},
     "output_type": "display_data"
    }
   ],
   "source": [
    "df = dd.read_parquet('..\\\\full_data\\\\figma_txt_features\\\\full_gender_data.parquet').compute()\n",
    "\n",
    "#берем нужные колонки url\n",
    "#df = df.loc[:,df.columns[12:-1].to_list()+['user_id']]\n",
    "top1100 = np.load('.\\\\npy_files\\\\top1100_features_full.npy',allow_pickle=True)\n",
    "df = df.loc[:,(df.columns.isin(top1100))|(df.columns.isin(['user_id']))]\n",
    "# добавляем target, удаляем nan\n",
    "df = df.merge(pd.read_parquet('..\\\\full_data\\\\public_train.pqt',columns=['user_id','is_male'])[['is_male','user_id']], on = 'user_id', how = 'inner')\n",
    "df = df.loc[~(df['is_male'].isna()) & (df['is_male'] != 'NA')]\n",
    "df['is_male'] = df['is_male'].astype('int8')\n",
    "\n",
    "display(df.head())\n",
    "display(df.info())"
   ]
  },
  {
   "cell_type": "code",
   "execution_count": 17,
   "metadata": {},
   "outputs": [
    {
     "data": {
      "text/plain": [
       "6799"
      ]
     },
     "metadata": {},
     "output_type": "display_data"
    },
    {
     "data": {
      "text/plain": [
       "215"
      ]
     },
     "metadata": {},
     "output_type": "display_data"
    }
   ],
   "source": [
    "display(df.isna().sum().sum())\n",
    "for name in df['cpe_manufacturer_name'].unique():\n",
    "    df.loc[(df['cpe_manufacturer_name']==name)&(df['price'].isna()),'price'] = \\\n",
    "        df.loc[(df['cpe_manufacturer_name']==name)&(~df['price'].isna()),'price'].median()\n",
    "df.loc[df['price']<1000,'price'] = 1000\n",
    "display(df.isna().sum().sum())"
   ]
  },
  {
   "cell_type": "markdown",
   "metadata": {},
   "source": [
    "## Тест на 10 выборках"
   ]
  },
  {
   "cell_type": "code",
   "execution_count": null,
   "metadata": {
    "pycharm": {
     "is_executing": true
    }
   },
   "outputs": [
    {
     "data": {
      "application/vnd.jupyter.widget-view+json": {
       "model_id": "f196537c0dfe4f95a761332b4056e566",
       "version_major": 2,
       "version_minor": 0
      },
      "text/plain": [
       "MetricVisualizer(layout=Layout(align_self='stretch', height='500px'))"
      ]
     },
     "metadata": {},
     "output_type": "display_data"
    },
    {
     "name": "stderr",
     "output_type": "stream",
     "text": [
      "Default metric period is 5 because AUC is/are not implemented for GPU\n"
     ]
    },
    {
     "name": "stdout",
     "output_type": "stream",
     "text": [
      "0.7542928034786638\n"
     ]
    },
    {
     "data": {
      "application/vnd.jupyter.widget-view+json": {
       "model_id": "8a85a7ae0f1e46dd974e0c4594b22d01",
       "version_major": 2,
       "version_minor": 0
      },
      "text/plain": [
       "MetricVisualizer(layout=Layout(align_self='stretch', height='500px'))"
      ]
     },
     "metadata": {},
     "output_type": "display_data"
    },
    {
     "name": "stderr",
     "output_type": "stream",
     "text": [
      "Default metric period is 5 because AUC is/are not implemented for GPU\n"
     ]
    },
    {
     "name": "stdout",
     "output_type": "stream",
     "text": [
      "0.7557295263492212\n",
      "итог тест 0.7550111649139425\n",
      "итог трейн 0.7618530187110516\n",
      "итог разница 0.00684185379710911\n"
     ]
    },
    {
     "data": {
      "application/vnd.jupyter.widget-view+json": {
       "model_id": "69007a9004cf454cbc03fa11e7e0308d",
       "version_major": 2,
       "version_minor": 0
      },
      "text/plain": [
       "MetricVisualizer(layout=Layout(align_self='stretch', height='500px'))"
      ]
     },
     "metadata": {},
     "output_type": "display_data"
    },
    {
     "name": "stderr",
     "output_type": "stream",
     "text": [
      "Default metric period is 5 because AUC is/are not implemented for GPU\n"
     ]
    },
    {
     "name": "stdout",
     "output_type": "stream",
     "text": [
      "0.7683889229452854\n"
     ]
    },
    {
     "data": {
      "application/vnd.jupyter.widget-view+json": {
       "model_id": "916254b3693947db9c764700190b5190",
       "version_major": 2,
       "version_minor": 0
      },
      "text/plain": [
       "MetricVisualizer(layout=Layout(align_self='stretch', height='500px'))"
      ]
     },
     "metadata": {},
     "output_type": "display_data"
    },
    {
     "name": "stderr",
     "output_type": "stream",
     "text": [
      "Default metric period is 5 because AUC is/are not implemented for GPU\n"
     ]
    },
    {
     "name": "stdout",
     "output_type": "stream",
     "text": [
      "0.7694766504458646\n",
      "итог тест 1.5239439516095175\n",
      "итог трейн 1.5600337761969443\n",
      "итог разница 0.03608982458742682\n"
     ]
    },
    {
     "data": {
      "application/vnd.jupyter.widget-view+json": {
       "model_id": "bc9cf93df9d04a29a7bcbc64d1586c58",
       "version_major": 2,
       "version_minor": 0
      },
      "text/plain": [
       "MetricVisualizer(layout=Layout(align_self='stretch', height='500px'))"
      ]
     },
     "metadata": {},
     "output_type": "display_data"
    },
    {
     "name": "stderr",
     "output_type": "stream",
     "text": [
      "Default metric period is 5 because AUC is/are not implemented for GPU\n"
     ]
    },
    {
     "name": "stdout",
     "output_type": "stream",
     "text": [
      "0.7734451780962579\n"
     ]
    },
    {
     "data": {
      "application/vnd.jupyter.widget-view+json": {
       "model_id": "77a8ddc2b9264220b9ae2e3c00d33bf0",
       "version_major": 2,
       "version_minor": 0
      },
      "text/plain": [
       "MetricVisualizer(layout=Layout(align_self='stretch', height='500px'))"
      ]
     },
     "metadata": {},
     "output_type": "display_data"
    },
    {
     "name": "stderr",
     "output_type": "stream",
     "text": [
      "Default metric period is 5 because AUC is/are not implemented for GPU\n"
     ]
    },
    {
     "name": "stdout",
     "output_type": "stream",
     "text": [
      "0.77438834431493\n",
      "итог тест 2.2978607128151114\n",
      "итог трейн 2.382808078734683\n",
      "итог разница 0.08494736591957164\n"
     ]
    },
    {
     "data": {
      "application/vnd.jupyter.widget-view+json": {
       "model_id": "442516d968164051a67252d7970dd884",
       "version_major": 2,
       "version_minor": 0
      },
      "text/plain": [
       "MetricVisualizer(layout=Layout(align_self='stretch', height='500px'))"
      ]
     },
     "metadata": {},
     "output_type": "display_data"
    },
    {
     "name": "stderr",
     "output_type": "stream",
     "text": [
      "Default metric period is 5 because AUC is/are not implemented for GPU\n"
     ]
    },
    {
     "name": "stdout",
     "output_type": "stream",
     "text": [
      "0.7768558766036393\n"
     ]
    },
    {
     "data": {
      "application/vnd.jupyter.widget-view+json": {
       "model_id": "e1aa5cc3576542bdb23fc92efb610613",
       "version_major": 2,
       "version_minor": 0
      },
      "text/plain": [
       "MetricVisualizer(layout=Layout(align_self='stretch', height='500px'))"
      ]
     },
     "metadata": {},
     "output_type": "display_data"
    },
    {
     "name": "stderr",
     "output_type": "stream",
     "text": [
      "Default metric period is 5 because AUC is/are not implemented for GPU\n"
     ]
    },
    {
     "name": "stdout",
     "output_type": "stream",
     "text": [
      "0.7778097898109351\n",
      "итог тест 3.075193546022399\n",
      "итог трейн 3.2398543204402097\n",
      "итог разница 0.1646607744178108\n"
     ]
    },
    {
     "data": {
      "application/vnd.jupyter.widget-view+json": {
       "model_id": "0b61c5ce3d614992985e6989873e8b9b",
       "version_major": 2,
       "version_minor": 0
      },
      "text/plain": [
       "MetricVisualizer(layout=Layout(align_self='stretch', height='500px'))"
      ]
     },
     "metadata": {},
     "output_type": "display_data"
    },
    {
     "name": "stderr",
     "output_type": "stream",
     "text": [
      "Default metric period is 5 because AUC is/are not implemented for GPU\n"
     ]
    }
   ],
   "source": [
    "total_train = 0\n",
    "total_test = 0\n",
    "cv = 2\n",
    "for iter in [1000,5000,10000,20000,30000]:\n",
    "    for i in range(cv):\n",
    "        x_train, x_test, y_train, y_test = train_test_split(df.drop(['is_male','user_id'], axis = 1),df['is_male'],\n",
    "                                                            test_size = 0.40,random_state = i,stratify=df['is_male'])\n",
    "\n",
    "        pool_train = Pool(x_train, y_train,\n",
    "                          cat_features = list(x_train.select_dtypes(include=['object']).columns))\n",
    "        pool_test = Pool(x_test,y_test,\n",
    "                         cat_features = list(x_train.select_dtypes(include=['object']).columns))\n",
    "\n",
    "        model = CatBoostClassifier(iterations=iter,\n",
    "                                   learning_rate = 0.01,\n",
    "                                   random_state=42,\n",
    "                                   task_type='GPU',\n",
    "                                   eval_metric='AUC')\n",
    "\n",
    "        model.fit(pool_train,eval_set=(x_test,y_test), verbose=False,plot=True)\n",
    "        print(2 * roc_auc_score(y_test, model.predict_proba(x_test)[:,1]) - 1)\n",
    "        total_test += 2 * roc_auc_score(y_test, model.predict_proba(x_test)[:,1]) - 1\n",
    "        total_train += 2 * roc_auc_score(y_train, model.predict_proba(x_train)[:,1]) - 1\n",
    "    print(f'итог тест {total_test/cv}')\n",
    "    print(f'итог трейн {total_train/cv}')\n",
    "    print(f'итог разница {total_train/cv-total_test/cv}')"
   ]
  },
  {
   "cell_type": "markdown",
   "metadata": {},
   "source": [
    "## Отбор фич"
   ]
  },
  {
   "cell_type": "code",
   "execution_count": null,
   "metadata": {
    "pycharm": {
     "is_executing": true
    }
   },
   "outputs": [],
   "source": [
    "x_train, x_test, y_train, y_test = train_test_split(df.drop(['is_male','user_id'], axis = 1),df['is_male'],\n",
    "                                                        test_size = 0.33,random_state = 42,stratify=df['is_male'])\n",
    "pool_train = Pool(x_train, y_train,\n",
    "                  cat_features = list(x_train.select_dtypes(include=['object']).columns))\n",
    "pool_test = Pool(x_test,y_test,\n",
    "                 cat_features = list(x_train.select_dtypes(include=['object']).columns))\n",
    "\n",
    "model = CatBoostClassifier(iterations=1000,\n",
    "                           random_state=42,\n",
    "                           task_type='GPU')\n",
    "summary = model.select_features(\n",
    "    pool_train,\n",
    "    eval_set=pool_test,\n",
    "    features_for_select=list(range(pool_train.num_col())),\n",
    "    num_features_to_select=1100,\n",
    "    steps=5,\n",
    "    algorithm=EFeaturesSelectionAlgorithm.RecursiveByShapValues,\n",
    "    shap_calc_type=EShapCalcType.Regular,\n",
    "    train_final_model=True,\n",
    "    plot=True,\n",
    "    verbose=False\n",
    ")\n",
    "print('Selected features:', summary['selected_features_names'])\n",
    "#np.save('top400_features.npy', summary['selected_features_names'], allow_pickle=True)\n",
    "#model.fit(pool_train, eval_set=(x_test,y_test), verbose=100,plot=True)\n",
    "\n",
    "print(f'GINI по полу {2 * roc_auc_score(y_test, model.predict_proba(x_test)[:,1]) - 1:2.6f}')\n",
    "print(classification_report(y_test, model.predict(x_test)))"
   ]
  },
  {
   "cell_type": "code",
   "execution_count": 11,
   "metadata": {},
   "outputs": [
    {
     "name": "stdout",
     "output_type": "stream",
     "text": [
      "1100\n"
     ]
    }
   ],
   "source": [
    "print(len(summary['selected_features_names']))\n",
    "np.save('.\\\\npy_files\\\\top1100_features_full.npy', summary['selected_features_names'], allow_pickle=True)"
   ]
  },
  {
   "cell_type": "markdown",
   "metadata": {},
   "source": [
    "## CV Catboost"
   ]
  },
  {
   "cell_type": "code",
   "execution_count": null,
   "metadata": {},
   "outputs": [
    {
     "data": {
      "application/vnd.jupyter.widget-view+json": {
       "model_id": "d654e79102d44ac3873833af0751f502",
       "version_major": 2,
       "version_minor": 0
      },
      "text/plain": [
       "MetricVisualizer(layout=Layout(align_self='stretch', height='500px'))"
      ]
     },
     "metadata": {},
     "output_type": "display_data"
    },
    {
     "name": "stdout",
     "output_type": "stream",
     "text": [
      "Training on fold [0/5]\n",
      "bestTest = 0.5332199718\n",
      "bestIteration = 999\n",
      "Training on fold [1/5]\n"
     ]
    }
   ],
   "source": [
    "x = df.drop(['is_male','user_id'],axis=1)\n",
    "y = df['is_male']\n",
    "\n",
    "params = {'iterations': 1000,\n",
    "          'random_state': 42,\n",
    "          'task_type': 'GPU',\n",
    "          'loss_function': 'Logloss',\n",
    "          'learning_rate': 0.0025}\n",
    "\n",
    "cv_fit = cv(\n",
    "    params = params,\n",
    "    pool = Pool(x,label = y,cat_features = list(x.select_dtypes(include=['object']).columns)),\n",
    "    fold_count = 5,\n",
    "    shuffle = True,\n",
    "    partition_random_seed = 42,\n",
    "    stratified = True,\n",
    "    verbose = False,\n",
    "    plot = True\n",
    ")"
   ]
  },
  {
   "cell_type": "markdown",
   "metadata": {},
   "source": [
    "## Подбор гиперпараметров"
   ]
  },
  {
   "cell_type": "code",
   "execution_count": null,
   "metadata": {
    "pycharm": {
     "is_executing": true
    }
   },
   "outputs": [],
   "source": [
    "x = df.drop(['is_male','user_id'],axis=1)\n",
    "y = df['is_male']\n",
    "\n",
    "pool = Pool(x,label = y,cat_features = list(x.select_dtypes(include=['object']).columns))\n",
    "\n",
    "model = CatBoostClassifier(iterations=20000,\n",
    "                           learning_rate = 0.01,\n",
    "                           random_state=42,\n",
    "                           task_type='GPU',\n",
    "                           eval_metric='AUC')\n",
    "\n",
    "grid = {'l2_leaf_reg': [2,3,4,5,6,7,8,9,10],\n",
    "        'random_strength': [1,2,4]}\n",
    "\n",
    "grid_search_result = model.grid_search(grid, pool,stratified=True,train_size=0.6, plot=True,verbose=False)\n"
   ]
  }
 ],
 "metadata": {
  "kernelspec": {
   "display_name": "Python 3 (ipykernel)",
   "language": "python",
   "name": "python3"
  },
  "language_info": {
   "codemirror_mode": {
    "name": "ipython",
    "version": 3
   },
   "file_extension": ".py",
   "mimetype": "text/x-python",
   "name": "python",
   "nbconvert_exporter": "python",
   "pygments_lexer": "ipython3",
   "version": "3.8.10"
  }
 },
 "nbformat": 4,
 "nbformat_minor": 1
}
