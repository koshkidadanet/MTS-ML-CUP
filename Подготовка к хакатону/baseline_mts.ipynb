{
 "cells": [
  {
   "cell_type": "code",
   "execution_count": 1,
   "outputs": [],
   "source": [
    "import pandas as pd\n",
    "import numpy as np\n",
    "import time\n",
    "import pyarrow.parquet as pq\n",
    "import scipy\n",
    "#import implicit\n",
    "import bisect\n",
    "import sklearn.metrics as m\n",
    "from catboost import CatBoostClassifier, CatBoostRegressor, Pool\n",
    "from sklearn.model_selection import train_test_split\n",
    "from sklearn.calibration import calibration_curve, CalibratedClassifierCV\n",
    "import pycaret.classification as pc"
   ],
   "metadata": {
    "collapsed": false
   }
  },
  {
   "cell_type": "code",
   "execution_count": 2,
   "outputs": [
    {
     "data": {
      "text/plain": "                    field         type\n0             region_name       string\n1               city_name       string\n2   cpe_manufacturer_name       string\n3          cpe_model_name       string\n4                url_host       string\n5             cpe_type_cd       string\n6       cpe_model_os_type       string\n7                   price       double\n8                    date  date32[day]\n9             part_of_day       string\n10            request_cnt        int64\n11                user_id        int64",
      "text/html": "<div>\n<style scoped>\n    .dataframe tbody tr th:only-of-type {\n        vertical-align: middle;\n    }\n\n    .dataframe tbody tr th {\n        vertical-align: top;\n    }\n\n    .dataframe thead tr th {\n        text-align: left;\n    }\n</style>\n<table border=\"1\" class=\"dataframe\">\n  <thead>\n    <tr>\n      <th></th>\n      <th>field</th>\n      <th>type</th>\n    </tr>\n  </thead>\n  <tbody>\n    <tr>\n      <th>0</th>\n      <td>region_name</td>\n      <td>string</td>\n    </tr>\n    <tr>\n      <th>1</th>\n      <td>city_name</td>\n      <td>string</td>\n    </tr>\n    <tr>\n      <th>2</th>\n      <td>cpe_manufacturer_name</td>\n      <td>string</td>\n    </tr>\n    <tr>\n      <th>3</th>\n      <td>cpe_model_name</td>\n      <td>string</td>\n    </tr>\n    <tr>\n      <th>4</th>\n      <td>url_host</td>\n      <td>string</td>\n    </tr>\n    <tr>\n      <th>5</th>\n      <td>cpe_type_cd</td>\n      <td>string</td>\n    </tr>\n    <tr>\n      <th>6</th>\n      <td>cpe_model_os_type</td>\n      <td>string</td>\n    </tr>\n    <tr>\n      <th>7</th>\n      <td>price</td>\n      <td>double</td>\n    </tr>\n    <tr>\n      <th>8</th>\n      <td>date</td>\n      <td>date32[day]</td>\n    </tr>\n    <tr>\n      <th>9</th>\n      <td>part_of_day</td>\n      <td>string</td>\n    </tr>\n    <tr>\n      <th>10</th>\n      <td>request_cnt</td>\n      <td>int64</td>\n    </tr>\n    <tr>\n      <th>11</th>\n      <td>user_id</td>\n      <td>int64</td>\n    </tr>\n  </tbody>\n</table>\n</div>"
     },
     "metadata": {},
     "output_type": "display_data"
    },
    {
     "name": "stdout",
     "output_type": "stream",
     "text": [
      "322899435\n"
     ]
    },
    {
     "data": {
      "text/plain": "               field    type\n0                age  double\n1            is_male  string\n2            user_id   int64\n3  __index_level_0__   int64",
      "text/html": "<div>\n<style scoped>\n    .dataframe tbody tr th:only-of-type {\n        vertical-align: middle;\n    }\n\n    .dataframe tbody tr th {\n        vertical-align: top;\n    }\n\n    .dataframe thead tr th {\n        text-align: left;\n    }\n</style>\n<table border=\"1\" class=\"dataframe\">\n  <thead>\n    <tr>\n      <th></th>\n      <th>field</th>\n      <th>type</th>\n    </tr>\n  </thead>\n  <tbody>\n    <tr>\n      <th>0</th>\n      <td>age</td>\n      <td>double</td>\n    </tr>\n    <tr>\n      <th>1</th>\n      <td>is_male</td>\n      <td>string</td>\n    </tr>\n    <tr>\n      <th>2</th>\n      <td>user_id</td>\n      <td>int64</td>\n    </tr>\n    <tr>\n      <th>3</th>\n      <td>__index_level_0__</td>\n      <td>int64</td>\n    </tr>\n  </tbody>\n</table>\n</div>"
     },
     "metadata": {},
     "output_type": "display_data"
    },
    {
     "name": "stdout",
     "output_type": "stream",
     "text": [
      "270000\n"
     ]
    }
   ],
   "source": [
    "#чтение, вывод инфы\n",
    "data = pq.read_table('data/competition_data_final_pqt')\n",
    "#display(pd.DataFrame([(z.name, z.type) for z in data.schema], columns = [['field', 'type']]))\n",
    "print(len(data))\n",
    "targets = pq.read_table('data/public_train.pqt')\n",
    "display(pd.DataFrame([(z.name, z.type) for z in targets.schema], columns = [['field', 'type']]))\n",
    "print(len(targets))"
   ],
   "metadata": {
    "collapsed": false
   }
  },
  {
   "cell_type": "code",
   "execution_count": 3,
   "outputs": [
    {
     "data": {
      "text/plain": "smartphone    322781599\ntablet            53768\nplain             36116\nphablet           27952\nName: cpe_type_cd, dtype: int64"
     },
     "execution_count": 3,
     "metadata": {},
     "output_type": "execute_result"
    }
   ],
   "source": [
    "data.select(['cpe_type_cd']).to_pandas()['cpe_type_cd'].value_counts()"
   ],
   "metadata": {
    "collapsed": false
   }
  },
  {
   "cell_type": "code",
   "execution_count": 4,
   "outputs": [
    {
     "name": "stdout",
     "output_type": "stream",
     "text": [
      "CPU times: total: 15.5 s\n",
      "Wall time: 35.2 s\n"
     ]
    }
   ],
   "source": [
    "%%time\n",
    "data_agg = data.select(['user_id', 'url_host', 'request_cnt']).group_by(['user_id', 'url_host']).aggregate([('request_cnt', \"sum\")])"
   ],
   "metadata": {
    "collapsed": false
   }
  },
  {
   "cell_type": "code",
   "execution_count": 6,
   "outputs": [
    {
     "data": {
      "text/plain": "          request_cnt_sum  user_id                        url_host\n0                      12    45098                   ad.adriver.ru\n1                     491    45098                       apple.com\n2                     174    45098          avatars.mds.yandex.net\n3                     305    45098     googleads.g.doubleclick.net\n4                     446    45098                     i.ytimg.com\n...                   ...      ...                             ...\n32277664                1   300964                     youtube.com\n32277665                1   300964                     biosfera.kz\n32277666                1   300964  chihuahuadog-ru.turbopages.org\n32277667                1   300964             sun9-88.userapi.com\n32277668                2   300964                      showjet.ru\n\n[32277669 rows x 3 columns]",
      "text/html": "<div>\n<style scoped>\n    .dataframe tbody tr th:only-of-type {\n        vertical-align: middle;\n    }\n\n    .dataframe tbody tr th {\n        vertical-align: top;\n    }\n\n    .dataframe thead th {\n        text-align: right;\n    }\n</style>\n<table border=\"1\" class=\"dataframe\">\n  <thead>\n    <tr style=\"text-align: right;\">\n      <th></th>\n      <th>request_cnt_sum</th>\n      <th>user_id</th>\n      <th>url_host</th>\n    </tr>\n  </thead>\n  <tbody>\n    <tr>\n      <th>0</th>\n      <td>12</td>\n      <td>45098</td>\n      <td>ad.adriver.ru</td>\n    </tr>\n    <tr>\n      <th>1</th>\n      <td>491</td>\n      <td>45098</td>\n      <td>apple.com</td>\n    </tr>\n    <tr>\n      <th>2</th>\n      <td>174</td>\n      <td>45098</td>\n      <td>avatars.mds.yandex.net</td>\n    </tr>\n    <tr>\n      <th>3</th>\n      <td>305</td>\n      <td>45098</td>\n      <td>googleads.g.doubleclick.net</td>\n    </tr>\n    <tr>\n      <th>4</th>\n      <td>446</td>\n      <td>45098</td>\n      <td>i.ytimg.com</td>\n    </tr>\n    <tr>\n      <th>...</th>\n      <td>...</td>\n      <td>...</td>\n      <td>...</td>\n    </tr>\n    <tr>\n      <th>32277664</th>\n      <td>1</td>\n      <td>300964</td>\n      <td>youtube.com</td>\n    </tr>\n    <tr>\n      <th>32277665</th>\n      <td>1</td>\n      <td>300964</td>\n      <td>biosfera.kz</td>\n    </tr>\n    <tr>\n      <th>32277666</th>\n      <td>1</td>\n      <td>300964</td>\n      <td>chihuahuadog-ru.turbopages.org</td>\n    </tr>\n    <tr>\n      <th>32277667</th>\n      <td>1</td>\n      <td>300964</td>\n      <td>sun9-88.userapi.com</td>\n    </tr>\n    <tr>\n      <th>32277668</th>\n      <td>2</td>\n      <td>300964</td>\n      <td>showjet.ru</td>\n    </tr>\n  </tbody>\n</table>\n<p>32277669 rows × 3 columns</p>\n</div>"
     },
     "execution_count": 6,
     "metadata": {},
     "output_type": "execute_result"
    }
   ],
   "source": [
    "data_agg.to_pandas()"
   ],
   "metadata": {
    "collapsed": false
   }
  },
  {
   "cell_type": "code",
   "execution_count": null,
   "outputs": [],
   "source": [
    "url_set = set(data_agg.select(['url_host']).to_pandas()['url_host'])\n",
    "print(f'{len(url_set)} urls')\n",
    "url_dict = {url: idurl for url, idurl in zip(url_set, range(len(url_set)))}\n",
    "usr_set = set(data_agg.select(['user_id']).to_pandas()['user_id'])\n",
    "print(f'{len(usr_set)} users')\n",
    "usr_dict = {usr: user_id for usr, user_id in zip(usr_set, range(len(usr_set)))}"
   ],
   "metadata": {
    "collapsed": false
   }
  },
  {
   "cell_type": "markdown",
   "source": [
    "Делаем странные вещи"
   ],
   "metadata": {
    "collapsed": false
   }
  },
  {
   "cell_type": "code",
   "execution_count": null,
   "outputs": [],
   "source": [
    "%%time\n",
    "values = np.array(data_agg.select(['request_cnt_sum']).to_pandas()['request_cnt_sum'])\n",
    "rows = np.array(data_agg.select(['user_id']).to_pandas()['user_id'].map(usr_dict))\n",
    "cols = np.array(data_agg.select(['url_host']).to_pandas()['url_host'].map(url_dict))\n",
    "mat = scipy.sparse.coo_matrix((values, (rows, cols)), shape=(rows.max() + 1, cols.max() + 1))\n",
    "als = implicit.approximate_als.FaissAlternatingLeastSquares(factors = 50, iterations = 30, use_gpu = False, calculate_training_loss = False, regularization = 0.1)"
   ],
   "metadata": {
    "collapsed": false
   }
  },
  {
   "cell_type": "code",
   "execution_count": null,
   "outputs": [],
   "source": [
    "%%time\n",
    "als.fit(mat)\n",
    "u_factors = als.model.user_factors\n",
    "d_factors = als.model.item_factors"
   ],
   "metadata": {
    "collapsed": false
   }
  },
  {
   "cell_type": "markdown",
   "source": [
    "типа подготовка данных"
   ],
   "metadata": {
    "collapsed": false
   }
  },
  {
   "cell_type": "code",
   "execution_count": null,
   "outputs": [],
   "source": [
    "%%time\n",
    "inv_usr_map = {v: k for k, v in usr_dict.items()}\n",
    "usr_emb = pd.DataFrame(u_factors)\n",
    "usr_emb['user_id'] = usr_emb.index.map(inv_usr_map)\n",
    "usr_targets = targets.to_pandas()\n",
    "df = usr_targets.merge(usr_emb, how = 'inner', on = ['user_id'])\n",
    "df = df[df['is_male'] != 'NA']\n",
    "df = df.dropna()\n",
    "df['is_male'] = df['is_male'].map(int)\n",
    "df['is_male'].value_counts()"
   ],
   "metadata": {
    "collapsed": false
   }
  },
  {
   "cell_type": "markdown",
   "source": [
    "каким-то боком еще и кетбуст"
   ],
   "metadata": {
    "collapsed": false
   }
  },
  {
   "cell_type": "code",
   "execution_count": null,
   "outputs": [],
   "source": [
    "%%time\n",
    "x_train, x_test, y_train, y_test = train_test_split( \\\n",
    "    df.drop(['user_id', 'age', 'is_male'], axis = 1), df['is_male'], test_size = 0.33, random_state = SPLIT_SEED)\n",
    "clf = CatBoostClassifier()\n",
    "clf.fit(x_train, y_train, verbose = False)\n",
    "print(f'GINI по полу {2 * m.roc_auc_score(y_test, clf.predict_proba(x_test)[:,1]) - 1:2.3f}')"
   ],
   "metadata": {
    "collapsed": false
   }
  },
  {
   "cell_type": "markdown",
   "source": [
    "С возрастом у них более менее адекватно, есть крутая штука classification_report"
   ],
   "metadata": {
    "collapsed": false
   }
  },
  {
   "cell_type": "markdown",
   "source": [],
   "metadata": {
    "collapsed": false
   }
  }
 ],
 "metadata": {
  "kernelspec": {
   "display_name": "Python 3",
   "language": "python",
   "name": "python3"
  },
  "language_info": {
   "codemirror_mode": {
    "name": "ipython",
    "version": 2
   },
   "file_extension": ".py",
   "mimetype": "text/x-python",
   "name": "python",
   "nbconvert_exporter": "python",
   "pygments_lexer": "ipython2",
   "version": "2.7.6"
  }
 },
 "nbformat": 4,
 "nbformat_minor": 0
}
