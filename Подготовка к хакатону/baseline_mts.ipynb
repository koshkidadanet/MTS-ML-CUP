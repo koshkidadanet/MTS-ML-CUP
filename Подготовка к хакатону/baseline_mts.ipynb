{
 "cells": [
  {
   "cell_type": "code",
   "execution_count": 109,
   "outputs": [],
   "source": [
    "import pandas as pd\n",
    "import numpy as np\n",
    "import time\n",
    "import pyarrow.parquet as pq\n",
    "import scipy\n",
    "import bisect\n",
    "import sklearn.metrics as m\n",
    "from catboost import CatBoostClassifier, CatBoostRegressor, Pool\n",
    "from sklearn.model_selection import train_test_split\n",
    "import implicit\n",
    "import faiss\n",
    "from sklearn.calibration import calibration_curve, CalibratedClassifierCV\n",
    "import pycaret.classification as pc"
   ],
   "metadata": {
    "collapsed": false
   }
  },
  {
   "cell_type": "code",
   "execution_count": 110,
   "outputs": [
    {
     "name": "stdout",
     "output_type": "stream",
     "text": [
      "32638709\n"
     ]
    },
    {
     "data": {
      "text/plain": "               field    type\n0                age  double\n1            is_male  string\n2            user_id   int64\n3  __index_level_0__   int64",
      "text/html": "<div>\n<style scoped>\n    .dataframe tbody tr th:only-of-type {\n        vertical-align: middle;\n    }\n\n    .dataframe tbody tr th {\n        vertical-align: top;\n    }\n\n    .dataframe thead tr th {\n        text-align: left;\n    }\n</style>\n<table border=\"1\" class=\"dataframe\">\n  <thead>\n    <tr>\n      <th></th>\n      <th>field</th>\n      <th>type</th>\n    </tr>\n  </thead>\n  <tbody>\n    <tr>\n      <th>0</th>\n      <td>age</td>\n      <td>double</td>\n    </tr>\n    <tr>\n      <th>1</th>\n      <td>is_male</td>\n      <td>string</td>\n    </tr>\n    <tr>\n      <th>2</th>\n      <td>user_id</td>\n      <td>int64</td>\n    </tr>\n    <tr>\n      <th>3</th>\n      <td>__index_level_0__</td>\n      <td>int64</td>\n    </tr>\n  </tbody>\n</table>\n</div>"
     },
     "metadata": {},
     "output_type": "display_data"
    },
    {
     "name": "stdout",
     "output_type": "stream",
     "text": [
      "270000\n"
     ]
    }
   ],
   "source": [
    "#чтение, вывод инфы\n",
    "data = pq.read_table('data/part-00000-aba60f69-2b63-4cc1-95ca-542598094698-c000.snappy.parquet')\n",
    "#display(pd.DataFrame([(z.name, z.type) for z in data.schema], columns = [['field', 'type']]))\n",
    "print(len(data))\n",
    "targets = pq.read_table('data/public_train.pqt')\n",
    "display(pd.DataFrame([(z.name, z.type) for z in targets.schema], columns = [['field', 'type']]))\n",
    "print(len(targets))"
   ],
   "metadata": {
    "collapsed": false
   }
  },
  {
   "cell_type": "code",
   "execution_count": 111,
   "outputs": [
    {
     "data": {
      "text/plain": "smartphone    32630468\nplain             3995\ntablet            3204\nphablet           1042\nName: cpe_type_cd, dtype: int64"
     },
     "execution_count": 111,
     "metadata": {},
     "output_type": "execute_result"
    }
   ],
   "source": [
    "data.select(['cpe_type_cd']).to_pandas()['cpe_type_cd'].value_counts()"
   ],
   "metadata": {
    "collapsed": false
   }
  },
  {
   "cell_type": "code",
   "execution_count": 156,
   "outputs": [],
   "source": [
    "data_agg = data.select(['user_id', 'url_host', 'request_cnt']).group_by(['user_id', 'url_host']).aggregate([('request_cnt', \"sum\")])"
   ],
   "metadata": {
    "collapsed": false
   }
  },
  {
   "cell_type": "code",
   "execution_count": null,
   "outputs": [],
   "source": [
    "#первый элемент url_set - tes.reactor.cc\n",
    "url_set = set(data_agg.select(['url_host']).to_pandas()['url_host'])\n",
    "\n",
    "#создаем словарь, где ключ - имя сайта, а значение - номер в сеттере\n",
    "url_dict = {url: idurl for url, idurl in zip(url_set, range(len(url_set)))}\n",
    "print(url_dict['tes.reactor.cc'])\n",
    "\n",
    "#первый элемент usr_set - 131073\n",
    "usr_set = set(data_agg.select(['user_id']).to_pandas()['user_id'])\n",
    "#словарь, где ключ - id пользователя, а значение - номер в сеттере\n",
    "usr_dict = {usr: user_id for usr, user_id in zip(usr_set, range(len(usr_set)))}\n",
    "print(usr_dict[131073])"
   ],
   "metadata": {
    "collapsed": false
   }
  },
  {
   "cell_type": "markdown",
   "source": [
    "Делаем странные вещи"
   ],
   "metadata": {
    "collapsed": false
   }
  },
  {
   "cell_type": "code",
   "execution_count": null,
   "outputs": [],
   "source": [
    "values = np.array(data_agg.select(['request_cnt_sum']).to_pandas()['request_cnt_sum'])\n",
    "\n",
    "#создаем массив, где каждой строке колонки user_id присваивается номер в сеттере\n",
    "print(usr_dict[45098])\n",
    "display(data_agg.select(['user_id']).to_pandas()['user_id'].head())\n",
    "display(data_agg.select(['user_id']).to_pandas()['user_id'].map(usr_dict).head())\n",
    "rows = np.array(data_agg.select(['user_id']).to_pandas()['user_id'].map(usr_dict))\n",
    "print(rows,'\\n\\n\\n\\n')\n",
    "\n",
    "#создаем массив, где каждой строке колонки url_host присваивается номер в сеттере\n",
    "print(url_dict['ad.adriver.ru'])\n",
    "display(data_agg.select(['url_host']).to_pandas()['url_host'].head())\n",
    "display(data_agg.select(['url_host']).to_pandas()['url_host'].map(url_dict).head())\n",
    "cols = np.array(data_agg.select(['url_host']).to_pandas()['url_host'].map(url_dict))\n",
    "print(cols)\n",
    "\n",
    "#создаем матрицу, которая хранит сеттреский id, сеттерский url и сумму заходов с этого id на этот url\n",
    "mat = scipy.sparse.coo_matrix((values, (rows, cols)))\n",
    "print(f'Для юзера с номером в сеттере 15651 и url в сеттере 28992 вот такая сумма заходов на юрл:{mat.tocsr()[15651, 28992]}')\n",
    "display(data_agg.to_pandas().loc[(data_agg.to_pandas()['user_id'] == 45098) & (data_agg.to_pandas()['url_host'] == 'ad.adriver.ru')])"
   ],
   "metadata": {
    "collapsed": false
   }
  },
  {
   "cell_type": "code",
   "execution_count": null,
   "outputs": [],
   "source": [
    "als = implicit.approximate_als.FaissAlternatingLeastSquares(factors = 50,\n",
    "                                                            iterations = 30,\n",
    "                                                            use_gpu = False,\n",
    "                                                            calculate_training_loss = False,\n",
    "                                                            regularization = 0.1)\n",
    "als.fit(mat)\n",
    "u_factors = als.model.user_factors\n",
    "print(u_factors)"
   ],
   "metadata": {
    "collapsed": false
   }
  },
  {
   "cell_type": "markdown",
   "source": [
    "типа подготовка данных"
   ],
   "metadata": {
    "collapsed": false
   }
  },
  {
   "cell_type": "code",
   "execution_count": null,
   "outputs": [],
   "source": [
    "%%time\n",
    "inv_usr_map = {v: k for k, v in usr_dict.items()}\n",
    "usr_emb = pd.DataFrame(u_factors)\n",
    "usr_emb['user_id'] = usr_emb.index.map(inv_usr_map)\n",
    "usr_targets = targets.to_pandas()\n",
    "df = usr_targets.merge(usr_emb, how = 'inner', on = ['user_id'])\n",
    "df = df[df['is_male'] != 'NA']\n",
    "df = df.dropna()\n",
    "df['is_male'] = df['is_male'].map(int)\n",
    "df['is_male'].value_counts()"
   ],
   "metadata": {
    "collapsed": false
   }
  },
  {
   "cell_type": "markdown",
   "source": [
    "каким-то боком еще и кетбуст"
   ],
   "metadata": {
    "collapsed": false
   }
  },
  {
   "cell_type": "code",
   "execution_count": null,
   "outputs": [],
   "source": [
    "%%time\n",
    "x_train, x_test, y_train, y_test = train_test_split( \\\n",
    "    df.drop(['user_id', 'age', 'is_male'], axis = 1), df['is_male'], test_size = 0.33, random_state = SPLIT_SEED)\n",
    "clf = CatBoostClassifier()\n",
    "clf.fit(x_train, y_train, verbose = False)\n",
    "print(f'GINI по полу {2 * m.roc_auc_score(y_test, clf.predict_proba(x_test)[:,1]) - 1:2.3f}')"
   ],
   "metadata": {
    "collapsed": false
   }
  },
  {
   "cell_type": "markdown",
   "source": [
    "С возрастом у них более менее адекватно, есть крутая штука classification_report"
   ],
   "metadata": {
    "collapsed": false
   }
  },
  {
   "cell_type": "markdown",
   "source": [],
   "metadata": {
    "collapsed": false
   }
  },
  {
   "cell_type": "markdown",
   "source": [],
   "metadata": {
    "collapsed": false
   }
  }
 ],
 "metadata": {
  "kernelspec": {
   "display_name": "Python 3",
   "language": "python",
   "name": "python3"
  },
  "language_info": {
   "codemirror_mode": {
    "name": "ipython",
    "version": 2
   },
   "file_extension": ".py",
   "mimetype": "text/x-python",
   "name": "python",
   "nbconvert_exporter": "python",
   "pygments_lexer": "ipython2",
   "version": "2.7.6"
  }
 },
 "nbformat": 4,
 "nbformat_minor": 0
}
